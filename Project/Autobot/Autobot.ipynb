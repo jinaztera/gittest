{
 "cells": [
  {
   "cell_type": "code",
   "execution_count": 551,
   "metadata": {
    "collapsed": true
   },
   "outputs": [
    {
     "ename": "TypeError",
     "evalue": "can only concatenate str (not \"int\") to str",
     "output_type": "error",
     "traceback": [
      "\u001B[1;31m---------------------------------------------------------------------------\u001B[0m",
      "\u001B[1;31mTypeError\u001B[0m                                 Traceback (most recent call last)",
      "\u001B[1;32m~\\AppData\\Local\\Temp\\ipykernel_174264\\966628715.py\u001B[0m in \u001B[0;36m<module>\u001B[1;34m\u001B[0m\n\u001B[0;32m     35\u001B[0m \u001B[1;33m\u001B[0m\u001B[0m\n\u001B[0;32m     36\u001B[0m \u001B[1;32mfor\u001B[0m \u001B[0msym\u001B[0m \u001B[1;32min\u001B[0m \u001B[0mrange\u001B[0m\u001B[1;33m(\u001B[0m\u001B[0mlen\u001B[0m\u001B[1;33m(\u001B[0m\u001B[0mjongmok\u001B[0m\u001B[1;33m)\u001B[0m\u001B[1;33m)\u001B[0m\u001B[1;33m:\u001B[0m\u001B[1;33m\u001B[0m\u001B[1;33m\u001B[0m\u001B[0m\n\u001B[1;32m---> 37\u001B[1;33m     \u001B[0mohlcv\u001B[0m\u001B[1;33m(\u001B[0m\u001B[0msym\u001B[0m\u001B[1;33m)\u001B[0m\u001B[1;33m\u001B[0m\u001B[1;33m\u001B[0m\u001B[0m\n\u001B[0m\u001B[0;32m     38\u001B[0m \u001B[1;33m\u001B[0m\u001B[0m\n",
      "\u001B[1;32m~\\AppData\\Local\\Temp\\ipykernel_174264\\966628715.py\u001B[0m in \u001B[0;36mohlcv\u001B[1;34m(symbol, limit)\u001B[0m\n\u001B[0;32m     19\u001B[0m \u001B[1;33m\u001B[0m\u001B[0m\n\u001B[0;32m     20\u001B[0m \u001B[1;32mdef\u001B[0m \u001B[0mohlcv\u001B[0m\u001B[1;33m(\u001B[0m\u001B[0msymbol\u001B[0m\u001B[1;33m,\u001B[0m \u001B[0mlimit\u001B[0m\u001B[1;33m=\u001B[0m\u001B[1;36m2000\u001B[0m\u001B[1;33m)\u001B[0m\u001B[1;33m:\u001B[0m\u001B[1;33m\u001B[0m\u001B[1;33m\u001B[0m\u001B[0m\n\u001B[1;32m---> 21\u001B[1;33m     \u001B[0mbtc_ohlcv\u001B[0m \u001B[1;33m=\u001B[0m \u001B[0mbinance\u001B[0m\u001B[1;33m.\u001B[0m\u001B[0mfetch_ohlcv\u001B[0m\u001B[1;33m(\u001B[0m\u001B[0msymbol\u001B[0m\u001B[1;33m=\u001B[0m\u001B[0msymbol\u001B[0m\u001B[1;33m,\u001B[0m \u001B[0mtimeframe\u001B[0m\u001B[1;33m=\u001B[0m\u001B[1;34m'1d'\u001B[0m\u001B[1;33m,\u001B[0m \u001B[0msince\u001B[0m\u001B[1;33m=\u001B[0m\u001B[1;32mNone\u001B[0m\u001B[1;33m,\u001B[0m \u001B[0mlimit\u001B[0m\u001B[1;33m=\u001B[0m\u001B[0mlimit\u001B[0m\u001B[1;33m)\u001B[0m\u001B[1;33m\u001B[0m\u001B[1;33m\u001B[0m\u001B[0m\n\u001B[0m\u001B[0;32m     22\u001B[0m     \u001B[0mdf\u001B[0m \u001B[1;33m=\u001B[0m \u001B[0mpd\u001B[0m\u001B[1;33m.\u001B[0m\u001B[0mDataFrame\u001B[0m\u001B[1;33m(\u001B[0m\u001B[0mdata\u001B[0m\u001B[1;33m=\u001B[0m\u001B[0mbtc_ohlcv\u001B[0m\u001B[1;33m,\u001B[0m \u001B[0mcolumns\u001B[0m\u001B[1;33m=\u001B[0m\u001B[1;33m[\u001B[0m\u001B[1;34m\"datetime\"\u001B[0m\u001B[1;33m,\u001B[0m \u001B[1;34m\"open\"\u001B[0m\u001B[1;33m,\u001B[0m \u001B[1;34m\"high\"\u001B[0m\u001B[1;33m,\u001B[0m \u001B[1;34m\"low\"\u001B[0m\u001B[1;33m,\u001B[0m \u001B[1;34m\"close\"\u001B[0m\u001B[1;33m,\u001B[0m \u001B[1;34m\"volumns\"\u001B[0m\u001B[1;33m]\u001B[0m\u001B[1;33m)\u001B[0m\u001B[1;33m\u001B[0m\u001B[1;33m\u001B[0m\u001B[0m\n\u001B[0;32m     23\u001B[0m     \u001B[0mdf\u001B[0m\u001B[1;33m[\u001B[0m\u001B[1;34m'datetime'\u001B[0m\u001B[1;33m]\u001B[0m \u001B[1;33m=\u001B[0m \u001B[0mpd\u001B[0m\u001B[1;33m.\u001B[0m\u001B[0mto_datetime\u001B[0m\u001B[1;33m(\u001B[0m\u001B[0mdf\u001B[0m\u001B[1;33m[\u001B[0m\u001B[1;34m'datetime'\u001B[0m\u001B[1;33m]\u001B[0m\u001B[1;33m,\u001B[0m \u001B[0munit\u001B[0m\u001B[1;33m=\u001B[0m\u001B[1;34m'ms'\u001B[0m\u001B[1;33m)\u001B[0m\u001B[1;33m\u001B[0m\u001B[1;33m\u001B[0m\u001B[0m\n",
      "\u001B[1;32m~\\AppData\\Roaming\\Python\\Python39\\site-packages\\ccxt\\binance.py\u001B[0m in \u001B[0;36mfetch_ohlcv\u001B[1;34m(self, symbol, timeframe, since, limit, params)\u001B[0m\n\u001B[0;32m   2529\u001B[0m         \u001B[1;31m#         \"withdrawing\": \"0\"\u001B[0m\u001B[1;33m\u001B[0m\u001B[1;33m\u001B[0m\u001B[0m\n\u001B[0;32m   2530\u001B[0m         \u001B[1;31m#       }\u001B[0m\u001B[1;33m\u001B[0m\u001B[1;33m\u001B[0m\u001B[0m\n\u001B[1;32m-> 2531\u001B[1;33m         \u001B[1;31m#     ]\u001B[0m\u001B[1;33m\u001B[0m\u001B[1;33m\u001B[0m\u001B[0m\n\u001B[0m\u001B[0;32m   2532\u001B[0m         \u001B[1;31m#\u001B[0m\u001B[1;33m\u001B[0m\u001B[1;33m\u001B[0m\u001B[0m\n\u001B[0;32m   2533\u001B[0m         \u001B[1;31m# options(eapi)\u001B[0m\u001B[1;33m\u001B[0m\u001B[1;33m\u001B[0m\u001B[0m\n",
      "\u001B[1;32m~\\AppData\\Roaming\\Python\\Python39\\site-packages\\ccxt\\base\\exchange.py\u001B[0m in \u001B[0;36mmarket\u001B[1;34m(self, symbol)\u001B[0m\n\u001B[0;32m   3240\u001B[0m             \u001B[1;32mraise\u001B[0m \u001B[0mExchangeError\u001B[0m\u001B[1;33m(\u001B[0m\u001B[0mself\u001B[0m\u001B[1;33m.\u001B[0m\u001B[0mid\u001B[0m \u001B[1;33m+\u001B[0m \u001B[1;34m' currencies not loaded'\u001B[0m\u001B[1;33m)\u001B[0m\u001B[1;33m\u001B[0m\u001B[1;33m\u001B[0m\u001B[0m\n\u001B[0;32m   3241\u001B[0m         \u001B[1;32mif\u001B[0m \u001B[0misinstance\u001B[0m\u001B[1;33m(\u001B[0m\u001B[0mcode\u001B[0m\u001B[1;33m,\u001B[0m \u001B[0mstr\u001B[0m\u001B[1;33m)\u001B[0m\u001B[1;33m:\u001B[0m\u001B[1;33m\u001B[0m\u001B[1;33m\u001B[0m\u001B[0m\n\u001B[1;32m-> 3242\u001B[1;33m             \u001B[1;32mif\u001B[0m \u001B[0mcode\u001B[0m \u001B[1;32min\u001B[0m \u001B[0mself\u001B[0m\u001B[1;33m.\u001B[0m\u001B[0mcurrencies\u001B[0m\u001B[1;33m:\u001B[0m\u001B[1;33m\u001B[0m\u001B[1;33m\u001B[0m\u001B[0m\n\u001B[0m\u001B[0;32m   3243\u001B[0m                 \u001B[1;32mreturn\u001B[0m \u001B[0mself\u001B[0m\u001B[1;33m.\u001B[0m\u001B[0mcurrencies\u001B[0m\u001B[1;33m[\u001B[0m\u001B[0mcode\u001B[0m\u001B[1;33m]\u001B[0m\u001B[1;33m\u001B[0m\u001B[1;33m\u001B[0m\u001B[0m\n\u001B[0;32m   3244\u001B[0m             \u001B[1;32melif\u001B[0m \u001B[0mcode\u001B[0m \u001B[1;32min\u001B[0m \u001B[0mself\u001B[0m\u001B[1;33m.\u001B[0m\u001B[0mcurrencies_by_id\u001B[0m\u001B[1;33m:\u001B[0m\u001B[1;33m\u001B[0m\u001B[1;33m\u001B[0m\u001B[0m\n",
      "\u001B[1;31mTypeError\u001B[0m: can only concatenate str (not \"int\") to str"
     ]
    }
   ],
   "source": [
    "import ccxt\n",
    "import pandas as pd\n",
    "import math\n",
    "\n",
    "#API 키 읽기\n",
    "with open(\"../api(JKBOT).txt\") as f:\n",
    "    lines = f.readlines()\n",
    "    api_key = lines[0].strip()\n",
    "    secret = lines[1].strip()\n",
    "\n",
    "binance = ccxt.binance(config={\n",
    "    'apiKey': api_key, #\"XTpKrQGSk3GhXzqiEV4OfwGJzmTVcLh8dKGwHo4aQBH4p0mOqPDpIsxdh95tjGVf\",\n",
    "    'secret': secret, #\"A0eqZGEWHsyL3NMM6WuDrucIanr7A2YZAnrwXVPhXpf2WGauIANwa5zsoNeNt0hs\",\n",
    "    'enableRateLimit' : True,\n",
    "    'options': {\n",
    "        'defaultType': 'future'\n",
    "    }\n",
    "})\n",
    "\n",
    "def ohlcv(symbol, limit=2000):\n",
    "    btc_ohlcv = binance.fetch_ohlcv(symbol=symbol, timeframe='1d', since=None, limit=limit)\n",
    "    df = pd.DataFrame(data=btc_ohlcv, columns=[\"datetime\", \"open\", \"high\", \"low\", \"close\", \"volumns\"])\n",
    "    df['datetime'] = pd.to_datetime(df['datetime'], unit='ms')\n",
    "\n",
    "\n",
    "    return df\n",
    "# def cal_amount(usdt_balance, cur_price, units):\n",
    "#     amount = math.floor((usdt_balance * 1/units) / cur_price) / (1/units)\n",
    "#     return amount\n",
    "jongmok = []\n",
    "markets = binance.load_markets()\n",
    "for market in markets.keys():\n",
    "    if market.endswith(\"/USDT\"):\n",
    "        jongmok.append(market)\n",
    "\n",
    "# for sym in range(len(jongmok)):\n",
    "#     ohlcv(sym)\n"
   ]
  },
  {
   "cell_type": "code",
   "execution_count": 554,
   "outputs": [
    {
     "data": {
      "text/plain": "dict_keys(['BTC/USDT', 'ETH/USDT', 'BCH/USDT', 'XRP/USDT', 'EOS/USDT', 'LTC/USDT', 'TRX/USDT', 'ETC/USDT', 'LINK/USDT', 'XLM/USDT', 'ADA/USDT', 'XMR/USDT', 'DASH/USDT', 'ZEC/USDT', 'XTZ/USDT', 'BNB/USDT', 'ATOM/USDT', 'ONT/USDT', 'IOTA/USDT', 'BAT/USDT', 'VET/USDT', 'NEO/USDT', 'QTUM/USDT', 'IOST/USDT', 'THETA/USDT', 'ALGO/USDT', 'ZIL/USDT', 'KNC/USDT', 'ZRX/USDT', 'COMP/USDT', 'OMG/USDT', 'DOGE/USDT', 'SXP/USDT', 'KAVA/USDT', 'BAND/USDT', 'RLC/USDT', 'WAVES/USDT', 'MKR/USDT', 'SNX/USDT', 'DOT/USDT', 'DEFI/USDT', 'YFI/USDT', 'BAL/USDT', 'CRV/USDT', 'TRB/USDT', 'RUNE/USDT', 'SUSHI/USDT', 'SRM/USDT', 'EGLD/USDT', 'SOL/USDT', 'ICX/USDT', 'STORJ/USDT', 'BLZ/USDT', 'UNI/USDT', 'AVAX/USDT', 'FTM/USDT', 'HNT/USDT', 'ENJ/USDT', 'FLM/USDT', 'TOMO/USDT', 'REN/USDT', 'KSM/USDT', 'NEAR/USDT', 'AAVE/USDT', 'FIL/USDT', 'RSR/USDT', 'LRC/USDT', 'MATIC/USDT', 'OCEAN/USDT', 'CVC/USDT', 'BEL/USDT', 'CTK/USDT', 'AXS/USDT', 'ALPHA/USDT', 'ZEN/USDT', 'SKL/USDT', 'GRT/USDT', '1INCH/USDT', 'BTC/BUSD', 'CHZ/USDT', 'SAND/USDT', 'ANKR/USDT', 'BTS/USDT', 'LIT/USDT', 'UNFI/USDT', 'REEF/USDT', 'RVN/USDT', 'SFP/USDT', 'XEM/USDT', 'BTCSTUSDT', 'COTI/USDT', 'CHR/USDT', 'MANA/USDT', 'ALICE/USDT', 'HBAR/USDT', 'ONE/USDT', 'LINA/USDT', 'STMX/USDT', 'DENT/USDT', 'CELR/USDT', 'HOT/USDT', 'MTL/USDT', 'OGN/USDT', 'NKN/USDT', 'SC/USDT', 'DGB/USDT', '1000SHIB/USDT', 'BAKE/USDT', 'GTC/USDT', 'ETH/BUSD', 'BTCDOM/USDT', 'TLM/USDT', 'BNB/BUSD', 'ADA/BUSD', 'XRP/BUSD', 'IOTX/USDT', 'DOGE/BUSD', 'AUDIO/USDT', 'RAY/USDT', 'C98/USDT', 'MASK/USDT', 'ATA/USDT', 'SOL/BUSD', 'FTT/BUSD', 'DYDX/USDT', '1000XEC/USDT', 'GALA/USDT', 'CELO/USDT', 'AR/USDT', 'KLAY/USDT', 'ARPA/USDT', 'CTSI/USDT', 'LPT/USDT', 'ENS/USDT', 'PEOPLE/USDT', 'ANT/USDT', 'ROSE/USDT', 'DUSK/USDT', 'FLOW/USDT', 'IMX/USDT', 'API3/USDT', 'GMT/USDT', 'APE/USDT', 'WOO/USDT', 'FTT/USDT', 'JASMY/USDT', 'DAR/USDT', 'GAL/USDT', 'AVAX/BUSD', 'NEAR/BUSD', 'GMT/BUSD', 'APE/BUSD', 'GAL/BUSD', 'FTM/BUSD', 'DODO/BUSD', 'ANC/BUSD', 'GALA/BUSD', 'TRX/BUSD', '1000LUNC/BUSD', 'LUNA2/BUSD', 'OP/USDT', 'DOT/BUSD', 'TLM/BUSD', 'ICP/BUSD', 'WAVES/BUSD', 'LINK/BUSD', 'SAND/BUSD', 'LTC/BUSD', 'MATIC/BUSD', 'CVX/BUSD', 'FIL/BUSD', '1000SHIB/BUSD', 'LEVER/BUSD', 'ETC/BUSD', 'LDO/BUSD', 'UNI/BUSD', 'AUCTION/BUSD', 'INJ/USDT', 'STG/USDT', 'FOOTBALL/USDT', 'SPELL/USDT', '1000LUNC/USDT', 'LUNA2/USDT', 'AMB/BUSD', 'PHB/BUSD', 'LDO/USDT', 'CVX/USDT', 'ICP/USDT', 'APT/USDT', 'QNT/USDT', 'APT/BUSD', 'BLUEBIRD/USDT', 'ETHUSDT_230331', 'BTCUSDT_230331', 'FET/USDT', 'AGIX/BUSD', 'FXS/USDT', 'HOOK/USDT', 'MAGIC/USDT', 'T/USDT', 'RNDR/USDT', 'HIGH/USDT', 'MINA/USDT', 'ASTR/USDT', 'AGIX/USDT', 'PHB/USDT', 'GMX/USDT', 'CFX/USDT', 'STX/USDT', 'COCOS/USDT', 'BNX/USDT', 'ACH/USDT', 'SSV/USDT'])"
     },
     "execution_count": 554,
     "metadata": {},
     "output_type": "execute_result"
    }
   ],
   "source": [
    "markets.keys()"
   ],
   "metadata": {
    "collapsed": false
   }
  },
  {
   "cell_type": "code",
   "execution_count": 428,
   "outputs": [],
   "source": [
    "PriceData = {}\n",
    "for sym in jongmok:\n",
    "    PriceData[sym] = ohlcv(sym)"
   ],
   "metadata": {
    "collapsed": false
   }
  },
  {
   "cell_type": "code",
   "execution_count": 420,
   "outputs": [
    {
     "data": {
      "text/plain": "['BTC/USDT',\n 'ETH/USDT',\n 'BCH/USDT',\n 'XRP/USDT',\n 'EOS/USDT',\n 'LTC/USDT',\n 'TRX/USDT',\n 'ETC/USDT',\n 'LINK/USDT',\n 'XLM/USDT',\n 'ADA/USDT',\n 'XMR/USDT',\n 'DASH/USDT',\n 'ZEC/USDT',\n 'XTZ/USDT',\n 'BNB/USDT',\n 'ATOM/USDT',\n 'ONT/USDT',\n 'IOTA/USDT',\n 'BAT/USDT',\n 'VET/USDT',\n 'NEO/USDT',\n 'QTUM/USDT',\n 'IOST/USDT',\n 'THETA/USDT',\n 'ALGO/USDT',\n 'ZIL/USDT',\n 'KNC/USDT',\n 'ZRX/USDT',\n 'COMP/USDT',\n 'OMG/USDT',\n 'DOGE/USDT',\n 'SXP/USDT',\n 'KAVA/USDT',\n 'BAND/USDT',\n 'RLC/USDT',\n 'WAVES/USDT',\n 'MKR/USDT',\n 'SNX/USDT',\n 'DOT/USDT',\n 'DEFI/USDT',\n 'YFI/USDT',\n 'BAL/USDT',\n 'CRV/USDT',\n 'TRB/USDT',\n 'RUNE/USDT',\n 'SUSHI/USDT',\n 'SRM/USDT',\n 'EGLD/USDT',\n 'SOL/USDT',\n 'ICX/USDT',\n 'STORJ/USDT',\n 'BLZ/USDT',\n 'UNI/USDT',\n 'AVAX/USDT',\n 'FTM/USDT',\n 'HNT/USDT',\n 'ENJ/USDT',\n 'FLM/USDT',\n 'TOMO/USDT',\n 'REN/USDT',\n 'KSM/USDT',\n 'NEAR/USDT',\n 'AAVE/USDT',\n 'FIL/USDT',\n 'RSR/USDT',\n 'LRC/USDT',\n 'MATIC/USDT',\n 'OCEAN/USDT',\n 'CVC/USDT',\n 'BEL/USDT',\n 'CTK/USDT',\n 'AXS/USDT',\n 'ALPHA/USDT',\n 'ZEN/USDT',\n 'SKL/USDT',\n 'GRT/USDT',\n '1INCH/USDT',\n 'CHZ/USDT',\n 'SAND/USDT',\n 'ANKR/USDT',\n 'BTS/USDT',\n 'LIT/USDT',\n 'UNFI/USDT',\n 'REEF/USDT',\n 'RVN/USDT',\n 'SFP/USDT',\n 'XEM/USDT',\n 'COTI/USDT',\n 'CHR/USDT',\n 'MANA/USDT',\n 'ALICE/USDT',\n 'HBAR/USDT',\n 'ONE/USDT',\n 'LINA/USDT',\n 'STMX/USDT',\n 'DENT/USDT',\n 'CELR/USDT',\n 'HOT/USDT',\n 'MTL/USDT',\n 'OGN/USDT',\n 'NKN/USDT',\n 'SC/USDT',\n 'DGB/USDT',\n '1000SHIB/USDT',\n 'BAKE/USDT',\n 'GTC/USDT',\n 'BTCDOM/USDT',\n 'TLM/USDT',\n 'IOTX/USDT',\n 'AUDIO/USDT',\n 'RAY/USDT',\n 'C98/USDT',\n 'MASK/USDT',\n 'ATA/USDT',\n 'DYDX/USDT',\n '1000XEC/USDT',\n 'GALA/USDT',\n 'CELO/USDT',\n 'AR/USDT',\n 'KLAY/USDT',\n 'ARPA/USDT',\n 'CTSI/USDT',\n 'LPT/USDT',\n 'ENS/USDT',\n 'PEOPLE/USDT',\n 'ANT/USDT',\n 'ROSE/USDT',\n 'DUSK/USDT',\n 'FLOW/USDT',\n 'IMX/USDT',\n 'API3/USDT',\n 'GMT/USDT',\n 'APE/USDT',\n 'WOO/USDT',\n 'FTT/USDT',\n 'JASMY/USDT',\n 'DAR/USDT',\n 'GAL/USDT',\n 'OP/USDT',\n 'INJ/USDT',\n 'STG/USDT',\n 'FOOTBALL/USDT',\n 'SPELL/USDT',\n '1000LUNC/USDT',\n 'LUNA2/USDT',\n 'LDO/USDT',\n 'CVX/USDT',\n 'ICP/USDT',\n 'APT/USDT',\n 'QNT/USDT',\n 'BLUEBIRD/USDT',\n 'FET/USDT',\n 'FXS/USDT',\n 'HOOK/USDT',\n 'MAGIC/USDT',\n 'T/USDT',\n 'RNDR/USDT',\n 'HIGH/USDT',\n 'MINA/USDT',\n 'ASTR/USDT',\n 'AGIX/USDT',\n 'PHB/USDT',\n 'GMX/USDT',\n 'CFX/USDT',\n 'STX/USDT',\n 'COCOS/USDT',\n 'BNX/USDT',\n 'ACH/USDT',\n 'SSV/USDT']"
     },
     "execution_count": 420,
     "metadata": {},
     "output_type": "execute_result"
    }
   ],
   "source": [
    "len(jongmok)"
   ],
   "metadata": {
    "collapsed": false
   }
  },
  {
   "cell_type": "code",
   "execution_count": 421,
   "outputs": [
    {
     "data": {
      "text/plain": "170"
     },
     "execution_count": 421,
     "metadata": {},
     "output_type": "execute_result"
    }
   ],
   "source": [
    "len(jongmok)"
   ],
   "metadata": {
    "collapsed": false
   }
  },
  {
   "cell_type": "code",
   "execution_count": 88,
   "outputs": [],
   "source": [
    "balance = binance.fetch_balance()"
   ],
   "metadata": {
    "collapsed": false
   }
  },
  {
   "cell_type": "code",
   "execution_count": 16,
   "outputs": [
    {
     "name": "stdout",
     "output_type": "stream",
     "text": [
      "Defaulting to user installation because normal site-packages is not writeable\n"
     ]
    },
    {
     "name": "stderr",
     "output_type": "stream",
     "text": [
      "ERROR: Could not find a version that satisfies the requirement pprint (from versions: none)\n",
      "ERROR: No matching distribution found for pprint\n"
     ]
    }
   ],
   "source": [
    "!pip install pprint"
   ],
   "metadata": {
    "collapsed": false
   }
  },
  {
   "cell_type": "code",
   "execution_count": 29,
   "outputs": [
    {
     "data": {
      "text/plain": "ccxt.binance.binance"
     },
     "execution_count": 29,
     "metadata": {},
     "output_type": "execute_result"
    }
   ],
   "source": [
    "import pprint\n",
    "type(binance)\n",
    "# type(balance)"
   ],
   "metadata": {
    "collapsed": false
   }
  },
  {
   "cell_type": "code",
   "execution_count": 36,
   "outputs": [
    {
     "name": "stdout",
     "output_type": "stream",
     "text": [
      "info {'feeTier': '0', 'canTrade': True, 'canDeposit': True, 'canWithdraw': True, 'updateTime': '0', 'multiAssetsMargin': False, 'totalInitialMargin': '1006.97804224', 'totalMaintMargin': '14.06120277', 'totalWalletBalance': '6531.95234241', 'totalUnrealizedProfit': '8.16139574', 'totalMarginBalance': '6540.11373815', 'totalPositionInitialMargin': '1006.97804224', 'totalOpenOrderInitialMargin': '0.00000000', 'totalCrossWalletBalance': '6531.95234241', 'totalCrossUnPnl': '8.16139574', 'availableBalance': '5533.07696375', 'maxWithdrawAmount': '5533.07696375', 'assets': [{'asset': 'DOT', 'walletBalance': '0.00000000', 'unrealizedProfit': '0.00000000', 'marginBalance': '0.00000000', 'maintMargin': '0.00000000', 'initialMargin': '0.00000000', 'positionInitialMargin': '0.00000000', 'openOrderInitialMargin': '0.00000000', 'maxWithdrawAmount': '0.00000000', 'crossWalletBalance': '0.00000000', 'crossUnPnl': '0.00000000', 'availableBalance': '0.00000000', 'marginAvailable': True, 'updateTime': '0'}, {'asset': 'BTC', 'walletBalance': '0.00000000', 'unrealizedProfit': '0.00000000', 'marginBalance': '0.00000000', 'maintMargin': '0.00000000', 'initialMargin': '0.00000000', 'positionInitialMargin': '0.00000000', 'openOrderInitialMargin': '0.00000000', 'maxWithdrawAmount': '0.00000000', 'crossWalletBalance': '0.00000000', 'crossUnPnl': '0.00000000', 'availableBalance': '0.00000000', 'marginAvailable': True, 'updateTime': '0'}, {'asset': 'SOL', 'walletBalance': '0.00000000', 'unrealizedProfit': '0.00000000', 'marginBalance': '0.00000000', 'maintMargin': '0.00000000', 'initialMargin': '0.00000000', 'positionInitialMargin': '0.00000000', 'openOrderInitialMargin': '0.00000000', 'maxWithdrawAmount': '0.00000000', 'crossWalletBalance': '0.00000000', 'crossUnPnl': '0.00000000', 'availableBalance': '0.00000000', 'marginAvailable': True, 'updateTime': '0'}, {'asset': 'BNB', 'walletBalance': '0.00000000', 'unrealizedProfit': '0.00000000', 'marginBalance': '0.00000000', 'maintMargin': '0.00000000', 'initialMargin': '0.00000000', 'positionInitialMargin': '0.00000000', 'openOrderInitialMargin': '0.00000000', 'maxWithdrawAmount': '0.00000000', 'crossWalletBalance': '0.00000000', 'crossUnPnl': '0.00000000', 'availableBalance': '0.00000000', 'marginAvailable': True, 'updateTime': '0'}, {'asset': 'ETH', 'walletBalance': '0.00000000', 'unrealizedProfit': '0.00000000', 'marginBalance': '0.00000000', 'maintMargin': '0.00000000', 'initialMargin': '0.00000000', 'positionInitialMargin': '0.00000000', 'openOrderInitialMargin': '0.00000000', 'maxWithdrawAmount': '0.00000000', 'crossWalletBalance': '0.00000000', 'crossUnPnl': '0.00000000', 'availableBalance': '0.00000000', 'marginAvailable': True, 'updateTime': '0'}, {'asset': 'ADA', 'walletBalance': '0.00000000', 'unrealizedProfit': '0.00000000', 'marginBalance': '0.00000000', 'maintMargin': '0.00000000', 'initialMargin': '0.00000000', 'positionInitialMargin': '0.00000000', 'openOrderInitialMargin': '0.00000000', 'maxWithdrawAmount': '0.00000000', 'crossWalletBalance': '0.00000000', 'crossUnPnl': '0.00000000', 'availableBalance': '0.00000000', 'marginAvailable': True, 'updateTime': '0'}, {'asset': 'USDT', 'walletBalance': '6531.95234241', 'unrealizedProfit': '8.16139574', 'marginBalance': '6540.11373815', 'maintMargin': '14.06120277', 'initialMargin': '1006.97804224', 'positionInitialMargin': '1006.97804224', 'openOrderInitialMargin': '0.00000000', 'maxWithdrawAmount': '5533.07696375', 'crossWalletBalance': '6531.95234241', 'crossUnPnl': '8.16139574', 'availableBalance': '5533.07696375', 'marginAvailable': True, 'updateTime': '1677484804825'}, {'asset': 'XRP', 'walletBalance': '0.00000000', 'unrealizedProfit': '0.00000000', 'marginBalance': '0.00000000', 'maintMargin': '0.00000000', 'initialMargin': '0.00000000', 'positionInitialMargin': '0.00000000', 'openOrderInitialMargin': '0.00000000', 'maxWithdrawAmount': '0.00000000', 'crossWalletBalance': '0.00000000', 'crossUnPnl': '0.00000000', 'availableBalance': '0.00000000', 'marginAvailable': True, 'updateTime': '1676058136668'}, {'asset': 'USDC', 'walletBalance': '0.00000000', 'unrealizedProfit': '0.00000000', 'marginBalance': '0.00000000', 'maintMargin': '0.00000000', 'initialMargin': '0.00000000', 'positionInitialMargin': '0.00000000', 'openOrderInitialMargin': '0.00000000', 'maxWithdrawAmount': '0.00000000', 'crossWalletBalance': '0.00000000', 'crossUnPnl': '0.00000000', 'availableBalance': '0.00000000', 'marginAvailable': True, 'updateTime': '0'}, {'asset': 'BUSD', 'walletBalance': '0.00000000', 'unrealizedProfit': '0.00000000', 'marginBalance': '0.00000000', 'maintMargin': '0.00000000', 'initialMargin': '0.00000000', 'positionInitialMargin': '0.00000000', 'openOrderInitialMargin': '0.00000000', 'maxWithdrawAmount': '0.00000000', 'crossWalletBalance': '0.00000000', 'crossUnPnl': '0.00000000', 'availableBalance': '0.00000000', 'marginAvailable': True, 'updateTime': '0'}], 'positions': [{'symbol': 'SUSHIUSDT', 'initialMargin': '0', 'maintMargin': '0', 'unrealizedProfit': '0.00000000', 'positionInitialMargin': '0', 'openOrderInitialMargin': '0', 'leverage': '1', 'isolated': False, 'entryPrice': '0.0', 'maxNotional': '5000000.0', 'positionSide': 'BOTH', 'positionAmt': '0', 'notional': '0', 'isolatedWallet': '0', 'updateTime': '0', 'bidNotional': '0', 'askNotional': '0'}, {'symbol': 'BTSUSDT', 'initialMargin': '0', 'maintMargin': '0', 'unrealizedProfit': '0.00000000', 'positionInitialMargin': '0', 'openOrderInitialMargin': '0', 'leverage': '1', 'isolated': False, 'entryPrice': '0.0', 'maxNotional': '5000000.0', 'positionSide': 'BOTH', 'positionAmt': '0', 'notional': '0', 'isolatedWallet': '0', 'updateTime': '0', 'bidNotional': '0', 'askNotional': '0'}, {'symbol': 'INJUSDT', 'initialMargin': '0', 'maintMargin': '0', 'unrealizedProfit': '0.00000000', 'positionInitialMargin': '0', 'openOrderInitialMargin': '0', 'leverage': '1', 'isolated': False, 'entryPrice': '0.0', 'maxNotional': '3000000.0', 'positionSide': 'BOTH', 'positionAmt': '0.0', 'notional': '0', 'isolatedWallet': '0', 'updateTime': '0', 'bidNotional': '0', 'askNotional': '0'}, {'symbol': 'TRXBUSD', 'initialMargin': '0', 'maintMargin': '0', 'unrealizedProfit': '0.00000000', 'positionInitialMargin': '0', 'openOrderInitialMargin': '0', 'leverage': '20', 'isolated': False, 'entryPrice': '0.0', 'maxNotional': '5000', 'positionSide': 'BOTH', 'positionAmt': '0', 'notional': '0', 'isolatedWallet': '0', 'updateTime': '0', 'bidNotional': '0', 'askNotional': '0'}, {'symbol': 'ZRXUSDT', 'initialMargin': '0', 'maintMargin': '0', 'unrealizedProfit': '0.00000000', 'positionInitialMargin': '0', 'openOrderInitialMargin': '0', 'leverage': '1', 'isolated': False, 'entryPrice': '0.0', 'maxNotional': '5000000.0', 'positionSide': 'BOTH', 'positionAmt': '0.0', 'notional': '0', 'isolatedWallet': '0', 'updateTime': '0', 'bidNotional': '0', 'askNotional': '0'}, {'symbol': 'HIGHUSDT', 'initialMargin': '0', 'maintMargin': '0', 'unrealizedProfit': '0.00000000', 'positionInitialMargin': '0', 'openOrderInitialMargin': '0', 'leverage': '20', 'isolated': False, 'entryPrice': '0.0', 'maxNotional': '5000', 'positionSide': 'BOTH', 'positionAmt': '0.0', 'notional': '0', 'isolatedWallet': '0', 'updateTime': '0', 'bidNotional': '0', 'askNotional': '0'}, {'symbol': 'WAVESUSDT', 'initialMargin': '0', 'maintMargin': '0', 'unrealizedProfit': '0.00000000', 'positionInitialMargin': '0', 'openOrderInitialMargin': '0', 'leverage': '1', 'isolated': False, 'entryPrice': '0.0', 'maxNotional': '3000000.0', 'positionSide': 'BOTH', 'positionAmt': '0.0', 'notional': '0', 'isolatedWallet': '0', 'updateTime': '0', 'bidNotional': '0', 'askNotional': '0'}, {'symbol': 'SPELLUSDT', 'initialMargin': '0', 'maintMargin': '0', 'unrealizedProfit': '0.00000000', 'positionInitialMargin': '0', 'openOrderInitialMargin': '0', 'leverage': '1', 'isolated': False, 'entryPrice': '0.0', 'maxNotional': '3000000.0', 'positionSide': 'BOTH', 'positionAmt': '0', 'notional': '0', 'isolatedWallet': '0', 'updateTime': '0', 'bidNotional': '0', 'askNotional': '0'}, {'symbol': 'XTZUSDT', 'initialMargin': '0', 'maintMargin': '0', 'unrealizedProfit': '0.00000000', 'positionInitialMargin': '0', 'openOrderInitialMargin': '0', 'leverage': '1', 'isolated': False, 'entryPrice': '0.0', 'maxNotional': '1.5E7', 'positionSide': 'BOTH', 'positionAmt': '0.0', 'notional': '0', 'isolatedWallet': '0', 'updateTime': '0', 'bidNotional': '0', 'askNotional': '0'}, {'symbol': 'BNBUSDT', 'initialMargin': '0', 'maintMargin': '0', 'unrealizedProfit': '0.00000000', 'positionInitialMargin': '0', 'openOrderInitialMargin': '0', 'leverage': '1', 'isolated': False, 'entryPrice': '0.0', 'maxNotional': '5.0E7', 'positionSide': 'BOTH', 'positionAmt': '0.00', 'notional': '0', 'isolatedWallet': '0', 'updateTime': '0', 'bidNotional': '0', 'askNotional': '0'}, {'symbol': 'DARUSDT', 'initialMargin': '0', 'maintMargin': '0', 'unrealizedProfit': '0.00000000', 'positionInitialMargin': '0', 'openOrderInitialMargin': '0', 'leverage': '1', 'isolated': False, 'entryPrice': '0.0', 'maxNotional': '5000000.0', 'positionSide': 'BOTH', 'positionAmt': '0.0', 'notional': '0', 'isolatedWallet': '0', 'updateTime': '0', 'bidNotional': '0', 'askNotional': '0'}, {'symbol': 'HNTUSDT', 'initialMargin': '0', 'maintMargin': '0', 'unrealizedProfit': '0.00000000', 'positionInitialMargin': '0', 'openOrderInitialMargin': '0', 'leverage': '1', 'isolated': False, 'entryPrice': '0.0', 'maxNotional': '3000000.0', 'positionSide': 'BOTH', 'positionAmt': '0', 'notional': '0', 'isolatedWallet': '0', 'updateTime': '0', 'bidNotional': '0', 'askNotional': '0'}, {'symbol': 'ETCUSDT', 'initialMargin': '0', 'maintMargin': '0', 'unrealizedProfit': '0.00000000', 'positionInitialMargin': '0', 'openOrderInitialMargin': '0', 'leverage': '1', 'isolated': False, 'entryPrice': '0.0', 'maxNotional': '5.0E7', 'positionSide': 'BOTH', 'positionAmt': '0.00', 'notional': '0', 'isolatedWallet': '0', 'updateTime': '0', 'bidNotional': '0', 'askNotional': '0'}, {'symbol': 'XMRUSDT', 'initialMargin': '0', 'maintMargin': '0', 'unrealizedProfit': '0.00000000', 'positionInitialMargin': '0', 'openOrderInitialMargin': '0', 'leverage': '1', 'isolated': False, 'entryPrice': '0.0', 'maxNotional': '2.0E7', 'positionSide': 'BOTH', 'positionAmt': '0.000', 'notional': '0', 'isolatedWallet': '0', 'updateTime': '0', 'bidNotional': '0', 'askNotional': '0'}, {'symbol': 'ALICEUSDT', 'initialMargin': '0', 'maintMargin': '0', 'unrealizedProfit': '0.00000000', 'positionInitialMargin': '0', 'openOrderInitialMargin': '0', 'leverage': '1', 'isolated': False, 'entryPrice': '0.0', 'maxNotional': '3000000.0', 'positionSide': 'BOTH', 'positionAmt': '0.0', 'notional': '0', 'isolatedWallet': '0', 'updateTime': '0', 'bidNotional': '0', 'askNotional': '0'}, {'symbol': 'HOOKUSDT', 'initialMargin': '0', 'maintMargin': '0', 'unrealizedProfit': '0.00000000', 'positionInitialMargin': '0', 'openOrderInitialMargin': '0', 'leverage': '20', 'isolated': False, 'entryPrice': '0.0', 'maxNotional': '5000', 'positionSide': 'BOTH', 'positionAmt': '0.0', 'notional': '0', 'isolatedWallet': '0', 'updateTime': '0', 'bidNotional': '0', 'askNotional': '0'}, {'symbol': 'REEFUSDT', 'initialMargin': '0', 'maintMargin': '0', 'unrealizedProfit': '0.00000000', 'positionInitialMargin': '0', 'openOrderInitialMargin': '0', 'leverage': '1', 'isolated': False, 'entryPrice': '0.0', 'maxNotional': '3000000.0', 'positionSide': 'BOTH', 'positionAmt': '0', 'notional': '0', 'isolatedWallet': '0', 'updateTime': '0', 'bidNotional': '0', 'askNotional': '0'}, {'symbol': 'BATUSDT', 'initialMargin': '0', 'maintMargin': '0', 'unrealizedProfit': '0.00000000', 'positionInitialMargin': '0', 'openOrderInitialMargin': '0', 'leverage': '1', 'isolated': False, 'entryPrice': '0.0', 'maxNotional': '5000000.0', 'positionSide': 'BOTH', 'positionAmt': '0.0', 'notional': '0', 'isolatedWallet': '0', 'updateTime': '0', 'bidNotional': '0', 'askNotional': '0'}, {'symbol': 'DOGEUSDT', 'initialMargin': '0', 'maintMargin': '0', 'unrealizedProfit': '0.00000000', 'positionInitialMargin': '0', 'openOrderInitialMargin': '0', 'leverage': '1', 'isolated': False, 'entryPrice': '0.0', 'maxNotional': '2.0E7', 'positionSide': 'BOTH', 'positionAmt': '0', 'notional': '0', 'isolatedWallet': '0', 'updateTime': '0', 'bidNotional': '0', 'askNotional': '0'}, {'symbol': 'TRXUSDT', 'initialMargin': '0', 'maintMargin': '0', 'unrealizedProfit': '0.00000000', 'positionInitialMargin': '0', 'openOrderInitialMargin': '0', 'leverage': '1', 'isolated': False, 'entryPrice': '0.0', 'maxNotional': '3.0E7', 'positionSide': 'BOTH', 'positionAmt': '0', 'notional': '0', 'isolatedWallet': '0', 'updateTime': '0', 'bidNotional': '0', 'askNotional': '0'}, {'symbol': 'STORJUSDT', 'initialMargin': '0', 'maintMargin': '0', 'unrealizedProfit': '0.00000000', 'positionInitialMargin': '0', 'openOrderInitialMargin': '0', 'leverage': '1', 'isolated': False, 'entryPrice': '0.0', 'maxNotional': '5000000.0', 'positionSide': 'BOTH', 'positionAmt': '0', 'notional': '0', 'isolatedWallet': '0', 'updateTime': '0', 'bidNotional': '0', 'askNotional': '0'}, {'symbol': 'SNXUSDT', 'initialMargin': '0', 'maintMargin': '0', 'unrealizedProfit': '0.00000000', 'positionInitialMargin': '0', 'openOrderInitialMargin': '0', 'leverage': '1', 'isolated': False, 'entryPrice': '0.0', 'maxNotional': '5000000.0', 'positionSide': 'BOTH', 'positionAmt': '0.0', 'notional': '0', 'isolatedWallet': '0', 'updateTime': '0', 'bidNotional': '0', 'askNotional': '0'}, {'symbol': 'DOTBUSD', 'initialMargin': '0', 'maintMargin': '0', 'unrealizedProfit': '0.00000000', 'positionInitialMargin': '0', 'openOrderInitialMargin': '0', 'leverage': '20', 'isolated': False, 'entryPrice': '0.0', 'maxNotional': '5000', 'positionSide': 'BOTH', 'positionAmt': '0.0', 'notional': '0', 'isolatedWallet': '0', 'updateTime': '0', 'bidNotional': '0', 'askNotional': '0'}, {'symbol': 'NEARBUSD', 'initialMargin': '0', 'maintMargin': '0', 'unrealizedProfit': '0.00000000', 'positionInitialMargin': '0', 'openOrderInitialMargin': '0', 'leverage': '20', 'isolated': False, 'entryPrice': '0.0', 'maxNotional': '5000', 'positionSide': 'BOTH', 'positionAmt': '0.0', 'notional': '0', 'isolatedWallet': '0', 'updateTime': '0', 'bidNotional': '0', 'askNotional': '0'}, {'symbol': 'XLMUSDT', 'initialMargin': '0', 'maintMargin': '0', 'unrealizedProfit': '0.00000000', 'positionInitialMargin': '0', 'openOrderInitialMargin': '0', 'leverage': '1', 'isolated': False, 'entryPrice': '0.0', 'maxNotional': '2.0E7', 'positionSide': 'BOTH', 'positionAmt': '0', 'notional': '0', 'isolatedWallet': '0', 'updateTime': '1667955883977', 'bidNotional': '0', 'askNotional': '0'}, {'symbol': 'APEBUSD', 'initialMargin': '0', 'maintMargin': '0', 'unrealizedProfit': '0.00000000', 'positionInitialMargin': '0', 'openOrderInitialMargin': '0', 'leverage': '20', 'isolated': False, 'entryPrice': '0.0', 'maxNotional': '5000', 'positionSide': 'BOTH', 'positionAmt': '0.0', 'notional': '0', 'isolatedWallet': '0', 'updateTime': '0', 'bidNotional': '0', 'askNotional': '0'}, {'symbol': 'IOTXUSDT', 'initialMargin': '0', 'maintMargin': '0', 'unrealizedProfit': '0.00000000', 'positionInitialMargin': '0', 'openOrderInitialMargin': '0', 'leverage': '1', 'isolated': False, 'entryPrice': '0.0', 'maxNotional': '5000000.0', 'positionSide': 'BOTH', 'positionAmt': '0', 'notional': '0', 'isolatedWallet': '0', 'updateTime': '0', 'bidNotional': '0', 'askNotional': '0'}, {'symbol': 'DASHUSDT', 'initialMargin': '0', 'maintMargin': '0', 'unrealizedProfit': '0.00000000', 'positionInitialMargin': '0', 'openOrderInitialMargin': '0', 'leverage': '1', 'isolated': False, 'entryPrice': '0.0', 'maxNotional': '5000000.0', 'positionSide': 'BOTH', 'positionAmt': '0.000', 'notional': '0', 'isolatedWallet': '0', 'updateTime': '0', 'bidNotional': '0', 'askNotional': '0'}, {'symbol': 'KAVAUSDT', 'initialMargin': '0', 'maintMargin': '0', 'unrealizedProfit': '0.00000000', 'positionInitialMargin': '0', 'openOrderInitialMargin': '0', 'leverage': '1', 'isolated': False, 'entryPrice': '0.0', 'maxNotional': '8000000.0', 'positionSide': 'BOTH', 'positionAmt': '0.0', 'notional': '0', 'isolatedWallet': '0', 'updateTime': '0', 'bidNotional': '0', 'askNotional': '0'}, {'symbol': 'RUNEUSDT', 'initialMargin': '0', 'maintMargin': '0', 'unrealizedProfit': '0.00000000', 'positionInitialMargin': '0', 'openOrderInitialMargin': '0', 'leverage': '1', 'isolated': False, 'entryPrice': '0.0', 'maxNotional': '5000000.0', 'positionSide': 'BOTH', 'positionAmt': '0', 'notional': '0', 'isolatedWallet': '0', 'updateTime': '0', 'bidNotional': '0', 'askNotional': '0'}, {'symbol': 'APEUSDT', 'initialMargin': '0', 'maintMargin': '0', 'unrealizedProfit': '0.00000000', 'positionInitialMargin': '0', 'openOrderInitialMargin': '0', 'leverage': '1', 'isolated': False, 'entryPrice': '0.0', 'maxNotional': '1.0E7', 'positionSide': 'BOTH', 'positionAmt': '0', 'notional': '0', 'isolatedWallet': '0', 'updateTime': '0', 'bidNotional': '0', 'askNotional': '0'}, {'symbol': 'BLUEBIRDUSDT', 'initialMargin': '0', 'maintMargin': '0', 'unrealizedProfit': '0.00000000', 'positionInitialMargin': '0', 'openOrderInitialMargin': '0', 'leverage': '20', 'isolated': False, 'entryPrice': '0.0', 'maxNotional': '5000', 'positionSide': 'BOTH', 'positionAmt': '0.0', 'notional': '0', 'isolatedWallet': '0', 'updateTime': '0', 'bidNotional': '0', 'askNotional': '0'}, {'symbol': 'BNXUSDT', 'initialMargin': '0', 'maintMargin': '0', 'unrealizedProfit': '0.00000000', 'positionInitialMargin': '0', 'openOrderInitialMargin': '0', 'leverage': '20', 'isolated': False, 'entryPrice': '0.0', 'maxNotional': '5000', 'positionSide': 'BOTH', 'positionAmt': '0.0', 'notional': '0', 'isolatedWallet': '0', 'updateTime': '0', 'bidNotional': '0', 'askNotional': '0'}, {'symbol': 'CVXBUSD', 'initialMargin': '0', 'maintMargin': '0', 'unrealizedProfit': '0.00000000', 'positionInitialMargin': '0', 'openOrderInitialMargin': '0', 'leverage': '20', 'isolated': False, 'entryPrice': '0.0', 'maxNotional': '5000', 'positionSide': 'BOTH', 'positionAmt': '0.0', 'notional': '0', 'isolatedWallet': '0', 'updateTime': '0', 'bidNotional': '0', 'askNotional': '0'}, {'symbol': 'OPUSDT', 'initialMargin': '0', 'maintMargin': '0', 'unrealizedProfit': '0.00000000', 'positionInitialMargin': '0', 'openOrderInitialMargin': '0', 'leverage': '1', 'isolated': False, 'entryPrice': '0.0', 'maxNotional': '2.0E7', 'positionSide': 'BOTH', 'positionAmt': '0.0', 'notional': '0', 'isolatedWallet': '0', 'updateTime': '0', 'bidNotional': '0', 'askNotional': '0'}, {'symbol': 'DGBUSDT', 'initialMargin': '0', 'maintMargin': '0', 'unrealizedProfit': '0.00000000', 'positionInitialMargin': '0', 'openOrderInitialMargin': '0', 'leverage': '1', 'isolated': False, 'entryPrice': '0.0', 'maxNotional': '3000000.0', 'positionSide': 'BOTH', 'positionAmt': '0', 'notional': '0', 'isolatedWallet': '0', 'updateTime': '0', 'bidNotional': '0', 'askNotional': '0'}, {'symbol': 'SKLUSDT', 'initialMargin': '0', 'maintMargin': '0', 'unrealizedProfit': '0.00000000', 'positionInitialMargin': '0', 'openOrderInitialMargin': '0', 'leverage': '1', 'isolated': False, 'entryPrice': '0.0', 'maxNotional': '3000000.0', 'positionSide': 'BOTH', 'positionAmt': '0', 'notional': '0', 'isolatedWallet': '0', 'updateTime': '0', 'bidNotional': '0', 'askNotional': '0'}, {'symbol': 'FOOTBALLUSDT', 'initialMargin': '0', 'maintMargin': '0', 'unrealizedProfit': '0.00000000', 'positionInitialMargin': '0', 'openOrderInitialMargin': '0', 'leverage': '1', 'isolated': False, 'entryPrice': '0.0', 'maxNotional': '5000000.0', 'positionSide': 'BOTH', 'positionAmt': '0.00', 'notional': '0', 'isolatedWallet': '0', 'updateTime': '0', 'bidNotional': '0', 'askNotional': '0'}, {'symbol': 'TOMOUSDT', 'initialMargin': '0', 'maintMargin': '0', 'unrealizedProfit': '0.00000000', 'positionInitialMargin': '0', 'openOrderInitialMargin': '0', 'leverage': '1', 'isolated': False, 'entryPrice': '0.0', 'maxNotional': '3000000.0', 'positionSide': 'BOTH', 'positionAmt': '0', 'notional': '0', 'isolatedWallet': '0', 'updateTime': '0', 'bidNotional': '0', 'askNotional': '0'}, {'symbol': 'MTLUSDT', 'initialMargin': '0', 'maintMargin': '0', 'unrealizedProfit': '0.00000000', 'positionInitialMargin': '0', 'openOrderInitialMargin': '0', 'leverage': '1', 'isolated': False, 'entryPrice': '0.0', 'maxNotional': '3000000.0', 'positionSide': 'BOTH', 'positionAmt': '0', 'notional': '0', 'isolatedWallet': '0', 'updateTime': '0', 'bidNotional': '0', 'askNotional': '0'}, {'symbol': 'LTCUSDT', 'initialMargin': '0', 'maintMargin': '0', 'unrealizedProfit': '0.00000000', 'positionInitialMargin': '0', 'openOrderInitialMargin': '0', 'leverage': '1', 'isolated': False, 'entryPrice': '0.0', 'maxNotional': '5.0E7', 'positionSide': 'BOTH', 'positionAmt': '0.000', 'notional': '0', 'isolatedWallet': '0', 'updateTime': '0', 'bidNotional': '0', 'askNotional': '0'}, {'symbol': 'DODOBUSD', 'initialMargin': '0', 'maintMargin': '0', 'unrealizedProfit': '0.00000000', 'positionInitialMargin': '0', 'openOrderInitialMargin': '0', 'leverage': '20', 'isolated': False, 'entryPrice': '0.0', 'maxNotional': '5000', 'positionSide': 'BOTH', 'positionAmt': '0', 'notional': '0', 'isolatedWallet': '0', 'updateTime': '0', 'bidNotional': '0', 'askNotional': '0'}, {'symbol': 'KSMUSDT', 'initialMargin': '0', 'maintMargin': '0', 'unrealizedProfit': '0.00000000', 'positionInitialMargin': '0', 'openOrderInitialMargin': '0', 'leverage': '1', 'isolated': False, 'entryPrice': '0.0', 'maxNotional': '5000000.0', 'positionSide': 'BOTH', 'positionAmt': '0.0', 'notional': '0', 'isolatedWallet': '0', 'updateTime': '0', 'bidNotional': '0', 'askNotional': '0'}, {'symbol': 'WAVESBUSD', 'initialMargin': '0', 'maintMargin': '0', 'unrealizedProfit': '0.00000000', 'positionInitialMargin': '0', 'openOrderInitialMargin': '0', 'leverage': '20', 'isolated': False, 'entryPrice': '0.0', 'maxNotional': '0', 'positionSide': 'BOTH', 'positionAmt': '0.0', 'notional': '0', 'isolatedWallet': '0', 'updateTime': '0', 'bidNotional': '0', 'askNotional': '0'}, {'symbol': 'BNBBUSD', 'initialMargin': '0', 'maintMargin': '0', 'unrealizedProfit': '0.00000000', 'positionInitialMargin': '0', 'openOrderInitialMargin': '0', 'leverage': '20', 'isolated': False, 'entryPrice': '0.0', 'maxNotional': '100000', 'positionSide': 'BOTH', 'positionAmt': '0.00', 'notional': '0', 'isolatedWallet': '0', 'updateTime': '0', 'bidNotional': '0', 'askNotional': '0'}, {'symbol': 'ETCBUSD', 'initialMargin': '0', 'maintMargin': '0', 'unrealizedProfit': '0.00000000', 'positionInitialMargin': '0', 'openOrderInitialMargin': '0', 'leverage': '20', 'isolated': False, 'entryPrice': '0.0', 'maxNotional': '5000', 'positionSide': 'BOTH', 'positionAmt': '0.0', 'notional': '0', 'isolatedWallet': '0', 'updateTime': '0', 'bidNotional': '0', 'askNotional': '0'}, {'symbol': 'TRBUSDT', 'initialMargin': '0', 'maintMargin': '0', 'unrealizedProfit': '0.00000000', 'positionInitialMargin': '0', 'openOrderInitialMargin': '0', 'leverage': '1', 'isolated': False, 'entryPrice': '0.0', 'maxNotional': '3000000.0', 'positionSide': 'BOTH', 'positionAmt': '0.0', 'notional': '0', 'isolatedWallet': '0', 'updateTime': '1663539844078', 'bidNotional': '0', 'askNotional': '0'}, {'symbol': 'MANAUSDT', 'initialMargin': '0', 'maintMargin': '0', 'unrealizedProfit': '0.00000000', 'positionInitialMargin': '0', 'openOrderInitialMargin': '0', 'leverage': '1', 'isolated': False, 'entryPrice': '0.0', 'maxNotional': '1.0E7', 'positionSide': 'BOTH', 'positionAmt': '0', 'notional': '0', 'isolatedWallet': '0', 'updateTime': '0', 'bidNotional': '0', 'askNotional': '0'}, {'symbol': 'FLOWUSDT', 'initialMargin': '0', 'maintMargin': '0', 'unrealizedProfit': '0.00000000', 'positionInitialMargin': '0', 'openOrderInitialMargin': '0', 'leverage': '1', 'isolated': False, 'entryPrice': '0.0', 'maxNotional': '5000000.0', 'positionSide': 'BOTH', 'positionAmt': '0.0', 'notional': '0', 'isolatedWallet': '0', 'updateTime': '0', 'bidNotional': '0', 'askNotional': '0'}, {'symbol': 'CHRUSDT', 'initialMargin': '0', 'maintMargin': '0', 'unrealizedProfit': '0.00000000', 'positionInitialMargin': '0', 'openOrderInitialMargin': '0', 'leverage': '1', 'isolated': False, 'entryPrice': '0.0', 'maxNotional': '5000000.0', 'positionSide': 'BOTH', 'positionAmt': '0', 'notional': '0', 'isolatedWallet': '0', 'updateTime': '0', 'bidNotional': '0', 'askNotional': '0'}, {'symbol': 'AVAXBUSD', 'initialMargin': '0', 'maintMargin': '0', 'unrealizedProfit': '0.00000000', 'positionInitialMargin': '0', 'openOrderInitialMargin': '0', 'leverage': '20', 'isolated': False, 'entryPrice': '0.0', 'maxNotional': '5000', 'positionSide': 'BOTH', 'positionAmt': '0.0', 'notional': '0', 'isolatedWallet': '0', 'updateTime': '0', 'bidNotional': '0', 'askNotional': '0'}, {'symbol': 'GALUSDT', 'initialMargin': '0', 'maintMargin': '0', 'unrealizedProfit': '0.00000000', 'positionInitialMargin': '0', 'openOrderInitialMargin': '0', 'leverage': '1', 'isolated': False, 'entryPrice': '0.0', 'maxNotional': '3000000.0', 'positionSide': 'BOTH', 'positionAmt': '0', 'notional': '0', 'isolatedWallet': '0', 'updateTime': '0', 'bidNotional': '0', 'askNotional': '0'}, {'symbol': 'OGNUSDT', 'initialMargin': '0', 'maintMargin': '0', 'unrealizedProfit': '0.00000000', 'positionInitialMargin': '0', 'openOrderInitialMargin': '0', 'leverage': '1', 'isolated': False, 'entryPrice': '0.0', 'maxNotional': '3000000.0', 'positionSide': 'BOTH', 'positionAmt': '0', 'notional': '0', 'isolatedWallet': '0', 'updateTime': '0', 'bidNotional': '0', 'askNotional': '0'}, {'symbol': 'RNDRUSDT', 'initialMargin': '0', 'maintMargin': '0', 'unrealizedProfit': '0.00000000', 'positionInitialMargin': '0', 'openOrderInitialMargin': '0', 'leverage': '20', 'isolated': False, 'entryPrice': '0.0', 'maxNotional': '5000', 'positionSide': 'BOTH', 'positionAmt': '0.0', 'notional': '0', 'isolatedWallet': '0', 'updateTime': '0', 'bidNotional': '0', 'askNotional': '0'}, {'symbol': 'SCUSDT', 'initialMargin': '0', 'maintMargin': '0', 'unrealizedProfit': '0.00000000', 'positionInitialMargin': '0', 'openOrderInitialMargin': '0', 'leverage': '1', 'isolated': False, 'entryPrice': '0.0', 'maxNotional': '5000000.0', 'positionSide': 'BOTH', 'positionAmt': '0', 'notional': '0', 'isolatedWallet': '0', 'updateTime': '0', 'bidNotional': '0', 'askNotional': '0'}, {'symbol': 'GALBUSD', 'initialMargin': '0', 'maintMargin': '0', 'unrealizedProfit': '0.00000000', 'positionInitialMargin': '0', 'openOrderInitialMargin': '0', 'leverage': '20', 'isolated': False, 'entryPrice': '0.0', 'maxNotional': '5000', 'positionSide': 'BOTH', 'positionAmt': '0', 'notional': '0', 'isolatedWallet': '0', 'updateTime': '0', 'bidNotional': '0', 'askNotional': '0'}, {'symbol': 'STMXUSDT', 'initialMargin': '0', 'maintMargin': '0', 'unrealizedProfit': '0.00000000', 'positionInitialMargin': '0', 'openOrderInitialMargin': '0', 'leverage': '1', 'isolated': False, 'entryPrice': '0.0', 'maxNotional': '3000000.0', 'positionSide': 'BOTH', 'positionAmt': '0', 'notional': '0', 'isolatedWallet': '0', 'updateTime': '0', 'bidNotional': '0', 'askNotional': '0'}, {'symbol': 'KNCUSDT', 'initialMargin': '0', 'maintMargin': '0', 'unrealizedProfit': '0.00000000', 'positionInitialMargin': '0', 'openOrderInitialMargin': '0', 'leverage': '1', 'isolated': False, 'entryPrice': '0.0', 'maxNotional': '5000000.0', 'positionSide': 'BOTH', 'positionAmt': '0', 'notional': '0', 'isolatedWallet': '0', 'updateTime': '1667038043132', 'bidNotional': '0', 'askNotional': '0'}, {'symbol': 'SRMUSDT', 'initialMargin': '0', 'maintMargin': '0', 'unrealizedProfit': '0.00000000', 'positionInitialMargin': '0', 'openOrderInitialMargin': '0', 'leverage': '1', 'isolated': False, 'entryPrice': '0.0', 'maxNotional': '1500000.0', 'positionSide': 'BOTH', 'positionAmt': '0', 'notional': '0', 'isolatedWallet': '0', 'updateTime': '0', 'bidNotional': '0', 'askNotional': '0'}, {'symbol': 'ENJUSDT', 'initialMargin': '0', 'maintMargin': '0', 'unrealizedProfit': '0.00000000', 'positionInitialMargin': '0', 'openOrderInitialMargin': '0', 'leverage': '1', 'isolated': False, 'entryPrice': '0.0', 'maxNotional': '1.0E7', 'positionSide': 'BOTH', 'positionAmt': '0', 'notional': '0', 'isolatedWallet': '0', 'updateTime': '0', 'bidNotional': '0', 'askNotional': '0'}, {'symbol': 'ATOMUSDT', 'initialMargin': '0', 'maintMargin': '0', 'unrealizedProfit': '0.00000000', 'positionInitialMargin': '0', 'openOrderInitialMargin': '0', 'leverage': '1', 'isolated': False, 'entryPrice': '0.0', 'maxNotional': '1.0E7', 'positionSide': 'BOTH', 'positionAmt': '0.00', 'notional': '0', 'isolatedWallet': '0', 'updateTime': '0', 'bidNotional': '0', 'askNotional': '0'}, {'symbol': 'SOLBUSD', 'initialMargin': '0', 'maintMargin': '0', 'unrealizedProfit': '0.00000000', 'positionInitialMargin': '0', 'openOrderInitialMargin': '0', 'leverage': '20', 'isolated': False, 'entryPrice': '0.0', 'maxNotional': '100000', 'positionSide': 'BOTH', 'positionAmt': '0', 'notional': '0', 'isolatedWallet': '0', 'updateTime': '0', 'bidNotional': '0', 'askNotional': '0'}, {'symbol': 'ENSUSDT', 'initialMargin': '0', 'maintMargin': '0', 'unrealizedProfit': '0.00000000', 'positionInitialMargin': '0', 'openOrderInitialMargin': '0', 'leverage': '1', 'isolated': False, 'entryPrice': '0.0', 'maxNotional': '8000000.0', 'positionSide': 'BOTH', 'positionAmt': '0.0', 'notional': '0', 'isolatedWallet': '0', 'updateTime': '0', 'bidNotional': '0', 'askNotional': '0'}, {'symbol': 'FILBUSD', 'initialMargin': '0', 'maintMargin': '0', 'unrealizedProfit': '0.00000000', 'positionInitialMargin': '0', 'openOrderInitialMargin': '0', 'leverage': '20', 'isolated': False, 'entryPrice': '0.0', 'maxNotional': '5000', 'positionSide': 'BOTH', 'positionAmt': '0.0', 'notional': '0', 'isolatedWallet': '0', 'updateTime': '0', 'bidNotional': '0', 'askNotional': '0'}, {'symbol': 'ATAUSDT', 'initialMargin': '0', 'maintMargin': '0', 'unrealizedProfit': '0.00000000', 'positionInitialMargin': '0', 'openOrderInitialMargin': '0', 'leverage': '1', 'isolated': False, 'entryPrice': '0.0', 'maxNotional': '3000000.0', 'positionSide': 'BOTH', 'positionAmt': '0', 'notional': '0', 'isolatedWallet': '0', 'updateTime': '0', 'bidNotional': '0', 'askNotional': '0'}, {'symbol': 'AGIXUSDT', 'initialMargin': '0', 'maintMargin': '0', 'unrealizedProfit': '0.00000000', 'positionInitialMargin': '0', 'openOrderInitialMargin': '0', 'leverage': '20', 'isolated': False, 'entryPrice': '0.0', 'maxNotional': '25000', 'positionSide': 'BOTH', 'positionAmt': '0', 'notional': '0', 'isolatedWallet': '0', 'updateTime': '0', 'bidNotional': '0', 'askNotional': '0'}, {'symbol': 'IOSTUSDT', 'initialMargin': '0', 'maintMargin': '0', 'unrealizedProfit': '0.00000000', 'positionInitialMargin': '0', 'openOrderInitialMargin': '0', 'leverage': '1', 'isolated': False, 'entryPrice': '0.0', 'maxNotional': '3000000.0', 'positionSide': 'BOTH', 'positionAmt': '0', 'notional': '0', 'isolatedWallet': '0', 'updateTime': '0', 'bidNotional': '0', 'askNotional': '0'}, {'symbol': 'HBARUSDT', 'initialMargin': '198.19167216', 'maintMargin': '1.98191672', 'unrealizedProfit': '-1.76739440', 'positionInitialMargin': '198.19167216', 'openOrderInitialMargin': '0', 'leverage': '1', 'isolated': False, 'entryPrice': '0.0748349887725', 'maxNotional': '5000000.0', 'positionSide': 'BOTH', 'positionAmt': '2672', 'notional': '198.19167216', 'isolatedWallet': '0', 'updateTime': '1677455484497', 'bidNotional': '0', 'askNotional': '0'}, {'symbol': 'ZECUSDT', 'initialMargin': '0', 'maintMargin': '0', 'unrealizedProfit': '0.00000000', 'positionInitialMargin': '0', 'openOrderInitialMargin': '0', 'leverage': '1', 'isolated': False, 'entryPrice': '0.0', 'maxNotional': '5000000.0', 'positionSide': 'BOTH', 'positionAmt': '0.000', 'notional': '0', 'isolatedWallet': '0', 'updateTime': '0', 'bidNotional': '0', 'askNotional': '0'}, {'symbol': 'GALAUSDT', 'initialMargin': '0', 'maintMargin': '0', 'unrealizedProfit': '0.00000000', 'positionInitialMargin': '0', 'openOrderInitialMargin': '0', 'leverage': '1', 'isolated': False, 'entryPrice': '0.0', 'maxNotional': '1.0E7', 'positionSide': 'BOTH', 'positionAmt': '0', 'notional': '0', 'isolatedWallet': '0', 'updateTime': '0', 'bidNotional': '0', 'askNotional': '0'}, {'symbol': 'GTCUSDT', 'initialMargin': '0', 'maintMargin': '0', 'unrealizedProfit': '0.00000000', 'positionInitialMargin': '0', 'openOrderInitialMargin': '0', 'leverage': '1', 'isolated': False, 'entryPrice': '0.0', 'maxNotional': '3000000.0', 'positionSide': 'BOTH', 'positionAmt': '0.0', 'notional': '0', 'isolatedWallet': '0', 'updateTime': '0', 'bidNotional': '0', 'askNotional': '0'}, {'symbol': 'ALGOUSDT', 'initialMargin': '0', 'maintMargin': '0', 'unrealizedProfit': '0.00000000', 'positionInitialMargin': '0', 'openOrderInitialMargin': '0', 'leverage': '1', 'isolated': False, 'entryPrice': '0.0', 'maxNotional': '5000000.0', 'positionSide': 'BOTH', 'positionAmt': '0.0', 'notional': '0', 'isolatedWallet': '0', 'updateTime': '0', 'bidNotional': '0', 'askNotional': '0'}, {'symbol': 'LRCUSDT', 'initialMargin': '0', 'maintMargin': '0', 'unrealizedProfit': '0.00000000', 'positionInitialMargin': '0', 'openOrderInitialMargin': '0', 'leverage': '1', 'isolated': False, 'entryPrice': '0.0', 'maxNotional': '5000000.0', 'positionSide': 'BOTH', 'positionAmt': '0', 'notional': '0', 'isolatedWallet': '0', 'updateTime': '0', 'bidNotional': '0', 'askNotional': '0'}, {'symbol': 'AGIXBUSD', 'initialMargin': '0', 'maintMargin': '0', 'unrealizedProfit': '0.00000000', 'positionInitialMargin': '0', 'openOrderInitialMargin': '0', 'leverage': '20', 'isolated': False, 'entryPrice': '0.0', 'maxNotional': '0', 'positionSide': 'BOTH', 'positionAmt': '0', 'notional': '0', 'isolatedWallet': '0', 'updateTime': '0', 'bidNotional': '0', 'askNotional': '0'}, {'symbol': 'STGUSDT', 'initialMargin': '0', 'maintMargin': '0', 'unrealizedProfit': '0.00000000', 'positionInitialMargin': '0', 'openOrderInitialMargin': '0', 'leverage': '1', 'isolated': False, 'entryPrice': '0.0', 'maxNotional': '5000000.0', 'positionSide': 'BOTH', 'positionAmt': '0', 'notional': '0', 'isolatedWallet': '0', 'updateTime': '0', 'bidNotional': '0', 'askNotional': '0'}, {'symbol': 'STXUSDT', 'initialMargin': '0', 'maintMargin': '0', 'unrealizedProfit': '0.00000000', 'positionInitialMargin': '0', 'openOrderInitialMargin': '0', 'leverage': '20', 'isolated': False, 'entryPrice': '0.0', 'maxNotional': '5000', 'positionSide': 'BOTH', 'positionAmt': '0', 'notional': '0', 'isolatedWallet': '0', 'updateTime': '0', 'bidNotional': '0', 'askNotional': '0'}, {'symbol': 'ARPAUSDT', 'initialMargin': '0', 'maintMargin': '0', 'unrealizedProfit': '0.00000000', 'positionInitialMargin': '0', 'openOrderInitialMargin': '0', 'leverage': '1', 'isolated': False, 'entryPrice': '0.0', 'maxNotional': '3000000.0', 'positionSide': 'BOTH', 'positionAmt': '0', 'notional': '0', 'isolatedWallet': '0', 'updateTime': '0', 'bidNotional': '0', 'askNotional': '0'}, {'symbol': 'CELOUSDT', 'initialMargin': '0', 'maintMargin': '0', 'unrealizedProfit': '0.00000000', 'positionInitialMargin': '0', 'openOrderInitialMargin': '0', 'leverage': '1', 'isolated': False, 'entryPrice': '0.0', 'maxNotional': '3000000.0', 'positionSide': 'BOTH', 'positionAmt': '0.0', 'notional': '0', 'isolatedWallet': '0', 'updateTime': '0', 'bidNotional': '0', 'askNotional': '0'}, {'symbol': 'PHBBUSD', 'initialMargin': '0', 'maintMargin': '0', 'unrealizedProfit': '0.00000000', 'positionInitialMargin': '0', 'openOrderInitialMargin': '0', 'leverage': '20', 'isolated': False, 'entryPrice': '0.0', 'maxNotional': '0', 'positionSide': 'BOTH', 'positionAmt': '0', 'notional': '0', 'isolatedWallet': '0', 'updateTime': '0', 'bidNotional': '0', 'askNotional': '0'}, {'symbol': 'QNTUSDT', 'initialMargin': '0', 'maintMargin': '0', 'unrealizedProfit': '0.00000000', 'positionInitialMargin': '0', 'openOrderInitialMargin': '0', 'leverage': '20', 'isolated': False, 'entryPrice': '0.0', 'maxNotional': '5000', 'positionSide': 'BOTH', 'positionAmt': '0.0', 'notional': '0', 'isolatedWallet': '0', 'updateTime': '0', 'bidNotional': '0', 'askNotional': '0'}, {'symbol': '1INCHUSDT', 'initialMargin': '0', 'maintMargin': '0', 'unrealizedProfit': '0.00000000', 'positionInitialMargin': '0', 'openOrderInitialMargin': '0', 'leverage': '1', 'isolated': False, 'entryPrice': '0.0', 'maxNotional': '1.0E7', 'positionSide': 'BOTH', 'positionAmt': '0', 'notional': '0', 'isolatedWallet': '0', 'updateTime': '0', 'bidNotional': '0', 'askNotional': '0'}, {'symbol': 'TUSDT', 'initialMargin': '0', 'maintMargin': '0', 'unrealizedProfit': '0.00000000', 'positionInitialMargin': '0', 'openOrderInitialMargin': '0', 'leverage': '20', 'isolated': False, 'entryPrice': '0.0', 'maxNotional': '5000', 'positionSide': 'BOTH', 'positionAmt': '0', 'notional': '0', 'isolatedWallet': '0', 'updateTime': '0', 'bidNotional': '0', 'askNotional': '0'}, {'symbol': 'LINAUSDT', 'initialMargin': '0', 'maintMargin': '0', 'unrealizedProfit': '0.00000000', 'positionInitialMargin': '0', 'openOrderInitialMargin': '0', 'leverage': '1', 'isolated': False, 'entryPrice': '0.0', 'maxNotional': '3000000.0', 'positionSide': 'BOTH', 'positionAmt': '0', 'notional': '0', 'isolatedWallet': '0', 'updateTime': '0', 'bidNotional': '0', 'askNotional': '0'}, {'symbol': 'ETHUSDT_230331', 'initialMargin': '0', 'maintMargin': '0', 'unrealizedProfit': '0.00000000', 'positionInitialMargin': '0', 'openOrderInitialMargin': '0', 'leverage': '20', 'isolated': False, 'entryPrice': '0.0', 'maxNotional': '375000', 'positionSide': 'BOTH', 'positionAmt': '0.000', 'notional': '0', 'isolatedWallet': '0', 'updateTime': '0', 'bidNotional': '0', 'askNotional': '0'}, {'symbol': 'ARUSDT', 'initialMargin': '206.36704081', 'maintMargin': '2.06367040', 'unrealizedProfit': '6.92104081', 'positionInitialMargin': '206.36704081', 'openOrderInitialMargin': '0', 'leverage': '1', 'isolated': False, 'entryPrice': '10.228', 'maxNotional': '5000000.0', 'positionSide': 'BOTH', 'positionAmt': '19.5', 'notional': '206.36704081', 'isolatedWallet': '0', 'updateTime': '1677455500858', 'bidNotional': '0', 'askNotional': '0'}, {'symbol': 'FILUSDT', 'initialMargin': '0', 'maintMargin': '0', 'unrealizedProfit': '0.00000000', 'positionInitialMargin': '0', 'openOrderInitialMargin': '0', 'leverage': '1', 'isolated': False, 'entryPrice': '0.0', 'maxNotional': '3.0E7', 'positionSide': 'BOTH', 'positionAmt': '0.0', 'notional': '0', 'isolatedWallet': '0', 'updateTime': '0', 'bidNotional': '0', 'askNotional': '0'}, {'symbol': 'SOLUSDT', 'initialMargin': '0', 'maintMargin': '0', 'unrealizedProfit': '0.00000000', 'positionInitialMargin': '0', 'openOrderInitialMargin': '0', 'leverage': '1', 'isolated': False, 'entryPrice': '0.0', 'maxNotional': '2.0E7', 'positionSide': 'BOTH', 'positionAmt': '0', 'notional': '0', 'isolatedWallet': '0', 'updateTime': '1663080316133', 'bidNotional': '0', 'askNotional': '0'}, {'symbol': 'BLZUSDT', 'initialMargin': '0', 'maintMargin': '0', 'unrealizedProfit': '0.00000000', 'positionInitialMargin': '0', 'openOrderInitialMargin': '0', 'leverage': '1', 'isolated': False, 'entryPrice': '0.0', 'maxNotional': '2000000.0', 'positionSide': 'BOTH', 'positionAmt': '0', 'notional': '0', 'isolatedWallet': '0', 'updateTime': '0', 'bidNotional': '0', 'askNotional': '0'}, {'symbol': 'GMTUSDT', 'initialMargin': '0', 'maintMargin': '0', 'unrealizedProfit': '0.00000000', 'positionInitialMargin': '0', 'openOrderInitialMargin': '0', 'leverage': '1', 'isolated': False, 'entryPrice': '0.0', 'maxNotional': '3.0E7', 'positionSide': 'BOTH', 'positionAmt': '0', 'notional': '0', 'isolatedWallet': '0', 'updateTime': '0', 'bidNotional': '0', 'askNotional': '0'}, {'symbol': 'APTBUSD', 'initialMargin': '0', 'maintMargin': '0', 'unrealizedProfit': '0.00000000', 'positionInitialMargin': '0', 'openOrderInitialMargin': '0', 'leverage': '20', 'isolated': False, 'entryPrice': '0.0', 'maxNotional': '5000', 'positionSide': 'BOTH', 'positionAmt': '0.0', 'notional': '0', 'isolatedWallet': '0', 'updateTime': '0', 'bidNotional': '0', 'askNotional': '0'}, {'symbol': 'GMXUSDT', 'initialMargin': '0', 'maintMargin': '0', 'unrealizedProfit': '0.00000000', 'positionInitialMargin': '0', 'openOrderInitialMargin': '0', 'leverage': '20', 'isolated': False, 'entryPrice': '0.0', 'maxNotional': '5000', 'positionSide': 'BOTH', 'positionAmt': '0.00', 'notional': '0', 'isolatedWallet': '0', 'updateTime': '0', 'bidNotional': '0', 'askNotional': '0'}, {'symbol': 'LDOBUSD', 'initialMargin': '0', 'maintMargin': '0', 'unrealizedProfit': '0.00000000', 'positionInitialMargin': '0', 'openOrderInitialMargin': '0', 'leverage': '20', 'isolated': False, 'entryPrice': '0.0', 'maxNotional': '5000', 'positionSide': 'BOTH', 'positionAmt': '0.0', 'notional': '0', 'isolatedWallet': '0', 'updateTime': '0', 'bidNotional': '0', 'askNotional': '0'}, {'symbol': 'BANDUSDT', 'initialMargin': '0', 'maintMargin': '0', 'unrealizedProfit': '0.00000000', 'positionInitialMargin': '0', 'openOrderInitialMargin': '0', 'leverage': '1', 'isolated': False, 'entryPrice': '0.0', 'maxNotional': '5000000.0', 'positionSide': 'BOTH', 'positionAmt': '0.0', 'notional': '0', 'isolatedWallet': '0', 'updateTime': '0', 'bidNotional': '0', 'askNotional': '0'}, {'symbol': 'LDOUSDT', 'initialMargin': '0', 'maintMargin': '0', 'unrealizedProfit': '0.00000000', 'positionInitialMargin': '0', 'openOrderInitialMargin': '0', 'leverage': '1', 'isolated': False, 'entryPrice': '0.0', 'maxNotional': '2.0E7', 'positionSide': 'BOTH', 'positionAmt': '0', 'notional': '0', 'isolatedWallet': '0', 'updateTime': '0', 'bidNotional': '0', 'askNotional': '0'}, {'symbol': 'XRPBUSD', 'initialMargin': '0', 'maintMargin': '0', 'unrealizedProfit': '0.00000000', 'positionInitialMargin': '0', 'openOrderInitialMargin': '0', 'leverage': '20', 'isolated': False, 'entryPrice': '0.0', 'maxNotional': '100000', 'positionSide': 'BOTH', 'positionAmt': '0.0', 'notional': '0', 'isolatedWallet': '0', 'updateTime': '0', 'bidNotional': '0', 'askNotional': '0'}, {'symbol': 'XRPUSDT', 'initialMargin': '0', 'maintMargin': '0', 'unrealizedProfit': '0.00000000', 'positionInitialMargin': '0', 'openOrderInitialMargin': '0', 'leverage': '1', 'isolated': False, 'entryPrice': '0.0', 'maxNotional': '5.0E7', 'positionSide': 'BOTH', 'positionAmt': '0.0', 'notional': '0', 'isolatedWallet': '0', 'updateTime': '1665586307667', 'bidNotional': '0', 'askNotional': '0'}, {'symbol': 'FTTUSDT', 'initialMargin': '0', 'maintMargin': '0', 'unrealizedProfit': '0.00000000', 'positionInitialMargin': '0', 'openOrderInitialMargin': '0', 'leverage': '1', 'isolated': False, 'entryPrice': '0.0', 'maxNotional': '1500000.0', 'positionSide': 'BOTH', 'positionAmt': '0.0', 'notional': '0', 'isolatedWallet': '0', 'updateTime': '0', 'bidNotional': '0', 'askNotional': '0'}, {'symbol': 'CRVUSDT', 'initialMargin': '0', 'maintMargin': '0', 'unrealizedProfit': '0.00000000', 'positionInitialMargin': '0', 'openOrderInitialMargin': '0', 'leverage': '1', 'isolated': False, 'entryPrice': '0.0', 'maxNotional': '5000000.0', 'positionSide': 'BOTH', 'positionAmt': '0.0', 'notional': '0', 'isolatedWallet': '0', 'updateTime': '0', 'bidNotional': '0', 'askNotional': '0'}, {'symbol': 'BELUSDT', 'initialMargin': '0', 'maintMargin': '0', 'unrealizedProfit': '0.00000000', 'positionInitialMargin': '0', 'openOrderInitialMargin': '0', 'leverage': '1', 'isolated': False, 'entryPrice': '0.0', 'maxNotional': '2000000.0', 'positionSide': 'BOTH', 'positionAmt': '0', 'notional': '0', 'isolatedWallet': '0', 'updateTime': '0', 'bidNotional': '0', 'askNotional': '0'}, {'symbol': 'DOTUSDT', 'initialMargin': '0', 'maintMargin': '0', 'unrealizedProfit': '0.00000000', 'positionInitialMargin': '0', 'openOrderInitialMargin': '0', 'leverage': '1', 'isolated': False, 'entryPrice': '0.0', 'maxNotional': '1.0E8', 'positionSide': 'BOTH', 'positionAmt': '0.0', 'notional': '0', 'isolatedWallet': '0', 'updateTime': '0', 'bidNotional': '0', 'askNotional': '0'}, {'symbol': 'GMTBUSD', 'initialMargin': '0', 'maintMargin': '0', 'unrealizedProfit': '0.00000000', 'positionInitialMargin': '0', 'openOrderInitialMargin': '0', 'leverage': '20', 'isolated': False, 'entryPrice': '0.0', 'maxNotional': '5000', 'positionSide': 'BOTH', 'positionAmt': '0.0', 'notional': '0', 'isolatedWallet': '0', 'updateTime': '0', 'bidNotional': '0', 'askNotional': '0'}, {'symbol': 'ONEUSDT', 'initialMargin': '0', 'maintMargin': '0', 'unrealizedProfit': '0.00000000', 'positionInitialMargin': '0', 'openOrderInitialMargin': '0', 'leverage': '1', 'isolated': False, 'entryPrice': '0.0', 'maxNotional': '5000000.0', 'positionSide': 'BOTH', 'positionAmt': '0', 'notional': '0', 'isolatedWallet': '0', 'updateTime': '0', 'bidNotional': '0', 'askNotional': '0'}, {'symbol': 'APTUSDT', 'initialMargin': '0', 'maintMargin': '0', 'unrealizedProfit': '0.00000000', 'positionInitialMargin': '0', 'openOrderInitialMargin': '0', 'leverage': '20', 'isolated': False, 'entryPrice': '0.0', 'maxNotional': '300000', 'positionSide': 'BOTH', 'positionAmt': '0.0', 'notional': '0', 'isolatedWallet': '0', 'updateTime': '0', 'bidNotional': '0', 'askNotional': '0'}, {'symbol': 'ANKRUSDT', 'initialMargin': '0', 'maintMargin': '0', 'unrealizedProfit': '0.00000000', 'positionInitialMargin': '0', 'openOrderInitialMargin': '0', 'leverage': '1', 'isolated': False, 'entryPrice': '0.0', 'maxNotional': '1.0E7', 'positionSide': 'BOTH', 'positionAmt': '0', 'notional': '0', 'isolatedWallet': '0', 'updateTime': '0', 'bidNotional': '0', 'askNotional': '0'}, {'symbol': 'RAYUSDT', 'initialMargin': '0', 'maintMargin': '0', 'unrealizedProfit': '0.00000000', 'positionInitialMargin': '0', 'openOrderInitialMargin': '0', 'leverage': '1', 'isolated': False, 'entryPrice': '0.0', 'maxNotional': '5000000.0', 'positionSide': 'BOTH', 'positionAmt': '0.0', 'notional': '0', 'isolatedWallet': '0', 'updateTime': '0', 'bidNotional': '0', 'askNotional': '0'}, {'symbol': 'API3USDT', 'initialMargin': '0', 'maintMargin': '0', 'unrealizedProfit': '0.00000000', 'positionInitialMargin': '0', 'openOrderInitialMargin': '0', 'leverage': '1', 'isolated': False, 'entryPrice': '0.0', 'maxNotional': '3000000.0', 'positionSide': 'BOTH', 'positionAmt': '0.0', 'notional': '0', 'isolatedWallet': '0', 'updateTime': '0', 'bidNotional': '0', 'askNotional': '0'}, {'symbol': 'CVCUSDT', 'initialMargin': '0', 'maintMargin': '0', 'unrealizedProfit': '0.00000000', 'positionInitialMargin': '0', 'openOrderInitialMargin': '0', 'leverage': '1', 'isolated': False, 'entryPrice': '0.0', 'maxNotional': '2000000.0', 'positionSide': 'BOTH', 'positionAmt': '0', 'notional': '0', 'isolatedWallet': '0', 'updateTime': '0', 'bidNotional': '0', 'askNotional': '0'}, {'symbol': 'FTMBUSD', 'initialMargin': '0', 'maintMargin': '0', 'unrealizedProfit': '0.00000000', 'positionInitialMargin': '0', 'openOrderInitialMargin': '0', 'leverage': '20', 'isolated': False, 'entryPrice': '0.0', 'maxNotional': '5000', 'positionSide': 'BOTH', 'positionAmt': '0', 'notional': '0', 'isolatedWallet': '0', 'updateTime': '0', 'bidNotional': '0', 'askNotional': '0'}, {'symbol': 'LINKBUSD', 'initialMargin': '0', 'maintMargin': '0', 'unrealizedProfit': '0.00000000', 'positionInitialMargin': '0', 'openOrderInitialMargin': '0', 'leverage': '20', 'isolated': False, 'entryPrice': '0.0', 'maxNotional': '5000', 'positionSide': 'BOTH', 'positionAmt': '0.0', 'notional': '0', 'isolatedWallet': '0', 'updateTime': '0', 'bidNotional': '0', 'askNotional': '0'}, {'symbol': 'SANDBUSD', 'initialMargin': '0', 'maintMargin': '0', 'unrealizedProfit': '0.00000000', 'positionInitialMargin': '0', 'openOrderInitialMargin': '0', 'leverage': '20', 'isolated': False, 'entryPrice': '0.0', 'maxNotional': '5000', 'positionSide': 'BOTH', 'positionAmt': '0.0', 'notional': '0', 'isolatedWallet': '0', 'updateTime': '0', 'bidNotional': '0', 'askNotional': '0'}, {'symbol': 'ASTRUSDT', 'initialMargin': '198.78703688', 'maintMargin': '3.97574073', 'unrealizedProfit': '-1.23074312', 'positionInitialMargin': '198.78703688', 'openOrderInitialMargin': '0', 'leverage': '1', 'isolated': False, 'entryPrice': '0.08174', 'maxNotional': '5000000.0', 'positionSide': 'BOTH', 'positionAmt': '2447', 'notional': '198.78703688', 'isolatedWallet': '0', 'updateTime': '1677455525551', 'bidNotional': '0', 'askNotional': '0'}, {'symbol': 'HOTUSDT', 'initialMargin': '0', 'maintMargin': '0', 'unrealizedProfit': '0.00000000', 'positionInitialMargin': '0', 'openOrderInitialMargin': '0', 'leverage': '1', 'isolated': False, 'entryPrice': '0.0', 'maxNotional': '5000000.0', 'positionSide': 'BOTH', 'positionAmt': '0', 'notional': '0', 'isolatedWallet': '0', 'updateTime': '1663539828774', 'bidNotional': '0', 'askNotional': '0'}, {'symbol': 'QTUMUSDT', 'initialMargin': '0', 'maintMargin': '0', 'unrealizedProfit': '0.00000000', 'positionInitialMargin': '0', 'openOrderInitialMargin': '0', 'leverage': '1', 'isolated': False, 'entryPrice': '0.0', 'maxNotional': '5000000.0', 'positionSide': 'BOTH', 'positionAmt': '0.0', 'notional': '0', 'isolatedWallet': '0', 'updateTime': '1676443920583', 'bidNotional': '0', 'askNotional': '0'}, {'symbol': 'IOTAUSDT', 'initialMargin': '0', 'maintMargin': '0', 'unrealizedProfit': '0.00000000', 'positionInitialMargin': '0', 'openOrderInitialMargin': '0', 'leverage': '1', 'isolated': False, 'entryPrice': '0.0', 'maxNotional': '5000000.0', 'positionSide': 'BOTH', 'positionAmt': '0.0', 'notional': '0', 'isolatedWallet': '0', 'updateTime': '0', 'bidNotional': '0', 'askNotional': '0'}, {'symbol': 'BTCBUSD', 'initialMargin': '0', 'maintMargin': '0', 'unrealizedProfit': '0.00000000', 'positionInitialMargin': '0', 'openOrderInitialMargin': '0', 'leverage': '20', 'isolated': False, 'entryPrice': '0.0', 'maxNotional': '7500000', 'positionSide': 'BOTH', 'positionAmt': '0.000', 'notional': '0', 'isolatedWallet': '0', 'updateTime': '0', 'bidNotional': '0', 'askNotional': '0'}, {'symbol': 'ADAUSDT', 'initialMargin': '0', 'maintMargin': '0', 'unrealizedProfit': '0.00000000', 'positionInitialMargin': '0', 'openOrderInitialMargin': '0', 'leverage': '1', 'isolated': False, 'entryPrice': '0.0', 'maxNotional': '5.0E7', 'positionSide': 'BOTH', 'positionAmt': '0', 'notional': '0', 'isolatedWallet': '0', 'updateTime': '0', 'bidNotional': '0', 'askNotional': '0'}, {'symbol': 'LITUSDT', 'initialMargin': '0', 'maintMargin': '0', 'unrealizedProfit': '0.00000000', 'positionInitialMargin': '0', 'openOrderInitialMargin': '0', 'leverage': '1', 'isolated': False, 'entryPrice': '0.0', 'maxNotional': '5000000.0', 'positionSide': 'BOTH', 'positionAmt': '0.0', 'notional': '0', 'isolatedWallet': '0', 'updateTime': '0', 'bidNotional': '0', 'askNotional': '0'}, {'symbol': 'UNIBUSD', 'initialMargin': '0', 'maintMargin': '0', 'unrealizedProfit': '0.00000000', 'positionInitialMargin': '0', 'openOrderInitialMargin': '0', 'leverage': '20', 'isolated': False, 'entryPrice': '0.0', 'maxNotional': '5000', 'positionSide': 'BOTH', 'positionAmt': '0.0', 'notional': '0', 'isolatedWallet': '0', 'updateTime': '0', 'bidNotional': '0', 'askNotional': '0'}, {'symbol': 'YFIUSDT', 'initialMargin': '0', 'maintMargin': '0', 'unrealizedProfit': '0.00000000', 'positionInitialMargin': '0', 'openOrderInitialMargin': '0', 'leverage': '1', 'isolated': False, 'entryPrice': '0.0', 'maxNotional': '5000000.0', 'positionSide': 'BOTH', 'positionAmt': '0.000', 'notional': '0', 'isolatedWallet': '0', 'updateTime': '0', 'bidNotional': '0', 'askNotional': '0'}, {'symbol': 'FTTBUSD', 'initialMargin': '0', 'maintMargin': '0', 'unrealizedProfit': '0.00000000', 'positionInitialMargin': '0', 'openOrderInitialMargin': '0', 'leverage': '20', 'isolated': False, 'entryPrice': '0.0', 'maxNotional': '0', 'positionSide': 'BOTH', 'positionAmt': '0.0', 'notional': '0', 'isolatedWallet': '0', 'updateTime': '0', 'bidNotional': '0', 'askNotional': '0'}, {'symbol': 'ETHUSDT', 'initialMargin': '0', 'maintMargin': '0', 'unrealizedProfit': '0.00000000', 'positionInitialMargin': '0', 'openOrderInitialMargin': '0', 'leverage': '1', 'isolated': False, 'entryPrice': '0.0', 'maxNotional': '3.0E8', 'positionSide': 'BOTH', 'positionAmt': '0.000', 'notional': '0', 'isolatedWallet': '0', 'updateTime': '1676443920614', 'bidNotional': '0', 'askNotional': '0'}, {'symbol': 'ALPHAUSDT', 'initialMargin': '0', 'maintMargin': '0', 'unrealizedProfit': '0.00000000', 'positionInitialMargin': '0', 'openOrderInitialMargin': '0', 'leverage': '1', 'isolated': False, 'entryPrice': '0.0', 'maxNotional': '5000000.0', 'positionSide': 'BOTH', 'positionAmt': '0', 'notional': '0', 'isolatedWallet': '0', 'updateTime': '0', 'bidNotional': '0', 'askNotional': '0'}, {'symbol': 'WOOUSDT', 'initialMargin': '0', 'maintMargin': '0', 'unrealizedProfit': '0.00000000', 'positionInitialMargin': '0', 'openOrderInitialMargin': '0', 'leverage': '1', 'isolated': False, 'entryPrice': '0.0', 'maxNotional': '5000000.0', 'positionSide': 'BOTH', 'positionAmt': '0', 'notional': '0', 'isolatedWallet': '0', 'updateTime': '0', 'bidNotional': '0', 'askNotional': '0'}, {'symbol': 'SFPUSDT', 'initialMargin': '0', 'maintMargin': '0', 'unrealizedProfit': '0.00000000', 'positionInitialMargin': '0', 'openOrderInitialMargin': '0', 'leverage': '1', 'isolated': False, 'entryPrice': '0.0', 'maxNotional': '8000000.0', 'positionSide': 'BOTH', 'positionAmt': '0', 'notional': '0', 'isolatedWallet': '0', 'updateTime': '0', 'bidNotional': '0', 'askNotional': '0'}, {'symbol': 'RLCUSDT', 'initialMargin': '0', 'maintMargin': '0', 'unrealizedProfit': '0.00000000', 'positionInitialMargin': '0', 'openOrderInitialMargin': '0', 'leverage': '1', 'isolated': False, 'entryPrice': '0.0', 'maxNotional': '3000000.0', 'positionSide': 'BOTH', 'positionAmt': '0.0', 'notional': '0', 'isolatedWallet': '0', 'updateTime': '1667955883977', 'bidNotional': '0', 'askNotional': '0'}, {'symbol': 'BTCSTUSDT', 'initialMargin': '0', 'maintMargin': '0', 'unrealizedProfit': '0.00000000', 'positionInitialMargin': '0', 'openOrderInitialMargin': '0', 'leverage': '20', 'isolated': False, 'entryPrice': '0.0', 'maxNotional': '25000', 'positionSide': 'BOTH', 'positionAmt': '0.0', 'notional': '0', 'isolatedWallet': '0', 'updateTime': '0', 'bidNotional': '0', 'askNotional': '0'}, {'symbol': '1000XECUSDT', 'initialMargin': '0', 'maintMargin': '0', 'unrealizedProfit': '0.00000000', 'positionInitialMargin': '0', 'openOrderInitialMargin': '0', 'leverage': '1', 'isolated': False, 'entryPrice': '0.0', 'maxNotional': '3000000.0', 'positionSide': 'BOTH', 'positionAmt': '0', 'notional': '0', 'isolatedWallet': '0', 'updateTime': '0', 'bidNotional': '0', 'askNotional': '0'}, {'symbol': 'FXSUSDT', 'initialMargin': '0', 'maintMargin': '0', 'unrealizedProfit': '0.00000000', 'positionInitialMargin': '0', 'openOrderInitialMargin': '0', 'leverage': '20', 'isolated': False, 'entryPrice': '0.0', 'maxNotional': '5000', 'positionSide': 'BOTH', 'positionAmt': '0.0', 'notional': '0', 'isolatedWallet': '0', 'updateTime': '0', 'bidNotional': '0', 'askNotional': '0'}, {'symbol': 'CFXUSDT', 'initialMargin': '0', 'maintMargin': '0', 'unrealizedProfit': '0.00000000', 'positionInitialMargin': '0', 'openOrderInitialMargin': '0', 'leverage': '20', 'isolated': False, 'entryPrice': '0.0', 'maxNotional': '300000', 'positionSide': 'BOTH', 'positionAmt': '0', 'notional': '0', 'isolatedWallet': '0', 'updateTime': '0', 'bidNotional': '0', 'askNotional': '0'}, {'symbol': 'AUDIOUSDT', 'initialMargin': '0', 'maintMargin': '0', 'unrealizedProfit': '0.00000000', 'positionInitialMargin': '0', 'openOrderInitialMargin': '0', 'leverage': '1', 'isolated': False, 'entryPrice': '0.0', 'maxNotional': '3000000.0', 'positionSide': 'BOTH', 'positionAmt': '0', 'notional': '0', 'isolatedWallet': '0', 'updateTime': '0', 'bidNotional': '0', 'askNotional': '0'}, {'symbol': 'NEOUSDT', 'initialMargin': '0', 'maintMargin': '0', 'unrealizedProfit': '0.00000000', 'positionInitialMargin': '0', 'openOrderInitialMargin': '0', 'leverage': '1', 'isolated': False, 'entryPrice': '0.0', 'maxNotional': '5000000.0', 'positionSide': 'BOTH', 'positionAmt': '0.00', 'notional': '0', 'isolatedWallet': '0', 'updateTime': '1677179153496', 'bidNotional': '0', 'askNotional': '0'}, {'symbol': 'UNFIUSDT', 'initialMargin': '0', 'maintMargin': '0', 'unrealizedProfit': '0.00000000', 'positionInitialMargin': '0', 'openOrderInitialMargin': '0', 'leverage': '1', 'isolated': False, 'entryPrice': '0.0', 'maxNotional': '3000000.0', 'positionSide': 'BOTH', 'positionAmt': '0.0', 'notional': '0', 'isolatedWallet': '0', 'updateTime': '0', 'bidNotional': '0', 'askNotional': '0'}, {'symbol': 'SANDUSDT', 'initialMargin': '0', 'maintMargin': '0', 'unrealizedProfit': '0.00000000', 'positionInitialMargin': '0', 'openOrderInitialMargin': '0', 'leverage': '1', 'isolated': False, 'entryPrice': '0.0', 'maxNotional': '2.0E7', 'positionSide': 'BOTH', 'positionAmt': '0', 'notional': '0', 'isolatedWallet': '0', 'updateTime': '0', 'bidNotional': '0', 'askNotional': '0'}, {'symbol': 'CTKUSDT', 'initialMargin': '0', 'maintMargin': '0', 'unrealizedProfit': '0.00000000', 'positionInitialMargin': '0', 'openOrderInitialMargin': '0', 'leverage': '1', 'isolated': False, 'entryPrice': '0.0', 'maxNotional': '3000000.0', 'positionSide': 'BOTH', 'positionAmt': '0', 'notional': '0', 'isolatedWallet': '0', 'updateTime': '0', 'bidNotional': '0', 'askNotional': '0'}, {'symbol': 'LINKUSDT', 'initialMargin': '0', 'maintMargin': '0', 'unrealizedProfit': '0.00000000', 'positionInitialMargin': '0', 'openOrderInitialMargin': '0', 'leverage': '1', 'isolated': False, 'entryPrice': '0.0', 'maxNotional': '5.0E7', 'positionSide': 'BOTH', 'positionAmt': '0.00', 'notional': '0', 'isolatedWallet': '0', 'updateTime': '0', 'bidNotional': '0', 'askNotional': '0'}, {'symbol': 'MINAUSDT', 'initialMargin': '0', 'maintMargin': '0', 'unrealizedProfit': '0.00000000', 'positionInitialMargin': '0', 'openOrderInitialMargin': '0', 'leverage': '20', 'isolated': False, 'entryPrice': '0.0', 'maxNotional': '5000', 'positionSide': 'BOTH', 'positionAmt': '0', 'notional': '0', 'isolatedWallet': '0', 'updateTime': '0', 'bidNotional': '0', 'askNotional': '0'}, {'symbol': 'CELRUSDT', 'initialMargin': '0', 'maintMargin': '0', 'unrealizedProfit': '0.00000000', 'positionInitialMargin': '0', 'openOrderInitialMargin': '0', 'leverage': '1', 'isolated': False, 'entryPrice': '0.0', 'maxNotional': '3000000.0', 'positionSide': 'BOTH', 'positionAmt': '0', 'notional': '0', 'isolatedWallet': '0', 'updateTime': '0', 'bidNotional': '0', 'askNotional': '0'}, {'symbol': 'RSRUSDT', 'initialMargin': '0', 'maintMargin': '0', 'unrealizedProfit': '0.00000000', 'positionInitialMargin': '0', 'openOrderInitialMargin': '0', 'leverage': '1', 'isolated': False, 'entryPrice': '0.0', 'maxNotional': '5000000.0', 'positionSide': 'BOTH', 'positionAmt': '0', 'notional': '0', 'isolatedWallet': '0', 'updateTime': '0', 'bidNotional': '0', 'askNotional': '0'}, {'symbol': 'ADABUSD', 'initialMargin': '0', 'maintMargin': '0', 'unrealizedProfit': '0.00000000', 'positionInitialMargin': '0', 'openOrderInitialMargin': '0', 'leverage': '20', 'isolated': False, 'entryPrice': '0.0', 'maxNotional': '100000', 'positionSide': 'BOTH', 'positionAmt': '0', 'notional': '0', 'isolatedWallet': '0', 'updateTime': '0', 'bidNotional': '0', 'askNotional': '0'}, {'symbol': 'RENUSDT', 'initialMargin': '0', 'maintMargin': '0', 'unrealizedProfit': '0.00000000', 'positionInitialMargin': '0', 'openOrderInitialMargin': '0', 'leverage': '1', 'isolated': False, 'entryPrice': '0.0', 'maxNotional': '1500000.0', 'positionSide': 'BOTH', 'positionAmt': '0', 'notional': '0', 'isolatedWallet': '0', 'updateTime': '0', 'bidNotional': '0', 'askNotional': '0'}, {'symbol': 'LPTUSDT', 'initialMargin': '203.27709239', 'maintMargin': '2.03277092', 'unrealizedProfit': '3.64689245', 'positionInitialMargin': '203.27709239', 'openOrderInitialMargin': '0', 'leverage': '1', 'isolated': False, 'entryPrice': '7.767712062257', 'maxNotional': '5000000.0', 'positionSide': 'BOTH', 'positionAmt': '25.7', 'notional': '203.27709239', 'isolatedWallet': '0', 'updateTime': '1677455514119', 'bidNotional': '0', 'askNotional': '0'}, {'symbol': 'JASMYUSDT', 'initialMargin': '0', 'maintMargin': '0', 'unrealizedProfit': '0.00000000', 'positionInitialMargin': '0', 'openOrderInitialMargin': '0', 'leverage': '1', 'isolated': False, 'entryPrice': '0.0', 'maxNotional': '3000000.0', 'positionSide': 'BOTH', 'positionAmt': '0', 'notional': '0', 'isolatedWallet': '0', 'updateTime': '0', 'bidNotional': '0', 'askNotional': '0'}, {'symbol': 'PHBUSDT', 'initialMargin': '0', 'maintMargin': '0', 'unrealizedProfit': '0.00000000', 'positionInitialMargin': '0', 'openOrderInitialMargin': '0', 'leverage': '20', 'isolated': False, 'entryPrice': '0.0', 'maxNotional': '5000', 'positionSide': 'BOTH', 'positionAmt': '0', 'notional': '0', 'isolatedWallet': '0', 'updateTime': '0', 'bidNotional': '0', 'askNotional': '0'}, {'symbol': 'BTCUSDT_230331', 'initialMargin': '0', 'maintMargin': '0', 'unrealizedProfit': '0.00000000', 'positionInitialMargin': '0', 'openOrderInitialMargin': '0', 'leverage': '20', 'isolated': False, 'entryPrice': '0.0', 'maxNotional': '375000', 'positionSide': 'BOTH', 'positionAmt': '0.000', 'notional': '0', 'isolatedWallet': '0', 'updateTime': '0', 'bidNotional': '0', 'askNotional': '0'}, {'symbol': 'EGLDUSDT', 'initialMargin': '0', 'maintMargin': '0', 'unrealizedProfit': '0.00000000', 'positionInitialMargin': '0', 'openOrderInitialMargin': '0', 'leverage': '1', 'isolated': False, 'entryPrice': '0.0', 'maxNotional': '5.0E7', 'positionSide': 'BOTH', 'positionAmt': '0.0', 'notional': '0', 'isolatedWallet': '0', 'updateTime': '0', 'bidNotional': '0', 'askNotional': '0'}, {'symbol': 'LUNA2USDT', 'initialMargin': '0', 'maintMargin': '0', 'unrealizedProfit': '0.00000000', 'positionInitialMargin': '0', 'openOrderInitialMargin': '0', 'leverage': '1', 'isolated': False, 'entryPrice': '0.0', 'maxNotional': '5000000.0', 'positionSide': 'BOTH', 'positionAmt': '0', 'notional': '0', 'isolatedWallet': '0', 'updateTime': '0', 'bidNotional': '0', 'askNotional': '0'}, {'symbol': 'ONTUSDT', 'initialMargin': '0', 'maintMargin': '0', 'unrealizedProfit': '0.00000000', 'positionInitialMargin': '0', 'openOrderInitialMargin': '0', 'leverage': '1', 'isolated': False, 'entryPrice': '0.0', 'maxNotional': '5000000.0', 'positionSide': 'BOTH', 'positionAmt': '0.0', 'notional': '0', 'isolatedWallet': '0', 'updateTime': '1667955883977', 'bidNotional': '0', 'askNotional': '0'}, {'symbol': 'VETUSDT', 'initialMargin': '0', 'maintMargin': '0', 'unrealizedProfit': '0.00000000', 'positionInitialMargin': '0', 'openOrderInitialMargin': '0', 'leverage': '1', 'isolated': False, 'entryPrice': '0.0', 'maxNotional': '1.0E7', 'positionSide': 'BOTH', 'positionAmt': '0', 'notional': '0', 'isolatedWallet': '0', 'updateTime': '0', 'bidNotional': '0', 'askNotional': '0'}, {'symbol': 'IMXUSDT', 'initialMargin': '0', 'maintMargin': '0', 'unrealizedProfit': '0.00000000', 'positionInitialMargin': '0', 'openOrderInitialMargin': '0', 'leverage': '1', 'isolated': False, 'entryPrice': '0.0', 'maxNotional': '5000000.0', 'positionSide': 'BOTH', 'positionAmt': '0', 'notional': '0', 'isolatedWallet': '0', 'updateTime': '0', 'bidNotional': '0', 'askNotional': '0'}, {'symbol': 'COTIUSDT', 'initialMargin': '0', 'maintMargin': '0', 'unrealizedProfit': '0.00000000', 'positionInitialMargin': '0', 'openOrderInitialMargin': '0', 'leverage': '1', 'isolated': False, 'entryPrice': '0.0', 'maxNotional': '5000000.0', 'positionSide': 'BOTH', 'positionAmt': '0', 'notional': '0', 'isolatedWallet': '0', 'updateTime': '1663539870822', 'bidNotional': '0', 'askNotional': '0'}, {'symbol': 'CVXUSDT', 'initialMargin': '0', 'maintMargin': '0', 'unrealizedProfit': '0.00000000', 'positionInitialMargin': '0', 'openOrderInitialMargin': '0', 'leverage': '1', 'isolated': False, 'entryPrice': '0.0', 'maxNotional': '5000000.0', 'positionSide': 'BOTH', 'positionAmt': '0', 'notional': '0', 'isolatedWallet': '0', 'updateTime': '0', 'bidNotional': '0', 'askNotional': '0'}, {'symbol': 'BAKEUSDT', 'initialMargin': '0', 'maintMargin': '0', 'unrealizedProfit': '0.00000000', 'positionInitialMargin': '0', 'openOrderInitialMargin': '0', 'leverage': '1', 'isolated': False, 'entryPrice': '0.0', 'maxNotional': '3000000.0', 'positionSide': 'BOTH', 'positionAmt': '0', 'notional': '0', 'isolatedWallet': '0', 'updateTime': '0', 'bidNotional': '0', 'askNotional': '0'}, {'symbol': 'GRTUSDT', 'initialMargin': '0', 'maintMargin': '0', 'unrealizedProfit': '0.00000000', 'positionInitialMargin': '0', 'openOrderInitialMargin': '0', 'leverage': '1', 'isolated': False, 'entryPrice': '0.0', 'maxNotional': '5000000.0', 'positionSide': 'BOTH', 'positionAmt': '0', 'notional': '0', 'isolatedWallet': '0', 'updateTime': '0', 'bidNotional': '0', 'askNotional': '0'}, {'symbol': 'FLMUSDT', 'initialMargin': '0', 'maintMargin': '0', 'unrealizedProfit': '0.00000000', 'positionInitialMargin': '0', 'openOrderInitialMargin': '0', 'leverage': '1', 'isolated': False, 'entryPrice': '0.0', 'maxNotional': '3000000.0', 'positionSide': 'BOTH', 'positionAmt': '0', 'notional': '0', 'isolatedWallet': '0', 'updateTime': '0', 'bidNotional': '0', 'askNotional': '0'}, {'symbol': 'GALABUSD', 'initialMargin': '0', 'maintMargin': '0', 'unrealizedProfit': '0.00000000', 'positionInitialMargin': '0', 'openOrderInitialMargin': '0', 'leverage': '20', 'isolated': False, 'entryPrice': '0.0', 'maxNotional': '5000', 'positionSide': 'BOTH', 'positionAmt': '0', 'notional': '0', 'isolatedWallet': '0', 'updateTime': '0', 'bidNotional': '0', 'askNotional': '0'}, {'symbol': 'MASKUSDT', 'initialMargin': '0', 'maintMargin': '0', 'unrealizedProfit': '0.00000000', 'positionInitialMargin': '0', 'openOrderInitialMargin': '0', 'leverage': '1', 'isolated': False, 'entryPrice': '0.0', 'maxNotional': '8000000.0', 'positionSide': 'BOTH', 'positionAmt': '0', 'notional': '0', 'isolatedWallet': '0', 'updateTime': '0', 'bidNotional': '0', 'askNotional': '0'}, {'symbol': 'EOSUSDT', 'initialMargin': '0', 'maintMargin': '0', 'unrealizedProfit': '0.00000000', 'positionInitialMargin': '0', 'openOrderInitialMargin': '0', 'leverage': '1', 'isolated': False, 'entryPrice': '0.0', 'maxNotional': '5.0E7', 'positionSide': 'BOTH', 'positionAmt': '0.0', 'notional': '0', 'isolatedWallet': '0', 'updateTime': '1676443920614', 'bidNotional': '0', 'askNotional': '0'}, {'symbol': 'BALUSDT', 'initialMargin': '0', 'maintMargin': '0', 'unrealizedProfit': '0.00000000', 'positionInitialMargin': '0', 'openOrderInitialMargin': '0', 'leverage': '1', 'isolated': False, 'entryPrice': '0.0', 'maxNotional': '5000000.0', 'positionSide': 'BOTH', 'positionAmt': '0.0', 'notional': '0', 'isolatedWallet': '0', 'updateTime': '0', 'bidNotional': '0', 'askNotional': '0'}, {'symbol': 'COCOSUSDT', 'initialMargin': '0', 'maintMargin': '0', 'unrealizedProfit': '0.00000000', 'positionInitialMargin': '0', 'openOrderInitialMargin': '0', 'leverage': '20', 'isolated': False, 'entryPrice': '0.0', 'maxNotional': '5000', 'positionSide': 'BOTH', 'positionAmt': '0.0', 'notional': '0', 'isolatedWallet': '0', 'updateTime': '0', 'bidNotional': '0', 'askNotional': '0'}, {'symbol': 'DENTUSDT', 'initialMargin': '0', 'maintMargin': '0', 'unrealizedProfit': '0.00000000', 'positionInitialMargin': '0', 'openOrderInitialMargin': '0', 'leverage': '1', 'isolated': False, 'entryPrice': '0.0', 'maxNotional': '5000000.0', 'positionSide': 'BOTH', 'positionAmt': '0', 'notional': '0', 'isolatedWallet': '0', 'updateTime': '0', 'bidNotional': '0', 'askNotional': '0'}, {'symbol': 'SSVUSDT', 'initialMargin': '0', 'maintMargin': '0', 'unrealizedProfit': '0.00000000', 'positionInitialMargin': '0', 'openOrderInitialMargin': '0', 'leverage': '20', 'isolated': False, 'entryPrice': '0.0', 'maxNotional': '5000', 'positionSide': 'BOTH', 'positionAmt': '0.00', 'notional': '0', 'isolatedWallet': '0', 'updateTime': '0', 'bidNotional': '0', 'askNotional': '0'}, {'symbol': 'MATICBUSD', 'initialMargin': '0', 'maintMargin': '0', 'unrealizedProfit': '0.00000000', 'positionInitialMargin': '0', 'openOrderInitialMargin': '0', 'leverage': '20', 'isolated': False, 'entryPrice': '0.0', 'maxNotional': '5000', 'positionSide': 'BOTH', 'positionAmt': '0', 'notional': '0', 'isolatedWallet': '0', 'updateTime': '0', 'bidNotional': '0', 'askNotional': '0'}, {'symbol': 'C98USDT', 'initialMargin': '0', 'maintMargin': '0', 'unrealizedProfit': '0.00000000', 'positionInitialMargin': '0', 'openOrderInitialMargin': '0', 'leverage': '1', 'isolated': False, 'entryPrice': '0.0', 'maxNotional': '3000000.0', 'positionSide': 'BOTH', 'positionAmt': '0', 'notional': '0', 'isolatedWallet': '0', 'updateTime': '1667955883977', 'bidNotional': '0', 'askNotional': '0'}, {'symbol': 'ZENUSDT', 'initialMargin': '0', 'maintMargin': '0', 'unrealizedProfit': '0.00000000', 'positionInitialMargin': '0', 'openOrderInitialMargin': '0', 'leverage': '1', 'isolated': False, 'entryPrice': '0.0', 'maxNotional': '3000000.0', 'positionSide': 'BOTH', 'positionAmt': '0.0', 'notional': '0', 'isolatedWallet': '0', 'updateTime': '0', 'bidNotional': '0', 'askNotional': '0'}, {'symbol': 'NEARUSDT', 'initialMargin': '0', 'maintMargin': '0', 'unrealizedProfit': '0.00000000', 'positionInitialMargin': '0', 'openOrderInitialMargin': '0', 'leverage': '1', 'isolated': False, 'entryPrice': '0.0', 'maxNotional': '5000000.0', 'positionSide': 'BOTH', 'positionAmt': '0', 'notional': '0', 'isolatedWallet': '0', 'updateTime': '0', 'bidNotional': '0', 'askNotional': '0'}, {'symbol': 'AUCTIONBUSD', 'initialMargin': '0', 'maintMargin': '0', 'unrealizedProfit': '0.00000000', 'positionInitialMargin': '0', 'openOrderInitialMargin': '0', 'leverage': '20', 'isolated': False, 'entryPrice': '0.0', 'maxNotional': '0', 'positionSide': 'BOTH', 'positionAmt': '0.0', 'notional': '0', 'isolatedWallet': '0', 'updateTime': '0', 'bidNotional': '0', 'askNotional': '0'}, {'symbol': 'BCHUSDT', 'initialMargin': '0', 'maintMargin': '0', 'unrealizedProfit': '0.00000000', 'positionInitialMargin': '0', 'openOrderInitialMargin': '0', 'leverage': '1', 'isolated': False, 'entryPrice': '0.0', 'maxNotional': '5.0E7', 'positionSide': 'BOTH', 'positionAmt': '0.000', 'notional': '0', 'isolatedWallet': '0', 'updateTime': '0', 'bidNotional': '0', 'askNotional': '0'}, {'symbol': 'LUNA2BUSD', 'initialMargin': '0', 'maintMargin': '0', 'unrealizedProfit': '0.00000000', 'positionInitialMargin': '0', 'openOrderInitialMargin': '0', 'leverage': '20', 'isolated': False, 'entryPrice': '0.0', 'maxNotional': '5000', 'positionSide': 'BOTH', 'positionAmt': '0', 'notional': '0', 'isolatedWallet': '0', 'updateTime': '0', 'bidNotional': '0', 'askNotional': '0'}, {'symbol': 'LTCBUSD', 'initialMargin': '0', 'maintMargin': '0', 'unrealizedProfit': '0.00000000', 'positionInitialMargin': '0', 'openOrderInitialMargin': '0', 'leverage': '20', 'isolated': False, 'entryPrice': '0.0', 'maxNotional': '5000', 'positionSide': 'BOTH', 'positionAmt': '0.00', 'notional': '0', 'isolatedWallet': '0', 'updateTime': '0', 'bidNotional': '0', 'askNotional': '0'}, {'symbol': '1000SHIBUSDT', 'initialMargin': '0', 'maintMargin': '0', 'unrealizedProfit': '0.00000000', 'positionInitialMargin': '0', 'openOrderInitialMargin': '0', 'leverage': '1', 'isolated': False, 'entryPrice': '0.0', 'maxNotional': '3.0E7', 'positionSide': 'BOTH', 'positionAmt': '0', 'notional': '0', 'isolatedWallet': '0', 'updateTime': '0', 'bidNotional': '0', 'askNotional': '0'}, {'symbol': 'TLMBUSD', 'initialMargin': '0', 'maintMargin': '0', 'unrealizedProfit': '0.00000000', 'positionInitialMargin': '0', 'openOrderInitialMargin': '0', 'leverage': '20', 'isolated': False, 'entryPrice': '0.0', 'maxNotional': '5000', 'positionSide': 'BOTH', 'positionAmt': '0', 'notional': '0', 'isolatedWallet': '0', 'updateTime': '0', 'bidNotional': '0', 'askNotional': '0'}, {'symbol': 'TLMUSDT', 'initialMargin': '0', 'maintMargin': '0', 'unrealizedProfit': '0.00000000', 'positionInitialMargin': '0', 'openOrderInitialMargin': '0', 'leverage': '1', 'isolated': False, 'entryPrice': '0.0', 'maxNotional': '5000000.0', 'positionSide': 'BOTH', 'positionAmt': '0', 'notional': '0', 'isolatedWallet': '0', 'updateTime': '0', 'bidNotional': '0', 'askNotional': '0'}, {'symbol': 'ANTUSDT', 'initialMargin': '0', 'maintMargin': '0', 'unrealizedProfit': '0.00000000', 'positionInitialMargin': '0', 'openOrderInitialMargin': '0', 'leverage': '1', 'isolated': False, 'entryPrice': '0.0', 'maxNotional': '3000000.0', 'positionSide': 'BOTH', 'positionAmt': '0.0', 'notional': '0', 'isolatedWallet': '0', 'updateTime': '0', 'bidNotional': '0', 'askNotional': '0'}, {'symbol': 'ETHBUSD', 'initialMargin': '0', 'maintMargin': '0', 'unrealizedProfit': '0.00000000', 'positionInitialMargin': '0', 'openOrderInitialMargin': '0', 'leverage': '20', 'isolated': False, 'entryPrice': '0.0', 'maxNotional': '5000000', 'positionSide': 'BOTH', 'positionAmt': '0.000', 'notional': '0', 'isolatedWallet': '0', 'updateTime': '0', 'bidNotional': '0', 'askNotional': '0'}, {'symbol': 'AAVEUSDT', 'initialMargin': '0', 'maintMargin': '0', 'unrealizedProfit': '0.00000000', 'positionInitialMargin': '0', 'openOrderInitialMargin': '0', 'leverage': '1', 'isolated': False, 'entryPrice': '0.0', 'maxNotional': '5000000.0', 'positionSide': 'BOTH', 'positionAmt': '0.0', 'notional': '0', 'isolatedWallet': '0', 'updateTime': '0', 'bidNotional': '0', 'askNotional': '0'}, {'symbol': 'ICPUSDT', 'initialMargin': '0', 'maintMargin': '0', 'unrealizedProfit': '0.00000000', 'positionInitialMargin': '0', 'openOrderInitialMargin': '0', 'leverage': '20', 'isolated': False, 'entryPrice': '0.0', 'maxNotional': '5000', 'positionSide': 'BOTH', 'positionAmt': '0', 'notional': '0', 'isolatedWallet': '0', 'updateTime': '0', 'bidNotional': '0', 'askNotional': '0'}, {'symbol': '1000LUNCUSDT', 'initialMargin': '0', 'maintMargin': '0', 'unrealizedProfit': '0.00000000', 'positionInitialMargin': '0', 'openOrderInitialMargin': '0', 'leverage': '1', 'isolated': False, 'entryPrice': '0.0', 'maxNotional': '1.0E7', 'positionSide': 'BOTH', 'positionAmt': '0', 'notional': '0', 'isolatedWallet': '0', 'updateTime': '0', 'bidNotional': '0', 'askNotional': '0'}, {'symbol': 'AVAXUSDT', 'initialMargin': '0', 'maintMargin': '0', 'unrealizedProfit': '0.00000000', 'positionInitialMargin': '0', 'openOrderInitialMargin': '0', 'leverage': '1', 'isolated': False, 'entryPrice': '0.0', 'maxNotional': '5.0E7', 'positionSide': 'BOTH', 'positionAmt': '0', 'notional': '0', 'isolatedWallet': '0', 'updateTime': '0', 'bidNotional': '0', 'askNotional': '0'}, {'symbol': 'MAGICUSDT', 'initialMargin': '0', 'maintMargin': '0', 'unrealizedProfit': '0.00000000', 'positionInitialMargin': '0', 'openOrderInitialMargin': '0', 'leverage': '20', 'isolated': False, 'entryPrice': '0.0', 'maxNotional': '5000', 'positionSide': 'BOTH', 'positionAmt': '0.0', 'notional': '0', 'isolatedWallet': '0', 'updateTime': '0', 'bidNotional': '0', 'askNotional': '0'}, {'symbol': 'ROSEUSDT', 'initialMargin': '0', 'maintMargin': '0', 'unrealizedProfit': '0.00000000', 'positionInitialMargin': '0', 'openOrderInitialMargin': '0', 'leverage': '1', 'isolated': False, 'entryPrice': '0.0', 'maxNotional': '5000000.0', 'positionSide': 'BOTH', 'positionAmt': '0', 'notional': '0', 'isolatedWallet': '0', 'updateTime': '0', 'bidNotional': '0', 'askNotional': '0'}, {'symbol': 'MATICUSDT', 'initialMargin': '0', 'maintMargin': '0', 'unrealizedProfit': '0.00000000', 'positionInitialMargin': '0', 'openOrderInitialMargin': '0', 'leverage': '1', 'isolated': False, 'entryPrice': '0.0', 'maxNotional': '2.0E7', 'positionSide': 'BOTH', 'positionAmt': '0', 'notional': '0', 'isolatedWallet': '0', 'updateTime': '0', 'bidNotional': '0', 'askNotional': '0'}, {'symbol': 'MKRUSDT', 'initialMargin': '0', 'maintMargin': '0', 'unrealizedProfit': '0.00000000', 'positionInitialMargin': '0', 'openOrderInitialMargin': '0', 'leverage': '1', 'isolated': False, 'entryPrice': '0.0', 'maxNotional': '5000000.0', 'positionSide': 'BOTH', 'positionAmt': '0.000', 'notional': '0', 'isolatedWallet': '0', 'updateTime': '0', 'bidNotional': '0', 'askNotional': '0'}, {'symbol': 'PEOPLEUSDT', 'initialMargin': '0', 'maintMargin': '0', 'unrealizedProfit': '0.00000000', 'positionInitialMargin': '0', 'openOrderInitialMargin': '0', 'leverage': '1', 'isolated': False, 'entryPrice': '0.0', 'maxNotional': '3000000.0', 'positionSide': 'BOTH', 'positionAmt': '0', 'notional': '0', 'isolatedWallet': '0', 'updateTime': '0', 'bidNotional': '0', 'askNotional': '0'}, {'symbol': 'ANCBUSD', 'initialMargin': '0', 'maintMargin': '0', 'unrealizedProfit': '0.00000000', 'positionInitialMargin': '0', 'openOrderInitialMargin': '0', 'leverage': '20', 'isolated': False, 'entryPrice': '0.0', 'maxNotional': '0', 'positionSide': 'BOTH', 'positionAmt': '0', 'notional': '0', 'isolatedWallet': '0', 'updateTime': '0', 'bidNotional': '0', 'askNotional': '0'}, {'symbol': 'THETAUSDT', 'initialMargin': '0', 'maintMargin': '0', 'unrealizedProfit': '0.00000000', 'positionInitialMargin': '0', 'openOrderInitialMargin': '0', 'leverage': '1', 'isolated': False, 'entryPrice': '0.0', 'maxNotional': '3.0E7', 'positionSide': 'BOTH', 'positionAmt': '0.0', 'notional': '0', 'isolatedWallet': '0', 'updateTime': '0', 'bidNotional': '0', 'askNotional': '0'}, {'symbol': 'UNIUSDT', 'initialMargin': '0', 'maintMargin': '0', 'unrealizedProfit': '0.00000000', 'positionInitialMargin': '0', 'openOrderInitialMargin': '0', 'leverage': '1', 'isolated': False, 'entryPrice': '0.0', 'maxNotional': '2.0E7', 'positionSide': 'BOTH', 'positionAmt': '0', 'notional': '0', 'isolatedWallet': '0', 'updateTime': '0', 'bidNotional': '0', 'askNotional': '0'}, {'symbol': 'RVNUSDT', 'initialMargin': '0', 'maintMargin': '0', 'unrealizedProfit': '0.00000000', 'positionInitialMargin': '0', 'openOrderInitialMargin': '0', 'leverage': '1', 'isolated': False, 'entryPrice': '0.0', 'maxNotional': '5000000.0', 'positionSide': 'BOTH', 'positionAmt': '0', 'notional': '0', 'isolatedWallet': '0', 'updateTime': '1666550728350', 'bidNotional': '0', 'askNotional': '0'}, {'symbol': 'NKNUSDT', 'initialMargin': '0', 'maintMargin': '0', 'unrealizedProfit': '0.00000000', 'positionInitialMargin': '0', 'openOrderInitialMargin': '0', 'leverage': '1', 'isolated': False, 'entryPrice': '0.0', 'maxNotional': '3000000.0', 'positionSide': 'BOTH', 'positionAmt': '0', 'notional': '0', 'isolatedWallet': '0', 'updateTime': '0', 'bidNotional': '0', 'askNotional': '0'}, {'symbol': 'KLAYUSDT', 'initialMargin': '0', 'maintMargin': '0', 'unrealizedProfit': '0.00000000', 'positionInitialMargin': '0', 'openOrderInitialMargin': '0', 'leverage': '1', 'isolated': False, 'entryPrice': '0.0', 'maxNotional': '5000000.0', 'positionSide': 'BOTH', 'positionAmt': '0.0', 'notional': '0', 'isolatedWallet': '0', 'updateTime': '0', 'bidNotional': '0', 'askNotional': '0'}, {'symbol': 'DEFIUSDT', 'initialMargin': '0', 'maintMargin': '0', 'unrealizedProfit': '0.00000000', 'positionInitialMargin': '0', 'openOrderInitialMargin': '0', 'leverage': '1', 'isolated': False, 'entryPrice': '0.0', 'maxNotional': '3000000.0', 'positionSide': 'BOTH', 'positionAmt': '0.000', 'notional': '0', 'isolatedWallet': '0', 'updateTime': '0', 'bidNotional': '0', 'askNotional': '0'}, {'symbol': 'COMPUSDT', 'initialMargin': '0', 'maintMargin': '0', 'unrealizedProfit': '0.00000000', 'positionInitialMargin': '0', 'openOrderInitialMargin': '0', 'leverage': '1', 'isolated': False, 'entryPrice': '0.0', 'maxNotional': '5000000.0', 'positionSide': 'BOTH', 'positionAmt': '0.000', 'notional': '0', 'isolatedWallet': '0', 'updateTime': '0', 'bidNotional': '0', 'askNotional': '0'}, {'symbol': 'BTCDOMUSDT', 'initialMargin': '0', 'maintMargin': '0', 'unrealizedProfit': '0.00000000', 'positionInitialMargin': '0', 'openOrderInitialMargin': '0', 'leverage': '1', 'isolated': False, 'entryPrice': '0.0', 'maxNotional': '3000000.0', 'positionSide': 'BOTH', 'positionAmt': '0.000', 'notional': '0', 'isolatedWallet': '0', 'updateTime': '0', 'bidNotional': '0', 'askNotional': '0'}, {'symbol': 'BTCUSDT', 'initialMargin': '0', 'maintMargin': '0', 'unrealizedProfit': '0.00000000', 'positionInitialMargin': '0', 'openOrderInitialMargin': '0', 'leverage': '1', 'isolated': False, 'entryPrice': '0.0', 'maxNotional': '5.0E8', 'positionSide': 'BOTH', 'positionAmt': '0.000', 'notional': '0', 'isolatedWallet': '0', 'updateTime': '1676443920588', 'bidNotional': '0', 'askNotional': '0'}, {'symbol': 'OMGUSDT', 'initialMargin': '0', 'maintMargin': '0', 'unrealizedProfit': '0.00000000', 'positionInitialMargin': '0', 'openOrderInitialMargin': '0', 'leverage': '1', 'isolated': False, 'entryPrice': '0.0', 'maxNotional': '3000000.0', 'positionSide': 'BOTH', 'positionAmt': '0.0', 'notional': '0', 'isolatedWallet': '0', 'updateTime': '1667955883983', 'bidNotional': '0', 'askNotional': '0'}, {'symbol': 'ICXUSDT', 'initialMargin': '0', 'maintMargin': '0', 'unrealizedProfit': '0.00000000', 'positionInitialMargin': '0', 'openOrderInitialMargin': '0', 'leverage': '1', 'isolated': False, 'entryPrice': '0.0', 'maxNotional': '3000000.0', 'positionSide': 'BOTH', 'positionAmt': '0', 'notional': '0', 'isolatedWallet': '0', 'updateTime': '0', 'bidNotional': '0', 'askNotional': '0'}, {'symbol': 'ICPBUSD', 'initialMargin': '0', 'maintMargin': '0', 'unrealizedProfit': '0.00000000', 'positionInitialMargin': '0', 'openOrderInitialMargin': '0', 'leverage': '20', 'isolated': False, 'entryPrice': '0.0', 'maxNotional': '5000', 'positionSide': 'BOTH', 'positionAmt': '0.0', 'notional': '0', 'isolatedWallet': '0', 'updateTime': '0', 'bidNotional': '0', 'askNotional': '0'}, {'symbol': 'FETUSDT', 'initialMargin': '0', 'maintMargin': '0', 'unrealizedProfit': '0.00000000', 'positionInitialMargin': '0', 'openOrderInitialMargin': '0', 'leverage': '20', 'isolated': False, 'entryPrice': '0.0', 'maxNotional': '25000', 'positionSide': 'BOTH', 'positionAmt': '0', 'notional': '0', 'isolatedWallet': '0', 'updateTime': '0', 'bidNotional': '0', 'askNotional': '0'}, {'symbol': 'FTMUSDT', 'initialMargin': '0', 'maintMargin': '0', 'unrealizedProfit': '0.00000000', 'positionInitialMargin': '0', 'openOrderInitialMargin': '0', 'leverage': '1', 'isolated': False, 'entryPrice': '0.0', 'maxNotional': '1.0E7', 'positionSide': 'BOTH', 'positionAmt': '0', 'notional': '0', 'isolatedWallet': '0', 'updateTime': '0', 'bidNotional': '0', 'askNotional': '0'}, {'symbol': '1000SHIBBUSD', 'initialMargin': '0', 'maintMargin': '0', 'unrealizedProfit': '0.00000000', 'positionInitialMargin': '0', 'openOrderInitialMargin': '0', 'leverage': '20', 'isolated': False, 'entryPrice': '0.0', 'maxNotional': '5000', 'positionSide': 'BOTH', 'positionAmt': '0', 'notional': '0', 'isolatedWallet': '0', 'updateTime': '0', 'bidNotional': '0', 'askNotional': '0'}, {'symbol': 'AMBBUSD', 'initialMargin': '0', 'maintMargin': '0', 'unrealizedProfit': '0.00000000', 'positionInitialMargin': '0', 'openOrderInitialMargin': '0', 'leverage': '20', 'isolated': False, 'entryPrice': '0.0', 'maxNotional': '0', 'positionSide': 'BOTH', 'positionAmt': '0', 'notional': '0', 'isolatedWallet': '0', 'updateTime': '0', 'bidNotional': '0', 'askNotional': '0'}, {'symbol': 'DOGEBUSD', 'initialMargin': '0', 'maintMargin': '0', 'unrealizedProfit': '0.00000000', 'positionInitialMargin': '0', 'openOrderInitialMargin': '0', 'leverage': '20', 'isolated': False, 'entryPrice': '0.0', 'maxNotional': '100000', 'positionSide': 'BOTH', 'positionAmt': '0', 'notional': '0', 'isolatedWallet': '0', 'updateTime': '0', 'bidNotional': '0', 'askNotional': '0'}, {'symbol': 'SXPUSDT', 'initialMargin': '0', 'maintMargin': '0', 'unrealizedProfit': '0.00000000', 'positionInitialMargin': '0', 'openOrderInitialMargin': '0', 'leverage': '1', 'isolated': False, 'entryPrice': '0.0', 'maxNotional': '5000000.0', 'positionSide': 'BOTH', 'positionAmt': '0.0', 'notional': '0', 'isolatedWallet': '0', 'updateTime': '0', 'bidNotional': '0', 'askNotional': '0'}, {'symbol': 'XEMUSDT', 'initialMargin': '0', 'maintMargin': '0', 'unrealizedProfit': '0.00000000', 'positionInitialMargin': '0', 'openOrderInitialMargin': '0', 'leverage': '1', 'isolated': False, 'entryPrice': '0.0', 'maxNotional': '3000000.0', 'positionSide': 'BOTH', 'positionAmt': '0', 'notional': '0', 'isolatedWallet': '0', 'updateTime': '0', 'bidNotional': '0', 'askNotional': '0'}, {'symbol': '1000LUNCBUSD', 'initialMargin': '0', 'maintMargin': '0', 'unrealizedProfit': '0.00000000', 'positionInitialMargin': '0', 'openOrderInitialMargin': '0', 'leverage': '20', 'isolated': False, 'entryPrice': '0.0', 'maxNotional': '5000', 'positionSide': 'BOTH', 'positionAmt': '0', 'notional': '0', 'isolatedWallet': '0', 'updateTime': '0', 'bidNotional': '0', 'askNotional': '0'}, {'symbol': 'ZILUSDT', 'initialMargin': '0', 'maintMargin': '0', 'unrealizedProfit': '0.00000000', 'positionInitialMargin': '0', 'openOrderInitialMargin': '0', 'leverage': '1', 'isolated': False, 'entryPrice': '0.0', 'maxNotional': '5000000.0', 'positionSide': 'BOTH', 'positionAmt': '0', 'notional': '0', 'isolatedWallet': '0', 'updateTime': '0', 'bidNotional': '0', 'askNotional': '0'}, {'symbol': 'AXSUSDT', 'initialMargin': '0', 'maintMargin': '0', 'unrealizedProfit': '0.00000000', 'positionInitialMargin': '0', 'openOrderInitialMargin': '0', 'leverage': '1', 'isolated': False, 'entryPrice': '0.0', 'maxNotional': '2.0E7', 'positionSide': 'BOTH', 'positionAmt': '0', 'notional': '0', 'isolatedWallet': '0', 'updateTime': '0', 'bidNotional': '0', 'askNotional': '0'}, {'symbol': 'DYDXUSDT', 'initialMargin': '0', 'maintMargin': '0', 'unrealizedProfit': '0.00000000', 'positionInitialMargin': '0', 'openOrderInitialMargin': '0', 'leverage': '1', 'isolated': False, 'entryPrice': '0.0', 'maxNotional': '2.0E7', 'positionSide': 'BOTH', 'positionAmt': '0.0', 'notional': '0', 'isolatedWallet': '0', 'updateTime': '0', 'bidNotional': '0', 'askNotional': '0'}, {'symbol': 'OCEANUSDT', 'initialMargin': '200.35520000', 'maintMargin': '4.00710400', 'unrealizedProfit': '0.59160000', 'positionInitialMargin': '200.35520000', 'openOrderInitialMargin': '0', 'leverage': '1', 'isolated': False, 'entryPrice': '0.4052', 'maxNotional': '5000000.0', 'positionSide': 'BOTH', 'positionAmt': '493', 'notional': '200.35520000', 'isolatedWallet': '0', 'updateTime': '1677455461979', 'bidNotional': '0', 'askNotional': '0'}, {'symbol': 'LEVERBUSD', 'initialMargin': '0', 'maintMargin': '0', 'unrealizedProfit': '0.00000000', 'positionInitialMargin': '0', 'openOrderInitialMargin': '0', 'leverage': '20', 'isolated': False, 'entryPrice': '0.0', 'maxNotional': '0', 'positionSide': 'BOTH', 'positionAmt': '0', 'notional': '0', 'isolatedWallet': '0', 'updateTime': '0', 'bidNotional': '0', 'askNotional': '0'}, {'symbol': 'CHZUSDT', 'initialMargin': '0', 'maintMargin': '0', 'unrealizedProfit': '0.00000000', 'positionInitialMargin': '0', 'openOrderInitialMargin': '0', 'leverage': '1', 'isolated': False, 'entryPrice': '0.0', 'maxNotional': '5000000.0', 'positionSide': 'BOTH', 'positionAmt': '0', 'notional': '0', 'isolatedWallet': '0', 'updateTime': '1667955883983', 'bidNotional': '0', 'askNotional': '0'}, {'symbol': 'DUSKUSDT', 'initialMargin': '0', 'maintMargin': '0', 'unrealizedProfit': '0.00000000', 'positionInitialMargin': '0', 'openOrderInitialMargin': '0', 'leverage': '1', 'isolated': False, 'entryPrice': '0.0', 'maxNotional': '5000000.0', 'positionSide': 'BOTH', 'positionAmt': '0', 'notional': '0', 'isolatedWallet': '0', 'updateTime': '0', 'bidNotional': '0', 'askNotional': '0'}, {'symbol': 'CTSIUSDT', 'initialMargin': '0', 'maintMargin': '0', 'unrealizedProfit': '0.00000000', 'positionInitialMargin': '0', 'openOrderInitialMargin': '0', 'leverage': '1', 'isolated': False, 'entryPrice': '0.0', 'maxNotional': '3000000.0', 'positionSide': 'BOTH', 'positionAmt': '0', 'notional': '0', 'isolatedWallet': '0', 'updateTime': '0', 'bidNotional': '0', 'askNotional': '0'}, {'symbol': 'ACHUSDT', 'initialMargin': '0', 'maintMargin': '0', 'unrealizedProfit': '0.00000000', 'positionInitialMargin': '0', 'openOrderInitialMargin': '0', 'leverage': '20', 'isolated': False, 'entryPrice': '0.0', 'maxNotional': '5000', 'positionSide': 'BOTH', 'positionAmt': '0', 'notional': '0', 'isolatedWallet': '0', 'updateTime': '0', 'bidNotional': '0', 'askNotional': '0'}]}\n",
      "DOT {'free': 0.0, 'used': 0.0, 'total': 0.0}\n",
      "BTC {'free': 0.0, 'used': 0.0, 'total': 0.0}\n",
      "SOL {'free': 0.0, 'used': 0.0, 'total': 0.0}\n",
      "BNB {'free': 0.0, 'used': 0.0, 'total': 0.0}\n",
      "ETH {'free': 0.0, 'used': 0.0, 'total': 0.0}\n",
      "ADA {'free': 0.0, 'used': 0.0, 'total': 0.0}\n",
      "USDT {'free': 5533.07696375, 'used': 1006.97804224, 'total': 6540.11373815}\n",
      "XRP {'free': 0.0, 'used': 0.0, 'total': 0.0}\n",
      "USDC {'free': 0.0, 'used': 0.0, 'total': 0.0}\n",
      "BUSD {'free': 0.0, 'used': 0.0, 'total': 0.0}\n",
      "timestamp None\n",
      "datetime None\n",
      "free {'DOT': 0.0, 'BTC': 0.0, 'SOL': 0.0, 'BNB': 0.0, 'ETH': 0.0, 'ADA': 0.0, 'USDT': 5533.07696375, 'XRP': 0.0, 'USDC': 0.0, 'BUSD': 0.0}\n",
      "used {'DOT': 0.0, 'BTC': 0.0, 'SOL': 0.0, 'BNB': 0.0, 'ETH': 0.0, 'ADA': 0.0, 'USDT': 1006.97804224, 'XRP': 0.0, 'USDC': 0.0, 'BUSD': 0.0}\n",
      "total {'DOT': 0.0, 'BTC': 0.0, 'SOL': 0.0, 'BNB': 0.0, 'ETH': 0.0, 'ADA': 0.0, 'USDT': 6540.11373815, 'XRP': 0.0, 'USDC': 0.0, 'BUSD': 0.0}\n"
     ]
    }
   ],
   "source": [
    "for key in balance:\n",
    "    print(key, balance[key])"
   ],
   "metadata": {
    "collapsed": false
   }
  },
  {
   "cell_type": "markdown",
   "source": [],
   "metadata": {
    "collapsed": false
   }
  },
  {
   "cell_type": "code",
   "execution_count": 173,
   "outputs": [
    {
     "name": "stdout",
     "output_type": "stream",
     "text": [
      "5532.6815866 981.96441808 6515.00053432\n"
     ]
    }
   ],
   "source": [
    "print(balance['free']['USDT'], balance['used']['USDT'], balance['total']['USDT'])"
   ],
   "metadata": {
    "collapsed": false
   }
  },
  {
   "cell_type": "code",
   "execution_count": 42,
   "outputs": [
    {
     "name": "stdout",
     "output_type": "stream",
     "text": [
      "feeTier\n",
      "canTrade\n",
      "canDeposit\n",
      "canWithdraw\n",
      "updateTime\n",
      "multiAssetsMargin\n",
      "totalInitialMargin\n",
      "totalMaintMargin\n",
      "totalWalletBalance\n",
      "totalUnrealizedProfit\n",
      "totalMarginBalance\n",
      "totalPositionInitialMargin\n",
      "totalOpenOrderInitialMargin\n",
      "totalCrossWalletBalance\n",
      "totalCrossUnPnl\n",
      "availableBalance\n",
      "maxWithdrawAmount\n",
      "assets\n",
      "positions\n"
     ]
    }
   ],
   "source": [
    "# print(type(balance['info']))\n",
    "for key in balance['info']:\n",
    "    print(key)"
   ],
   "metadata": {
    "collapsed": false
   }
  },
  {
   "cell_type": "code",
   "execution_count": 174,
   "outputs": [
    {
     "data": {
      "text/plain": "{'asset': 'USDT',\n 'walletBalance': '6531.85276273',\n 'unrealizedProfit': '-16.85222841',\n 'marginBalance': '6515.00053432',\n 'maintMargin': '13.72080971',\n 'initialMargin': '981.96441808',\n 'positionInitialMargin': '981.96441808',\n 'openOrderInitialMargin': '0.00000000',\n 'maxWithdrawAmount': '5532.68158660',\n 'crossWalletBalance': '6531.85276273',\n 'crossUnPnl': '-16.85222841',\n 'availableBalance': '5532.68158660',\n 'marginAvailable': True,\n 'updateTime': '1677513604695'}"
     },
     "execution_count": 174,
     "metadata": {},
     "output_type": "execute_result"
    }
   ],
   "source": [
    "# 유용\n",
    "balance['info']['assets'][6]"
   ],
   "metadata": {
    "collapsed": false
   }
  },
  {
   "cell_type": "code",
   "execution_count": 473,
   "outputs": [
    {
     "data": {
      "text/plain": "        symbol initialMargin maintMargin unrealizedProfit  \\\n67    HBARUSDT  191.62143792  1.91621437      -8.33762864   \n84      ARUSDT  201.48696828  2.01486968       2.04096828   \n93     LDOUSDT   32.57076300  0.19542457      -0.03476300   \n110   ASTRUSDT  193.98612076  3.87972241      -6.03165924   \n140    LPTUSDT  193.06820532  1.93068205      -6.56199462   \n207  OCEANUSDT  192.54436436  3.85088728      -7.21923564   \n\n    positionInitialMargin openOrderInitialMargin leverage  isolated  \\\n67           191.62143792                      0        1     False   \n84           201.48696828                      0        1     False   \n93            32.57076300                      0        1     False   \n110          193.98612076                      0        1     False   \n140          193.06820532                      0        1     False   \n207          192.54436436                      0        1     False   \n\n          entryPrice maxNotional positionSide positionAmt      notional  \\\n67   0.0748349887725   5000000.0         BOTH        2672  191.62143792   \n84            10.228   5000000.0         BOTH        19.5  201.48696828   \n93            3.2536       2.0E7         BOTH         -10  -32.57076300   \n110          0.08174   5000000.0         BOTH        2447  193.98612076   \n140   7.767712062257   5000000.0         BOTH        25.7  193.06820532   \n207           0.4052   5000000.0         BOTH         493  192.54436436   \n\n    isolatedWallet     updateTime bidNotional askNotional  \n67               0  1677455484497           0           0  \n84               0  1677455500858           0           0  \n93               0  1677535912186           0           0  \n110              0  1677455525551           0           0  \n140              0  1677455514119           0           0  \n207              0  1677455461979           0           0  ",
      "text/html": "<div>\n<style scoped>\n    .dataframe tbody tr th:only-of-type {\n        vertical-align: middle;\n    }\n\n    .dataframe tbody tr th {\n        vertical-align: top;\n    }\n\n    .dataframe thead th {\n        text-align: right;\n    }\n</style>\n<table border=\"1\" class=\"dataframe\">\n  <thead>\n    <tr style=\"text-align: right;\">\n      <th></th>\n      <th>symbol</th>\n      <th>initialMargin</th>\n      <th>maintMargin</th>\n      <th>unrealizedProfit</th>\n      <th>positionInitialMargin</th>\n      <th>openOrderInitialMargin</th>\n      <th>leverage</th>\n      <th>isolated</th>\n      <th>entryPrice</th>\n      <th>maxNotional</th>\n      <th>positionSide</th>\n      <th>positionAmt</th>\n      <th>notional</th>\n      <th>isolatedWallet</th>\n      <th>updateTime</th>\n      <th>bidNotional</th>\n      <th>askNotional</th>\n    </tr>\n  </thead>\n  <tbody>\n    <tr>\n      <th>67</th>\n      <td>HBARUSDT</td>\n      <td>191.62143792</td>\n      <td>1.91621437</td>\n      <td>-8.33762864</td>\n      <td>191.62143792</td>\n      <td>0</td>\n      <td>1</td>\n      <td>False</td>\n      <td>0.0748349887725</td>\n      <td>5000000.0</td>\n      <td>BOTH</td>\n      <td>2672</td>\n      <td>191.62143792</td>\n      <td>0</td>\n      <td>1677455484497</td>\n      <td>0</td>\n      <td>0</td>\n    </tr>\n    <tr>\n      <th>84</th>\n      <td>ARUSDT</td>\n      <td>201.48696828</td>\n      <td>2.01486968</td>\n      <td>2.04096828</td>\n      <td>201.48696828</td>\n      <td>0</td>\n      <td>1</td>\n      <td>False</td>\n      <td>10.228</td>\n      <td>5000000.0</td>\n      <td>BOTH</td>\n      <td>19.5</td>\n      <td>201.48696828</td>\n      <td>0</td>\n      <td>1677455500858</td>\n      <td>0</td>\n      <td>0</td>\n    </tr>\n    <tr>\n      <th>93</th>\n      <td>LDOUSDT</td>\n      <td>32.57076300</td>\n      <td>0.19542457</td>\n      <td>-0.03476300</td>\n      <td>32.57076300</td>\n      <td>0</td>\n      <td>1</td>\n      <td>False</td>\n      <td>3.2536</td>\n      <td>2.0E7</td>\n      <td>BOTH</td>\n      <td>-10</td>\n      <td>-32.57076300</td>\n      <td>0</td>\n      <td>1677535912186</td>\n      <td>0</td>\n      <td>0</td>\n    </tr>\n    <tr>\n      <th>110</th>\n      <td>ASTRUSDT</td>\n      <td>193.98612076</td>\n      <td>3.87972241</td>\n      <td>-6.03165924</td>\n      <td>193.98612076</td>\n      <td>0</td>\n      <td>1</td>\n      <td>False</td>\n      <td>0.08174</td>\n      <td>5000000.0</td>\n      <td>BOTH</td>\n      <td>2447</td>\n      <td>193.98612076</td>\n      <td>0</td>\n      <td>1677455525551</td>\n      <td>0</td>\n      <td>0</td>\n    </tr>\n    <tr>\n      <th>140</th>\n      <td>LPTUSDT</td>\n      <td>193.06820532</td>\n      <td>1.93068205</td>\n      <td>-6.56199462</td>\n      <td>193.06820532</td>\n      <td>0</td>\n      <td>1</td>\n      <td>False</td>\n      <td>7.767712062257</td>\n      <td>5000000.0</td>\n      <td>BOTH</td>\n      <td>25.7</td>\n      <td>193.06820532</td>\n      <td>0</td>\n      <td>1677455514119</td>\n      <td>0</td>\n      <td>0</td>\n    </tr>\n    <tr>\n      <th>207</th>\n      <td>OCEANUSDT</td>\n      <td>192.54436436</td>\n      <td>3.85088728</td>\n      <td>-7.21923564</td>\n      <td>192.54436436</td>\n      <td>0</td>\n      <td>1</td>\n      <td>False</td>\n      <td>0.4052</td>\n      <td>5000000.0</td>\n      <td>BOTH</td>\n      <td>493</td>\n      <td>192.54436436</td>\n      <td>0</td>\n      <td>1677455461979</td>\n      <td>0</td>\n      <td>0</td>\n    </tr>\n  </tbody>\n</table>\n</div>"
     },
     "execution_count": 473,
     "metadata": {},
     "output_type": "execute_result"
    }
   ],
   "source": [
    "# 보유종목 조회\n",
    "import datetime\n",
    "balance = binance.fetch_balance()\n",
    "positions = balance['info']['positions'] # 포지션 조회\n",
    "df = pd.DataFrame(positions, columns = list(positions[0].keys()))\n",
    "df = df[df['initialMargin'] != \"0\"]\n",
    "df\n",
    "\n"
   ],
   "metadata": {
    "collapsed": false
   }
  },
  {
   "cell_type": "code",
   "execution_count": null,
   "outputs": [],
   "source": [
    "import datetime\n",
    "timestamp = 1677455484497 / 1000.0  # convert milliseconds to seconds\n",
    "date = datetime.datetime.utcfromtimestamp(timestamp).strftime('%Y-%m-%d %H:%M:%S')\n",
    "print(date)"
   ],
   "metadata": {
    "collapsed": false
   }
  },
  {
   "cell_type": "code",
   "execution_count": null,
   "outputs": [],
   "source": [],
   "metadata": {
    "collapsed": false
   }
  },
  {
   "cell_type": "code",
   "execution_count": 176,
   "outputs": [
    {
     "data": {
      "text/plain": "10.452"
     },
     "execution_count": 176,
     "metadata": {},
     "output_type": "execute_result"
    }
   ],
   "source": [
    "#현재가 조회\n",
    "binance.fetch_ticker('AR/USDT')['last']"
   ],
   "metadata": {
    "collapsed": false
   }
  },
  {
   "cell_type": "code",
   "execution_count": 211,
   "outputs": [
    {
     "data": {
      "text/plain": "[{'info': {'symbol': 'ARUSDT',\n   'id': '107617415',\n   'orderId': '2473462136',\n   'side': 'BUY',\n   'price': '10.228',\n   'qty': '8.2',\n   'realizedPnl': '0',\n   'marginAsset': 'USDT',\n   'quoteQty': '83.8696',\n   'commission': '0.03354784',\n   'commissionAsset': 'USDT',\n   'time': '1677455500858',\n   'positionSide': 'BOTH',\n   'buyer': True,\n   'maker': False},\n  'timestamp': 1677455500858,\n  'datetime': '2023-02-26T23:51:40.858Z',\n  'symbol': 'AR/USDT',\n  'id': '107617415',\n  'order': '2473462136',\n  'type': None,\n  'side': 'buy',\n  'takerOrMaker': 'taker',\n  'price': 10.228,\n  'amount': 8.2,\n  'cost': 83.8696,\n  'fee': {'cost': 0.03354784, 'currency': 'USDT'},\n  'fees': [{'cost': 0.03354784, 'currency': 'USDT'}]},\n {'info': {'symbol': 'ARUSDT',\n   'id': '107617416',\n   'orderId': '2473462136',\n   'side': 'BUY',\n   'price': '10.228',\n   'qty': '11.3',\n   'realizedPnl': '0',\n   'marginAsset': 'USDT',\n   'quoteQty': '115.5764',\n   'commission': '0.04623056',\n   'commissionAsset': 'USDT',\n   'time': '1677455500858',\n   'positionSide': 'BOTH',\n   'buyer': True,\n   'maker': False},\n  'timestamp': 1677455500858,\n  'datetime': '2023-02-26T23:51:40.858Z',\n  'symbol': 'AR/USDT',\n  'id': '107617416',\n  'order': '2473462136',\n  'type': None,\n  'side': 'buy',\n  'takerOrMaker': 'taker',\n  'price': 10.228,\n  'amount': 11.3,\n  'cost': 115.5764,\n  'fee': {'cost': 0.04623056, 'currency': 'USDT'},\n  'fees': [{'cost': 0.04623056, 'currency': 'USDT'}]}]"
     },
     "execution_count": 211,
     "metadata": {},
     "output_type": "execute_result"
    }
   ],
   "source": [
    "d = binance.parse8601()\n",
    "fetchTrades = binance.fetch_my_trades(symbol='AR/USDT', since=d, limit=4000, params={'order': 'asc'})\n",
    "fetchTrades"
   ],
   "metadata": {
    "collapsed": false
   }
  },
  {
   "cell_type": "code",
   "execution_count": 220,
   "outputs": [
    {
     "name": "stdout",
     "output_type": "stream",
     "text": [
      "info\n",
      "timestamp\n",
      "datetime\n",
      "symbol\n",
      "id\n",
      "order\n",
      "type\n",
      "side\n",
      "takerOrMaker\n",
      "price\n",
      "amount\n",
      "cost\n",
      "fee\n",
      "fees\n"
     ]
    }
   ],
   "source": [
    "for key in fetchTrades[1]:\n",
    "    print(key)\n"
   ],
   "metadata": {
    "collapsed": false
   }
  },
  {
   "cell_type": "code",
   "execution_count": 242,
   "outputs": [],
   "source": [
    "fetchTrades[1]['type']"
   ],
   "metadata": {
    "collapsed": false
   }
  },
  {
   "cell_type": "code",
   "execution_count": 249,
   "outputs": [
    {
     "data": {
      "text/plain": "dict_keys(['info', 'timestamp', 'datetime', 'symbol', 'id', 'order', 'type', 'side', 'takerOrMaker', 'price', 'amount', 'cost', 'fee', 'fees'])"
     },
     "execution_count": 249,
     "metadata": {},
     "output_type": "execute_result"
    }
   ],
   "source": [
    "fetchTrades[1].keys()"
   ],
   "metadata": {
    "collapsed": false
   }
  },
  {
   "cell_type": "code",
   "execution_count": 260,
   "outputs": [],
   "source": [
    "hello = list(fetchTrades[1].keys())\n",
    "col = ['timestamp', 'symbol', 'side', 'price', 'amount', 'cost', 'fee']\n",
    "history = []\n",
    "for i in range(len(col)):\n",
    "    history.append(fetchTrades[1][col[i]])"
   ],
   "metadata": {
    "collapsed": false
   }
  },
  {
   "cell_type": "code",
   "execution_count": 272,
   "outputs": [],
   "source": [
    "history= []\n",
    "for i in range(len(fetchTrades)):\n",
    "    history.append(fetchTrades[i]['info'])"
   ],
   "metadata": {
    "collapsed": false
   }
  },
  {
   "cell_type": "code",
   "execution_count": 305,
   "outputs": [],
   "source": [
    "jongmok\n",
    "history= []\n",
    "\n",
    "for i in range(len(jongmok)):\n",
    "    sym = jongmok[i].replace(\"/USDT\", \"USDT\")\n",
    "    d = binance.parse8601()\n",
    "    fetchTrades = binance.fetch_my_trades(symbol=sym, since=d, limit=4000, params={'order': 'asc'})\n",
    "    if len(fetchTrades) != 0:\n",
    "        for k in range(len(fetchTrades)):\n",
    "            history.append(fetchTrades[k]['info'])\n",
    "\n",
    "df = pd.DataFrame(history, columns=list(history[0].keys()))"
   ],
   "metadata": {
    "collapsed": false
   }
  },
  {
   "cell_type": "code",
   "execution_count": 321,
   "outputs": [],
   "source": [
    "history_df = df.sort_values('time', ascending=True)\n",
    "# Convert the column from character format to numeric format\n",
    "history_df['time'] = pd.to_numeric(history_df['time'])\n",
    "# Convert the column from numeric format to date format\n",
    "history_df['time'] = pd.to_datetime(history_df['time'])"
   ],
   "metadata": {
    "collapsed": false
   }
  },
  {
   "cell_type": "code",
   "execution_count": 393,
   "outputs": [
    {
     "data": {
      "text/plain": "              datetime       order symbol side      price   amount       cost  \\\n0  2023-02-23T19:05:53  6078877780    NEO  buy  12.832000    76.79  985.36928   \n1  2023-02-26T23:51:01  4685282106  OCEAN  buy   0.405200   493.00  199.76360   \n2  2023-02-26T23:51:24  3302889588   HBAR  buy   0.074832  2672.00  199.95909   \n3  2023-02-26T23:51:40  2473462136     AR  buy  10.228000    19.50  199.44600   \n4  2023-02-26T23:51:54  1242726558    LPT  buy   7.767750    25.70  199.63020   \n5  2023-02-26T23:52:05    57037042   ASTR  buy   0.081740  2447.00  200.01778   \n\n        fee  realizedPnl  \n0  0.394148     15.78252  \n1  0.079905      0.00000  \n2  0.079984      0.00000  \n3  0.079778      0.00000  \n4  0.079852      0.00000  \n5  0.080007      0.00000  ",
      "text/html": "<div>\n<style scoped>\n    .dataframe tbody tr th:only-of-type {\n        vertical-align: middle;\n    }\n\n    .dataframe tbody tr th {\n        vertical-align: top;\n    }\n\n    .dataframe thead th {\n        text-align: right;\n    }\n</style>\n<table border=\"1\" class=\"dataframe\">\n  <thead>\n    <tr style=\"text-align: right;\">\n      <th></th>\n      <th>datetime</th>\n      <th>order</th>\n      <th>symbol</th>\n      <th>side</th>\n      <th>price</th>\n      <th>amount</th>\n      <th>cost</th>\n      <th>fee</th>\n      <th>realizedPnl</th>\n    </tr>\n  </thead>\n  <tbody>\n    <tr>\n      <th>0</th>\n      <td>2023-02-23T19:05:53</td>\n      <td>6078877780</td>\n      <td>NEO</td>\n      <td>buy</td>\n      <td>12.832000</td>\n      <td>76.79</td>\n      <td>985.36928</td>\n      <td>0.394148</td>\n      <td>15.78252</td>\n    </tr>\n    <tr>\n      <th>1</th>\n      <td>2023-02-26T23:51:01</td>\n      <td>4685282106</td>\n      <td>OCEAN</td>\n      <td>buy</td>\n      <td>0.405200</td>\n      <td>493.00</td>\n      <td>199.76360</td>\n      <td>0.079905</td>\n      <td>0.00000</td>\n    </tr>\n    <tr>\n      <th>2</th>\n      <td>2023-02-26T23:51:24</td>\n      <td>3302889588</td>\n      <td>HBAR</td>\n      <td>buy</td>\n      <td>0.074832</td>\n      <td>2672.00</td>\n      <td>199.95909</td>\n      <td>0.079984</td>\n      <td>0.00000</td>\n    </tr>\n    <tr>\n      <th>3</th>\n      <td>2023-02-26T23:51:40</td>\n      <td>2473462136</td>\n      <td>AR</td>\n      <td>buy</td>\n      <td>10.228000</td>\n      <td>19.50</td>\n      <td>199.44600</td>\n      <td>0.079778</td>\n      <td>0.00000</td>\n    </tr>\n    <tr>\n      <th>4</th>\n      <td>2023-02-26T23:51:54</td>\n      <td>1242726558</td>\n      <td>LPT</td>\n      <td>buy</td>\n      <td>7.767750</td>\n      <td>25.70</td>\n      <td>199.63020</td>\n      <td>0.079852</td>\n      <td>0.00000</td>\n    </tr>\n    <tr>\n      <th>5</th>\n      <td>2023-02-26T23:52:05</td>\n      <td>57037042</td>\n      <td>ASTR</td>\n      <td>buy</td>\n      <td>0.081740</td>\n      <td>2447.00</td>\n      <td>200.01778</td>\n      <td>0.080007</td>\n      <td>0.00000</td>\n    </tr>\n  </tbody>\n</table>\n</div>"
     },
     "execution_count": 393,
     "metadata": {},
     "output_type": "execute_result"
    }
   ],
   "source": [
    "jongmok\n",
    "history= []\n",
    "\n",
    "for i in range(len(jongmok)):\n",
    "    sym = jongmok[i].replace(\"/USDT\", \"USDT\")\n",
    "    d = binance.parse8601()\n",
    "    fetchTrades = binance.fetch_my_trades(symbol=sym, since=d, limit=4000, params={'order': 'asc'})\n",
    "    if len(fetchTrades) != 0:\n",
    "        for k in range(len(fetchTrades)):\n",
    "            fetchTrades[k]['fee'] = fetchTrades[k]['fee']['cost']\n",
    "            fetchTrades[k]['realizedPnl'] = fetchTrades[k]['info']['realizedPnl']\n",
    "            del fetchTrades[k]['info']\n",
    "            del fetchTrades[k]['fees']\n",
    "            history.append(fetchTrades[k])\n",
    "\n",
    "col = list(history[0].keys())\n",
    "col.append('realizedPnl')\n",
    "df = pd.DataFrame(history, columns=list(history[0].keys()))\n",
    "df['symbol'] = df['symbol'].str.slice(stop=-5)\n",
    "df['datetime'] = df['datetime'].str.slice(stop=-5)\n",
    "history_df = df.sort_values('datetime', ascending=True)\n",
    "history_df['realizedPnl'] = pd.to_numeric(history_df['realizedPnl'])\n",
    "history_df = history_df[['datetime', 'order', 'symbol', 'side', 'price', 'amount', 'cost', 'fee', 'realizedPnl']].reset_index(drop=True)\n",
    "history_df = history_df.groupby('order', as_index=False).agg({\n",
    "    'datetime' : 'first',\n",
    "    'order' : 'first',\n",
    "    'symbol' : 'first',\n",
    "    'side' : 'first',\n",
    "    'price' : 'mean',\n",
    "    'amount' : 'sum',\n",
    "    'cost' : 'sum',\n",
    "    'fee' : 'sum',\n",
    "    'realizedPnl' : 'sum'\n",
    "})\n",
    "history_df = history_df.sort_values('datetime', ascending=True).reset_index(drop=True)\n",
    "history_df"
   ],
   "metadata": {
    "collapsed": false
   }
  },
  {
   "cell_type": "code",
   "execution_count": 400,
   "outputs": [
    {
     "data": {
      "text/plain": "dict_keys(['id', 'symbol', 'base', 'quote', 'baseId', 'quoteId', 'active', 'type', 'linear', 'inverse', 'spot', 'swap', 'future', 'option', 'margin', 'contract', 'contractSize', 'expiry', 'expiryDatetime', 'optionType', 'strike', 'settle', 'settleId', 'precision', 'limits', 'info', 'percentage', 'feeSide', 'tierBased', 'taker', 'maker', 'lowercaseId', 'delivery'])"
     },
     "execution_count": 400,
     "metadata": {},
     "output_type": "execute_result"
    }
   ],
   "source": [
    "markets['BTC/USDT'].keys()"
   ],
   "metadata": {
    "collapsed": false
   }
  },
  {
   "cell_type": "markdown",
   "source": [
    "# 최소 단위"
   ],
   "metadata": {
    "collapsed": false
   }
  },
  {
   "cell_type": "code",
   "execution_count": 404,
   "outputs": [],
   "source": [
    "min_units = {}\n",
    "for sym in jongmok:\n",
    "    min_units[sym] = markets[sym]['limits']['market']['min']\n"
   ],
   "metadata": {
    "collapsed": false
   }
  },
  {
   "cell_type": "code",
   "execution_count": null,
   "outputs": [],
   "source": [
    "min_units"
   ],
   "metadata": {
    "collapsed": false,
    "pycharm": {
     "is_executing": true
    }
   }
  },
  {
   "cell_type": "markdown",
   "source": [
    "# 주문"
   ],
   "metadata": {
    "collapsed": false
   }
  },
  {
   "cell_type": "code",
   "execution_count": 414,
   "outputs": [
    {
     "ename": "AuthenticationError",
     "evalue": "binance {\"code\":-2015,\"msg\":\"Invalid API-key, IP, or permissions for action\"}",
     "output_type": "error",
     "traceback": [
      "\u001B[1;31m---------------------------------------------------------------------------\u001B[0m",
      "\u001B[1;31mHTTPError\u001B[0m                                 Traceback (most recent call last)",
      "\u001B[1;32m~\\AppData\\Roaming\\Python\\Python39\\site-packages\\ccxt\\base\\exchange.py\u001B[0m in \u001B[0;36mfetch\u001B[1;34m(self, url, method, headers, body)\u001B[0m\n\u001B[0;32m    624\u001B[0m             \u001B[0mself\u001B[0m\u001B[1;33m.\u001B[0m\u001B[0mlogger\u001B[0m\u001B[1;33m.\u001B[0m\u001B[0mdebug\u001B[0m\u001B[1;33m(\u001B[0m\u001B[1;34m\"%s %s, Response: %s %s %s\"\u001B[0m\u001B[1;33m,\u001B[0m \u001B[0mmethod\u001B[0m\u001B[1;33m,\u001B[0m \u001B[0murl\u001B[0m\u001B[1;33m,\u001B[0m \u001B[0mhttp_status_code\u001B[0m\u001B[1;33m,\u001B[0m \u001B[0mheaders\u001B[0m\u001B[1;33m,\u001B[0m \u001B[0mhttp_response\u001B[0m\u001B[1;33m)\u001B[0m\u001B[1;33m\u001B[0m\u001B[1;33m\u001B[0m\u001B[0m\n\u001B[1;32m--> 625\u001B[1;33m             \u001B[0mresponse\u001B[0m\u001B[1;33m.\u001B[0m\u001B[0mraise_for_status\u001B[0m\u001B[1;33m(\u001B[0m\u001B[1;33m)\u001B[0m\u001B[1;33m\u001B[0m\u001B[1;33m\u001B[0m\u001B[0m\n\u001B[0m\u001B[0;32m    626\u001B[0m \u001B[1;33m\u001B[0m\u001B[0m\n",
      "\u001B[1;32mC:\\anaconda3\\lib\\site-packages\\requests\\models.py\u001B[0m in \u001B[0;36mraise_for_status\u001B[1;34m(self)\u001B[0m\n\u001B[0;32m   1020\u001B[0m         \u001B[1;32mif\u001B[0m \u001B[0mhttp_error_msg\u001B[0m\u001B[1;33m:\u001B[0m\u001B[1;33m\u001B[0m\u001B[1;33m\u001B[0m\u001B[0m\n\u001B[1;32m-> 1021\u001B[1;33m             \u001B[1;32mraise\u001B[0m \u001B[0mHTTPError\u001B[0m\u001B[1;33m(\u001B[0m\u001B[0mhttp_error_msg\u001B[0m\u001B[1;33m,\u001B[0m \u001B[0mresponse\u001B[0m\u001B[1;33m=\u001B[0m\u001B[0mself\u001B[0m\u001B[1;33m)\u001B[0m\u001B[1;33m\u001B[0m\u001B[1;33m\u001B[0m\u001B[0m\n\u001B[0m\u001B[0;32m   1022\u001B[0m \u001B[1;33m\u001B[0m\u001B[0m\n",
      "\u001B[1;31mHTTPError\u001B[0m: 401 Client Error: Unauthorized for url: https://fapi.binance.com/fapi/v1/order",
      "\nDuring handling of the above exception, another exception occurred:\n",
      "\u001B[1;31mAuthenticationError\u001B[0m                       Traceback (most recent call last)",
      "\u001B[1;32m~\\AppData\\Local\\Temp\\ipykernel_174264\\1355730781.py\u001B[0m in \u001B[0;36m<module>\u001B[1;34m\u001B[0m\n\u001B[0;32m      6\u001B[0m \u001B[0mbinance\u001B[0m\u001B[1;33m.\u001B[0m\u001B[0mcreate_limit_sell_order\u001B[0m\u001B[1;33m(\u001B[0m\u001B[1;33m)\u001B[0m\u001B[1;33m\u001B[0m\u001B[1;33m\u001B[0m\u001B[0m\n\u001B[0;32m      7\u001B[0m '''\n\u001B[1;32m----> 8\u001B[1;33m \u001B[0mbinance\u001B[0m\u001B[1;33m.\u001B[0m\u001B[0mcreate_market_buy_order\u001B[0m\u001B[1;33m(\u001B[0m\u001B[0msymbol\u001B[0m\u001B[1;33m=\u001B[0m\u001B[1;34m'NEO/USDT'\u001B[0m\u001B[1;33m,\u001B[0m \u001B[0mamount\u001B[0m\u001B[1;33m=\u001B[0m\u001B[1;36m0.01\u001B[0m\u001B[1;33m)\u001B[0m\u001B[1;33m\u001B[0m\u001B[1;33m\u001B[0m\u001B[0m\n\u001B[0m",
      "\u001B[1;32m~\\AppData\\Roaming\\Python\\Python39\\site-packages\\ccxt\\base\\exchange.py\u001B[0m in \u001B[0;36mcreate_market_buy_order\u001B[1;34m(self, symbol, amount, params)\u001B[0m\n\u001B[0;32m   3265\u001B[0m \u001B[1;33m\u001B[0m\u001B[0m\n\u001B[0;32m   3266\u001B[0m     \u001B[1;32mdef\u001B[0m \u001B[0mcreate_market_buy_order\u001B[0m\u001B[1;33m(\u001B[0m\u001B[0mself\u001B[0m\u001B[1;33m,\u001B[0m \u001B[0msymbol\u001B[0m\u001B[1;33m,\u001B[0m \u001B[0mamount\u001B[0m\u001B[1;33m,\u001B[0m \u001B[0mparams\u001B[0m\u001B[1;33m=\u001B[0m\u001B[1;33m{\u001B[0m\u001B[1;33m}\u001B[0m\u001B[1;33m)\u001B[0m\u001B[1;33m:\u001B[0m\u001B[1;33m\u001B[0m\u001B[1;33m\u001B[0m\u001B[0m\n\u001B[1;32m-> 3267\u001B[1;33m         \u001B[1;32mreturn\u001B[0m \u001B[0mself\u001B[0m\u001B[1;33m.\u001B[0m\u001B[0mcreate_order\u001B[0m\u001B[1;33m(\u001B[0m\u001B[0msymbol\u001B[0m\u001B[1;33m,\u001B[0m \u001B[1;34m'market'\u001B[0m\u001B[1;33m,\u001B[0m \u001B[1;34m'buy'\u001B[0m\u001B[1;33m,\u001B[0m \u001B[0mamount\u001B[0m\u001B[1;33m,\u001B[0m \u001B[1;32mNone\u001B[0m\u001B[1;33m,\u001B[0m \u001B[0mparams\u001B[0m\u001B[1;33m)\u001B[0m\u001B[1;33m\u001B[0m\u001B[1;33m\u001B[0m\u001B[0m\n\u001B[0m\u001B[0;32m   3268\u001B[0m \u001B[1;33m\u001B[0m\u001B[0m\n\u001B[0;32m   3269\u001B[0m     \u001B[1;32mdef\u001B[0m \u001B[0mcreate_market_sell_order\u001B[0m\u001B[1;33m(\u001B[0m\u001B[0mself\u001B[0m\u001B[1;33m,\u001B[0m \u001B[0msymbol\u001B[0m\u001B[1;33m,\u001B[0m \u001B[0mamount\u001B[0m\u001B[1;33m,\u001B[0m \u001B[0mparams\u001B[0m\u001B[1;33m=\u001B[0m\u001B[1;33m{\u001B[0m\u001B[1;33m}\u001B[0m\u001B[1;33m)\u001B[0m\u001B[1;33m:\u001B[0m\u001B[1;33m\u001B[0m\u001B[1;33m\u001B[0m\u001B[0m\n",
      "\u001B[1;32m~\\AppData\\Roaming\\Python\\Python39\\site-packages\\ccxt\\binance.py\u001B[0m in \u001B[0;36mcreate_order\u001B[1;34m(self, symbol, type, side, amount, price, params)\u001B[0m\n\u001B[0;32m   3337\u001B[0m                 \u001B[0mrequest\u001B[0m\u001B[1;33m[\u001B[0m\u001B[1;34m'stopPrice'\u001B[0m\u001B[1;33m]\u001B[0m \u001B[1;33m=\u001B[0m \u001B[0mself\u001B[0m\u001B[1;33m.\u001B[0m\u001B[0mprice_to_precision\u001B[0m\u001B[1;33m(\u001B[0m\u001B[0msymbol\u001B[0m\u001B[1;33m,\u001B[0m \u001B[0mstopPrice\u001B[0m\u001B[1;33m)\u001B[0m\u001B[1;33m\u001B[0m\u001B[1;33m\u001B[0m\u001B[0m\n\u001B[0;32m   3338\u001B[0m         \u001B[0mrequestParams\u001B[0m \u001B[1;33m=\u001B[0m \u001B[0mself\u001B[0m\u001B[1;33m.\u001B[0m\u001B[0momit\u001B[0m\u001B[1;33m(\u001B[0m\u001B[0mparams\u001B[0m\u001B[1;33m,\u001B[0m \u001B[1;33m[\u001B[0m\u001B[1;34m'quoteOrderQty'\u001B[0m\u001B[1;33m,\u001B[0m \u001B[1;34m'cost'\u001B[0m\u001B[1;33m,\u001B[0m \u001B[1;34m'stopPrice'\u001B[0m\u001B[1;33m,\u001B[0m \u001B[1;34m'test'\u001B[0m\u001B[1;33m,\u001B[0m \u001B[1;34m'type'\u001B[0m\u001B[1;33m,\u001B[0m \u001B[1;34m'newClientOrderId'\u001B[0m\u001B[1;33m,\u001B[0m \u001B[1;34m'clientOrderId'\u001B[0m\u001B[1;33m,\u001B[0m \u001B[1;34m'postOnly'\u001B[0m\u001B[1;33m]\u001B[0m\u001B[1;33m)\u001B[0m\u001B[1;33m\u001B[0m\u001B[1;33m\u001B[0m\u001B[0m\n\u001B[1;32m-> 3339\u001B[1;33m         \u001B[0mresponse\u001B[0m \u001B[1;33m=\u001B[0m \u001B[0mgetattr\u001B[0m\u001B[1;33m(\u001B[0m\u001B[0mself\u001B[0m\u001B[1;33m,\u001B[0m \u001B[0mmethod\u001B[0m\u001B[1;33m)\u001B[0m\u001B[1;33m(\u001B[0m\u001B[0mself\u001B[0m\u001B[1;33m.\u001B[0m\u001B[0mextend\u001B[0m\u001B[1;33m(\u001B[0m\u001B[0mrequest\u001B[0m\u001B[1;33m,\u001B[0m \u001B[0mrequestParams\u001B[0m\u001B[1;33m)\u001B[0m\u001B[1;33m)\u001B[0m\u001B[1;33m\u001B[0m\u001B[1;33m\u001B[0m\u001B[0m\n\u001B[0m\u001B[0;32m   3340\u001B[0m         \u001B[1;32mreturn\u001B[0m \u001B[0mself\u001B[0m\u001B[1;33m.\u001B[0m\u001B[0mparse_order\u001B[0m\u001B[1;33m(\u001B[0m\u001B[0mresponse\u001B[0m\u001B[1;33m,\u001B[0m \u001B[0mmarket\u001B[0m\u001B[1;33m)\u001B[0m\u001B[1;33m\u001B[0m\u001B[1;33m\u001B[0m\u001B[0m\n\u001B[0;32m   3341\u001B[0m \u001B[1;33m\u001B[0m\u001B[0m\n",
      "\u001B[1;32m~\\AppData\\Roaming\\Python\\Python39\\site-packages\\ccxt\\base\\exchange.py\u001B[0m in \u001B[0;36minner\u001B[1;34m(_self, params, context)\u001B[0m\n\u001B[0;32m    503\u001B[0m                 \u001B[1;32mif\u001B[0m \u001B[0mcontext\u001B[0m \u001B[1;32mis\u001B[0m \u001B[1;32mnot\u001B[0m \u001B[1;32mNone\u001B[0m\u001B[1;33m:\u001B[0m\u001B[1;33m\u001B[0m\u001B[1;33m\u001B[0m\u001B[0m\n\u001B[0;32m    504\u001B[0m                     \u001B[0minner_kwargs\u001B[0m\u001B[1;33m[\u001B[0m\u001B[1;34m'context'\u001B[0m\u001B[1;33m]\u001B[0m \u001B[1;33m=\u001B[0m \u001B[0mparams\u001B[0m\u001B[1;33m\u001B[0m\u001B[1;33m\u001B[0m\u001B[0m\n\u001B[1;32m--> 505\u001B[1;33m                 \u001B[1;32mreturn\u001B[0m \u001B[0mentry\u001B[0m\u001B[1;33m(\u001B[0m\u001B[0m_self\u001B[0m\u001B[1;33m,\u001B[0m \u001B[1;33m**\u001B[0m\u001B[0minner_kwargs\u001B[0m\u001B[1;33m)\u001B[0m\u001B[1;33m\u001B[0m\u001B[1;33m\u001B[0m\u001B[0m\n\u001B[0m\u001B[0;32m    506\u001B[0m             \u001B[1;32mreturn\u001B[0m \u001B[0minner\u001B[0m\u001B[1;33m\u001B[0m\u001B[1;33m\u001B[0m\u001B[0m\n\u001B[0;32m    507\u001B[0m         \u001B[0mto_bind\u001B[0m \u001B[1;33m=\u001B[0m \u001B[0mpartialer\u001B[0m\u001B[1;33m(\u001B[0m\u001B[1;33m)\u001B[0m\u001B[1;33m\u001B[0m\u001B[1;33m\u001B[0m\u001B[0m\n",
      "\u001B[1;32m~\\AppData\\Roaming\\Python\\Python39\\site-packages\\ccxt\\binance.py\u001B[0m in \u001B[0;36mrequest\u001B[1;34m(self, path, api, method, params, headers, body, config, context)\u001B[0m\n\u001B[0;32m   6055\u001B[0m \u001B[1;33m\u001B[0m\u001B[0m\n\u001B[0;32m   6056\u001B[0m     \u001B[1;32mdef\u001B[0m \u001B[0mrequest\u001B[0m\u001B[1;33m(\u001B[0m\u001B[0mself\u001B[0m\u001B[1;33m,\u001B[0m \u001B[0mpath\u001B[0m\u001B[1;33m,\u001B[0m \u001B[0mapi\u001B[0m\u001B[1;33m=\u001B[0m\u001B[1;34m'public'\u001B[0m\u001B[1;33m,\u001B[0m \u001B[0mmethod\u001B[0m\u001B[1;33m=\u001B[0m\u001B[1;34m'GET'\u001B[0m\u001B[1;33m,\u001B[0m \u001B[0mparams\u001B[0m\u001B[1;33m=\u001B[0m\u001B[1;33m{\u001B[0m\u001B[1;33m}\u001B[0m\u001B[1;33m,\u001B[0m \u001B[0mheaders\u001B[0m\u001B[1;33m=\u001B[0m\u001B[1;32mNone\u001B[0m\u001B[1;33m,\u001B[0m \u001B[0mbody\u001B[0m\u001B[1;33m=\u001B[0m\u001B[1;32mNone\u001B[0m\u001B[1;33m,\u001B[0m \u001B[0mconfig\u001B[0m\u001B[1;33m=\u001B[0m\u001B[1;33m{\u001B[0m\u001B[1;33m}\u001B[0m\u001B[1;33m,\u001B[0m \u001B[0mcontext\u001B[0m\u001B[1;33m=\u001B[0m\u001B[1;33m{\u001B[0m\u001B[1;33m}\u001B[0m\u001B[1;33m)\u001B[0m\u001B[1;33m:\u001B[0m\u001B[1;33m\u001B[0m\u001B[1;33m\u001B[0m\u001B[0m\n\u001B[1;32m-> 6057\u001B[1;33m         \u001B[0mresponse\u001B[0m \u001B[1;33m=\u001B[0m \u001B[0mself\u001B[0m\u001B[1;33m.\u001B[0m\u001B[0mfetch2\u001B[0m\u001B[1;33m(\u001B[0m\u001B[0mpath\u001B[0m\u001B[1;33m,\u001B[0m \u001B[0mapi\u001B[0m\u001B[1;33m,\u001B[0m \u001B[0mmethod\u001B[0m\u001B[1;33m,\u001B[0m \u001B[0mparams\u001B[0m\u001B[1;33m,\u001B[0m \u001B[0mheaders\u001B[0m\u001B[1;33m,\u001B[0m \u001B[0mbody\u001B[0m\u001B[1;33m,\u001B[0m \u001B[0mconfig\u001B[0m\u001B[1;33m,\u001B[0m \u001B[0mcontext\u001B[0m\u001B[1;33m)\u001B[0m\u001B[1;33m\u001B[0m\u001B[1;33m\u001B[0m\u001B[0m\n\u001B[0m\u001B[0;32m   6058\u001B[0m         \u001B[1;31m# a workaround for {\"code\":-2015,\"msg\":\"Invalid API-key, IP, or permissions for action.\"}\u001B[0m\u001B[1;33m\u001B[0m\u001B[1;33m\u001B[0m\u001B[0m\n\u001B[0;32m   6059\u001B[0m         \u001B[1;32mif\u001B[0m \u001B[1;33m(\u001B[0m\u001B[0mapi\u001B[0m \u001B[1;33m==\u001B[0m \u001B[1;34m'private'\u001B[0m\u001B[1;33m)\u001B[0m \u001B[1;32mor\u001B[0m \u001B[1;33m(\u001B[0m\u001B[0mapi\u001B[0m \u001B[1;33m==\u001B[0m \u001B[1;34m'wapi'\u001B[0m\u001B[1;33m)\u001B[0m\u001B[1;33m:\u001B[0m\u001B[1;33m\u001B[0m\u001B[1;33m\u001B[0m\u001B[0m\n",
      "\u001B[1;32m~\\AppData\\Roaming\\Python\\Python39\\site-packages\\ccxt\\base\\exchange.py\u001B[0m in \u001B[0;36mfetch2\u001B[1;34m(self, path, api, method, params, headers, body, config, context)\u001B[0m\n\u001B[0;32m   2811\u001B[0m         \u001B[0mself\u001B[0m\u001B[1;33m.\u001B[0m\u001B[0mlastRestRequestTimestamp\u001B[0m \u001B[1;33m=\u001B[0m \u001B[0mself\u001B[0m\u001B[1;33m.\u001B[0m\u001B[0mmilliseconds\u001B[0m\u001B[1;33m(\u001B[0m\u001B[1;33m)\u001B[0m\u001B[1;33m\u001B[0m\u001B[1;33m\u001B[0m\u001B[0m\n\u001B[0;32m   2812\u001B[0m         \u001B[0mrequest\u001B[0m \u001B[1;33m=\u001B[0m \u001B[0mself\u001B[0m\u001B[1;33m.\u001B[0m\u001B[0msign\u001B[0m\u001B[1;33m(\u001B[0m\u001B[0mpath\u001B[0m\u001B[1;33m,\u001B[0m \u001B[0mapi\u001B[0m\u001B[1;33m,\u001B[0m \u001B[0mmethod\u001B[0m\u001B[1;33m,\u001B[0m \u001B[0mparams\u001B[0m\u001B[1;33m,\u001B[0m \u001B[0mheaders\u001B[0m\u001B[1;33m,\u001B[0m \u001B[0mbody\u001B[0m\u001B[1;33m)\u001B[0m\u001B[1;33m\u001B[0m\u001B[1;33m\u001B[0m\u001B[0m\n\u001B[1;32m-> 2813\u001B[1;33m         \u001B[1;32mreturn\u001B[0m \u001B[0mself\u001B[0m\u001B[1;33m.\u001B[0m\u001B[0mfetch\u001B[0m\u001B[1;33m(\u001B[0m\u001B[0mrequest\u001B[0m\u001B[1;33m[\u001B[0m\u001B[1;34m'url'\u001B[0m\u001B[1;33m]\u001B[0m\u001B[1;33m,\u001B[0m \u001B[0mrequest\u001B[0m\u001B[1;33m[\u001B[0m\u001B[1;34m'method'\u001B[0m\u001B[1;33m]\u001B[0m\u001B[1;33m,\u001B[0m \u001B[0mrequest\u001B[0m\u001B[1;33m[\u001B[0m\u001B[1;34m'headers'\u001B[0m\u001B[1;33m]\u001B[0m\u001B[1;33m,\u001B[0m \u001B[0mrequest\u001B[0m\u001B[1;33m[\u001B[0m\u001B[1;34m'body'\u001B[0m\u001B[1;33m]\u001B[0m\u001B[1;33m)\u001B[0m\u001B[1;33m\u001B[0m\u001B[1;33m\u001B[0m\u001B[0m\n\u001B[0m\u001B[0;32m   2814\u001B[0m \u001B[1;33m\u001B[0m\u001B[0m\n\u001B[0;32m   2815\u001B[0m     \u001B[1;32mdef\u001B[0m \u001B[0mrequest\u001B[0m\u001B[1;33m(\u001B[0m\u001B[0mself\u001B[0m\u001B[1;33m,\u001B[0m \u001B[0mpath\u001B[0m\u001B[1;33m,\u001B[0m \u001B[0mapi\u001B[0m\u001B[1;33m=\u001B[0m\u001B[1;34m'public'\u001B[0m\u001B[1;33m,\u001B[0m \u001B[0mmethod\u001B[0m\u001B[1;33m=\u001B[0m\u001B[1;34m'GET'\u001B[0m\u001B[1;33m,\u001B[0m \u001B[0mparams\u001B[0m\u001B[1;33m=\u001B[0m\u001B[1;33m{\u001B[0m\u001B[1;33m}\u001B[0m\u001B[1;33m,\u001B[0m \u001B[0mheaders\u001B[0m\u001B[1;33m=\u001B[0m\u001B[1;32mNone\u001B[0m\u001B[1;33m,\u001B[0m \u001B[0mbody\u001B[0m\u001B[1;33m=\u001B[0m\u001B[1;32mNone\u001B[0m\u001B[1;33m,\u001B[0m \u001B[0mconfig\u001B[0m\u001B[1;33m=\u001B[0m\u001B[1;33m{\u001B[0m\u001B[1;33m}\u001B[0m\u001B[1;33m,\u001B[0m \u001B[0mcontext\u001B[0m\u001B[1;33m=\u001B[0m\u001B[1;33m{\u001B[0m\u001B[1;33m}\u001B[0m\u001B[1;33m)\u001B[0m\u001B[1;33m:\u001B[0m\u001B[1;33m\u001B[0m\u001B[1;33m\u001B[0m\u001B[0m\n",
      "\u001B[1;32m~\\AppData\\Roaming\\Python\\Python39\\site-packages\\ccxt\\base\\exchange.py\u001B[0m in \u001B[0;36mfetch\u001B[1;34m(self, url, method, headers, body)\u001B[0m\n\u001B[0;32m    639\u001B[0m         \u001B[1;32mexcept\u001B[0m \u001B[0mHTTPError\u001B[0m \u001B[1;32mas\u001B[0m \u001B[0me\u001B[0m\u001B[1;33m:\u001B[0m\u001B[1;33m\u001B[0m\u001B[1;33m\u001B[0m\u001B[0m\n\u001B[0;32m    640\u001B[0m             \u001B[0mdetails\u001B[0m \u001B[1;33m=\u001B[0m \u001B[1;34m' '\u001B[0m\u001B[1;33m.\u001B[0m\u001B[0mjoin\u001B[0m\u001B[1;33m(\u001B[0m\u001B[1;33m[\u001B[0m\u001B[0mself\u001B[0m\u001B[1;33m.\u001B[0m\u001B[0mid\u001B[0m\u001B[1;33m,\u001B[0m \u001B[0mmethod\u001B[0m\u001B[1;33m,\u001B[0m \u001B[0murl\u001B[0m\u001B[1;33m]\u001B[0m\u001B[1;33m)\u001B[0m\u001B[1;33m\u001B[0m\u001B[1;33m\u001B[0m\u001B[0m\n\u001B[1;32m--> 641\u001B[1;33m             \u001B[0mskip_further_error_handling\u001B[0m \u001B[1;33m=\u001B[0m \u001B[0mself\u001B[0m\u001B[1;33m.\u001B[0m\u001B[0mhandle_errors\u001B[0m\u001B[1;33m(\u001B[0m\u001B[0mhttp_status_code\u001B[0m\u001B[1;33m,\u001B[0m \u001B[0mhttp_status_text\u001B[0m\u001B[1;33m,\u001B[0m \u001B[0murl\u001B[0m\u001B[1;33m,\u001B[0m \u001B[0mmethod\u001B[0m\u001B[1;33m,\u001B[0m \u001B[0mheaders\u001B[0m\u001B[1;33m,\u001B[0m \u001B[0mhttp_response\u001B[0m\u001B[1;33m,\u001B[0m \u001B[0mjson_response\u001B[0m\u001B[1;33m,\u001B[0m \u001B[0mrequest_headers\u001B[0m\u001B[1;33m,\u001B[0m \u001B[0mrequest_body\u001B[0m\u001B[1;33m)\u001B[0m\u001B[1;33m\u001B[0m\u001B[1;33m\u001B[0m\u001B[0m\n\u001B[0m\u001B[0;32m    642\u001B[0m             \u001B[1;32mif\u001B[0m \u001B[1;32mnot\u001B[0m \u001B[0mskip_further_error_handling\u001B[0m\u001B[1;33m:\u001B[0m\u001B[1;33m\u001B[0m\u001B[1;33m\u001B[0m\u001B[0m\n\u001B[0;32m    643\u001B[0m                 \u001B[0mself\u001B[0m\u001B[1;33m.\u001B[0m\u001B[0mhandle_http_status_code\u001B[0m\u001B[1;33m(\u001B[0m\u001B[0mhttp_status_code\u001B[0m\u001B[1;33m,\u001B[0m \u001B[0mhttp_status_text\u001B[0m\u001B[1;33m,\u001B[0m \u001B[0murl\u001B[0m\u001B[1;33m,\u001B[0m \u001B[0mmethod\u001B[0m\u001B[1;33m,\u001B[0m \u001B[0mhttp_response\u001B[0m\u001B[1;33m)\u001B[0m\u001B[1;33m\u001B[0m\u001B[1;33m\u001B[0m\u001B[0m\n",
      "\u001B[1;32m~\\AppData\\Roaming\\Python\\Python39\\site-packages\\ccxt\\binance.py\u001B[0m in \u001B[0;36mhandle_errors\u001B[1;34m(self, code, reason, url, method, headers, body, response, requestHeaders, requestBody)\u001B[0m\n\u001B[0;32m   6033\u001B[0m                 \u001B[1;31m# binanceusdm {\"code\":-4046,\"msg\":\"No need to change margin type.\"}\u001B[0m\u001B[1;33m\u001B[0m\u001B[1;33m\u001B[0m\u001B[0m\n\u001B[0;32m   6034\u001B[0m                 \u001B[1;32mraise\u001B[0m \u001B[0mMarginModeAlreadySet\u001B[0m\u001B[1;33m(\u001B[0m\u001B[0mfeedback\u001B[0m\u001B[1;33m)\u001B[0m\u001B[1;33m\u001B[0m\u001B[1;33m\u001B[0m\u001B[0m\n\u001B[1;32m-> 6035\u001B[1;33m             \u001B[0mself\u001B[0m\u001B[1;33m.\u001B[0m\u001B[0mthrow_exactly_matched_exception\u001B[0m\u001B[1;33m(\u001B[0m\u001B[0mself\u001B[0m\u001B[1;33m.\u001B[0m\u001B[0mexceptions\u001B[0m\u001B[1;33m[\u001B[0m\u001B[1;34m'exact'\u001B[0m\u001B[1;33m]\u001B[0m\u001B[1;33m,\u001B[0m \u001B[0merror\u001B[0m\u001B[1;33m,\u001B[0m \u001B[0mfeedback\u001B[0m\u001B[1;33m)\u001B[0m\u001B[1;33m\u001B[0m\u001B[1;33m\u001B[0m\u001B[0m\n\u001B[0m\u001B[0;32m   6036\u001B[0m             \u001B[1;32mraise\u001B[0m \u001B[0mExchangeError\u001B[0m\u001B[1;33m(\u001B[0m\u001B[0mfeedback\u001B[0m\u001B[1;33m)\u001B[0m\u001B[1;33m\u001B[0m\u001B[1;33m\u001B[0m\u001B[0m\n\u001B[0;32m   6037\u001B[0m         \u001B[1;32mif\u001B[0m \u001B[1;32mnot\u001B[0m \u001B[0msuccess\u001B[0m\u001B[1;33m:\u001B[0m\u001B[1;33m\u001B[0m\u001B[1;33m\u001B[0m\u001B[0m\n",
      "\u001B[1;32m~\\AppData\\Roaming\\Python\\Python39\\site-packages\\ccxt\\base\\exchange.py\u001B[0m in \u001B[0;36mthrow_exactly_matched_exception\u001B[1;34m(self, exact, string, message)\u001B[0m\n\u001B[0;32m   3114\u001B[0m     \u001B[1;32mdef\u001B[0m \u001B[0mthrow_exactly_matched_exception\u001B[0m\u001B[1;33m(\u001B[0m\u001B[0mself\u001B[0m\u001B[1;33m,\u001B[0m \u001B[0mexact\u001B[0m\u001B[1;33m,\u001B[0m \u001B[0mstring\u001B[0m\u001B[1;33m,\u001B[0m \u001B[0mmessage\u001B[0m\u001B[1;33m)\u001B[0m\u001B[1;33m:\u001B[0m\u001B[1;33m\u001B[0m\u001B[1;33m\u001B[0m\u001B[0m\n\u001B[0;32m   3115\u001B[0m         \u001B[1;32mif\u001B[0m \u001B[0mstring\u001B[0m \u001B[1;32min\u001B[0m \u001B[0mexact\u001B[0m\u001B[1;33m:\u001B[0m\u001B[1;33m\u001B[0m\u001B[1;33m\u001B[0m\u001B[0m\n\u001B[1;32m-> 3116\u001B[1;33m             \u001B[1;32mraise\u001B[0m \u001B[0mexact\u001B[0m\u001B[1;33m[\u001B[0m\u001B[0mstring\u001B[0m\u001B[1;33m]\u001B[0m\u001B[1;33m(\u001B[0m\u001B[0mmessage\u001B[0m\u001B[1;33m)\u001B[0m\u001B[1;33m\u001B[0m\u001B[1;33m\u001B[0m\u001B[0m\n\u001B[0m\u001B[0;32m   3117\u001B[0m \u001B[1;33m\u001B[0m\u001B[0m\n\u001B[0;32m   3118\u001B[0m     \u001B[1;32mdef\u001B[0m \u001B[0mthrow_broadly_matched_exception\u001B[0m\u001B[1;33m(\u001B[0m\u001B[0mself\u001B[0m\u001B[1;33m,\u001B[0m \u001B[0mbroad\u001B[0m\u001B[1;33m,\u001B[0m \u001B[0mstring\u001B[0m\u001B[1;33m,\u001B[0m \u001B[0mmessage\u001B[0m\u001B[1;33m)\u001B[0m\u001B[1;33m:\u001B[0m\u001B[1;33m\u001B[0m\u001B[1;33m\u001B[0m\u001B[0m\n",
      "\u001B[1;31mAuthenticationError\u001B[0m: binance {\"code\":-2015,\"msg\":\"Invalid API-key, IP, or permissions for action\"}"
     ]
    }
   ],
   "source": [
    "'''\n",
    "binance.create_market_sell_order(symbol='심볼', amount='주문량')\n",
    "\n",
    "binance.create_market_buy_order(symbol='심볼', amount='주문량')\n",
    "binance.create_limit_buy_order()\n",
    "binance.create_limit_sell_order()\n",
    "'''\n",
    "# binance.create_market_buy_order(symbol='NEO/USDT', amount=0.01)\n",
    "binance.create_market_order()"
   ],
   "metadata": {
    "collapsed": false
   }
  },
  {
   "cell_type": "code",
   "execution_count": 410,
   "outputs": [
    {
     "data": {
      "text/plain": "'BTCUSDT'"
     },
     "execution_count": 410,
     "metadata": {},
     "output_type": "execute_result"
    }
   ],
   "source": [
    "binance.market(sym)['id']"
   ],
   "metadata": {
    "collapsed": false
   }
  },
  {
   "cell_type": "code",
   "execution_count": 426,
   "outputs": [
    {
     "data": {
      "text/plain": "1.0"
     },
     "execution_count": 426,
     "metadata": {},
     "output_type": "execute_result"
    }
   ],
   "source": [
    "min_units['LDO/USDT']"
   ],
   "metadata": {
    "collapsed": false
   }
  },
  {
   "cell_type": "code",
   "execution_count": 416,
   "outputs": [],
   "source": [
    "for sym in jongmok:\n",
    "    resp = binance.fapiPrivate_post_leverage({\n",
    "        'symbol': binance.market(sym)['id'],\n",
    "        'leverage': 1\n",
    "    })"
   ],
   "metadata": {
    "collapsed": false
   }
  },
  {
   "cell_type": "code",
   "execution_count": 437,
   "outputs": [
    {
     "data": {
      "text/plain": "3.25"
     },
     "execution_count": 437,
     "metadata": {},
     "output_type": "execute_result"
    }
   ],
   "source": [
    "binance.fetch_ticker('LDO/USDT')['last']"
   ],
   "metadata": {
    "collapsed": false
   }
  },
  {
   "cell_type": "code",
   "execution_count": 498,
   "outputs": [
    {
     "name": "stdout",
     "output_type": "stream",
     "text": [
      "1.0\n",
      "30.0\n"
     ]
    }
   ],
   "source": [
    "import math\n",
    "symbol = \"LDO/USDT\"\n",
    "#현재가 조회\n",
    "binance.fetch_ticker('AR/USDT')['last']\n",
    "PriceData[symbol][-10:]\n",
    "min_units[symbol]\n",
    "def cur_price(symbol):\n",
    "    cur_price = binance.fetch_ticker(symbol)['last']\n",
    "    return cur_price\n",
    "\n",
    "def order(symbol, usdt, side):\n",
    "    amount = math.floor((usdt/cur_price(symbol))/min_units[symbol])*min_units[symbol]\n",
    "    binance.create_market_order(symbol=symbol, amount=amount, side=side)\n",
    "\n",
    "# 100달라 주문하고싶어\n",
    "# print(math.floor(100 / cur_price(symbol)))\n",
    "100 / cur_price(symbol)\n",
    "# print(100 / cur_price(symbol) / min_units[symbol])\n",
    "# math.floor(10.24/4.1)\n",
    "print(min_units[symbol])\n",
    "print(math.floor((100/cur_price(symbol))/min_units[symbol])*min_units[symbol])\n",
    "# cur_price(symbol)\n",
    "\n",
    "def close_order(symbol):\n",
    "    balance = binance.fetch_balance()\n",
    "    positions = balance['info']['positions'] # 포지션 조회\n",
    "    df = pd.DataFrame(positions, columns = list(positions[0].keys()))\n",
    "    amount = int(df.loc[df.loc[:, 'symbol'] == symbol.replace(\"/USDT\", \"USDT\")]['positionAmt'].iloc[0])\n",
    "    if amount > 0:\n",
    "        side = 'SELL'\n",
    "    elif amount <0:\n",
    "        side = 'BUY'\n",
    "    binance.create_market_order(symbol=symbol, amount=abs(amount), side=side)"
   ],
   "metadata": {
    "collapsed": false
   }
  },
  {
   "cell_type": "code",
   "execution_count": 497,
   "outputs": [
    {
     "data": {
      "text/plain": "'LDOUSDT'"
     },
     "execution_count": 497,
     "metadata": {},
     "output_type": "execute_result"
    }
   ],
   "source": [
    "'LDO/USDT'.replace(\"/USDT\",\"USDT\")"
   ],
   "metadata": {
    "collapsed": false
   }
  },
  {
   "cell_type": "code",
   "execution_count": 499,
   "outputs": [],
   "source": [
    "# close_order('LDO/USDT')"
   ],
   "metadata": {
    "collapsed": false
   }
  },
  {
   "cell_type": "code",
   "execution_count": 477,
   "outputs": [],
   "source": [
    "# order('LDO/USDT', 10, side='BUY')"
   ],
   "metadata": {
    "collapsed": false
   }
  },
  {
   "cell_type": "code",
   "execution_count": 494,
   "outputs": [
    {
     "data": {
      "text/plain": "-20"
     },
     "execution_count": 494,
     "metadata": {},
     "output_type": "execute_result"
    }
   ],
   "source": [
    "int(df.loc[df.loc[:, 'symbol'] == 'LDOUSDT']['positionAmt'].iloc[0])"
   ],
   "metadata": {
    "collapsed": false
   }
  },
  {
   "cell_type": "code",
   "execution_count": 509,
   "outputs": [],
   "source": [
    "# 보유종목 조회\n",
    "import datetime\n",
    "def account():\n",
    "    balance = binance.fetch_balance()\n",
    "    positions = balance['info']['positions'] # 포지션 조회\n",
    "    df = pd.DataFrame(positions, columns = list(positions[0].keys()))\n",
    "    df = df[df['initialMargin'] != \"0\"]\n",
    "    return df"
   ],
   "metadata": {
    "collapsed": false
   }
  },
  {
   "cell_type": "code",
   "execution_count": 504,
   "outputs": [],
   "source": [
    "def history():\n",
    "    history= []\n",
    "    for i in range(len(jongmok)):\n",
    "        sym = jongmok[i].replace(\"/USDT\", \"USDT\")\n",
    "        d = binance.parse8601()\n",
    "        fetchTrades = binance.fetch_my_trades(symbol=sym, since=d, limit=4000, params={'order': 'asc'})\n",
    "        if len(fetchTrades) != 0:\n",
    "            for k in range(len(fetchTrades)):\n",
    "                fetchTrades[k]['fee'] = fetchTrades[k]['fee']['cost']\n",
    "                fetchTrades[k]['realizedPnl'] = fetchTrades[k]['info']['realizedPnl']\n",
    "                del fetchTrades[k]['info']\n",
    "                del fetchTrades[k]['fees']\n",
    "                history.append(fetchTrades[k])\n",
    "\n",
    "    col = list(history[0].keys())\n",
    "    col.append('realizedPnl')\n",
    "    df = pd.DataFrame(history, columns=list(history[0].keys()))\n",
    "    df['symbol'] = df['symbol'].str.slice(stop=-5)\n",
    "    df['datetime'] = df['datetime'].str.slice(stop=-5)\n",
    "    history_df = df.sort_values('datetime', ascending=True)\n",
    "    history_df['realizedPnl'] = pd.to_numeric(history_df['realizedPnl'])\n",
    "    history_df = history_df[['datetime', 'order', 'symbol', 'side', 'price', 'amount', 'cost', 'fee', 'realizedPnl']].reset_index(drop=True)\n",
    "    history_df = history_df.groupby('order', as_index=False).agg({\n",
    "        'datetime' : 'first',\n",
    "        'order' : 'first',\n",
    "        'symbol' : 'first',\n",
    "        'side' : 'first',\n",
    "        'price' : 'mean',\n",
    "        'amount' : 'sum',\n",
    "        'cost' : 'sum',\n",
    "        'fee' : 'sum',\n",
    "        'realizedPnl' : 'sum'\n",
    "    })\n",
    "    history_df = history_df.sort_values('datetime', ascending=True).reset_index(drop=True)\n",
    "    return history_df"
   ],
   "metadata": {
    "collapsed": false
   }
  },
  {
   "cell_type": "code",
   "execution_count": 505,
   "outputs": [
    {
     "data": {
      "text/plain": "               datetime       order symbol  side      price   amount  \\\n0   2023-02-23T19:05:53  6078877780    NEO   buy  12.832000    76.79   \n1   2023-02-26T23:51:01  4685282106  OCEAN   buy   0.405200   493.00   \n2   2023-02-26T23:51:24  3302889588   HBAR   buy   0.074832  2672.00   \n3   2023-02-26T23:51:40  2473462136     AR   buy  10.228000    19.50   \n4   2023-02-26T23:51:54  1242726558    LPT   buy   7.767750    25.70   \n5   2023-02-26T23:52:05    57037042   ASTR   buy   0.081740  2447.00   \n6   2023-02-27T22:11:52   841606640    LDO  sell   3.253600    10.00   \n7   2023-02-27T22:14:40   841632357    LDO  sell   3.257700    10.00   \n8   2023-02-27T22:14:49   841633185    LDO  sell   3.256700     3.00   \n9   2023-02-27T22:15:05   841635193    LDO   buy   3.256800     3.00   \n10  2023-02-27T22:31:37   841825364    LDO   buy   3.232600    20.00   \n\n         cost       fee  realizedPnl  \n0   985.36928  0.394148    15.782520  \n1   199.76360  0.079905     0.000000  \n2   199.95909  0.079984     0.000000  \n3   199.44600  0.079778     0.000000  \n4   199.63020  0.079852     0.000000  \n5   200.01778  0.080007     0.000000  \n6    32.53600  0.013014     0.000000  \n7    32.57700  0.013031     0.000000  \n8     9.77010  0.003908     0.000000  \n9     9.77040  0.003908    -0.003039  \n10   64.65200  0.025861     0.463739  ",
      "text/html": "<div>\n<style scoped>\n    .dataframe tbody tr th:only-of-type {\n        vertical-align: middle;\n    }\n\n    .dataframe tbody tr th {\n        vertical-align: top;\n    }\n\n    .dataframe thead th {\n        text-align: right;\n    }\n</style>\n<table border=\"1\" class=\"dataframe\">\n  <thead>\n    <tr style=\"text-align: right;\">\n      <th></th>\n      <th>datetime</th>\n      <th>order</th>\n      <th>symbol</th>\n      <th>side</th>\n      <th>price</th>\n      <th>amount</th>\n      <th>cost</th>\n      <th>fee</th>\n      <th>realizedPnl</th>\n    </tr>\n  </thead>\n  <tbody>\n    <tr>\n      <th>0</th>\n      <td>2023-02-23T19:05:53</td>\n      <td>6078877780</td>\n      <td>NEO</td>\n      <td>buy</td>\n      <td>12.832000</td>\n      <td>76.79</td>\n      <td>985.36928</td>\n      <td>0.394148</td>\n      <td>15.782520</td>\n    </tr>\n    <tr>\n      <th>1</th>\n      <td>2023-02-26T23:51:01</td>\n      <td>4685282106</td>\n      <td>OCEAN</td>\n      <td>buy</td>\n      <td>0.405200</td>\n      <td>493.00</td>\n      <td>199.76360</td>\n      <td>0.079905</td>\n      <td>0.000000</td>\n    </tr>\n    <tr>\n      <th>2</th>\n      <td>2023-02-26T23:51:24</td>\n      <td>3302889588</td>\n      <td>HBAR</td>\n      <td>buy</td>\n      <td>0.074832</td>\n      <td>2672.00</td>\n      <td>199.95909</td>\n      <td>0.079984</td>\n      <td>0.000000</td>\n    </tr>\n    <tr>\n      <th>3</th>\n      <td>2023-02-26T23:51:40</td>\n      <td>2473462136</td>\n      <td>AR</td>\n      <td>buy</td>\n      <td>10.228000</td>\n      <td>19.50</td>\n      <td>199.44600</td>\n      <td>0.079778</td>\n      <td>0.000000</td>\n    </tr>\n    <tr>\n      <th>4</th>\n      <td>2023-02-26T23:51:54</td>\n      <td>1242726558</td>\n      <td>LPT</td>\n      <td>buy</td>\n      <td>7.767750</td>\n      <td>25.70</td>\n      <td>199.63020</td>\n      <td>0.079852</td>\n      <td>0.000000</td>\n    </tr>\n    <tr>\n      <th>5</th>\n      <td>2023-02-26T23:52:05</td>\n      <td>57037042</td>\n      <td>ASTR</td>\n      <td>buy</td>\n      <td>0.081740</td>\n      <td>2447.00</td>\n      <td>200.01778</td>\n      <td>0.080007</td>\n      <td>0.000000</td>\n    </tr>\n    <tr>\n      <th>6</th>\n      <td>2023-02-27T22:11:52</td>\n      <td>841606640</td>\n      <td>LDO</td>\n      <td>sell</td>\n      <td>3.253600</td>\n      <td>10.00</td>\n      <td>32.53600</td>\n      <td>0.013014</td>\n      <td>0.000000</td>\n    </tr>\n    <tr>\n      <th>7</th>\n      <td>2023-02-27T22:14:40</td>\n      <td>841632357</td>\n      <td>LDO</td>\n      <td>sell</td>\n      <td>3.257700</td>\n      <td>10.00</td>\n      <td>32.57700</td>\n      <td>0.013031</td>\n      <td>0.000000</td>\n    </tr>\n    <tr>\n      <th>8</th>\n      <td>2023-02-27T22:14:49</td>\n      <td>841633185</td>\n      <td>LDO</td>\n      <td>sell</td>\n      <td>3.256700</td>\n      <td>3.00</td>\n      <td>9.77010</td>\n      <td>0.003908</td>\n      <td>0.000000</td>\n    </tr>\n    <tr>\n      <th>9</th>\n      <td>2023-02-27T22:15:05</td>\n      <td>841635193</td>\n      <td>LDO</td>\n      <td>buy</td>\n      <td>3.256800</td>\n      <td>3.00</td>\n      <td>9.77040</td>\n      <td>0.003908</td>\n      <td>-0.003039</td>\n    </tr>\n    <tr>\n      <th>10</th>\n      <td>2023-02-27T22:31:37</td>\n      <td>841825364</td>\n      <td>LDO</td>\n      <td>buy</td>\n      <td>3.232600</td>\n      <td>20.00</td>\n      <td>64.65200</td>\n      <td>0.025861</td>\n      <td>0.463739</td>\n    </tr>\n  </tbody>\n</table>\n</div>"
     },
     "execution_count": 505,
     "metadata": {},
     "output_type": "execute_result"
    }
   ],
   "source": [
    "history()"
   ],
   "metadata": {
    "collapsed": false
   }
  },
  {
   "cell_type": "code",
   "execution_count": 510,
   "outputs": [
    {
     "data": {
      "text/plain": "        symbol initialMargin maintMargin unrealizedProfit  \\\n67    HBARUSDT  192.22368000  1.92223680      -7.73538656   \n84      ARUSDT  202.52387707  2.02523877       3.07787707   \n110   ASTRUSDT  194.49274764  3.88985495      -5.52503236   \n140    LPTUSDT  193.49530000  1.93495300      -6.13489994   \n207  OCEANUSDT  193.09746599  3.86194931      -6.66613401   \n\n    positionInitialMargin openOrderInitialMargin leverage  isolated  \\\n67           192.22368000                      0        1     False   \n84           202.52387707                      0        1     False   \n110          194.49274764                      0        1     False   \n140          193.49530000                      0        1     False   \n207          193.09746599                      0        1     False   \n\n          entryPrice maxNotional positionSide positionAmt      notional  \\\n67   0.0748349887725   5000000.0         BOTH        2672  192.22368000   \n84            10.228   5000000.0         BOTH        19.5  202.52387707   \n110          0.08174   5000000.0         BOTH        2447  194.49274764   \n140   7.767712062257   5000000.0         BOTH        25.7  193.49530000   \n207           0.4052   5000000.0         BOTH         493  193.09746599   \n\n    isolatedWallet     updateTime bidNotional askNotional  \n67               0  1677455484497           0           0  \n84               0  1677455500858           0           0  \n110              0  1677455525551           0           0  \n140              0  1677455514119           0           0  \n207              0  1677455461979           0           0  ",
      "text/html": "<div>\n<style scoped>\n    .dataframe tbody tr th:only-of-type {\n        vertical-align: middle;\n    }\n\n    .dataframe tbody tr th {\n        vertical-align: top;\n    }\n\n    .dataframe thead th {\n        text-align: right;\n    }\n</style>\n<table border=\"1\" class=\"dataframe\">\n  <thead>\n    <tr style=\"text-align: right;\">\n      <th></th>\n      <th>symbol</th>\n      <th>initialMargin</th>\n      <th>maintMargin</th>\n      <th>unrealizedProfit</th>\n      <th>positionInitialMargin</th>\n      <th>openOrderInitialMargin</th>\n      <th>leverage</th>\n      <th>isolated</th>\n      <th>entryPrice</th>\n      <th>maxNotional</th>\n      <th>positionSide</th>\n      <th>positionAmt</th>\n      <th>notional</th>\n      <th>isolatedWallet</th>\n      <th>updateTime</th>\n      <th>bidNotional</th>\n      <th>askNotional</th>\n    </tr>\n  </thead>\n  <tbody>\n    <tr>\n      <th>67</th>\n      <td>HBARUSDT</td>\n      <td>192.22368000</td>\n      <td>1.92223680</td>\n      <td>-7.73538656</td>\n      <td>192.22368000</td>\n      <td>0</td>\n      <td>1</td>\n      <td>False</td>\n      <td>0.0748349887725</td>\n      <td>5000000.0</td>\n      <td>BOTH</td>\n      <td>2672</td>\n      <td>192.22368000</td>\n      <td>0</td>\n      <td>1677455484497</td>\n      <td>0</td>\n      <td>0</td>\n    </tr>\n    <tr>\n      <th>84</th>\n      <td>ARUSDT</td>\n      <td>202.52387707</td>\n      <td>2.02523877</td>\n      <td>3.07787707</td>\n      <td>202.52387707</td>\n      <td>0</td>\n      <td>1</td>\n      <td>False</td>\n      <td>10.228</td>\n      <td>5000000.0</td>\n      <td>BOTH</td>\n      <td>19.5</td>\n      <td>202.52387707</td>\n      <td>0</td>\n      <td>1677455500858</td>\n      <td>0</td>\n      <td>0</td>\n    </tr>\n    <tr>\n      <th>110</th>\n      <td>ASTRUSDT</td>\n      <td>194.49274764</td>\n      <td>3.88985495</td>\n      <td>-5.52503236</td>\n      <td>194.49274764</td>\n      <td>0</td>\n      <td>1</td>\n      <td>False</td>\n      <td>0.08174</td>\n      <td>5000000.0</td>\n      <td>BOTH</td>\n      <td>2447</td>\n      <td>194.49274764</td>\n      <td>0</td>\n      <td>1677455525551</td>\n      <td>0</td>\n      <td>0</td>\n    </tr>\n    <tr>\n      <th>140</th>\n      <td>LPTUSDT</td>\n      <td>193.49530000</td>\n      <td>1.93495300</td>\n      <td>-6.13489994</td>\n      <td>193.49530000</td>\n      <td>0</td>\n      <td>1</td>\n      <td>False</td>\n      <td>7.767712062257</td>\n      <td>5000000.0</td>\n      <td>BOTH</td>\n      <td>25.7</td>\n      <td>193.49530000</td>\n      <td>0</td>\n      <td>1677455514119</td>\n      <td>0</td>\n      <td>0</td>\n    </tr>\n    <tr>\n      <th>207</th>\n      <td>OCEANUSDT</td>\n      <td>193.09746599</td>\n      <td>3.86194931</td>\n      <td>-6.66613401</td>\n      <td>193.09746599</td>\n      <td>0</td>\n      <td>1</td>\n      <td>False</td>\n      <td>0.4052</td>\n      <td>5000000.0</td>\n      <td>BOTH</td>\n      <td>493</td>\n      <td>193.09746599</td>\n      <td>0</td>\n      <td>1677455461979</td>\n      <td>0</td>\n      <td>0</td>\n    </tr>\n  </tbody>\n</table>\n</div>"
     },
     "execution_count": 510,
     "metadata": {},
     "output_type": "execute_result"
    }
   ],
   "source": [
    "account()"
   ],
   "metadata": {
    "collapsed": false
   }
  },
  {
   "cell_type": "code",
   "execution_count": 545,
   "outputs": [],
   "source": [
    "def scan(buy_cond, sell_cond):\n",
    "    window = 14\n",
    "    away = 7\n",
    "    from tensorflow import keras\n",
    "    import numpy as np\n",
    "    model = keras.Sequential()\n",
    "    model.add(keras.layers.LSTM(10, activation='relu', input_shape=(window, 4), dropout=0.3))\n",
    "    model.add(keras.layers.Dense(1, activation='sigmoid'))\n",
    "    model.load_weights('14_7price_1d.h5')\n",
    "    global signal, ind_dict, ind\n",
    "    x_data = {}\n",
    "    ind_dict = {}\n",
    "    ind = {}\n",
    "    x_input = []\n",
    "    for symbol in jongmok:\n",
    "\n",
    "        btc_ohlcv = binance.fetch_ohlcv(symbol=symbol, timeframe='1d', since=None, limit=14)\n",
    "        df = pd.DataFrame(data=btc_ohlcv, columns=[\"datetime\", \"open\", \"high\", \"low\", \"close\", \"volumns\"])\n",
    "        df['datetime'] = pd.to_datetime(df['datetime'], unit='ms')\n",
    "        df.set_index('datetime', inplace=True)\n",
    "        x_data[symbol] = df[['open', 'high', 'low', 'close']]\n",
    "\n",
    "        ## 전처리\n",
    "        mean = x_data[symbol].mean()\n",
    "        std = x_data[symbol].std()\n",
    "        x = (x_data[symbol] - mean) / std\n",
    "\n",
    "        ind[symbol] = model.predict(np.array([x]))[0][0].tolist()\n",
    "        sort_ind = sorted(ind.items(), key=lambda x: x[1], reverse=True)\n",
    "        #ind 값 따라 종목 찾기\n",
    "    signal = [key for key, value in ind.items() if (value > buy_cond or value < sell_cond)]\n",
    "    return ind, signal"
   ],
   "metadata": {
    "collapsed": false
   }
  },
  {
   "cell_type": "code",
   "execution_count": 546,
   "outputs": [
    {
     "name": "stdout",
     "output_type": "stream",
     "text": [
      "1/1 [==============================] - 0s 85ms/step\n",
      "1/1 [==============================] - 0s 11ms/step\n",
      "1/1 [==============================] - 0s 16ms/step\n",
      "1/1 [==============================] - 0s 12ms/step\n",
      "1/1 [==============================] - 0s 12ms/step\n",
      "1/1 [==============================] - 0s 11ms/step\n",
      "1/1 [==============================] - 0s 13ms/step\n",
      "1/1 [==============================] - 0s 14ms/step\n",
      "1/1 [==============================] - 0s 12ms/step\n",
      "1/1 [==============================] - 0s 12ms/step\n",
      "1/1 [==============================] - 0s 12ms/step\n",
      "1/1 [==============================] - 0s 14ms/step\n",
      "1/1 [==============================] - 0s 10ms/step\n",
      "1/1 [==============================] - 0s 11ms/step\n",
      "1/1 [==============================] - 0s 10ms/step\n",
      "1/1 [==============================] - 0s 12ms/step\n",
      "1/1 [==============================] - 0s 12ms/step\n",
      "1/1 [==============================] - 0s 11ms/step\n",
      "1/1 [==============================] - 0s 11ms/step\n",
      "1/1 [==============================] - 0s 14ms/step\n",
      "1/1 [==============================] - 0s 12ms/step\n",
      "1/1 [==============================] - 0s 11ms/step\n",
      "1/1 [==============================] - 0s 11ms/step\n",
      "1/1 [==============================] - 0s 15ms/step\n",
      "1/1 [==============================] - 0s 14ms/step\n",
      "1/1 [==============================] - 0s 12ms/step\n",
      "1/1 [==============================] - 0s 11ms/step\n",
      "1/1 [==============================] - 0s 11ms/step\n",
      "1/1 [==============================] - 0s 13ms/step\n",
      "1/1 [==============================] - 0s 11ms/step\n",
      "1/1 [==============================] - 0s 11ms/step\n",
      "1/1 [==============================] - 0s 11ms/step\n",
      "1/1 [==============================] - 0s 11ms/step\n",
      "1/1 [==============================] - 0s 11ms/step\n",
      "1/1 [==============================] - 0s 13ms/step\n",
      "1/1 [==============================] - 0s 15ms/step\n",
      "1/1 [==============================] - 0s 16ms/step\n",
      "1/1 [==============================] - 0s 11ms/step\n",
      "1/1 [==============================] - 0s 12ms/step\n",
      "1/1 [==============================] - 0s 11ms/step\n",
      "1/1 [==============================] - 0s 11ms/step\n",
      "1/1 [==============================] - 0s 11ms/step\n",
      "1/1 [==============================] - 0s 14ms/step\n",
      "1/1 [==============================] - 0s 12ms/step\n",
      "1/1 [==============================] - 0s 13ms/step\n",
      "1/1 [==============================] - 0s 12ms/step\n",
      "1/1 [==============================] - 0s 11ms/step\n",
      "1/1 [==============================] - 0s 11ms/step\n",
      "1/1 [==============================] - 0s 18ms/step\n",
      "1/1 [==============================] - 0s 12ms/step\n",
      "1/1 [==============================] - 0s 15ms/step\n",
      "1/1 [==============================] - 0s 12ms/step\n",
      "1/1 [==============================] - 0s 12ms/step\n",
      "1/1 [==============================] - 0s 11ms/step\n",
      "1/1 [==============================] - 0s 12ms/step\n",
      "1/1 [==============================] - 0s 12ms/step\n",
      "1/1 [==============================] - 0s 11ms/step\n",
      "1/1 [==============================] - 0s 11ms/step\n",
      "1/1 [==============================] - 0s 10ms/step\n",
      "1/1 [==============================] - 0s 12ms/step\n",
      "1/1 [==============================] - 0s 10ms/step\n",
      "1/1 [==============================] - 0s 11ms/step\n",
      "1/1 [==============================] - 0s 14ms/step\n",
      "1/1 [==============================] - 0s 14ms/step\n",
      "1/1 [==============================] - 0s 11ms/step\n",
      "1/1 [==============================] - 0s 13ms/step\n",
      "1/1 [==============================] - 0s 13ms/step\n",
      "1/1 [==============================] - 0s 10ms/step\n",
      "1/1 [==============================] - 0s 11ms/step\n",
      "1/1 [==============================] - 0s 13ms/step\n",
      "1/1 [==============================] - 0s 11ms/step\n",
      "1/1 [==============================] - 0s 12ms/step\n",
      "1/1 [==============================] - 0s 11ms/step\n",
      "1/1 [==============================] - 0s 11ms/step\n",
      "1/1 [==============================] - 0s 13ms/step\n",
      "1/1 [==============================] - 0s 10ms/step\n",
      "1/1 [==============================] - 0s 13ms/step\n",
      "1/1 [==============================] - 0s 11ms/step\n",
      "1/1 [==============================] - 0s 12ms/step\n",
      "1/1 [==============================] - 0s 11ms/step\n",
      "1/1 [==============================] - 0s 11ms/step\n",
      "1/1 [==============================] - 0s 10ms/step\n",
      "1/1 [==============================] - 0s 11ms/step\n",
      "1/1 [==============================] - 0s 11ms/step\n",
      "1/1 [==============================] - 0s 12ms/step\n",
      "1/1 [==============================] - 0s 11ms/step\n",
      "1/1 [==============================] - 0s 11ms/step\n",
      "1/1 [==============================] - 0s 12ms/step\n",
      "1/1 [==============================] - 0s 13ms/step\n",
      "1/1 [==============================] - 0s 11ms/step\n",
      "1/1 [==============================] - 0s 12ms/step\n",
      "1/1 [==============================] - 0s 13ms/step\n",
      "1/1 [==============================] - 0s 13ms/step\n",
      "1/1 [==============================] - 0s 11ms/step\n",
      "1/1 [==============================] - 0s 11ms/step\n",
      "1/1 [==============================] - 0s 11ms/step\n",
      "1/1 [==============================] - 0s 13ms/step\n",
      "1/1 [==============================] - 0s 13ms/step\n",
      "1/1 [==============================] - 0s 11ms/step\n",
      "1/1 [==============================] - 0s 12ms/step\n",
      "1/1 [==============================] - 0s 10ms/step\n",
      "1/1 [==============================] - 0s 10ms/step\n",
      "1/1 [==============================] - 0s 11ms/step\n",
      "1/1 [==============================] - 0s 12ms/step\n",
      "1/1 [==============================] - 0s 13ms/step\n",
      "1/1 [==============================] - 0s 12ms/step\n",
      "1/1 [==============================] - 0s 11ms/step\n",
      "1/1 [==============================] - 0s 11ms/step\n",
      "1/1 [==============================] - 0s 11ms/step\n",
      "1/1 [==============================] - 0s 12ms/step\n",
      "1/1 [==============================] - 0s 11ms/step\n",
      "1/1 [==============================] - 0s 16ms/step\n",
      "1/1 [==============================] - 0s 11ms/step\n",
      "1/1 [==============================] - 0s 11ms/step\n",
      "1/1 [==============================] - 0s 11ms/step\n",
      "1/1 [==============================] - 0s 11ms/step\n",
      "1/1 [==============================] - 0s 12ms/step\n",
      "1/1 [==============================] - 0s 12ms/step\n",
      "1/1 [==============================] - 0s 11ms/step\n",
      "1/1 [==============================] - 0s 10ms/step\n",
      "1/1 [==============================] - 0s 11ms/step\n",
      "1/1 [==============================] - 0s 12ms/step\n",
      "1/1 [==============================] - 0s 14ms/step\n",
      "1/1 [==============================] - 0s 14ms/step\n",
      "1/1 [==============================] - 0s 12ms/step\n",
      "1/1 [==============================] - 0s 12ms/step\n",
      "1/1 [==============================] - 0s 13ms/step\n",
      "1/1 [==============================] - 0s 13ms/step\n",
      "1/1 [==============================] - 0s 20ms/step\n",
      "1/1 [==============================] - 0s 13ms/step\n",
      "1/1 [==============================] - 0s 11ms/step\n",
      "1/1 [==============================] - 0s 12ms/step\n",
      "1/1 [==============================] - 0s 14ms/step\n",
      "1/1 [==============================] - 0s 14ms/step\n",
      "1/1 [==============================] - 0s 11ms/step\n",
      "1/1 [==============================] - 0s 11ms/step\n",
      "1/1 [==============================] - 0s 12ms/step\n",
      "1/1 [==============================] - 0s 11ms/step\n",
      "1/1 [==============================] - 0s 14ms/step\n",
      "1/1 [==============================] - 0s 11ms/step\n",
      "1/1 [==============================] - 0s 11ms/step\n",
      "1/1 [==============================] - 0s 13ms/step\n",
      "1/1 [==============================] - 0s 13ms/step\n",
      "1/1 [==============================] - 0s 12ms/step\n",
      "1/1 [==============================] - 0s 12ms/step\n",
      "1/1 [==============================] - 0s 12ms/step\n",
      "1/1 [==============================] - 0s 11ms/step\n",
      "1/1 [==============================] - 0s 11ms/step\n",
      "1/1 [==============================] - 0s 20ms/step\n",
      "1/1 [==============================] - 0s 12ms/step\n",
      "1/1 [==============================] - 0s 11ms/step\n",
      "1/1 [==============================] - 0s 11ms/step\n",
      "1/1 [==============================] - 0s 11ms/step\n",
      "1/1 [==============================] - 0s 13ms/step\n",
      "1/1 [==============================] - 0s 11ms/step\n",
      "1/1 [==============================] - 0s 11ms/step\n",
      "1/1 [==============================] - 0s 11ms/step\n",
      "1/1 [==============================] - 0s 11ms/step\n",
      "1/1 [==============================] - 0s 13ms/step\n",
      "1/1 [==============================] - 0s 12ms/step\n",
      "1/1 [==============================] - 0s 11ms/step\n",
      "1/1 [==============================] - 0s 84ms/step\n",
      "1/1 [==============================] - 0s 11ms/step\n",
      "1/1 [==============================] - 0s 12ms/step\n",
      "1/1 [==============================] - 0s 12ms/step\n",
      "1/1 [==============================] - 0s 13ms/step\n",
      "1/1 [==============================] - 0s 12ms/step\n",
      "1/1 [==============================] - 0s 11ms/step\n",
      "1/1 [==============================] - 0s 12ms/step\n",
      "1/1 [==============================] - 0s 13ms/step\n"
     ]
    },
    {
     "data": {
      "text/plain": "({'BTC/USDT': 0.582051694393158,\n  'ETH/USDT': 0.5725055932998657,\n  'BCH/USDT': 0.47059980034828186,\n  'XRP/USDT': 0.5256522297859192,\n  'EOS/USDT': 0.5004242062568665,\n  'LTC/USDT': 0.46216824650764465,\n  'TRX/USDT': 0.5632807612419128,\n  'ETC/USDT': 0.5315175652503967,\n  'LINK/USDT': 0.4879521429538727,\n  'XLM/USDT': 0.5456855893135071,\n  'ADA/USDT': 0.5661565065383911,\n  'XMR/USDT': 0.5348287224769592,\n  'DASH/USDT': 0.4632464647293091,\n  'ZEC/USDT': 0.4979296624660492,\n  'XTZ/USDT': 0.5071450471878052,\n  'BNB/USDT': 0.5657135844230652,\n  'ATOM/USDT': 0.54117351770401,\n  'ONT/USDT': 0.48985376954078674,\n  'IOTA/USDT': 0.49941593408584595,\n  'BAT/USDT': 0.47141993045806885,\n  'VET/USDT': 0.49486029148101807,\n  'NEO/USDT': 0.49424535036087036,\n  'QTUM/USDT': 0.49266481399536133,\n  'IOST/USDT': 0.49870413541793823,\n  'THETA/USDT': 0.48181357979774475,\n  'ALGO/USDT': 0.5401739478111267,\n  'ZIL/USDT': 0.4779178202152252,\n  'KNC/USDT': 0.47673776745796204,\n  'ZRX/USDT': 0.4960300326347351,\n  'COMP/USDT': 0.49941229820251465,\n  'OMG/USDT': 0.4639952480792999,\n  'DOGE/USDT': 0.523176372051239,\n  'SXP/USDT': 0.547173798084259,\n  'KAVA/USDT': 0.505733847618103,\n  'BAND/USDT': 0.48900169134140015,\n  'RLC/USDT': 0.5131388902664185,\n  'WAVES/USDT': 0.5090708136558533,\n  'MKR/USDT': 0.5056107640266418,\n  'SNX/USDT': 0.4954474866390228,\n  'DOT/USDT': 0.5090051889419556,\n  'DEFI/USDT': 0.4911303222179413,\n  'YFI/USDT': 0.5740618705749512,\n  'BAL/USDT': 0.5460695624351501,\n  'CRV/USDT': 0.5691523551940918,\n  'TRB/USDT': 0.5017153024673462,\n  'RUNE/USDT': 0.5321238040924072,\n  'SUSHI/USDT': 0.4931492209434509,\n  'SRM/USDT': nan,\n  'EGLD/USDT': 0.4985661208629608,\n  'SOL/USDT': 0.5384619832038879,\n  'ICX/USDT': 0.47970616817474365,\n  'STORJ/USDT': 0.5046392679214478,\n  'BLZ/USDT': 0.47417089343070984,\n  'UNI/USDT': 0.522300124168396,\n  'AVAX/USDT': 0.5142120718955994,\n  'FTM/USDT': 0.5792024731636047,\n  'HNT/USDT': 0.4985279440879822,\n  'ENJ/USDT': 0.5085222721099854,\n  'FLM/USDT': 0.49142947793006897,\n  'TOMO/USDT': 0.5019312500953674,\n  'REN/USDT': 0.4678085446357727,\n  'KSM/USDT': 0.50664883852005,\n  'NEAR/USDT': 0.5451021790504456,\n  'AAVE/USDT': 0.5289316177368164,\n  'FIL/USDT': 0.49598193168640137,\n  'RSR/USDT': 0.482592910528183,\n  'LRC/USDT': 0.5723079442977905,\n  'MATIC/USDT': 0.5437877774238586,\n  'OCEAN/USDT': 0.5591139793395996,\n  'CVC/USDT': nan,\n  'BEL/USDT': 0.4812873303890228,\n  'CTK/USDT': 0.4955641031265259,\n  'AXS/USDT': 0.534494161605835,\n  'ALPHA/USDT': 0.4935997724533081,\n  'ZEN/USDT': 0.5026664733886719,\n  'SKL/USDT': 0.5633827447891235,\n  'GRT/USDT': 0.5621816515922546,\n  '1INCH/USDT': 0.5158689022064209,\n  'CHZ/USDT': 0.5366032123565674,\n  'SAND/USDT': 0.5349123477935791,\n  'ANKR/USDT': 0.4934587776660919,\n  'BTS/USDT': 0.6303687691688538,\n  'LIT/USDT': 0.5480520129203796,\n  'UNFI/USDT': 0.4708050787448883,\n  'REEF/USDT': 0.5032173991203308,\n  'RVN/USDT': 0.4904245436191559,\n  'SFP/USDT': 0.49037620425224304,\n  'XEM/USDT': 0.48842012882232666,\n  'COTI/USDT': 0.5920906662940979,\n  'CHR/USDT': 0.5233285427093506,\n  'MANA/USDT': 0.5343390107154846,\n  'ALICE/USDT': 0.47509294748306274,\n  'HBAR/USDT': 0.5976348519325256,\n  'ONE/USDT': 0.5734410881996155,\n  'LINA/USDT': 0.4994181990623474,\n  'STMX/USDT': 0.5649186968803406,\n  'DENT/USDT': 0.48630866408348083,\n  'CELR/USDT': 0.4727718234062195,\n  'HOT/USDT': 0.5295743346214294,\n  'MTL/USDT': 0.46239688992500305,\n  'OGN/USDT': 0.5035288333892822,\n  'NKN/USDT': 0.4790499806404114,\n  'SC/USDT': 0.7089971303939819,\n  'DGB/USDT': 0.5076626539230347,\n  '1000SHIB/USDT': 0.5122788548469543,\n  'BAKE/USDT': 0.5185432434082031,\n  'GTC/USDT': 0.4466984272003174,\n  'BTCDOM/USDT': 0.4449689984321594,\n  'TLM/USDT': nan,\n  'IOTX/USDT': 0.5343765616416931,\n  'AUDIO/USDT': 0.4674380123615265,\n  'RAY/USDT': 0.7089971303939819,\n  'C98/USDT': 0.5005500316619873,\n  'MASK/USDT': 0.4682345688343048,\n  'ATA/USDT': 0.4807993471622467,\n  'DYDX/USDT': 0.5785704255104065,\n  '1000XEC/USDT': 0.5013247728347778,\n  'GALA/USDT': 0.5619106888771057,\n  'CELO/USDT': 0.5476105213165283,\n  'AR/USDT': 0.5763906836509705,\n  'KLAY/USDT': 0.473563551902771,\n  'ARPA/USDT': 0.48825883865356445,\n  'CTSI/USDT': 0.48448482155799866,\n  'LPT/USDT': 0.5810117721557617,\n  'ENS/USDT': 0.47390154004096985,\n  'PEOPLE/USDT': 0.5226248502731323,\n  'ANT/USDT': 0.5422942638397217,\n  'ROSE/USDT': 0.5508261919021606,\n  'DUSK/USDT': 0.5426517128944397,\n  'FLOW/USDT': 0.45090872049331665,\n  'IMX/USDT': 0.6308771371841431,\n  'API3/USDT': 0.5231817960739136,\n  'GMT/USDT': 0.5462436079978943,\n  'APE/USDT': 0.5363351702690125,\n  'WOO/USDT': 0.5489307641983032,\n  'FTT/USDT': nan,\n  'JASMY/USDT': 0.5684564709663391,\n  'DAR/USDT': 0.5165020823478699,\n  'GAL/USDT': 0.524298369884491,\n  'OP/USDT': 0.4480808973312378,\n  'INJ/USDT': 0.5605630278587341,\n  'STG/USDT': 0.5376721620559692,\n  'FOOTBALL/USDT': 0.5363617539405823,\n  'SPELL/USDT': 0.5393287539482117,\n  '1000LUNC/USDT': 0.49753451347351074,\n  'LUNA2/USDT': 0.5366968512535095,\n  'LDO/USDT': 0.3887309432029724,\n  'CVX/USDT': 0.5460376739501953,\n  'ICP/USDT': 0.5320471525192261,\n  'APT/USDT': 0.5751301050186157,\n  'QNT/USDT': 0.6104604005813599,\n  'BLUEBIRD/USDT': 0.5477304458618164,\n  'FET/USDT': 0.3752877712249756,\n  'FXS/USDT': 0.4749618470668793,\n  'HOOK/USDT': 0.526164710521698,\n  'MAGIC/USDT': 0.4864419996738434,\n  'T/USDT': 0.5348917245864868,\n  'RNDR/USDT': 0.5621725916862488,\n  'HIGH/USDT': 0.5181304216384888,\n  'MINA/USDT': 0.5335000157356262,\n  'ASTR/USDT': 0.5961951017379761,\n  'AGIX/USDT': 0.43088778853416443,\n  'PHB/USDT': 0.46920233964920044,\n  'GMX/USDT': 0.5023136138916016,\n  'CFX/USDT': 0.5028577446937561,\n  'STX/USDT': 0.5130079984664917,\n  'COCOS/USDT': 0.500519871711731,\n  'BNX/USDT': 0.48175734281539917,\n  'ACH/USDT': 0.49386417865753174,\n  'SSV/USDT': 0.5268546938896179},\n ['SC/USDT', 'RAY/USDT'])"
     },
     "execution_count": 546,
     "metadata": {},
     "output_type": "execute_result"
    }
   ],
   "source": [
    "scan(0.7, 0.3)"
   ],
   "metadata": {
    "collapsed": false
   }
  },
  {
   "cell_type": "code",
   "execution_count": 547,
   "outputs": [
    {
     "data": {
      "text/plain": "{'BTC/USDT': 0.582051694393158,\n 'ETH/USDT': 0.5725055932998657,\n 'BCH/USDT': 0.47059980034828186,\n 'XRP/USDT': 0.5256522297859192,\n 'EOS/USDT': 0.5004242062568665,\n 'LTC/USDT': 0.46216824650764465,\n 'TRX/USDT': 0.5632807612419128,\n 'ETC/USDT': 0.5315175652503967,\n 'LINK/USDT': 0.4879521429538727,\n 'XLM/USDT': 0.5456855893135071,\n 'ADA/USDT': 0.5661565065383911,\n 'XMR/USDT': 0.5348287224769592,\n 'DASH/USDT': 0.4632464647293091,\n 'ZEC/USDT': 0.4979296624660492,\n 'XTZ/USDT': 0.5071450471878052,\n 'BNB/USDT': 0.5657135844230652,\n 'ATOM/USDT': 0.54117351770401,\n 'ONT/USDT': 0.48985376954078674,\n 'IOTA/USDT': 0.49941593408584595,\n 'BAT/USDT': 0.47141993045806885,\n 'VET/USDT': 0.49486029148101807,\n 'NEO/USDT': 0.49424535036087036,\n 'QTUM/USDT': 0.49266481399536133,\n 'IOST/USDT': 0.49870413541793823,\n 'THETA/USDT': 0.48181357979774475,\n 'ALGO/USDT': 0.5401739478111267,\n 'ZIL/USDT': 0.4779178202152252,\n 'KNC/USDT': 0.47673776745796204,\n 'ZRX/USDT': 0.4960300326347351,\n 'COMP/USDT': 0.49941229820251465,\n 'OMG/USDT': 0.4639952480792999,\n 'DOGE/USDT': 0.523176372051239,\n 'SXP/USDT': 0.547173798084259,\n 'KAVA/USDT': 0.505733847618103,\n 'BAND/USDT': 0.48900169134140015,\n 'RLC/USDT': 0.5131388902664185,\n 'WAVES/USDT': 0.5090708136558533,\n 'MKR/USDT': 0.5056107640266418,\n 'SNX/USDT': 0.4954474866390228,\n 'DOT/USDT': 0.5090051889419556,\n 'DEFI/USDT': 0.4911303222179413,\n 'YFI/USDT': 0.5740618705749512,\n 'BAL/USDT': 0.5460695624351501,\n 'CRV/USDT': 0.5691523551940918,\n 'TRB/USDT': 0.5017153024673462,\n 'RUNE/USDT': 0.5321238040924072,\n 'SUSHI/USDT': 0.4931492209434509,\n 'SRM/USDT': nan,\n 'EGLD/USDT': 0.4985661208629608,\n 'SOL/USDT': 0.5384619832038879,\n 'ICX/USDT': 0.47970616817474365,\n 'STORJ/USDT': 0.5046392679214478,\n 'BLZ/USDT': 0.47417089343070984,\n 'UNI/USDT': 0.522300124168396,\n 'AVAX/USDT': 0.5142120718955994,\n 'FTM/USDT': 0.5792024731636047,\n 'HNT/USDT': 0.4985279440879822,\n 'ENJ/USDT': 0.5085222721099854,\n 'FLM/USDT': 0.49142947793006897,\n 'TOMO/USDT': 0.5019312500953674,\n 'REN/USDT': 0.4678085446357727,\n 'KSM/USDT': 0.50664883852005,\n 'NEAR/USDT': 0.5451021790504456,\n 'AAVE/USDT': 0.5289316177368164,\n 'FIL/USDT': 0.49598193168640137,\n 'RSR/USDT': 0.482592910528183,\n 'LRC/USDT': 0.5723079442977905,\n 'MATIC/USDT': 0.5437877774238586,\n 'OCEAN/USDT': 0.5591139793395996,\n 'CVC/USDT': nan,\n 'BEL/USDT': 0.4812873303890228,\n 'CTK/USDT': 0.4955641031265259,\n 'AXS/USDT': 0.534494161605835,\n 'ALPHA/USDT': 0.4935997724533081,\n 'ZEN/USDT': 0.5026664733886719,\n 'SKL/USDT': 0.5633827447891235,\n 'GRT/USDT': 0.5621816515922546,\n '1INCH/USDT': 0.5158689022064209,\n 'CHZ/USDT': 0.5366032123565674,\n 'SAND/USDT': 0.5349123477935791,\n 'ANKR/USDT': 0.4934587776660919,\n 'BTS/USDT': 0.6303687691688538,\n 'LIT/USDT': 0.5480520129203796,\n 'UNFI/USDT': 0.4708050787448883,\n 'REEF/USDT': 0.5032173991203308,\n 'RVN/USDT': 0.4904245436191559,\n 'SFP/USDT': 0.49037620425224304,\n 'XEM/USDT': 0.48842012882232666,\n 'COTI/USDT': 0.5920906662940979,\n 'CHR/USDT': 0.5233285427093506,\n 'MANA/USDT': 0.5343390107154846,\n 'ALICE/USDT': 0.47509294748306274,\n 'HBAR/USDT': 0.5976348519325256,\n 'ONE/USDT': 0.5734410881996155,\n 'LINA/USDT': 0.4994181990623474,\n 'STMX/USDT': 0.5649186968803406,\n 'DENT/USDT': 0.48630866408348083,\n 'CELR/USDT': 0.4727718234062195,\n 'HOT/USDT': 0.5295743346214294,\n 'MTL/USDT': 0.46239688992500305,\n 'OGN/USDT': 0.5035288333892822,\n 'NKN/USDT': 0.4790499806404114,\n 'SC/USDT': 0.7089971303939819,\n 'DGB/USDT': 0.5076626539230347,\n '1000SHIB/USDT': 0.5122788548469543,\n 'BAKE/USDT': 0.5185432434082031,\n 'GTC/USDT': 0.4466984272003174,\n 'BTCDOM/USDT': 0.4449689984321594,\n 'TLM/USDT': nan,\n 'IOTX/USDT': 0.5343765616416931,\n 'AUDIO/USDT': 0.4674380123615265,\n 'RAY/USDT': 0.7089971303939819,\n 'C98/USDT': 0.5005500316619873,\n 'MASK/USDT': 0.4682345688343048,\n 'ATA/USDT': 0.4807993471622467,\n 'DYDX/USDT': 0.5785704255104065,\n '1000XEC/USDT': 0.5013247728347778,\n 'GALA/USDT': 0.5619106888771057,\n 'CELO/USDT': 0.5476105213165283,\n 'AR/USDT': 0.5763906836509705,\n 'KLAY/USDT': 0.473563551902771,\n 'ARPA/USDT': 0.48825883865356445,\n 'CTSI/USDT': 0.48448482155799866,\n 'LPT/USDT': 0.5810117721557617,\n 'ENS/USDT': 0.47390154004096985,\n 'PEOPLE/USDT': 0.5226248502731323,\n 'ANT/USDT': 0.5422942638397217,\n 'ROSE/USDT': 0.5508261919021606,\n 'DUSK/USDT': 0.5426517128944397,\n 'FLOW/USDT': 0.45090872049331665,\n 'IMX/USDT': 0.6308771371841431,\n 'API3/USDT': 0.5231817960739136,\n 'GMT/USDT': 0.5462436079978943,\n 'APE/USDT': 0.5363351702690125,\n 'WOO/USDT': 0.5489307641983032,\n 'FTT/USDT': nan,\n 'JASMY/USDT': 0.5684564709663391,\n 'DAR/USDT': 0.5165020823478699,\n 'GAL/USDT': 0.524298369884491,\n 'OP/USDT': 0.4480808973312378,\n 'INJ/USDT': 0.5605630278587341,\n 'STG/USDT': 0.5376721620559692,\n 'FOOTBALL/USDT': 0.5363617539405823,\n 'SPELL/USDT': 0.5393287539482117,\n '1000LUNC/USDT': 0.49753451347351074,\n 'LUNA2/USDT': 0.5366968512535095,\n 'LDO/USDT': 0.3887309432029724,\n 'CVX/USDT': 0.5460376739501953,\n 'ICP/USDT': 0.5320471525192261,\n 'APT/USDT': 0.5751301050186157,\n 'QNT/USDT': 0.6104604005813599,\n 'BLUEBIRD/USDT': 0.5477304458618164,\n 'FET/USDT': 0.3752877712249756,\n 'FXS/USDT': 0.4749618470668793,\n 'HOOK/USDT': 0.526164710521698,\n 'MAGIC/USDT': 0.4864419996738434,\n 'T/USDT': 0.5348917245864868,\n 'RNDR/USDT': 0.5621725916862488,\n 'HIGH/USDT': 0.5181304216384888,\n 'MINA/USDT': 0.5335000157356262,\n 'ASTR/USDT': 0.5961951017379761,\n 'AGIX/USDT': 0.43088778853416443,\n 'PHB/USDT': 0.46920233964920044,\n 'GMX/USDT': 0.5023136138916016,\n 'CFX/USDT': 0.5028577446937561,\n 'STX/USDT': 0.5130079984664917,\n 'COCOS/USDT': 0.500519871711731,\n 'BNX/USDT': 0.48175734281539917,\n 'ACH/USDT': 0.49386417865753174,\n 'SSV/USDT': 0.5268546938896179}"
     },
     "execution_count": 547,
     "metadata": {},
     "output_type": "execute_result"
    }
   ],
   "source": [],
   "metadata": {
    "collapsed": false
   }
  },
  {
   "cell_type": "code",
   "execution_count": 549,
   "outputs": [
    {
     "data": {
      "text/plain": "      datetime   open   high    low  close    volumns\n0   2021-08-20  7.614  8.273  7.450  8.260  1819944.0\n1   2021-08-21  8.252  8.252  7.200  7.389  1817669.8\n2   2021-08-22  7.390  7.927  6.938  7.176  2077319.1\n3   2021-08-23  7.176  7.796  7.058  7.232  3721738.9\n4   2021-08-24  7.242  8.182  6.745  6.957  7149932.4\n..         ...    ...    ...    ...    ...        ...\n552 2023-02-23  0.248  0.248  0.248  0.248        0.0\n553 2023-02-24  0.248  0.248  0.248  0.248        0.0\n554 2023-02-25  0.248  0.248  0.248  0.248        0.0\n555 2023-02-26  0.248  0.248  0.248  0.248        0.0\n556 2023-02-27  0.248  0.248  0.248  0.248        0.0\n\n[557 rows x 6 columns]",
      "text/html": "<div>\n<style scoped>\n    .dataframe tbody tr th:only-of-type {\n        vertical-align: middle;\n    }\n\n    .dataframe tbody tr th {\n        vertical-align: top;\n    }\n\n    .dataframe thead th {\n        text-align: right;\n    }\n</style>\n<table border=\"1\" class=\"dataframe\">\n  <thead>\n    <tr style=\"text-align: right;\">\n      <th></th>\n      <th>datetime</th>\n      <th>open</th>\n      <th>high</th>\n      <th>low</th>\n      <th>close</th>\n      <th>volumns</th>\n    </tr>\n  </thead>\n  <tbody>\n    <tr>\n      <th>0</th>\n      <td>2021-08-20</td>\n      <td>7.614</td>\n      <td>8.273</td>\n      <td>7.450</td>\n      <td>8.260</td>\n      <td>1819944.0</td>\n    </tr>\n    <tr>\n      <th>1</th>\n      <td>2021-08-21</td>\n      <td>8.252</td>\n      <td>8.252</td>\n      <td>7.200</td>\n      <td>7.389</td>\n      <td>1817669.8</td>\n    </tr>\n    <tr>\n      <th>2</th>\n      <td>2021-08-22</td>\n      <td>7.390</td>\n      <td>7.927</td>\n      <td>6.938</td>\n      <td>7.176</td>\n      <td>2077319.1</td>\n    </tr>\n    <tr>\n      <th>3</th>\n      <td>2021-08-23</td>\n      <td>7.176</td>\n      <td>7.796</td>\n      <td>7.058</td>\n      <td>7.232</td>\n      <td>3721738.9</td>\n    </tr>\n    <tr>\n      <th>4</th>\n      <td>2021-08-24</td>\n      <td>7.242</td>\n      <td>8.182</td>\n      <td>6.745</td>\n      <td>6.957</td>\n      <td>7149932.4</td>\n    </tr>\n    <tr>\n      <th>...</th>\n      <td>...</td>\n      <td>...</td>\n      <td>...</td>\n      <td>...</td>\n      <td>...</td>\n      <td>...</td>\n    </tr>\n    <tr>\n      <th>552</th>\n      <td>2023-02-23</td>\n      <td>0.248</td>\n      <td>0.248</td>\n      <td>0.248</td>\n      <td>0.248</td>\n      <td>0.0</td>\n    </tr>\n    <tr>\n      <th>553</th>\n      <td>2023-02-24</td>\n      <td>0.248</td>\n      <td>0.248</td>\n      <td>0.248</td>\n      <td>0.248</td>\n      <td>0.0</td>\n    </tr>\n    <tr>\n      <th>554</th>\n      <td>2023-02-25</td>\n      <td>0.248</td>\n      <td>0.248</td>\n      <td>0.248</td>\n      <td>0.248</td>\n      <td>0.0</td>\n    </tr>\n    <tr>\n      <th>555</th>\n      <td>2023-02-26</td>\n      <td>0.248</td>\n      <td>0.248</td>\n      <td>0.248</td>\n      <td>0.248</td>\n      <td>0.0</td>\n    </tr>\n    <tr>\n      <th>556</th>\n      <td>2023-02-27</td>\n      <td>0.248</td>\n      <td>0.248</td>\n      <td>0.248</td>\n      <td>0.248</td>\n      <td>0.0</td>\n    </tr>\n  </tbody>\n</table>\n<p>557 rows × 6 columns</p>\n</div>"
     },
     "execution_count": 549,
     "metadata": {},
     "output_type": "execute_result"
    }
   ],
   "source": [
    "ohlcv('RAY/USDT')"
   ],
   "metadata": {
    "collapsed": false
   }
  },
  {
   "cell_type": "code",
   "execution_count": 519,
   "outputs": [
    {
     "ename": "NameError",
     "evalue": "name 'ind' is not defined",
     "output_type": "error",
     "traceback": [
      "\u001B[1;31m---------------------------------------------------------------------------\u001B[0m",
      "\u001B[1;31mNameError\u001B[0m                                 Traceback (most recent call last)",
      "\u001B[1;32m~\\AppData\\Local\\Temp\\ipykernel_174264\\2167066150.py\u001B[0m in \u001B[0;36m<module>\u001B[1;34m\u001B[0m\n\u001B[1;32m----> 1\u001B[1;33m \u001B[0mind\u001B[0m\u001B[1;33m[\u001B[0m\u001B[1;34m'SC/USDT'\u001B[0m\u001B[1;33m]\u001B[0m\u001B[1;33m\u001B[0m\u001B[1;33m\u001B[0m\u001B[0m\n\u001B[0m",
      "\u001B[1;31mNameError\u001B[0m: name 'ind' is not defined"
     ]
    }
   ],
   "source": [
    "ind['SC/USDT']"
   ],
   "metadata": {
    "collapsed": false
   }
  }
 ],
 "metadata": {
  "kernelspec": {
   "display_name": "Python 3",
   "language": "python",
   "name": "python3"
  },
  "language_info": {
   "codemirror_mode": {
    "name": "ipython",
    "version": 2
   },
   "file_extension": ".py",
   "mimetype": "text/x-python",
   "name": "python",
   "nbconvert_exporter": "python",
   "pygments_lexer": "ipython2",
   "version": "2.7.6"
  }
 },
 "nbformat": 4,
 "nbformat_minor": 0
}
