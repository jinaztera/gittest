{
 "cells": [
  {
   "cell_type": "markdown",
   "source": [],
   "metadata": {
    "collapsed": false
   }
  },
  {
   "cell_type": "code",
   "execution_count": 1,
   "outputs": [
    {
     "name": "stdout",
     "output_type": "stream",
     "text": [
      " https://bin.bnbstatic.com/image/admin_mgs_image_upload/20220218/94863af2-c980-42cf-a139-7b9f462a36c2.png\n",
      " https://bin.bnbstatic.com/images/20200410/6caae4f1-f4c6-4486-b05b-442dd559f51f.jpg\n",
      " https://bin.bnbstatic.com/image/admin_mgs_image_upload/20201110/3bc4f3c3-c142-4379-9ebd-a72f332776bc.png\n",
      " None\n",
      " None\n",
      " None\n",
      " None\n",
      " None\n",
      " None\n",
      " None\n",
      " None\n",
      " None\n"
     ]
    }
   ],
   "source": [
    "from urllib.request import urlopen\n",
    "from bs4 import BeautifulSoup\n",
    "\n",
    "html = urlopen(\"https://www.binance.com/en/markets/futures\")\n",
    "\n",
    "bsObject = BeautifulSoup(html, \"html.parser\")\n",
    "\n",
    "for link in bsObject.find_all('img'):\n",
    "    print(link.text.strip(), link.get('src'))"
   ],
   "metadata": {
    "collapsed": false
   }
  },
  {
   "cell_type": "code",
   "execution_count": 10,
   "outputs": [],
   "source": [
    "import pandas as pd\n",
    "symbol = pd.read_excel('tickers3.xlsx')"
   ],
   "metadata": {
    "collapsed": false
   }
  },
  {
   "cell_type": "code",
   "execution_count": 21,
   "outputs": [],
   "source": [
    "jongmok = []\n",
    "jongmok = symbol.columns.tolist()"
   ],
   "metadata": {
    "collapsed": false
   }
  },
  {
   "cell_type": "code",
   "execution_count": 20,
   "outputs": [
    {
     "name": "stdout",
     "output_type": "stream",
     "text": [
      "['BTCUSDT', 'ETHUSDT', 'STXUSDT', 'OPUSDT', 'XEMUSDT', 'MATICUSDT', 'DYDXUSDT', 'SOLUSDT', 'APTUSDT', 'XRPUSDT', 'FILUSDT', 'LDOUSDT', 'BNBUSDT', 'DOGEUSDT', 'AGIXUSDT', 'LTCUSDT', 'NEOUSDT', 'FTMUSDT', 'BNXUSDT', 'LINKUSDT', 'ANKRUSDT', 'CFXUSDT', 'ADAUSDT', 'GTCUSDT', 'GMTUSDT', 'FETUSDT', 'AVAXUSDT', 'ETCUSDT', '1000SHIBUSDT', 'DOTUSDT', 'GALAUSDT', 'SANDUSDT', 'STGUSDT', 'SSVUSDT', 'GRTUSDT', 'CRVUSDT', 'NEARUSDT', 'EOSUSDT', 'YFIUSDT', 'APEUSDT', 'SNXUSDT', 'ACHUSDT', 'KLAYUSDT', 'MAGICUSDT', 'MANAUSDT', 'AXSUSDT', 'BCHUSDT', 'MASKUSDT', 'FXSUSDT', 'OCEANUSDT', 'HOOKUSDT', 'RNDRUSDT', 'ATOMUSDT', 'BTCUSDT.1', 'OMGUSDT', 'HIGHUSDT', 'AUDIOUSDT', 'DASHUSDT', 'ARUSDT', 'LINAUSDT', 'MKRUSDT', 'SUSHIUSDT', 'LITUSDT', 'INJUSDT', 'DUSKUSDT', 'TRXUSDT', 'BLZUSDT', 'VETUSDT', 'KNCUSDT', 'RENUSDT', 'CHZUSDT', 'IMXUSDT', 'THETAUSDT', 'AAVEUSDT', 'UNIUSDT', 'HBARUSDT', 'ICPUSDT', 'WAVESUSDT', 'MINAUSDT', 'KAVAUSDT', 'ROSEUSDT', 'ZECUSDT', 'ENSUSDT', 'QTUMUSDT', 'XTZUSDT', 'COCOSUSDT', '1000LUNCUSDT', 'FLOWUSDT', 'ENJUSDT', 'RLCUSDT', 'XLMUSDT', 'LRCUSDT', 'CELOUSDT', 'JASMYUSDT', 'ETHUSDT.1', 'IOTAUSDT', 'EGLDUSDT', 'UNFIUSDT', 'ONTUSDT', '1INCHUSDT', 'RUNEUSDT', 'ZILUSDT', 'WOOUSDT', 'XMRUSDT', 'BELUSDT', 'ALPHAUSDT', 'ICXUSDT', 'BATUSDT', 'BAKEUSDT', 'ALGOUSDT', 'API3USDT', 'C98USDT', 'SXPUSDT', 'TRBUSDT', 'RSRUSDT', 'ONEUSDT', 'PEOPLEUSDT', 'COMPUSDT', 'PHBUSDT', 'STMXUSDT', 'SKLUSDT', 'LUNA2USDT', 'KSMUSDT', 'STORJUSDT', 'GALUSDT', 'BANDUSDT', 'ALICEUSDT', 'ZRXUSDT', 'QNTUSDT', 'IOSTUSDT', 'ZENUSDT', 'CELRUSDT', 'MTLUSDT', 'REEFUSDT', 'COTIUSDT', 'ATAUSDT', 'HOTUSDT', 'FLMUSDT', 'DENTUSDT', 'IOTXUSDT', 'SFPUSDT', 'ASTRUSDT', 'RVNUSDT', 'CVXUSDT', 'ANTUSDT', 'TOMOUSDT', 'OGNUSDT', 'BALUSDT', 'GMXUSDT', 'LPTUSDT', 'NKNUSDT', 'TUSDT', 'HNTUSDT', 'DARUSDT', 'CTSIUSDT', 'DGBUSDT', 'CTKUSDT', 'ARPAUSDT', '1000XECUSDT', 'SPELLUSDT', 'BTCDOMUSDT', 'FOOTBALLUSDT', 'DEFIUSDT', 'BLUEBIRDUSDT']\n"
     ]
    }
   ],
   "source": [
    "print(jongmok)"
   ],
   "metadata": {
    "collapsed": false
   }
  },
  {
   "cell_type": "code",
   "execution_count": 25,
   "outputs": [],
   "source": [
    "symbol = []\n",
    "for sym in jongmok:\n",
    "    symbol.append(sym[:-4])\n"
   ],
   "metadata": {
    "collapsed": false
   }
  },
  {
   "cell_type": "code",
   "execution_count": 26,
   "outputs": [
    {
     "name": "stdout",
     "output_type": "stream",
     "text": [
      "['BTC', 'ETH', 'STX', 'OP', 'XEM', 'MATIC', 'DYDX', 'SOL', 'APT', 'XRP', 'FIL', 'LDO', 'BNB', 'DOGE', 'AGIX', 'LTC', 'NEO', 'FTM', 'BNX', 'LINK', 'ANKR', 'CFX', 'ADA', 'GTC', 'GMT', 'FET', 'AVAX', 'ETC', '1000SHIB', 'DOT', 'GALA', 'SAND', 'STG', 'SSV', 'GRT', 'CRV', 'NEAR', 'EOS', 'YFI', 'APE', 'SNX', 'ACH', 'KLAY', 'MAGIC', 'MANA', 'AXS', 'BCH', 'MASK', 'FXS', 'OCEAN', 'HOOK', 'RNDR', 'ATOM', 'BTCUS', 'OMG', 'HIGH', 'AUDIO', 'DASH', 'AR', 'LINA', 'MKR', 'SUSHI', 'LIT', 'INJ', 'DUSK', 'TRX', 'BLZ', 'VET', 'KNC', 'REN', 'CHZ', 'IMX', 'THETA', 'AAVE', 'UNI', 'HBAR', 'ICP', 'WAVES', 'MINA', 'KAVA', 'ROSE', 'ZEC', 'ENS', 'QTUM', 'XTZ', 'COCOS', '1000LUNC', 'FLOW', 'ENJ', 'RLC', 'XLM', 'LRC', 'CELO', 'JASMY', 'ETHUS', 'IOTA', 'EGLD', 'UNFI', 'ONT', '1INCH', 'RUNE', 'ZIL', 'WOO', 'XMR', 'BEL', 'ALPHA', 'ICX', 'BAT', 'BAKE', 'ALGO', 'API3', 'C98', 'SXP', 'TRB', 'RSR', 'ONE', 'PEOPLE', 'COMP', 'PHB', 'STMX', 'SKL', 'LUNA2', 'KSM', 'STORJ', 'GAL', 'BAND', 'ALICE', 'ZRX', 'QNT', 'IOST', 'ZEN', 'CELR', 'MTL', 'REEF', 'COTI', 'ATA', 'HOT', 'FLM', 'DENT', 'IOTX', 'SFP', 'ASTR', 'RVN', 'CVX', 'ANT', 'TOMO', 'OGN', 'BAL', 'GMX', 'LPT', 'NKN', 'T', 'HNT', 'DAR', 'CTSI', 'DGB', 'CTK', 'ARPA', '1000XEC', 'SPELL', 'BTCDOM', 'FOOTBALL', 'DEFI', 'BLUEBIRD']\n"
     ]
    }
   ],
   "source": [
    "print(symbol)"
   ],
   "metadata": {
    "collapsed": false
   }
  }
 ],
 "metadata": {
  "kernelspec": {
   "display_name": "Python 3",
   "language": "python",
   "name": "python3"
  },
  "language_info": {
   "codemirror_mode": {
    "name": "ipython",
    "version": 2
   },
   "file_extension": ".py",
   "mimetype": "text/x-python",
   "name": "python",
   "nbconvert_exporter": "python",
   "pygments_lexer": "ipython2",
   "version": "2.7.6"
  }
 },
 "nbformat": 4,
 "nbformat_minor": 0
}
