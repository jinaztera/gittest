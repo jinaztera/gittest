{
 "cells": [
  {
   "cell_type": "code",
   "execution_count": 1,
   "metadata": {
    "collapsed": true
   },
   "outputs": [],
   "source": [
    "import keras\n",
    "import pandas as pd\n",
    "import numpy as np\n",
    "from sklearn.model_selection import train_test_split\n",
    "import pandas as pd\n",
    "import ccxt\n",
    "from sqlalchemy import create_engine\n",
    "import matplotlib\n",
    "from datetime import datetime, timedelta\n",
    "\n",
    "with open(\"../api(JKBOT).txt\") as f:\n",
    "    lines = f.readlines()\n",
    "    api_key = lines[0].strip()\n",
    "    secret = lines[1].strip()\n",
    "\n",
    "binance = ccxt.binance(config={\n",
    "    'apiKey': api_key, #\"XTpKrQGSk3GhXzqiEV4OfwGJzmTVcLh8dKGwHo4aQBH4p0mOqPDpIsxdh95tjGVf\",\n",
    "    'secret': secret, #\"A0eqZGEWHsyL3NMM6WuDrucIanr7A2YZAnrwXVPhXpf2WGauIANwa5zsoNeNt0hs\",\n",
    "    'enableRateLimit' : True,\n",
    "    'options': {\n",
    "        'defaultType': 'future'\n",
    "    }\n",
    "})\n",
    "\n",
    "jongmok= []\n",
    "\n",
    "markets = binance.load_markets()\n",
    "for market in markets.keys():\n",
    "    if market.endswith(\"/USDT\"):\n",
    "        jongmok.append(market[:-5].lower())\n",
    "\n",
    "\n",
    "def md_connect(user, password, db, host, port=3306):\n",
    "    url = 'mysql+pymysql://{}:{}@{}:{}/{}'.format(user, password, host, port, db)\n",
    "    engine = create_engine(url).connect()\n",
    "    return engine\n",
    "\n",
    "engine = md_connect('root', '1234', 'price_1d', 'localhost')\n"
   ]
  },
  {
   "cell_type": "code",
   "execution_count": null,
   "outputs": [],
   "source": [
    "print(jongmok[:40])"
   ],
   "metadata": {
    "collapsed": false
   }
  },
  {
   "cell_type": "code",
   "execution_count": 2,
   "outputs": [],
   "source": [
    "account = [] # 계좌 정보\n",
    "diary = [] # 매매일지\n",
    "\n",
    "\n",
    "window = 28\n",
    "away = 7\n",
    "\n",
    "start_date = ''\n",
    "end_date = ''\n",
    "\n",
    "tot_data = {}\n",
    "engine = md_connect('root', '1234', 'price_1d', 'localhost')\n",
    "for sym in jongmok[:100]:\n",
    "    data = pd.read_sql(sym, engine, index_col='datetime') # 데이터 가져오기\n",
    "    tot_data[sym] = data"
   ],
   "metadata": {
    "collapsed": false
   }
  },
  {
   "cell_type": "code",
   "execution_count": 47,
   "outputs": [
    {
     "name": "stdout",
     "output_type": "stream",
     "text": [
      "40/40 [==============================] - 0s 957us/step\n",
      "1262\n",
      "37/37 [==============================] - 0s 861us/step\n",
      "1182\n",
      "37/37 [==============================] - 0s 889us/step\n",
      "1160\n",
      "36/36 [==============================] - 0s 800us/step\n",
      "1142\n",
      "36/36 [==============================] - 0s 829us/step\n",
      "1140\n",
      "36/36 [==============================] - 0s 857us/step\n",
      "1139\n",
      "36/36 [==============================] - 0s 829us/step\n",
      "1133\n",
      "36/36 [==============================] - 0s 872us/step\n",
      "1132\n",
      "36/36 [==============================] - 0s 886us/step\n",
      "1131\n",
      "36/36 [==============================] - 0s 1ms/step\n",
      "1128\n",
      "35/35 [==============================] - 0s 971us/step\n",
      "1117\n",
      "35/35 [==============================] - 0s 971us/step\n",
      "1114\n",
      "35/35 [==============================] - 0s 824us/step\n",
      "1113\n",
      "35/35 [==============================] - 0s 824us/step\n",
      "1112\n",
      "35/35 [==============================] - 0s 883us/step\n",
      "1111\n",
      "35/35 [==============================] - 0s 824us/step\n",
      "1107\n",
      "35/35 [==============================] - 0s 824us/step\n",
      "1110\n",
      "35/35 [==============================] - 0s 735us/step\n",
      "1106\n",
      "35/35 [==============================] - 0s 941us/step\n",
      "1105\n",
      "35/35 [==============================] - 0s 882us/step\n",
      "1104\n",
      "35/35 [==============================] - 0s 859us/step\n",
      "1103\n",
      "35/35 [==============================] - 0s 882us/step\n",
      "1100\n",
      "35/35 [==============================] - 0s 853us/step\n",
      "1097\n",
      "35/35 [==============================] - 0s 838us/step\n",
      "1096\n",
      "32/32 [==============================] - 0s 807us/step\n",
      "1000\n",
      "31/31 [==============================] - 0s 833us/step\n",
      "980\n",
      "31/31 [==============================] - 0s 817us/step\n",
      "978\n",
      "31/31 [==============================] - 0s 783us/step\n",
      "974\n",
      "31/31 [==============================] - 0s 767us/step\n",
      "972\n",
      "31/31 [==============================] - 0s 949us/step\n",
      "966\n",
      "31/31 [==============================] - 0s 833us/step\n",
      "964\n",
      "30/30 [==============================] - 0s 828us/step\n",
      "956\n",
      "30/30 [==============================] - 0s 829us/step\n",
      "945\n",
      "30/30 [==============================] - 0s 862us/step\n",
      "938\n",
      "30/30 [==============================] - 0s 811us/step\n",
      "937\n",
      "30/30 [==============================] - 0s 897us/step\n",
      "935\n",
      "29/29 [==============================] - 0s 786us/step\n",
      "923\n",
      "29/29 [==============================] - 0s 750us/step\n",
      "922\n",
      "29/29 [==============================] - 0s 812us/step\n",
      "921\n",
      "29/29 [==============================] - 0s 750us/step\n",
      "913\n"
     ]
    }
   ],
   "source": [
    "from tensorflow import keras\n",
    "model = keras.Sequential()\n",
    "model.add(keras.layers.LSTM(30, activation='relu', input_shape=(window, 4), dropout=0.3))\n",
    "model.add(keras.layers.Dense(1, activation='sigmoid'))\n",
    "model.load_weights('h5/1d_14_7_(30).h5')\n",
    "\n",
    "engine = md_connect('root', '1234', 'ind_test', 'localhost')\n",
    "\n",
    "\n",
    "for key in jongmok[:80]:\n",
    "    data = tot_data[key]\n",
    "    x_data = tot_data[key][['open', 'high', 'low', 'close']]\n",
    "    y_data = tot_data[key][['close']]\n",
    "\n",
    "    x_input = []\n",
    "    y_input = []\n",
    "\n",
    "    ## 전처리\n",
    "    for i in range(len(data)-window-away+1): #len(data)-window\n",
    "        mean = x_data[i:i+window].mean()\n",
    "        std = x_data[i:i+window].std()\n",
    "        x = (x_data[i:i+window] - mean) / std\n",
    "        x_input.append(x)\n",
    "    #\n",
    "    ## ind 지표 생성\n",
    "    x_input = np.array(x_input)\n",
    "    predict_data = model.predict(x_input).tolist()\n",
    "\n",
    "    ## 수익률 생성\n",
    "    data['rate'] = data['close'].pct_change(periods=away).shift(-away)\n",
    "\n",
    "\n",
    "    predict = []\n",
    "    for i in range(len(predict_data)):\n",
    "        predict.append(predict_data[i][0])\n",
    "    data = data[window-1:-away]\n",
    "\n",
    "    ##ind 지표 결합\n",
    "    data = data.copy()\n",
    "    data['ind'] = predict\n",
    "    print(len(data))\n",
    "\n",
    "    data['sym'] = key\n",
    "\n",
    "    data = data[['sym', 'open', 'high', 'low', 'close', 'rate', 'ind']]\n",
    "\n",
    "    data.to_sql(key, engine, if_exists=\"replace\", index=True)"
   ],
   "metadata": {
    "collapsed": false
   }
  },
  {
   "cell_type": "code",
   "execution_count": 3,
   "outputs": [],
   "source": [
    "engine = md_connect('root', '1234', 'ind_test', 'localhost')\n",
    "for sym in jongmok[:80]:\n",
    "    data = pd.read_sql(sym, engine, index_col='datetime') # 데이터 가져오기\n",
    "    tot_data[sym] = data\n",
    "\n",
    "# 변수 설정\n",
    "ind_data = []\n",
    "for key in jongmok[:80]:\n",
    "    ind_data.append(tot_data[key][['sym', 'open', 'high', 'low', 'close', 'rate', 'ind']])\n",
    "\n",
    "ind_data = pd.concat(ind_data)\n",
    "\n",
    "\n",
    "def select_rate(long_std, short_std, start_date=0, end_date=0, fee=0):\n",
    "    df = ind_data[(ind_data['ind'] > long_std) | (ind_data['ind'] < short_std)].sort_index()\n",
    "    condition = df['ind'] > 0.5\n",
    "    df = df.assign(position=condition.map({True:1, False:-1}))\n",
    "    df['profit'] = df['position'] * df['rate'] -(2 * fee)\n",
    "\n",
    "    if start_date != 0:\n",
    "        if end_date != 0:\n",
    "            df = df.loc[start_date:end_date]\n",
    "        else:\n",
    "            df = df.loc[start_date:]\n",
    "    else:\n",
    "        if end_date !=0:\n",
    "            df = df.loc[:end_date]\n",
    "\n",
    "\n",
    "    df['count_sum'] = df.groupby('datetime').count()['sym'].rolling(window=7, min_periods=1).sum()\n",
    "    df['tot_profit'] = df['profit'].cumsum()\n",
    "\n",
    "    return df\n",
    "log_column = ['시작', '끝', '거래기간', '매수조건', '매도조건', '거래 횟수', '승률', '승수', '패수', '평균보유량', '평균수익률', '총수익률']\n",
    "log_df = pd.DataFrame(columns = log_column)\n",
    "import matplotlib.pyplot as plt"
   ],
   "metadata": {
    "collapsed": false
   }
  },
  {
   "cell_type": "code",
   "execution_count": 4,
   "outputs": [
    {
     "data": {
      "text/plain": "Empty DataFrame\nColumns: [시작, 끝, 거래기간, 매수조건, 매도조건, 거래 횟수, 승률, 승수, 패수, 평균보유량, 평균수익률, 총수익률]\nIndex: []",
      "text/html": "<div>\n<style scoped>\n    .dataframe tbody tr th:only-of-type {\n        vertical-align: middle;\n    }\n\n    .dataframe tbody tr th {\n        vertical-align: top;\n    }\n\n    .dataframe thead th {\n        text-align: right;\n    }\n</style>\n<table border=\"1\" class=\"dataframe\">\n  <thead>\n    <tr style=\"text-align: right;\">\n      <th></th>\n      <th>시작</th>\n      <th>끝</th>\n      <th>거래기간</th>\n      <th>매수조건</th>\n      <th>매도조건</th>\n      <th>거래 횟수</th>\n      <th>승률</th>\n      <th>승수</th>\n      <th>패수</th>\n      <th>평균보유량</th>\n      <th>평균수익률</th>\n      <th>총수익률</th>\n    </tr>\n  </thead>\n  <tbody>\n  </tbody>\n</table>\n</div>"
     },
     "execution_count": 4,
     "metadata": {},
     "output_type": "execute_result"
    }
   ],
   "source": [
    "log_df"
   ],
   "metadata": {
    "collapsed": false
   }
  },
  {
   "cell_type": "code",
   "execution_count": 5,
   "outputs": [
    {
     "data": {
      "text/plain": "             sym       open       high        low      close      rate  \\\ndatetime                                                                 \n2019-10-05   btc  8130.0000  8175.0000  8010.0000  8122.1400  0.021925   \n2019-10-06   btc  8122.0100  8148.4300  7760.0000  7852.7900  0.053722   \n2019-10-07   btc  7851.0100  8330.0000  7764.4200  8186.8800  0.019442   \n2019-10-08   btc  8188.5500  8322.0100  8103.8800  8167.6200 -0.000932   \n2019-10-09   btc  8168.3300  8700.0000  8113.0000  8559.7700 -0.066306   \n...          ...        ...        ...        ...        ...       ...   \n2023-03-08  sand     0.6092     0.6125     0.5600     0.5686  0.028843   \n2023-03-09  sand     0.5686     0.5896     0.5120     0.5336  0.119565   \n2023-03-10  sand     0.5336     0.5397     0.5035     0.5366  0.264443   \n2023-03-11  sand     0.5366     0.5508     0.5075     0.5276  0.266300   \n2023-03-12  sand     0.5277     0.5892     0.5126     0.5866  0.156154   \n\n                 ind  \ndatetime              \n2019-10-05  0.457285  \n2019-10-06  0.459272  \n2019-10-07  0.456518  \n2019-10-08  0.478046  \n2019-10-09  0.500909  \n...              ...  \n2023-03-08  0.351274  \n2023-03-09  0.418443  \n2023-03-10  0.439132  \n2023-03-11  0.451297  \n2023-03-12  0.418720  \n\n[76050 rows x 7 columns]",
      "text/html": "<div>\n<style scoped>\n    .dataframe tbody tr th:only-of-type {\n        vertical-align: middle;\n    }\n\n    .dataframe tbody tr th {\n        vertical-align: top;\n    }\n\n    .dataframe thead th {\n        text-align: right;\n    }\n</style>\n<table border=\"1\" class=\"dataframe\">\n  <thead>\n    <tr style=\"text-align: right;\">\n      <th></th>\n      <th>sym</th>\n      <th>open</th>\n      <th>high</th>\n      <th>low</th>\n      <th>close</th>\n      <th>rate</th>\n      <th>ind</th>\n    </tr>\n    <tr>\n      <th>datetime</th>\n      <th></th>\n      <th></th>\n      <th></th>\n      <th></th>\n      <th></th>\n      <th></th>\n      <th></th>\n    </tr>\n  </thead>\n  <tbody>\n    <tr>\n      <th>2019-10-05</th>\n      <td>btc</td>\n      <td>8130.0000</td>\n      <td>8175.0000</td>\n      <td>8010.0000</td>\n      <td>8122.1400</td>\n      <td>0.021925</td>\n      <td>0.457285</td>\n    </tr>\n    <tr>\n      <th>2019-10-06</th>\n      <td>btc</td>\n      <td>8122.0100</td>\n      <td>8148.4300</td>\n      <td>7760.0000</td>\n      <td>7852.7900</td>\n      <td>0.053722</td>\n      <td>0.459272</td>\n    </tr>\n    <tr>\n      <th>2019-10-07</th>\n      <td>btc</td>\n      <td>7851.0100</td>\n      <td>8330.0000</td>\n      <td>7764.4200</td>\n      <td>8186.8800</td>\n      <td>0.019442</td>\n      <td>0.456518</td>\n    </tr>\n    <tr>\n      <th>2019-10-08</th>\n      <td>btc</td>\n      <td>8188.5500</td>\n      <td>8322.0100</td>\n      <td>8103.8800</td>\n      <td>8167.6200</td>\n      <td>-0.000932</td>\n      <td>0.478046</td>\n    </tr>\n    <tr>\n      <th>2019-10-09</th>\n      <td>btc</td>\n      <td>8168.3300</td>\n      <td>8700.0000</td>\n      <td>8113.0000</td>\n      <td>8559.7700</td>\n      <td>-0.066306</td>\n      <td>0.500909</td>\n    </tr>\n    <tr>\n      <th>...</th>\n      <td>...</td>\n      <td>...</td>\n      <td>...</td>\n      <td>...</td>\n      <td>...</td>\n      <td>...</td>\n      <td>...</td>\n    </tr>\n    <tr>\n      <th>2023-03-08</th>\n      <td>sand</td>\n      <td>0.6092</td>\n      <td>0.6125</td>\n      <td>0.5600</td>\n      <td>0.5686</td>\n      <td>0.028843</td>\n      <td>0.351274</td>\n    </tr>\n    <tr>\n      <th>2023-03-09</th>\n      <td>sand</td>\n      <td>0.5686</td>\n      <td>0.5896</td>\n      <td>0.5120</td>\n      <td>0.5336</td>\n      <td>0.119565</td>\n      <td>0.418443</td>\n    </tr>\n    <tr>\n      <th>2023-03-10</th>\n      <td>sand</td>\n      <td>0.5336</td>\n      <td>0.5397</td>\n      <td>0.5035</td>\n      <td>0.5366</td>\n      <td>0.264443</td>\n      <td>0.439132</td>\n    </tr>\n    <tr>\n      <th>2023-03-11</th>\n      <td>sand</td>\n      <td>0.5366</td>\n      <td>0.5508</td>\n      <td>0.5075</td>\n      <td>0.5276</td>\n      <td>0.266300</td>\n      <td>0.451297</td>\n    </tr>\n    <tr>\n      <th>2023-03-12</th>\n      <td>sand</td>\n      <td>0.5277</td>\n      <td>0.5892</td>\n      <td>0.5126</td>\n      <td>0.5866</td>\n      <td>0.156154</td>\n      <td>0.418720</td>\n    </tr>\n  </tbody>\n</table>\n<p>76050 rows × 7 columns</p>\n</div>"
     },
     "execution_count": 5,
     "metadata": {},
     "output_type": "execute_result"
    }
   ],
   "source": [
    "ind_data"
   ],
   "metadata": {
    "collapsed": false
   }
  },
  {
   "cell_type": "code",
   "execution_count": null,
   "outputs": [],
   "source": [
    "start_data = '2021-01-01'"
   ],
   "metadata": {
    "collapsed": false
   }
  },
  {
   "cell_type": "code",
   "execution_count": 8,
   "outputs": [
    {
     "ename": "KeyError",
     "evalue": "'Cannot get left slice bound for non-unique label: datetime.datetime(2022, 2, 1, 0, 0)'",
     "output_type": "error",
     "traceback": [
      "\u001B[1;31m---------------------------------------------------------------------------\u001B[0m",
      "\u001B[1;31mKeyError\u001B[0m                                  Traceback (most recent call last)",
      "\u001B[1;32m~\\AppData\\Local\\Temp\\ipykernel_103636\\2779838865.py\u001B[0m in \u001B[0;36m<module>\u001B[1;34m\u001B[0m\n\u001B[0;32m      1\u001B[0m \u001B[0mstart_data\u001B[0m \u001B[1;33m=\u001B[0m \u001B[1;34m'2022-02-01'\u001B[0m\u001B[1;33m\u001B[0m\u001B[1;33m\u001B[0m\u001B[0m\n\u001B[0;32m      2\u001B[0m \u001B[0mstart_date\u001B[0m \u001B[1;33m=\u001B[0m \u001B[0mdatetime\u001B[0m\u001B[1;33m.\u001B[0m\u001B[0mstrptime\u001B[0m\u001B[1;33m(\u001B[0m\u001B[0mstart_data\u001B[0m\u001B[1;33m,\u001B[0m \u001B[1;34m'%Y-%m-%d'\u001B[0m\u001B[1;33m)\u001B[0m\u001B[1;33m\u001B[0m\u001B[1;33m\u001B[0m\u001B[0m\n\u001B[1;32m----> 3\u001B[1;33m \u001B[0mind_data\u001B[0m\u001B[1;33m.\u001B[0m\u001B[0mloc\u001B[0m\u001B[1;33m[\u001B[0m\u001B[0mstart_date\u001B[0m\u001B[1;33m:\u001B[0m\u001B[1;33m]\u001B[0m\u001B[1;33m\u001B[0m\u001B[1;33m\u001B[0m\u001B[0m\n\u001B[0m\u001B[0;32m      4\u001B[0m \u001B[0mlong\u001B[0m \u001B[1;33m=\u001B[0m \u001B[0mlen\u001B[0m\u001B[1;33m(\u001B[0m\u001B[0mind_data\u001B[0m\u001B[1;33m.\u001B[0m\u001B[0mloc\u001B[0m\u001B[1;33m[\u001B[0m\u001B[0mstart_date\u001B[0m\u001B[1;33m]\u001B[0m\u001B[1;33m[\u001B[0m\u001B[0mind_data\u001B[0m\u001B[1;33m.\u001B[0m\u001B[0mloc\u001B[0m\u001B[1;33m[\u001B[0m\u001B[0mstart_date\u001B[0m\u001B[1;33m]\u001B[0m\u001B[1;33m[\u001B[0m\u001B[1;34m'ind'\u001B[0m\u001B[1;33m]\u001B[0m \u001B[1;33m>\u001B[0m \u001B[1;36m0.5\u001B[0m\u001B[1;33m]\u001B[0m\u001B[1;33m)\u001B[0m\u001B[1;33m\u001B[0m\u001B[1;33m\u001B[0m\u001B[0m\n\u001B[0;32m      5\u001B[0m \u001B[0mshort\u001B[0m \u001B[1;33m=\u001B[0m \u001B[0mlen\u001B[0m\u001B[1;33m(\u001B[0m\u001B[0mind_data\u001B[0m\u001B[1;33m.\u001B[0m\u001B[0mloc\u001B[0m\u001B[1;33m[\u001B[0m\u001B[0mstart_date\u001B[0m\u001B[1;33m]\u001B[0m\u001B[1;33m[\u001B[0m\u001B[0mind_data\u001B[0m\u001B[1;33m.\u001B[0m\u001B[0mloc\u001B[0m\u001B[1;33m[\u001B[0m\u001B[0mstart_date\u001B[0m\u001B[1;33m]\u001B[0m\u001B[1;33m[\u001B[0m\u001B[1;34m'ind'\u001B[0m\u001B[1;33m]\u001B[0m \u001B[1;33m<\u001B[0m \u001B[1;36m0.5\u001B[0m\u001B[1;33m]\u001B[0m\u001B[1;33m)\u001B[0m\u001B[1;33m\u001B[0m\u001B[1;33m\u001B[0m\u001B[0m\n",
      "\u001B[1;32mC:\\anaconda3\\lib\\site-packages\\pandas\\core\\indexing.py\u001B[0m in \u001B[0;36m__getitem__\u001B[1;34m(self, key)\u001B[0m\n\u001B[0;32m    965\u001B[0m \u001B[1;33m\u001B[0m\u001B[0m\n\u001B[0;32m    966\u001B[0m             \u001B[0mmaybe_callable\u001B[0m \u001B[1;33m=\u001B[0m \u001B[0mcom\u001B[0m\u001B[1;33m.\u001B[0m\u001B[0mapply_if_callable\u001B[0m\u001B[1;33m(\u001B[0m\u001B[0mkey\u001B[0m\u001B[1;33m,\u001B[0m \u001B[0mself\u001B[0m\u001B[1;33m.\u001B[0m\u001B[0mobj\u001B[0m\u001B[1;33m)\u001B[0m\u001B[1;33m\u001B[0m\u001B[1;33m\u001B[0m\u001B[0m\n\u001B[1;32m--> 967\u001B[1;33m             \u001B[1;32mreturn\u001B[0m \u001B[0mself\u001B[0m\u001B[1;33m.\u001B[0m\u001B[0m_getitem_axis\u001B[0m\u001B[1;33m(\u001B[0m\u001B[0mmaybe_callable\u001B[0m\u001B[1;33m,\u001B[0m \u001B[0maxis\u001B[0m\u001B[1;33m=\u001B[0m\u001B[0maxis\u001B[0m\u001B[1;33m)\u001B[0m\u001B[1;33m\u001B[0m\u001B[1;33m\u001B[0m\u001B[0m\n\u001B[0m\u001B[0;32m    968\u001B[0m \u001B[1;33m\u001B[0m\u001B[0m\n\u001B[0;32m    969\u001B[0m     \u001B[1;32mdef\u001B[0m \u001B[0m_is_scalar_access\u001B[0m\u001B[1;33m(\u001B[0m\u001B[0mself\u001B[0m\u001B[1;33m,\u001B[0m \u001B[0mkey\u001B[0m\u001B[1;33m:\u001B[0m \u001B[0mtuple\u001B[0m\u001B[1;33m)\u001B[0m\u001B[1;33m:\u001B[0m\u001B[1;33m\u001B[0m\u001B[1;33m\u001B[0m\u001B[0m\n",
      "\u001B[1;32mC:\\anaconda3\\lib\\site-packages\\pandas\\core\\indexing.py\u001B[0m in \u001B[0;36m_getitem_axis\u001B[1;34m(self, key, axis)\u001B[0m\n\u001B[0;32m   1181\u001B[0m         \u001B[1;32mif\u001B[0m \u001B[0misinstance\u001B[0m\u001B[1;33m(\u001B[0m\u001B[0mkey\u001B[0m\u001B[1;33m,\u001B[0m \u001B[0mslice\u001B[0m\u001B[1;33m)\u001B[0m\u001B[1;33m:\u001B[0m\u001B[1;33m\u001B[0m\u001B[1;33m\u001B[0m\u001B[0m\n\u001B[0;32m   1182\u001B[0m             \u001B[0mself\u001B[0m\u001B[1;33m.\u001B[0m\u001B[0m_validate_key\u001B[0m\u001B[1;33m(\u001B[0m\u001B[0mkey\u001B[0m\u001B[1;33m,\u001B[0m \u001B[0maxis\u001B[0m\u001B[1;33m)\u001B[0m\u001B[1;33m\u001B[0m\u001B[1;33m\u001B[0m\u001B[0m\n\u001B[1;32m-> 1183\u001B[1;33m             \u001B[1;32mreturn\u001B[0m \u001B[0mself\u001B[0m\u001B[1;33m.\u001B[0m\u001B[0m_get_slice_axis\u001B[0m\u001B[1;33m(\u001B[0m\u001B[0mkey\u001B[0m\u001B[1;33m,\u001B[0m \u001B[0maxis\u001B[0m\u001B[1;33m=\u001B[0m\u001B[0maxis\u001B[0m\u001B[1;33m)\u001B[0m\u001B[1;33m\u001B[0m\u001B[1;33m\u001B[0m\u001B[0m\n\u001B[0m\u001B[0;32m   1184\u001B[0m         \u001B[1;32melif\u001B[0m \u001B[0mcom\u001B[0m\u001B[1;33m.\u001B[0m\u001B[0mis_bool_indexer\u001B[0m\u001B[1;33m(\u001B[0m\u001B[0mkey\u001B[0m\u001B[1;33m)\u001B[0m\u001B[1;33m:\u001B[0m\u001B[1;33m\u001B[0m\u001B[1;33m\u001B[0m\u001B[0m\n\u001B[0;32m   1185\u001B[0m             \u001B[1;32mreturn\u001B[0m \u001B[0mself\u001B[0m\u001B[1;33m.\u001B[0m\u001B[0m_getbool_axis\u001B[0m\u001B[1;33m(\u001B[0m\u001B[0mkey\u001B[0m\u001B[1;33m,\u001B[0m \u001B[0maxis\u001B[0m\u001B[1;33m=\u001B[0m\u001B[0maxis\u001B[0m\u001B[1;33m)\u001B[0m\u001B[1;33m\u001B[0m\u001B[1;33m\u001B[0m\u001B[0m\n",
      "\u001B[1;32mC:\\anaconda3\\lib\\site-packages\\pandas\\core\\indexing.py\u001B[0m in \u001B[0;36m_get_slice_axis\u001B[1;34m(self, slice_obj, axis)\u001B[0m\n\u001B[0;32m   1215\u001B[0m \u001B[1;33m\u001B[0m\u001B[0m\n\u001B[0;32m   1216\u001B[0m         \u001B[0mlabels\u001B[0m \u001B[1;33m=\u001B[0m \u001B[0mobj\u001B[0m\u001B[1;33m.\u001B[0m\u001B[0m_get_axis\u001B[0m\u001B[1;33m(\u001B[0m\u001B[0maxis\u001B[0m\u001B[1;33m)\u001B[0m\u001B[1;33m\u001B[0m\u001B[1;33m\u001B[0m\u001B[0m\n\u001B[1;32m-> 1217\u001B[1;33m         \u001B[0mindexer\u001B[0m \u001B[1;33m=\u001B[0m \u001B[0mlabels\u001B[0m\u001B[1;33m.\u001B[0m\u001B[0mslice_indexer\u001B[0m\u001B[1;33m(\u001B[0m\u001B[0mslice_obj\u001B[0m\u001B[1;33m.\u001B[0m\u001B[0mstart\u001B[0m\u001B[1;33m,\u001B[0m \u001B[0mslice_obj\u001B[0m\u001B[1;33m.\u001B[0m\u001B[0mstop\u001B[0m\u001B[1;33m,\u001B[0m \u001B[0mslice_obj\u001B[0m\u001B[1;33m.\u001B[0m\u001B[0mstep\u001B[0m\u001B[1;33m)\u001B[0m\u001B[1;33m\u001B[0m\u001B[1;33m\u001B[0m\u001B[0m\n\u001B[0m\u001B[0;32m   1218\u001B[0m \u001B[1;33m\u001B[0m\u001B[0m\n\u001B[0;32m   1219\u001B[0m         \u001B[1;32mif\u001B[0m \u001B[0misinstance\u001B[0m\u001B[1;33m(\u001B[0m\u001B[0mindexer\u001B[0m\u001B[1;33m,\u001B[0m \u001B[0mslice\u001B[0m\u001B[1;33m)\u001B[0m\u001B[1;33m:\u001B[0m\u001B[1;33m\u001B[0m\u001B[1;33m\u001B[0m\u001B[0m\n",
      "\u001B[1;32mC:\\anaconda3\\lib\\site-packages\\pandas\\core\\indexes\\datetimes.py\u001B[0m in \u001B[0;36mslice_indexer\u001B[1;34m(self, start, end, step, kind)\u001B[0m\n\u001B[0;32m    758\u001B[0m             \u001B[1;32mor\u001B[0m \u001B[0mself\u001B[0m\u001B[1;33m.\u001B[0m\u001B[0mis_monotonic_increasing\u001B[0m\u001B[1;33m\u001B[0m\u001B[1;33m\u001B[0m\u001B[0m\n\u001B[0;32m    759\u001B[0m         ):\n\u001B[1;32m--> 760\u001B[1;33m             \u001B[1;32mreturn\u001B[0m \u001B[0mIndex\u001B[0m\u001B[1;33m.\u001B[0m\u001B[0mslice_indexer\u001B[0m\u001B[1;33m(\u001B[0m\u001B[0mself\u001B[0m\u001B[1;33m,\u001B[0m \u001B[0mstart\u001B[0m\u001B[1;33m,\u001B[0m \u001B[0mend\u001B[0m\u001B[1;33m,\u001B[0m \u001B[0mstep\u001B[0m\u001B[1;33m,\u001B[0m \u001B[0mkind\u001B[0m\u001B[1;33m=\u001B[0m\u001B[0mkind\u001B[0m\u001B[1;33m)\u001B[0m\u001B[1;33m\u001B[0m\u001B[1;33m\u001B[0m\u001B[0m\n\u001B[0m\u001B[0;32m    761\u001B[0m \u001B[1;33m\u001B[0m\u001B[0m\n\u001B[0;32m    762\u001B[0m         \u001B[0mmask\u001B[0m \u001B[1;33m=\u001B[0m \u001B[0mnp\u001B[0m\u001B[1;33m.\u001B[0m\u001B[0marray\u001B[0m\u001B[1;33m(\u001B[0m\u001B[1;32mTrue\u001B[0m\u001B[1;33m)\u001B[0m\u001B[1;33m\u001B[0m\u001B[1;33m\u001B[0m\u001B[0m\n",
      "\u001B[1;32mC:\\anaconda3\\lib\\site-packages\\pandas\\core\\indexes\\base.py\u001B[0m in \u001B[0;36mslice_indexer\u001B[1;34m(self, start, end, step, kind)\u001B[0m\n\u001B[0;32m   6286\u001B[0m         \u001B[0mself\u001B[0m\u001B[1;33m.\u001B[0m\u001B[0m_deprecated_arg\u001B[0m\u001B[1;33m(\u001B[0m\u001B[0mkind\u001B[0m\u001B[1;33m,\u001B[0m \u001B[1;34m\"kind\"\u001B[0m\u001B[1;33m,\u001B[0m \u001B[1;34m\"slice_indexer\"\u001B[0m\u001B[1;33m)\u001B[0m\u001B[1;33m\u001B[0m\u001B[1;33m\u001B[0m\u001B[0m\n\u001B[0;32m   6287\u001B[0m \u001B[1;33m\u001B[0m\u001B[0m\n\u001B[1;32m-> 6288\u001B[1;33m         \u001B[0mstart_slice\u001B[0m\u001B[1;33m,\u001B[0m \u001B[0mend_slice\u001B[0m \u001B[1;33m=\u001B[0m \u001B[0mself\u001B[0m\u001B[1;33m.\u001B[0m\u001B[0mslice_locs\u001B[0m\u001B[1;33m(\u001B[0m\u001B[0mstart\u001B[0m\u001B[1;33m,\u001B[0m \u001B[0mend\u001B[0m\u001B[1;33m,\u001B[0m \u001B[0mstep\u001B[0m\u001B[1;33m=\u001B[0m\u001B[0mstep\u001B[0m\u001B[1;33m)\u001B[0m\u001B[1;33m\u001B[0m\u001B[1;33m\u001B[0m\u001B[0m\n\u001B[0m\u001B[0;32m   6289\u001B[0m \u001B[1;33m\u001B[0m\u001B[0m\n\u001B[0;32m   6290\u001B[0m         \u001B[1;31m# return a slice\u001B[0m\u001B[1;33m\u001B[0m\u001B[1;33m\u001B[0m\u001B[0m\n",
      "\u001B[1;32mC:\\anaconda3\\lib\\site-packages\\pandas\\core\\indexes\\base.py\u001B[0m in \u001B[0;36mslice_locs\u001B[1;34m(self, start, end, step, kind)\u001B[0m\n\u001B[0;32m   6496\u001B[0m         \u001B[0mstart_slice\u001B[0m \u001B[1;33m=\u001B[0m \u001B[1;32mNone\u001B[0m\u001B[1;33m\u001B[0m\u001B[1;33m\u001B[0m\u001B[0m\n\u001B[0;32m   6497\u001B[0m         \u001B[1;32mif\u001B[0m \u001B[0mstart\u001B[0m \u001B[1;32mis\u001B[0m \u001B[1;32mnot\u001B[0m \u001B[1;32mNone\u001B[0m\u001B[1;33m:\u001B[0m\u001B[1;33m\u001B[0m\u001B[1;33m\u001B[0m\u001B[0m\n\u001B[1;32m-> 6498\u001B[1;33m             \u001B[0mstart_slice\u001B[0m \u001B[1;33m=\u001B[0m \u001B[0mself\u001B[0m\u001B[1;33m.\u001B[0m\u001B[0mget_slice_bound\u001B[0m\u001B[1;33m(\u001B[0m\u001B[0mstart\u001B[0m\u001B[1;33m,\u001B[0m \u001B[1;34m\"left\"\u001B[0m\u001B[1;33m)\u001B[0m\u001B[1;33m\u001B[0m\u001B[1;33m\u001B[0m\u001B[0m\n\u001B[0m\u001B[0;32m   6499\u001B[0m         \u001B[1;32mif\u001B[0m \u001B[0mstart_slice\u001B[0m \u001B[1;32mis\u001B[0m \u001B[1;32mNone\u001B[0m\u001B[1;33m:\u001B[0m\u001B[1;33m\u001B[0m\u001B[1;33m\u001B[0m\u001B[0m\n\u001B[0;32m   6500\u001B[0m             \u001B[0mstart_slice\u001B[0m \u001B[1;33m=\u001B[0m \u001B[1;36m0\u001B[0m\u001B[1;33m\u001B[0m\u001B[1;33m\u001B[0m\u001B[0m\n",
      "\u001B[1;32mC:\\anaconda3\\lib\\site-packages\\pandas\\core\\indexes\\datetimes.py\u001B[0m in \u001B[0;36mget_slice_bound\u001B[1;34m(self, label, side, kind)\u001B[0m\n\u001B[0;32m    793\u001B[0m         \u001B[1;32mif\u001B[0m \u001B[0misinstance\u001B[0m\u001B[1;33m(\u001B[0m\u001B[0mlabel\u001B[0m\u001B[1;33m,\u001B[0m \u001B[0mdate\u001B[0m\u001B[1;33m)\u001B[0m \u001B[1;32mand\u001B[0m \u001B[1;32mnot\u001B[0m \u001B[0misinstance\u001B[0m\u001B[1;33m(\u001B[0m\u001B[0mlabel\u001B[0m\u001B[1;33m,\u001B[0m \u001B[0mdatetime\u001B[0m\u001B[1;33m)\u001B[0m\u001B[1;33m:\u001B[0m\u001B[1;33m\u001B[0m\u001B[1;33m\u001B[0m\u001B[0m\n\u001B[0;32m    794\u001B[0m             \u001B[0mlabel\u001B[0m \u001B[1;33m=\u001B[0m \u001B[0mTimestamp\u001B[0m\u001B[1;33m(\u001B[0m\u001B[0mlabel\u001B[0m\u001B[1;33m)\u001B[0m\u001B[1;33m.\u001B[0m\u001B[0mto_pydatetime\u001B[0m\u001B[1;33m(\u001B[0m\u001B[1;33m)\u001B[0m\u001B[1;33m\u001B[0m\u001B[1;33m\u001B[0m\u001B[0m\n\u001B[1;32m--> 795\u001B[1;33m         \u001B[1;32mreturn\u001B[0m \u001B[0msuper\u001B[0m\u001B[1;33m(\u001B[0m\u001B[1;33m)\u001B[0m\u001B[1;33m.\u001B[0m\u001B[0mget_slice_bound\u001B[0m\u001B[1;33m(\u001B[0m\u001B[0mlabel\u001B[0m\u001B[1;33m,\u001B[0m \u001B[0mside\u001B[0m\u001B[1;33m=\u001B[0m\u001B[0mside\u001B[0m\u001B[1;33m,\u001B[0m \u001B[0mkind\u001B[0m\u001B[1;33m=\u001B[0m\u001B[0mkind\u001B[0m\u001B[1;33m)\u001B[0m\u001B[1;33m\u001B[0m\u001B[1;33m\u001B[0m\u001B[0m\n\u001B[0m\u001B[0;32m    796\u001B[0m \u001B[1;33m\u001B[0m\u001B[0m\n\u001B[0;32m    797\u001B[0m     \u001B[1;31m# --------------------------------------------------------------------\u001B[0m\u001B[1;33m\u001B[0m\u001B[1;33m\u001B[0m\u001B[0m\n",
      "\u001B[1;32mC:\\anaconda3\\lib\\site-packages\\pandas\\core\\indexes\\base.py\u001B[0m in \u001B[0;36mget_slice_bound\u001B[1;34m(self, label, side, kind)\u001B[0m\n\u001B[0;32m   6423\u001B[0m             \u001B[0mslc\u001B[0m \u001B[1;33m=\u001B[0m \u001B[0mlib\u001B[0m\u001B[1;33m.\u001B[0m\u001B[0mmaybe_booleans_to_slice\u001B[0m\u001B[1;33m(\u001B[0m\u001B[0mslc\u001B[0m\u001B[1;33m.\u001B[0m\u001B[0mview\u001B[0m\u001B[1;33m(\u001B[0m\u001B[1;34m\"u1\"\u001B[0m\u001B[1;33m)\u001B[0m\u001B[1;33m)\u001B[0m\u001B[1;33m\u001B[0m\u001B[1;33m\u001B[0m\u001B[0m\n\u001B[0;32m   6424\u001B[0m             \u001B[1;32mif\u001B[0m \u001B[0misinstance\u001B[0m\u001B[1;33m(\u001B[0m\u001B[0mslc\u001B[0m\u001B[1;33m,\u001B[0m \u001B[0mnp\u001B[0m\u001B[1;33m.\u001B[0m\u001B[0mndarray\u001B[0m\u001B[1;33m)\u001B[0m\u001B[1;33m:\u001B[0m\u001B[1;33m\u001B[0m\u001B[1;33m\u001B[0m\u001B[0m\n\u001B[1;32m-> 6425\u001B[1;33m                 raise KeyError(\n\u001B[0m\u001B[0;32m   6426\u001B[0m                     \u001B[1;34mf\"Cannot get {side} slice bound for non-unique \"\u001B[0m\u001B[1;33m\u001B[0m\u001B[1;33m\u001B[0m\u001B[0m\n\u001B[0;32m   6427\u001B[0m                     \u001B[1;34mf\"label: {repr(original_label)}\"\u001B[0m\u001B[1;33m\u001B[0m\u001B[1;33m\u001B[0m\u001B[0m\n",
      "\u001B[1;31mKeyError\u001B[0m: 'Cannot get left slice bound for non-unique label: datetime.datetime(2022, 2, 1, 0, 0)'"
     ]
    }
   ],
   "source": [
    "start_data = '2022-02-01'\n",
    "start_date = datetime.strptime(start_data, '%Y-%m-%d')\n",
    "ind_data.loc[start_date:]\n",
    "long = len(ind_data.loc[start_date][ind_data.loc[start_date]['ind'] > 0.5])\n",
    "short = len(ind_data.loc[start_date][ind_data.loc[start_date]['ind'] < 0.5])\n",
    "print(long, short)\n",
    "ind_data.loc[start_date]"
   ],
   "metadata": {
    "collapsed": false
   }
  },
  {
   "cell_type": "markdown",
   "source": [],
   "metadata": {
    "collapsed": false
   }
  },
  {
   "cell_type": "code",
   "execution_count": null,
   "outputs": [],
   "source": [
    "start_data = '2021-03-01'\n",
    "start_date = datetime.strptime(start_data, '%Y-%m-%d')"
   ],
   "metadata": {
    "collapsed": false
   }
  },
  {
   "cell_type": "code",
   "execution_count": null,
   "outputs": [],
   "source": [],
   "metadata": {
    "collapsed": false
   }
  },
  {
   "cell_type": "code",
   "execution_count": null,
   "outputs": [],
   "source": [],
   "metadata": {
    "collapsed": false
   }
  },
  {
   "cell_type": "code",
   "execution_count": null,
   "outputs": [],
   "source": [
    "ind_data[ind_data.loc[start_date]['ind'] > 0.5]"
   ],
   "metadata": {
    "collapsed": false
   }
  },
  {
   "cell_type": "code",
   "execution_count": 9,
   "outputs": [
    {
     "name": "stdout",
     "output_type": "stream",
     "text": [
      "2023-01-01 00:00:00 65 14 0.8227848101265823\n",
      "2023-01-02 00:00:00 68 11 0.8607594936708861\n",
      "2023-01-03 00:00:00 72 7 0.9113924050632911\n",
      "2023-01-04 00:00:00 73 6 0.9240506329113924\n",
      "2023-01-05 00:00:00 70 9 0.8860759493670886\n",
      "2023-01-06 00:00:00 66 13 0.8354430379746836\n",
      "2023-01-07 00:00:00 57 22 0.7215189873417721\n",
      "2023-01-08 00:00:00 51 28 0.6455696202531646\n",
      "2023-01-09 00:00:00 57 22 0.7215189873417721\n",
      "2023-01-10 00:00:00 63 16 0.7974683544303798\n",
      "2023-01-11 00:00:00 63 16 0.7974683544303798\n",
      "2023-01-12 00:00:00 67 12 0.8481012658227848\n",
      "2023-01-13 00:00:00 69 10 0.8734177215189873\n",
      "2023-01-14 00:00:00 70 9 0.8860759493670886\n",
      "2023-01-15 00:00:00 71 8 0.8987341772151899\n",
      "2023-01-16 00:00:00 69 10 0.8734177215189873\n",
      "2023-01-17 00:00:00 59 20 0.7468354430379747\n",
      "2023-01-18 00:00:00 51 28 0.6455696202531646\n",
      "2023-01-19 00:00:00 37 42 0.46835443037974683\n",
      "2023-01-20 00:00:00 16 63 0.20253164556962025\n",
      "2023-01-21 00:00:00 7 72 0.08860759493670886\n",
      "2023-01-22 00:00:00 9 70 0.11392405063291139\n",
      "2023-01-23 00:00:00 13 66 0.16455696202531644\n",
      "2023-01-24 00:00:00 24 55 0.3037974683544304\n",
      "2023-01-25 00:00:00 35 44 0.4430379746835443\n",
      "2023-01-26 00:00:00 62 17 0.7848101265822784\n",
      "2023-01-27 00:00:00 68 11 0.8607594936708861\n",
      "2023-01-28 00:00:00 77 2 0.9746835443037974\n",
      "2023-01-29 00:00:00 77 2 0.9746835443037974\n",
      "2023-01-30 00:00:00 78 1 0.9873417721518988\n",
      "2023-01-31 00:00:00 79 0 1.0\n",
      "2023-02-01 00:00:00 77 2 0.9746835443037974\n",
      "2023-02-02 00:00:00 64 15 0.810126582278481\n",
      "2023-02-03 00:00:00 29 50 0.3670886075949367\n",
      "2023-02-04 00:00:00 17 62 0.21518987341772153\n",
      "2023-02-05 00:00:00 16 63 0.20253164556962025\n",
      "2023-02-06 00:00:00 31 48 0.3924050632911392\n",
      "2023-02-07 00:00:00 44 35 0.5569620253164557\n",
      "2023-02-08 00:00:00 53 26 0.6708860759493671\n",
      "2023-02-09 00:00:00 55 24 0.6962025316455697\n",
      "2023-02-10 00:00:00 68 11 0.8607594936708861\n",
      "2023-02-11 00:00:00 63 16 0.7974683544303798\n",
      "2023-02-12 00:00:00 62 17 0.7848101265822784\n",
      "2023-02-13 00:00:00 65 14 0.8227848101265823\n",
      "2023-02-14 00:00:00 62 17 0.7848101265822784\n",
      "2023-02-15 00:00:00 55 24 0.6962025316455697\n",
      "2023-02-16 00:00:00 40 39 0.5063291139240507\n",
      "2023-02-17 00:00:00 32 47 0.4050632911392405\n",
      "2023-02-18 00:00:00 30 49 0.379746835443038\n",
      "2023-02-19 00:00:00 34 45 0.43037974683544306\n",
      "2023-02-20 00:00:00 36 43 0.45569620253164556\n",
      "2023-02-21 00:00:00 59 20 0.7468354430379747\n",
      "2023-02-22 00:00:00 65 14 0.8227848101265823\n",
      "2023-02-23 00:00:00 63 16 0.7974683544303798\n",
      "2023-02-24 00:00:00 63 16 0.7974683544303798\n",
      "2023-02-25 00:00:00 61 18 0.7721518987341772\n",
      "2023-02-26 00:00:00 54 25 0.6835443037974683\n",
      "2023-02-27 00:00:00 45 34 0.569620253164557\n",
      "2023-02-28 00:00:00 36 43 0.45569620253164556\n",
      "2023-03-01 00:00:00 15 64 0.189873417721519\n",
      "2023-03-02 00:00:00 12 67 0.1518987341772152\n",
      "2023-03-03 00:00:00 8 71 0.10126582278481013\n",
      "2023-03-04 00:00:00 12 67 0.1518987341772152\n",
      "2023-03-05 00:00:00 28 51 0.35443037974683544\n",
      "2023-03-06 00:00:00 46 33 0.5822784810126582\n",
      "2023-03-07 00:00:00 51 28 0.6455696202531646\n",
      "2023-03-08 00:00:00 54 25 0.6835443037974683\n",
      "2023-03-09 00:00:00 53 26 0.6708860759493671\n",
      "2023-03-10 00:00:00 53 26 0.6708860759493671\n",
      "2023-03-11 00:00:00 47 32 0.5949367088607594\n",
      "2023-03-12 00:00:00 23 56 0.2911392405063291\n"
     ]
    },
    {
     "ename": "KeyError",
     "evalue": "datetime.datetime(2023, 3, 13, 0, 0)",
     "output_type": "error",
     "traceback": [
      "\u001B[1;31m---------------------------------------------------------------------------\u001B[0m",
      "\u001B[1;31mKeyError\u001B[0m                                  Traceback (most recent call last)",
      "\u001B[1;32mC:\\anaconda3\\lib\\site-packages\\pandas\\core\\indexes\\base.py\u001B[0m in \u001B[0;36mget_loc\u001B[1;34m(self, key, method, tolerance)\u001B[0m\n\u001B[0;32m   3628\u001B[0m             \u001B[1;32mtry\u001B[0m\u001B[1;33m:\u001B[0m\u001B[1;33m\u001B[0m\u001B[1;33m\u001B[0m\u001B[0m\n\u001B[1;32m-> 3629\u001B[1;33m                 \u001B[1;32mreturn\u001B[0m \u001B[0mself\u001B[0m\u001B[1;33m.\u001B[0m\u001B[0m_engine\u001B[0m\u001B[1;33m.\u001B[0m\u001B[0mget_loc\u001B[0m\u001B[1;33m(\u001B[0m\u001B[0mcasted_key\u001B[0m\u001B[1;33m)\u001B[0m\u001B[1;33m\u001B[0m\u001B[1;33m\u001B[0m\u001B[0m\n\u001B[0m\u001B[0;32m   3630\u001B[0m             \u001B[1;32mexcept\u001B[0m \u001B[0mKeyError\u001B[0m \u001B[1;32mas\u001B[0m \u001B[0merr\u001B[0m\u001B[1;33m:\u001B[0m\u001B[1;33m\u001B[0m\u001B[1;33m\u001B[0m\u001B[0m\n",
      "\u001B[1;32mC:\\anaconda3\\lib\\site-packages\\pandas\\_libs\\index.pyx\u001B[0m in \u001B[0;36mpandas._libs.index.DatetimeEngine.get_loc\u001B[1;34m()\u001B[0m\n",
      "\u001B[1;32mC:\\anaconda3\\lib\\site-packages\\pandas\\_libs\\index.pyx\u001B[0m in \u001B[0;36mpandas._libs.index.DatetimeEngine.get_loc\u001B[1;34m()\u001B[0m\n",
      "\u001B[1;32mC:\\anaconda3\\lib\\site-packages\\pandas\\_libs\\index.pyx\u001B[0m in \u001B[0;36mpandas._libs.index.IndexEngine._get_loc_duplicates\u001B[1;34m()\u001B[0m\n",
      "\u001B[1;32mC:\\anaconda3\\lib\\site-packages\\pandas\\_libs\\index.pyx\u001B[0m in \u001B[0;36mpandas._libs.index.IndexEngine._maybe_get_bool_indexer\u001B[1;34m()\u001B[0m\n",
      "\u001B[1;32mC:\\anaconda3\\lib\\site-packages\\pandas\\_libs\\index.pyx\u001B[0m in \u001B[0;36mpandas._libs.index._unpack_bool_indexer\u001B[1;34m()\u001B[0m\n",
      "\u001B[1;31mKeyError\u001B[0m: 1678665600000000000",
      "\nThe above exception was the direct cause of the following exception:\n",
      "\u001B[1;31mKeyError\u001B[0m                                  Traceback (most recent call last)",
      "\u001B[1;32mC:\\anaconda3\\lib\\site-packages\\pandas\\core\\indexes\\datetimes.py\u001B[0m in \u001B[0;36mget_loc\u001B[1;34m(self, key, method, tolerance)\u001B[0m\n\u001B[0;32m    695\u001B[0m         \u001B[1;32mtry\u001B[0m\u001B[1;33m:\u001B[0m\u001B[1;33m\u001B[0m\u001B[1;33m\u001B[0m\u001B[0m\n\u001B[1;32m--> 696\u001B[1;33m             \u001B[1;32mreturn\u001B[0m \u001B[0mIndex\u001B[0m\u001B[1;33m.\u001B[0m\u001B[0mget_loc\u001B[0m\u001B[1;33m(\u001B[0m\u001B[0mself\u001B[0m\u001B[1;33m,\u001B[0m \u001B[0mkey\u001B[0m\u001B[1;33m,\u001B[0m \u001B[0mmethod\u001B[0m\u001B[1;33m,\u001B[0m \u001B[0mtolerance\u001B[0m\u001B[1;33m)\u001B[0m\u001B[1;33m\u001B[0m\u001B[1;33m\u001B[0m\u001B[0m\n\u001B[0m\u001B[0;32m    697\u001B[0m         \u001B[1;32mexcept\u001B[0m \u001B[0mKeyError\u001B[0m \u001B[1;32mas\u001B[0m \u001B[0merr\u001B[0m\u001B[1;33m:\u001B[0m\u001B[1;33m\u001B[0m\u001B[1;33m\u001B[0m\u001B[0m\n",
      "\u001B[1;32mC:\\anaconda3\\lib\\site-packages\\pandas\\core\\indexes\\base.py\u001B[0m in \u001B[0;36mget_loc\u001B[1;34m(self, key, method, tolerance)\u001B[0m\n\u001B[0;32m   3630\u001B[0m             \u001B[1;32mexcept\u001B[0m \u001B[0mKeyError\u001B[0m \u001B[1;32mas\u001B[0m \u001B[0merr\u001B[0m\u001B[1;33m:\u001B[0m\u001B[1;33m\u001B[0m\u001B[1;33m\u001B[0m\u001B[0m\n\u001B[1;32m-> 3631\u001B[1;33m                 \u001B[1;32mraise\u001B[0m \u001B[0mKeyError\u001B[0m\u001B[1;33m(\u001B[0m\u001B[0mkey\u001B[0m\u001B[1;33m)\u001B[0m \u001B[1;32mfrom\u001B[0m \u001B[0merr\u001B[0m\u001B[1;33m\u001B[0m\u001B[1;33m\u001B[0m\u001B[0m\n\u001B[0m\u001B[0;32m   3632\u001B[0m             \u001B[1;32mexcept\u001B[0m \u001B[0mTypeError\u001B[0m\u001B[1;33m:\u001B[0m\u001B[1;33m\u001B[0m\u001B[1;33m\u001B[0m\u001B[0m\n",
      "\u001B[1;31mKeyError\u001B[0m: Timestamp('2023-03-13 00:00:00')",
      "\nThe above exception was the direct cause of the following exception:\n",
      "\u001B[1;31mKeyError\u001B[0m                                  Traceback (most recent call last)",
      "\u001B[1;32m~\\AppData\\Local\\Temp\\ipykernel_103636\\2818148146.py\u001B[0m in \u001B[0;36m<module>\u001B[1;34m\u001B[0m\n\u001B[0;32m      4\u001B[0m \u001B[1;32mfor\u001B[0m \u001B[0mi\u001B[0m \u001B[1;32min\u001B[0m \u001B[0mrange\u001B[0m\u001B[1;33m(\u001B[0m\u001B[1;36m365\u001B[0m\u001B[1;33m)\u001B[0m\u001B[1;33m:\u001B[0m\u001B[1;33m\u001B[0m\u001B[1;33m\u001B[0m\u001B[0m\n\u001B[0;32m      5\u001B[0m     \u001B[0mstart_date\u001B[0m\u001B[1;33m\u001B[0m\u001B[1;33m\u001B[0m\u001B[0m\n\u001B[1;32m----> 6\u001B[1;33m     \u001B[0mlong\u001B[0m \u001B[1;33m=\u001B[0m \u001B[0mlen\u001B[0m\u001B[1;33m(\u001B[0m\u001B[0mind_data\u001B[0m\u001B[1;33m.\u001B[0m\u001B[0mloc\u001B[0m\u001B[1;33m[\u001B[0m\u001B[0mstart_date\u001B[0m\u001B[1;33m]\u001B[0m\u001B[1;33m[\u001B[0m\u001B[0mind_data\u001B[0m\u001B[1;33m.\u001B[0m\u001B[0mloc\u001B[0m\u001B[1;33m[\u001B[0m\u001B[0mstart_date\u001B[0m\u001B[1;33m]\u001B[0m\u001B[1;33m[\u001B[0m\u001B[1;34m'ind'\u001B[0m\u001B[1;33m]\u001B[0m \u001B[1;33m>\u001B[0m \u001B[1;36m0.5\u001B[0m\u001B[1;33m]\u001B[0m\u001B[1;33m)\u001B[0m\u001B[1;33m\u001B[0m\u001B[1;33m\u001B[0m\u001B[0m\n\u001B[0m\u001B[0;32m      7\u001B[0m     \u001B[0mshort\u001B[0m \u001B[1;33m=\u001B[0m \u001B[0mlen\u001B[0m\u001B[1;33m(\u001B[0m\u001B[0mind_data\u001B[0m\u001B[1;33m.\u001B[0m\u001B[0mloc\u001B[0m\u001B[1;33m[\u001B[0m\u001B[0mstart_date\u001B[0m\u001B[1;33m]\u001B[0m\u001B[1;33m[\u001B[0m\u001B[0mind_data\u001B[0m\u001B[1;33m.\u001B[0m\u001B[0mloc\u001B[0m\u001B[1;33m[\u001B[0m\u001B[0mstart_date\u001B[0m\u001B[1;33m]\u001B[0m\u001B[1;33m[\u001B[0m\u001B[1;34m'ind'\u001B[0m\u001B[1;33m]\u001B[0m \u001B[1;33m<\u001B[0m \u001B[1;36m0.5\u001B[0m\u001B[1;33m]\u001B[0m\u001B[1;33m)\u001B[0m\u001B[1;33m\u001B[0m\u001B[1;33m\u001B[0m\u001B[0m\n\u001B[0;32m      8\u001B[0m     \u001B[0mnew_ind_list\u001B[0m\u001B[1;33m.\u001B[0m\u001B[0mappend\u001B[0m\u001B[1;33m(\u001B[0m\u001B[0mlong\u001B[0m \u001B[1;33m/\u001B[0m \u001B[1;33m(\u001B[0m\u001B[0mlong\u001B[0m \u001B[1;33m+\u001B[0m \u001B[0mshort\u001B[0m\u001B[1;33m)\u001B[0m\u001B[1;33m)\u001B[0m\u001B[1;33m\u001B[0m\u001B[1;33m\u001B[0m\u001B[0m\n",
      "\u001B[1;32mC:\\anaconda3\\lib\\site-packages\\pandas\\core\\indexing.py\u001B[0m in \u001B[0;36m__getitem__\u001B[1;34m(self, key)\u001B[0m\n\u001B[0;32m    965\u001B[0m \u001B[1;33m\u001B[0m\u001B[0m\n\u001B[0;32m    966\u001B[0m             \u001B[0mmaybe_callable\u001B[0m \u001B[1;33m=\u001B[0m \u001B[0mcom\u001B[0m\u001B[1;33m.\u001B[0m\u001B[0mapply_if_callable\u001B[0m\u001B[1;33m(\u001B[0m\u001B[0mkey\u001B[0m\u001B[1;33m,\u001B[0m \u001B[0mself\u001B[0m\u001B[1;33m.\u001B[0m\u001B[0mobj\u001B[0m\u001B[1;33m)\u001B[0m\u001B[1;33m\u001B[0m\u001B[1;33m\u001B[0m\u001B[0m\n\u001B[1;32m--> 967\u001B[1;33m             \u001B[1;32mreturn\u001B[0m \u001B[0mself\u001B[0m\u001B[1;33m.\u001B[0m\u001B[0m_getitem_axis\u001B[0m\u001B[1;33m(\u001B[0m\u001B[0mmaybe_callable\u001B[0m\u001B[1;33m,\u001B[0m \u001B[0maxis\u001B[0m\u001B[1;33m=\u001B[0m\u001B[0maxis\u001B[0m\u001B[1;33m)\u001B[0m\u001B[1;33m\u001B[0m\u001B[1;33m\u001B[0m\u001B[0m\n\u001B[0m\u001B[0;32m    968\u001B[0m \u001B[1;33m\u001B[0m\u001B[0m\n\u001B[0;32m    969\u001B[0m     \u001B[1;32mdef\u001B[0m \u001B[0m_is_scalar_access\u001B[0m\u001B[1;33m(\u001B[0m\u001B[0mself\u001B[0m\u001B[1;33m,\u001B[0m \u001B[0mkey\u001B[0m\u001B[1;33m:\u001B[0m \u001B[0mtuple\u001B[0m\u001B[1;33m)\u001B[0m\u001B[1;33m:\u001B[0m\u001B[1;33m\u001B[0m\u001B[1;33m\u001B[0m\u001B[0m\n",
      "\u001B[1;32mC:\\anaconda3\\lib\\site-packages\\pandas\\core\\indexing.py\u001B[0m in \u001B[0;36m_getitem_axis\u001B[1;34m(self, key, axis)\u001B[0m\n\u001B[0;32m   1203\u001B[0m         \u001B[1;31m# fall thru to straight lookup\u001B[0m\u001B[1;33m\u001B[0m\u001B[1;33m\u001B[0m\u001B[0m\n\u001B[0;32m   1204\u001B[0m         \u001B[0mself\u001B[0m\u001B[1;33m.\u001B[0m\u001B[0m_validate_key\u001B[0m\u001B[1;33m(\u001B[0m\u001B[0mkey\u001B[0m\u001B[1;33m,\u001B[0m \u001B[0maxis\u001B[0m\u001B[1;33m)\u001B[0m\u001B[1;33m\u001B[0m\u001B[1;33m\u001B[0m\u001B[0m\n\u001B[1;32m-> 1205\u001B[1;33m         \u001B[1;32mreturn\u001B[0m \u001B[0mself\u001B[0m\u001B[1;33m.\u001B[0m\u001B[0m_get_label\u001B[0m\u001B[1;33m(\u001B[0m\u001B[0mkey\u001B[0m\u001B[1;33m,\u001B[0m \u001B[0maxis\u001B[0m\u001B[1;33m=\u001B[0m\u001B[0maxis\u001B[0m\u001B[1;33m)\u001B[0m\u001B[1;33m\u001B[0m\u001B[1;33m\u001B[0m\u001B[0m\n\u001B[0m\u001B[0;32m   1206\u001B[0m \u001B[1;33m\u001B[0m\u001B[0m\n\u001B[0;32m   1207\u001B[0m     \u001B[1;32mdef\u001B[0m \u001B[0m_get_slice_axis\u001B[0m\u001B[1;33m(\u001B[0m\u001B[0mself\u001B[0m\u001B[1;33m,\u001B[0m \u001B[0mslice_obj\u001B[0m\u001B[1;33m:\u001B[0m \u001B[0mslice\u001B[0m\u001B[1;33m,\u001B[0m \u001B[0maxis\u001B[0m\u001B[1;33m:\u001B[0m \u001B[0mint\u001B[0m\u001B[1;33m)\u001B[0m\u001B[1;33m:\u001B[0m\u001B[1;33m\u001B[0m\u001B[1;33m\u001B[0m\u001B[0m\n",
      "\u001B[1;32mC:\\anaconda3\\lib\\site-packages\\pandas\\core\\indexing.py\u001B[0m in \u001B[0;36m_get_label\u001B[1;34m(self, label, axis)\u001B[0m\n\u001B[0;32m   1151\u001B[0m     \u001B[1;32mdef\u001B[0m \u001B[0m_get_label\u001B[0m\u001B[1;33m(\u001B[0m\u001B[0mself\u001B[0m\u001B[1;33m,\u001B[0m \u001B[0mlabel\u001B[0m\u001B[1;33m,\u001B[0m \u001B[0maxis\u001B[0m\u001B[1;33m:\u001B[0m \u001B[0mint\u001B[0m\u001B[1;33m)\u001B[0m\u001B[1;33m:\u001B[0m\u001B[1;33m\u001B[0m\u001B[1;33m\u001B[0m\u001B[0m\n\u001B[0;32m   1152\u001B[0m         \u001B[1;31m# GH#5667 this will fail if the label is not present in the axis.\u001B[0m\u001B[1;33m\u001B[0m\u001B[1;33m\u001B[0m\u001B[0m\n\u001B[1;32m-> 1153\u001B[1;33m         \u001B[1;32mreturn\u001B[0m \u001B[0mself\u001B[0m\u001B[1;33m.\u001B[0m\u001B[0mobj\u001B[0m\u001B[1;33m.\u001B[0m\u001B[0mxs\u001B[0m\u001B[1;33m(\u001B[0m\u001B[0mlabel\u001B[0m\u001B[1;33m,\u001B[0m \u001B[0maxis\u001B[0m\u001B[1;33m=\u001B[0m\u001B[0maxis\u001B[0m\u001B[1;33m)\u001B[0m\u001B[1;33m\u001B[0m\u001B[1;33m\u001B[0m\u001B[0m\n\u001B[0m\u001B[0;32m   1154\u001B[0m \u001B[1;33m\u001B[0m\u001B[0m\n\u001B[0;32m   1155\u001B[0m     \u001B[1;32mdef\u001B[0m \u001B[0m_handle_lowerdim_multi_index_axis0\u001B[0m\u001B[1;33m(\u001B[0m\u001B[0mself\u001B[0m\u001B[1;33m,\u001B[0m \u001B[0mtup\u001B[0m\u001B[1;33m:\u001B[0m \u001B[0mtuple\u001B[0m\u001B[1;33m)\u001B[0m\u001B[1;33m:\u001B[0m\u001B[1;33m\u001B[0m\u001B[1;33m\u001B[0m\u001B[0m\n",
      "\u001B[1;32mC:\\anaconda3\\lib\\site-packages\\pandas\\core\\generic.py\u001B[0m in \u001B[0;36mxs\u001B[1;34m(self, key, axis, level, drop_level)\u001B[0m\n\u001B[0;32m   3862\u001B[0m                     \u001B[0mnew_index\u001B[0m \u001B[1;33m=\u001B[0m \u001B[0mindex\u001B[0m\u001B[1;33m[\u001B[0m\u001B[0mloc\u001B[0m\u001B[1;33m]\u001B[0m\u001B[1;33m\u001B[0m\u001B[1;33m\u001B[0m\u001B[0m\n\u001B[0;32m   3863\u001B[0m         \u001B[1;32melse\u001B[0m\u001B[1;33m:\u001B[0m\u001B[1;33m\u001B[0m\u001B[1;33m\u001B[0m\u001B[0m\n\u001B[1;32m-> 3864\u001B[1;33m             \u001B[0mloc\u001B[0m \u001B[1;33m=\u001B[0m \u001B[0mindex\u001B[0m\u001B[1;33m.\u001B[0m\u001B[0mget_loc\u001B[0m\u001B[1;33m(\u001B[0m\u001B[0mkey\u001B[0m\u001B[1;33m)\u001B[0m\u001B[1;33m\u001B[0m\u001B[1;33m\u001B[0m\u001B[0m\n\u001B[0m\u001B[0;32m   3865\u001B[0m \u001B[1;33m\u001B[0m\u001B[0m\n\u001B[0;32m   3866\u001B[0m             \u001B[1;32mif\u001B[0m \u001B[0misinstance\u001B[0m\u001B[1;33m(\u001B[0m\u001B[0mloc\u001B[0m\u001B[1;33m,\u001B[0m \u001B[0mnp\u001B[0m\u001B[1;33m.\u001B[0m\u001B[0mndarray\u001B[0m\u001B[1;33m)\u001B[0m\u001B[1;33m:\u001B[0m\u001B[1;33m\u001B[0m\u001B[1;33m\u001B[0m\u001B[0m\n",
      "\u001B[1;32mC:\\anaconda3\\lib\\site-packages\\pandas\\core\\indexes\\datetimes.py\u001B[0m in \u001B[0;36mget_loc\u001B[1;34m(self, key, method, tolerance)\u001B[0m\n\u001B[0;32m    696\u001B[0m             \u001B[1;32mreturn\u001B[0m \u001B[0mIndex\u001B[0m\u001B[1;33m.\u001B[0m\u001B[0mget_loc\u001B[0m\u001B[1;33m(\u001B[0m\u001B[0mself\u001B[0m\u001B[1;33m,\u001B[0m \u001B[0mkey\u001B[0m\u001B[1;33m,\u001B[0m \u001B[0mmethod\u001B[0m\u001B[1;33m,\u001B[0m \u001B[0mtolerance\u001B[0m\u001B[1;33m)\u001B[0m\u001B[1;33m\u001B[0m\u001B[1;33m\u001B[0m\u001B[0m\n\u001B[0;32m    697\u001B[0m         \u001B[1;32mexcept\u001B[0m \u001B[0mKeyError\u001B[0m \u001B[1;32mas\u001B[0m \u001B[0merr\u001B[0m\u001B[1;33m:\u001B[0m\u001B[1;33m\u001B[0m\u001B[1;33m\u001B[0m\u001B[0m\n\u001B[1;32m--> 698\u001B[1;33m             \u001B[1;32mraise\u001B[0m \u001B[0mKeyError\u001B[0m\u001B[1;33m(\u001B[0m\u001B[0morig_key\u001B[0m\u001B[1;33m)\u001B[0m \u001B[1;32mfrom\u001B[0m \u001B[0merr\u001B[0m\u001B[1;33m\u001B[0m\u001B[1;33m\u001B[0m\u001B[0m\n\u001B[0m\u001B[0;32m    699\u001B[0m \u001B[1;33m\u001B[0m\u001B[0m\n\u001B[0;32m    700\u001B[0m     \u001B[1;32mdef\u001B[0m \u001B[0m_maybe_cast_for_get_loc\u001B[0m\u001B[1;33m(\u001B[0m\u001B[0mself\u001B[0m\u001B[1;33m,\u001B[0m \u001B[0mkey\u001B[0m\u001B[1;33m)\u001B[0m \u001B[1;33m->\u001B[0m \u001B[0mTimestamp\u001B[0m\u001B[1;33m:\u001B[0m\u001B[1;33m\u001B[0m\u001B[1;33m\u001B[0m\u001B[0m\n",
      "\u001B[1;31mKeyError\u001B[0m: datetime.datetime(2023, 3, 13, 0, 0)"
     ]
    }
   ],
   "source": [
    "start_data = '2023-01-01'\n",
    "start_date = datetime.strptime(start_data, '%Y-%m-%d')\n",
    "new_ind_list = []\n",
    "for i in range(365):\n",
    "    start_date\n",
    "    long = len(ind_data.loc[start_date][ind_data.loc[start_date]['ind'] > 0.5])\n",
    "    short = len(ind_data.loc[start_date][ind_data.loc[start_date]['ind'] < 0.5])\n",
    "    new_ind_list.append(long / (long + short))\n",
    "    print(start_date, long, short, long / (long + short))\n",
    "    start_date = start_date + timedelta(days=1)"
   ],
   "metadata": {
    "collapsed": false
   }
  },
  {
   "cell_type": "code",
   "execution_count": null,
   "outputs": [],
   "source": [
    "ind_data['ascending'] = abs(ind_data['ind'] - 0.5)+0.5\n",
    "ind_data = ind_data.sort_values(['datetime', 'ascending'], ascending=[True, False])"
   ],
   "metadata": {
    "collapsed": false
   }
  },
  {
   "cell_type": "code",
   "execution_count": null,
   "outputs": [],
   "source": [
    "start_date = '2023-01-01'\n",
    "start_date = datetime.strptime(start_date, '%Y-%m-%d')\n",
    "new_ind_list = pd.DataFrame([], columns=ind_data.columns.tolist())\n",
    "for i in range(360):\n",
    "    start_date\n",
    "    # long = len(ind_data.loc[start_date][ind_data.loc[start_date]['ind'] > 0.5])\n",
    "    # short = len(ind_data.loc[start_date][ind_data.loc[start_date]['ind'] < 0.5])\n",
    "    new_ind_list = pd.concat([new_ind_list, ind_data.loc[start_date][:5]])\n",
    "    start_date = start_date + timedelta(days=1)"
   ],
   "metadata": {
    "collapsed": false
   }
  },
  {
   "cell_type": "code",
   "execution_count": null,
   "outputs": [],
   "source": [
    "df = new_ind_list\n",
    "\n",
    "condition = df['ind'] > 0.5\n",
    "df = df.assign(position=condition.map({True:1, False:-1}))\n",
    "df['profit'] = df['position'] * df['rate']\n",
    "df['tot_profit'] = df['profit'].cumsum()\n",
    "win_cnt = (df['profit'] > 0).sum()\n",
    "lose_cnt = (df['profit'] < 0).sum()\n",
    "df['profit'].mean()"
   ],
   "metadata": {
    "collapsed": false
   }
  },
  {
   "cell_type": "code",
   "execution_count": null,
   "outputs": [],
   "source": [
    "win_cnt / (win_cnt + lose_cnt)"
   ],
   "metadata": {
    "collapsed": false
   }
  },
  {
   "cell_type": "code",
   "execution_count": null,
   "outputs": [],
   "source": [
    "df"
   ],
   "metadata": {
    "collapsed": false
   }
  },
  {
   "cell_type": "code",
   "execution_count": 57,
   "outputs": [],
   "source": [
    "log_column = ['시작', '끝', '거래기간', '매수조건', '매도조건', '거래 횟수', '승률', '승수', '패수', '평균보유량', '평균수익률', '총수익률']\n",
    "log_df = pd.DataFrame(columns = log_column)\n",
    "import matplotlib.pyplot as plt"
   ],
   "metadata": {
    "collapsed": false
   }
  },
  {
   "cell_type": "code",
   "execution_count": 58,
   "outputs": [
    {
     "name": "stderr",
     "output_type": "stream",
     "text": [
      "C:\\Users\\tomkj\\AppData\\Local\\Temp\\ipykernel_5792\\2913601241.py:20: FutureWarning: The frame.append method is deprecated and will be removed from pandas in a future version. Use pandas.concat instead.\n",
      "  log_df = log_df.append(log, ignore_index=True)\n",
      "C:\\Users\\tomkj\\AppData\\Local\\Temp\\ipykernel_5792\\2913601241.py:20: FutureWarning: The frame.append method is deprecated and will be removed from pandas in a future version. Use pandas.concat instead.\n",
      "  log_df = log_df.append(log, ignore_index=True)\n",
      "C:\\Users\\tomkj\\AppData\\Local\\Temp\\ipykernel_5792\\2913601241.py:20: FutureWarning: The frame.append method is deprecated and will be removed from pandas in a future version. Use pandas.concat instead.\n",
      "  log_df = log_df.append(log, ignore_index=True)\n",
      "C:\\Users\\tomkj\\AppData\\Local\\Temp\\ipykernel_5792\\2913601241.py:19: RuntimeWarning: invalid value encountered in longlong_scalars\n",
      "  log = {'시작' : start_date, '끝' : end_date, 'window' : window, 'away' : away, '매수조건' : long_std, '매도조건' : short_std, '거래 횟수' : len(df), '거래기간' : day.days, '승률' : win_cnt / len(df), '승수' : win_cnt, '패수' : lose_cnt, '평균보유량' : df['count_sum'].mean(), '평균수익률' : df['profit'].mean(), '총수익률' : df['profit'].sum()}\n",
      "C:\\Users\\tomkj\\AppData\\Local\\Temp\\ipykernel_5792\\2913601241.py:20: FutureWarning: The frame.append method is deprecated and will be removed from pandas in a future version. Use pandas.concat instead.\n",
      "  log_df = log_df.append(log, ignore_index=True)\n",
      "C:\\Users\\tomkj\\AppData\\Local\\Temp\\ipykernel_5792\\2913601241.py:19: RuntimeWarning: invalid value encountered in longlong_scalars\n",
      "  log = {'시작' : start_date, '끝' : end_date, 'window' : window, 'away' : away, '매수조건' : long_std, '매도조건' : short_std, '거래 횟수' : len(df), '거래기간' : day.days, '승률' : win_cnt / len(df), '승수' : win_cnt, '패수' : lose_cnt, '평균보유량' : df['count_sum'].mean(), '평균수익률' : df['profit'].mean(), '총수익률' : df['profit'].sum()}\n",
      "C:\\Users\\tomkj\\AppData\\Local\\Temp\\ipykernel_5792\\2913601241.py:20: FutureWarning: The frame.append method is deprecated and will be removed from pandas in a future version. Use pandas.concat instead.\n",
      "  log_df = log_df.append(log, ignore_index=True)\n",
      "C:\\Users\\tomkj\\AppData\\Local\\Temp\\ipykernel_5792\\2913601241.py:19: RuntimeWarning: invalid value encountered in longlong_scalars\n",
      "  log = {'시작' : start_date, '끝' : end_date, 'window' : window, 'away' : away, '매수조건' : long_std, '매도조건' : short_std, '거래 횟수' : len(df), '거래기간' : day.days, '승률' : win_cnt / len(df), '승수' : win_cnt, '패수' : lose_cnt, '평균보유량' : df['count_sum'].mean(), '평균수익률' : df['profit'].mean(), '총수익률' : df['profit'].sum()}\n",
      "C:\\Users\\tomkj\\AppData\\Local\\Temp\\ipykernel_5792\\2913601241.py:20: FutureWarning: The frame.append method is deprecated and will be removed from pandas in a future version. Use pandas.concat instead.\n",
      "  log_df = log_df.append(log, ignore_index=True)\n",
      "C:\\Users\\tomkj\\AppData\\Local\\Temp\\ipykernel_5792\\2913601241.py:19: RuntimeWarning: invalid value encountered in longlong_scalars\n",
      "  log = {'시작' : start_date, '끝' : end_date, 'window' : window, 'away' : away, '매수조건' : long_std, '매도조건' : short_std, '거래 횟수' : len(df), '거래기간' : day.days, '승률' : win_cnt / len(df), '승수' : win_cnt, '패수' : lose_cnt, '평균보유량' : df['count_sum'].mean(), '평균수익률' : df['profit'].mean(), '총수익률' : df['profit'].sum()}\n",
      "C:\\Users\\tomkj\\AppData\\Local\\Temp\\ipykernel_5792\\2913601241.py:20: FutureWarning: The frame.append method is deprecated and will be removed from pandas in a future version. Use pandas.concat instead.\n",
      "  log_df = log_df.append(log, ignore_index=True)\n",
      "C:\\Users\\tomkj\\AppData\\Local\\Temp\\ipykernel_5792\\2913601241.py:19: RuntimeWarning: invalid value encountered in longlong_scalars\n",
      "  log = {'시작' : start_date, '끝' : end_date, 'window' : window, 'away' : away, '매수조건' : long_std, '매도조건' : short_std, '거래 횟수' : len(df), '거래기간' : day.days, '승률' : win_cnt / len(df), '승수' : win_cnt, '패수' : lose_cnt, '평균보유량' : df['count_sum'].mean(), '평균수익률' : df['profit'].mean(), '총수익률' : df['profit'].sum()}\n",
      "C:\\Users\\tomkj\\AppData\\Local\\Temp\\ipykernel_5792\\2913601241.py:20: FutureWarning: The frame.append method is deprecated and will be removed from pandas in a future version. Use pandas.concat instead.\n",
      "  log_df = log_df.append(log, ignore_index=True)\n",
      "C:\\Users\\tomkj\\AppData\\Local\\Temp\\ipykernel_5792\\2913601241.py:19: RuntimeWarning: invalid value encountered in longlong_scalars\n",
      "  log = {'시작' : start_date, '끝' : end_date, 'window' : window, 'away' : away, '매수조건' : long_std, '매도조건' : short_std, '거래 횟수' : len(df), '거래기간' : day.days, '승률' : win_cnt / len(df), '승수' : win_cnt, '패수' : lose_cnt, '평균보유량' : df['count_sum'].mean(), '평균수익률' : df['profit'].mean(), '총수익률' : df['profit'].sum()}\n",
      "C:\\Users\\tomkj\\AppData\\Local\\Temp\\ipykernel_5792\\2913601241.py:20: FutureWarning: The frame.append method is deprecated and will be removed from pandas in a future version. Use pandas.concat instead.\n",
      "  log_df = log_df.append(log, ignore_index=True)\n",
      "C:\\Users\\tomkj\\AppData\\Local\\Temp\\ipykernel_5792\\2913601241.py:19: RuntimeWarning: invalid value encountered in longlong_scalars\n",
      "  log = {'시작' : start_date, '끝' : end_date, 'window' : window, 'away' : away, '매수조건' : long_std, '매도조건' : short_std, '거래 횟수' : len(df), '거래기간' : day.days, '승률' : win_cnt / len(df), '승수' : win_cnt, '패수' : lose_cnt, '평균보유량' : df['count_sum'].mean(), '평균수익률' : df['profit'].mean(), '총수익률' : df['profit'].sum()}\n",
      "C:\\Users\\tomkj\\AppData\\Local\\Temp\\ipykernel_5792\\2913601241.py:20: FutureWarning: The frame.append method is deprecated and will be removed from pandas in a future version. Use pandas.concat instead.\n",
      "  log_df = log_df.append(log, ignore_index=True)\n",
      "C:\\Users\\tomkj\\AppData\\Local\\Temp\\ipykernel_5792\\2913601241.py:19: RuntimeWarning: invalid value encountered in longlong_scalars\n",
      "  log = {'시작' : start_date, '끝' : end_date, 'window' : window, 'away' : away, '매수조건' : long_std, '매도조건' : short_std, '거래 횟수' : len(df), '거래기간' : day.days, '승률' : win_cnt / len(df), '승수' : win_cnt, '패수' : lose_cnt, '평균보유량' : df['count_sum'].mean(), '평균수익률' : df['profit'].mean(), '총수익률' : df['profit'].sum()}\n",
      "C:\\Users\\tomkj\\AppData\\Local\\Temp\\ipykernel_5792\\2913601241.py:20: FutureWarning: The frame.append method is deprecated and will be removed from pandas in a future version. Use pandas.concat instead.\n",
      "  log_df = log_df.append(log, ignore_index=True)\n",
      "C:\\Users\\tomkj\\AppData\\Local\\Temp\\ipykernel_5792\\2913601241.py:19: RuntimeWarning: invalid value encountered in longlong_scalars\n",
      "  log = {'시작' : start_date, '끝' : end_date, 'window' : window, 'away' : away, '매수조건' : long_std, '매도조건' : short_std, '거래 횟수' : len(df), '거래기간' : day.days, '승률' : win_cnt / len(df), '승수' : win_cnt, '패수' : lose_cnt, '평균보유량' : df['count_sum'].mean(), '평균수익률' : df['profit'].mean(), '총수익률' : df['profit'].sum()}\n",
      "C:\\Users\\tomkj\\AppData\\Local\\Temp\\ipykernel_5792\\2913601241.py:20: FutureWarning: The frame.append method is deprecated and will be removed from pandas in a future version. Use pandas.concat instead.\n",
      "  log_df = log_df.append(log, ignore_index=True)\n",
      "C:\\Users\\tomkj\\AppData\\Local\\Temp\\ipykernel_5792\\2913601241.py:19: RuntimeWarning: invalid value encountered in longlong_scalars\n",
      "  log = {'시작' : start_date, '끝' : end_date, 'window' : window, 'away' : away, '매수조건' : long_std, '매도조건' : short_std, '거래 횟수' : len(df), '거래기간' : day.days, '승률' : win_cnt / len(df), '승수' : win_cnt, '패수' : lose_cnt, '평균보유량' : df['count_sum'].mean(), '평균수익률' : df['profit'].mean(), '총수익률' : df['profit'].sum()}\n",
      "C:\\Users\\tomkj\\AppData\\Local\\Temp\\ipykernel_5792\\2913601241.py:20: FutureWarning: The frame.append method is deprecated and will be removed from pandas in a future version. Use pandas.concat instead.\n",
      "  log_df = log_df.append(log, ignore_index=True)\n",
      "C:\\Users\\tomkj\\AppData\\Local\\Temp\\ipykernel_5792\\2913601241.py:19: RuntimeWarning: invalid value encountered in longlong_scalars\n",
      "  log = {'시작' : start_date, '끝' : end_date, 'window' : window, 'away' : away, '매수조건' : long_std, '매도조건' : short_std, '거래 횟수' : len(df), '거래기간' : day.days, '승률' : win_cnt / len(df), '승수' : win_cnt, '패수' : lose_cnt, '평균보유량' : df['count_sum'].mean(), '평균수익률' : df['profit'].mean(), '총수익률' : df['profit'].sum()}\n",
      "C:\\Users\\tomkj\\AppData\\Local\\Temp\\ipykernel_5792\\2913601241.py:20: FutureWarning: The frame.append method is deprecated and will be removed from pandas in a future version. Use pandas.concat instead.\n",
      "  log_df = log_df.append(log, ignore_index=True)\n",
      "C:\\Users\\tomkj\\AppData\\Local\\Temp\\ipykernel_5792\\2913601241.py:19: RuntimeWarning: invalid value encountered in longlong_scalars\n",
      "  log = {'시작' : start_date, '끝' : end_date, 'window' : window, 'away' : away, '매수조건' : long_std, '매도조건' : short_std, '거래 횟수' : len(df), '거래기간' : day.days, '승률' : win_cnt / len(df), '승수' : win_cnt, '패수' : lose_cnt, '평균보유량' : df['count_sum'].mean(), '평균수익률' : df['profit'].mean(), '총수익률' : df['profit'].sum()}\n",
      "C:\\Users\\tomkj\\AppData\\Local\\Temp\\ipykernel_5792\\2913601241.py:20: FutureWarning: The frame.append method is deprecated and will be removed from pandas in a future version. Use pandas.concat instead.\n",
      "  log_df = log_df.append(log, ignore_index=True)\n",
      "C:\\Users\\tomkj\\AppData\\Local\\Temp\\ipykernel_5792\\2913601241.py:19: RuntimeWarning: invalid value encountered in longlong_scalars\n",
      "  log = {'시작' : start_date, '끝' : end_date, 'window' : window, 'away' : away, '매수조건' : long_std, '매도조건' : short_std, '거래 횟수' : len(df), '거래기간' : day.days, '승률' : win_cnt / len(df), '승수' : win_cnt, '패수' : lose_cnt, '평균보유량' : df['count_sum'].mean(), '평균수익률' : df['profit'].mean(), '총수익률' : df['profit'].sum()}\n",
      "C:\\Users\\tomkj\\AppData\\Local\\Temp\\ipykernel_5792\\2913601241.py:20: FutureWarning: The frame.append method is deprecated and will be removed from pandas in a future version. Use pandas.concat instead.\n",
      "  log_df = log_df.append(log, ignore_index=True)\n",
      "C:\\Users\\tomkj\\AppData\\Local\\Temp\\ipykernel_5792\\2913601241.py:19: RuntimeWarning: invalid value encountered in longlong_scalars\n",
      "  log = {'시작' : start_date, '끝' : end_date, 'window' : window, 'away' : away, '매수조건' : long_std, '매도조건' : short_std, '거래 횟수' : len(df), '거래기간' : day.days, '승률' : win_cnt / len(df), '승수' : win_cnt, '패수' : lose_cnt, '평균보유량' : df['count_sum'].mean(), '평균수익률' : df['profit'].mean(), '총수익률' : df['profit'].sum()}\n",
      "C:\\Users\\tomkj\\AppData\\Local\\Temp\\ipykernel_5792\\2913601241.py:20: FutureWarning: The frame.append method is deprecated and will be removed from pandas in a future version. Use pandas.concat instead.\n",
      "  log_df = log_df.append(log, ignore_index=True)\n",
      "C:\\Users\\tomkj\\AppData\\Local\\Temp\\ipykernel_5792\\2913601241.py:19: RuntimeWarning: invalid value encountered in longlong_scalars\n",
      "  log = {'시작' : start_date, '끝' : end_date, 'window' : window, 'away' : away, '매수조건' : long_std, '매도조건' : short_std, '거래 횟수' : len(df), '거래기간' : day.days, '승률' : win_cnt / len(df), '승수' : win_cnt, '패수' : lose_cnt, '평균보유량' : df['count_sum'].mean(), '평균수익률' : df['profit'].mean(), '총수익률' : df['profit'].sum()}\n",
      "C:\\Users\\tomkj\\AppData\\Local\\Temp\\ipykernel_5792\\2913601241.py:20: FutureWarning: The frame.append method is deprecated and will be removed from pandas in a future version. Use pandas.concat instead.\n",
      "  log_df = log_df.append(log, ignore_index=True)\n",
      "C:\\Users\\tomkj\\AppData\\Local\\Temp\\ipykernel_5792\\2913601241.py:19: RuntimeWarning: invalid value encountered in longlong_scalars\n",
      "  log = {'시작' : start_date, '끝' : end_date, 'window' : window, 'away' : away, '매수조건' : long_std, '매도조건' : short_std, '거래 횟수' : len(df), '거래기간' : day.days, '승률' : win_cnt / len(df), '승수' : win_cnt, '패수' : lose_cnt, '평균보유량' : df['count_sum'].mean(), '평균수익률' : df['profit'].mean(), '총수익률' : df['profit'].sum()}\n",
      "C:\\Users\\tomkj\\AppData\\Local\\Temp\\ipykernel_5792\\2913601241.py:20: FutureWarning: The frame.append method is deprecated and will be removed from pandas in a future version. Use pandas.concat instead.\n",
      "  log_df = log_df.append(log, ignore_index=True)\n",
      "C:\\Users\\tomkj\\AppData\\Local\\Temp\\ipykernel_5792\\2913601241.py:19: RuntimeWarning: invalid value encountered in longlong_scalars\n",
      "  log = {'시작' : start_date, '끝' : end_date, 'window' : window, 'away' : away, '매수조건' : long_std, '매도조건' : short_std, '거래 횟수' : len(df), '거래기간' : day.days, '승률' : win_cnt / len(df), '승수' : win_cnt, '패수' : lose_cnt, '평균보유량' : df['count_sum'].mean(), '평균수익률' : df['profit'].mean(), '총수익률' : df['profit'].sum()}\n",
      "C:\\Users\\tomkj\\AppData\\Local\\Temp\\ipykernel_5792\\2913601241.py:20: FutureWarning: The frame.append method is deprecated and will be removed from pandas in a future version. Use pandas.concat instead.\n",
      "  log_df = log_df.append(log, ignore_index=True)\n",
      "C:\\Users\\tomkj\\AppData\\Local\\Temp\\ipykernel_5792\\2913601241.py:19: RuntimeWarning: invalid value encountered in longlong_scalars\n",
      "  log = {'시작' : start_date, '끝' : end_date, 'window' : window, 'away' : away, '매수조건' : long_std, '매도조건' : short_std, '거래 횟수' : len(df), '거래기간' : day.days, '승률' : win_cnt / len(df), '승수' : win_cnt, '패수' : lose_cnt, '평균보유량' : df['count_sum'].mean(), '평균수익률' : df['profit'].mean(), '총수익률' : df['profit'].sum()}\n",
      "C:\\Users\\tomkj\\AppData\\Local\\Temp\\ipykernel_5792\\2913601241.py:20: FutureWarning: The frame.append method is deprecated and will be removed from pandas in a future version. Use pandas.concat instead.\n",
      "  log_df = log_df.append(log, ignore_index=True)\n",
      "C:\\Users\\tomkj\\AppData\\Local\\Temp\\ipykernel_5792\\2913601241.py:19: RuntimeWarning: invalid value encountered in longlong_scalars\n",
      "  log = {'시작' : start_date, '끝' : end_date, 'window' : window, 'away' : away, '매수조건' : long_std, '매도조건' : short_std, '거래 횟수' : len(df), '거래기간' : day.days, '승률' : win_cnt / len(df), '승수' : win_cnt, '패수' : lose_cnt, '평균보유량' : df['count_sum'].mean(), '평균수익률' : df['profit'].mean(), '총수익률' : df['profit'].sum()}\n",
      "C:\\Users\\tomkj\\AppData\\Local\\Temp\\ipykernel_5792\\2913601241.py:20: FutureWarning: The frame.append method is deprecated and will be removed from pandas in a future version. Use pandas.concat instead.\n",
      "  log_df = log_df.append(log, ignore_index=True)\n",
      "C:\\Users\\tomkj\\AppData\\Local\\Temp\\ipykernel_5792\\2913601241.py:19: RuntimeWarning: invalid value encountered in longlong_scalars\n",
      "  log = {'시작' : start_date, '끝' : end_date, 'window' : window, 'away' : away, '매수조건' : long_std, '매도조건' : short_std, '거래 횟수' : len(df), '거래기간' : day.days, '승률' : win_cnt / len(df), '승수' : win_cnt, '패수' : lose_cnt, '평균보유량' : df['count_sum'].mean(), '평균수익률' : df['profit'].mean(), '총수익률' : df['profit'].sum()}\n",
      "C:\\Users\\tomkj\\AppData\\Local\\Temp\\ipykernel_5792\\2913601241.py:20: FutureWarning: The frame.append method is deprecated and will be removed from pandas in a future version. Use pandas.concat instead.\n",
      "  log_df = log_df.append(log, ignore_index=True)\n",
      "C:\\Users\\tomkj\\AppData\\Local\\Temp\\ipykernel_5792\\2913601241.py:19: RuntimeWarning: invalid value encountered in longlong_scalars\n",
      "  log = {'시작' : start_date, '끝' : end_date, 'window' : window, 'away' : away, '매수조건' : long_std, '매도조건' : short_std, '거래 횟수' : len(df), '거래기간' : day.days, '승률' : win_cnt / len(df), '승수' : win_cnt, '패수' : lose_cnt, '평균보유량' : df['count_sum'].mean(), '평균수익률' : df['profit'].mean(), '총수익률' : df['profit'].sum()}\n",
      "C:\\Users\\tomkj\\AppData\\Local\\Temp\\ipykernel_5792\\2913601241.py:20: FutureWarning: The frame.append method is deprecated and will be removed from pandas in a future version. Use pandas.concat instead.\n",
      "  log_df = log_df.append(log, ignore_index=True)\n",
      "C:\\Users\\tomkj\\AppData\\Local\\Temp\\ipykernel_5792\\2913601241.py:19: RuntimeWarning: invalid value encountered in longlong_scalars\n",
      "  log = {'시작' : start_date, '끝' : end_date, 'window' : window, 'away' : away, '매수조건' : long_std, '매도조건' : short_std, '거래 횟수' : len(df), '거래기간' : day.days, '승률' : win_cnt / len(df), '승수' : win_cnt, '패수' : lose_cnt, '평균보유량' : df['count_sum'].mean(), '평균수익률' : df['profit'].mean(), '총수익률' : df['profit'].sum()}\n",
      "C:\\Users\\tomkj\\AppData\\Local\\Temp\\ipykernel_5792\\2913601241.py:20: FutureWarning: The frame.append method is deprecated and will be removed from pandas in a future version. Use pandas.concat instead.\n",
      "  log_df = log_df.append(log, ignore_index=True)\n",
      "C:\\Users\\tomkj\\AppData\\Local\\Temp\\ipykernel_5792\\2913601241.py:19: RuntimeWarning: invalid value encountered in longlong_scalars\n",
      "  log = {'시작' : start_date, '끝' : end_date, 'window' : window, 'away' : away, '매수조건' : long_std, '매도조건' : short_std, '거래 횟수' : len(df), '거래기간' : day.days, '승률' : win_cnt / len(df), '승수' : win_cnt, '패수' : lose_cnt, '평균보유량' : df['count_sum'].mean(), '평균수익률' : df['profit'].mean(), '총수익률' : df['profit'].sum()}\n",
      "C:\\Users\\tomkj\\AppData\\Local\\Temp\\ipykernel_5792\\2913601241.py:20: FutureWarning: The frame.append method is deprecated and will be removed from pandas in a future version. Use pandas.concat instead.\n",
      "  log_df = log_df.append(log, ignore_index=True)\n",
      "C:\\Users\\tomkj\\AppData\\Local\\Temp\\ipykernel_5792\\2913601241.py:19: RuntimeWarning: invalid value encountered in longlong_scalars\n",
      "  log = {'시작' : start_date, '끝' : end_date, 'window' : window, 'away' : away, '매수조건' : long_std, '매도조건' : short_std, '거래 횟수' : len(df), '거래기간' : day.days, '승률' : win_cnt / len(df), '승수' : win_cnt, '패수' : lose_cnt, '평균보유량' : df['count_sum'].mean(), '평균수익률' : df['profit'].mean(), '총수익률' : df['profit'].sum()}\n",
      "C:\\Users\\tomkj\\AppData\\Local\\Temp\\ipykernel_5792\\2913601241.py:20: FutureWarning: The frame.append method is deprecated and will be removed from pandas in a future version. Use pandas.concat instead.\n",
      "  log_df = log_df.append(log, ignore_index=True)\n",
      "C:\\Users\\tomkj\\AppData\\Local\\Temp\\ipykernel_5792\\2913601241.py:19: RuntimeWarning: invalid value encountered in longlong_scalars\n",
      "  log = {'시작' : start_date, '끝' : end_date, 'window' : window, 'away' : away, '매수조건' : long_std, '매도조건' : short_std, '거래 횟수' : len(df), '거래기간' : day.days, '승률' : win_cnt / len(df), '승수' : win_cnt, '패수' : lose_cnt, '평균보유량' : df['count_sum'].mean(), '평균수익률' : df['profit'].mean(), '총수익률' : df['profit'].sum()}\n",
      "C:\\Users\\tomkj\\AppData\\Local\\Temp\\ipykernel_5792\\2913601241.py:20: FutureWarning: The frame.append method is deprecated and will be removed from pandas in a future version. Use pandas.concat instead.\n",
      "  log_df = log_df.append(log, ignore_index=True)\n",
      "C:\\Users\\tomkj\\AppData\\Local\\Temp\\ipykernel_5792\\2913601241.py:19: RuntimeWarning: invalid value encountered in longlong_scalars\n",
      "  log = {'시작' : start_date, '끝' : end_date, 'window' : window, 'away' : away, '매수조건' : long_std, '매도조건' : short_std, '거래 횟수' : len(df), '거래기간' : day.days, '승률' : win_cnt / len(df), '승수' : win_cnt, '패수' : lose_cnt, '평균보유량' : df['count_sum'].mean(), '평균수익률' : df['profit'].mean(), '총수익률' : df['profit'].sum()}\n",
      "C:\\Users\\tomkj\\AppData\\Local\\Temp\\ipykernel_5792\\2913601241.py:20: FutureWarning: The frame.append method is deprecated and will be removed from pandas in a future version. Use pandas.concat instead.\n",
      "  log_df = log_df.append(log, ignore_index=True)\n",
      "C:\\Users\\tomkj\\AppData\\Local\\Temp\\ipykernel_5792\\2913601241.py:19: RuntimeWarning: invalid value encountered in longlong_scalars\n",
      "  log = {'시작' : start_date, '끝' : end_date, 'window' : window, 'away' : away, '매수조건' : long_std, '매도조건' : short_std, '거래 횟수' : len(df), '거래기간' : day.days, '승률' : win_cnt / len(df), '승수' : win_cnt, '패수' : lose_cnt, '평균보유량' : df['count_sum'].mean(), '평균수익률' : df['profit'].mean(), '총수익률' : df['profit'].sum()}\n",
      "C:\\Users\\tomkj\\AppData\\Local\\Temp\\ipykernel_5792\\2913601241.py:20: FutureWarning: The frame.append method is deprecated and will be removed from pandas in a future version. Use pandas.concat instead.\n",
      "  log_df = log_df.append(log, ignore_index=True)\n",
      "C:\\Users\\tomkj\\AppData\\Local\\Temp\\ipykernel_5792\\2913601241.py:19: RuntimeWarning: invalid value encountered in longlong_scalars\n",
      "  log = {'시작' : start_date, '끝' : end_date, 'window' : window, 'away' : away, '매수조건' : long_std, '매도조건' : short_std, '거래 횟수' : len(df), '거래기간' : day.days, '승률' : win_cnt / len(df), '승수' : win_cnt, '패수' : lose_cnt, '평균보유량' : df['count_sum'].mean(), '평균수익률' : df['profit'].mean(), '총수익률' : df['profit'].sum()}\n",
      "C:\\Users\\tomkj\\AppData\\Local\\Temp\\ipykernel_5792\\2913601241.py:20: FutureWarning: The frame.append method is deprecated and will be removed from pandas in a future version. Use pandas.concat instead.\n",
      "  log_df = log_df.append(log, ignore_index=True)\n",
      "C:\\Users\\tomkj\\AppData\\Local\\Temp\\ipykernel_5792\\2913601241.py:19: RuntimeWarning: invalid value encountered in longlong_scalars\n",
      "  log = {'시작' : start_date, '끝' : end_date, 'window' : window, 'away' : away, '매수조건' : long_std, '매도조건' : short_std, '거래 횟수' : len(df), '거래기간' : day.days, '승률' : win_cnt / len(df), '승수' : win_cnt, '패수' : lose_cnt, '평균보유량' : df['count_sum'].mean(), '평균수익률' : df['profit'].mean(), '총수익률' : df['profit'].sum()}\n",
      "C:\\Users\\tomkj\\AppData\\Local\\Temp\\ipykernel_5792\\2913601241.py:20: FutureWarning: The frame.append method is deprecated and will be removed from pandas in a future version. Use pandas.concat instead.\n",
      "  log_df = log_df.append(log, ignore_index=True)\n",
      "C:\\Users\\tomkj\\AppData\\Local\\Temp\\ipykernel_5792\\2913601241.py:19: RuntimeWarning: invalid value encountered in longlong_scalars\n",
      "  log = {'시작' : start_date, '끝' : end_date, 'window' : window, 'away' : away, '매수조건' : long_std, '매도조건' : short_std, '거래 횟수' : len(df), '거래기간' : day.days, '승률' : win_cnt / len(df), '승수' : win_cnt, '패수' : lose_cnt, '평균보유량' : df['count_sum'].mean(), '평균수익률' : df['profit'].mean(), '총수익률' : df['profit'].sum()}\n",
      "C:\\Users\\tomkj\\AppData\\Local\\Temp\\ipykernel_5792\\2913601241.py:20: FutureWarning: The frame.append method is deprecated and will be removed from pandas in a future version. Use pandas.concat instead.\n",
      "  log_df = log_df.append(log, ignore_index=True)\n",
      "C:\\Users\\tomkj\\AppData\\Local\\Temp\\ipykernel_5792\\2913601241.py:19: RuntimeWarning: invalid value encountered in longlong_scalars\n",
      "  log = {'시작' : start_date, '끝' : end_date, 'window' : window, 'away' : away, '매수조건' : long_std, '매도조건' : short_std, '거래 횟수' : len(df), '거래기간' : day.days, '승률' : win_cnt / len(df), '승수' : win_cnt, '패수' : lose_cnt, '평균보유량' : df['count_sum'].mean(), '평균수익률' : df['profit'].mean(), '총수익률' : df['profit'].sum()}\n",
      "C:\\Users\\tomkj\\AppData\\Local\\Temp\\ipykernel_5792\\2913601241.py:20: FutureWarning: The frame.append method is deprecated and will be removed from pandas in a future version. Use pandas.concat instead.\n",
      "  log_df = log_df.append(log, ignore_index=True)\n",
      "C:\\Users\\tomkj\\AppData\\Local\\Temp\\ipykernel_5792\\2913601241.py:19: RuntimeWarning: invalid value encountered in longlong_scalars\n",
      "  log = {'시작' : start_date, '끝' : end_date, 'window' : window, 'away' : away, '매수조건' : long_std, '매도조건' : short_std, '거래 횟수' : len(df), '거래기간' : day.days, '승률' : win_cnt / len(df), '승수' : win_cnt, '패수' : lose_cnt, '평균보유량' : df['count_sum'].mean(), '평균수익률' : df['profit'].mean(), '총수익률' : df['profit'].sum()}\n",
      "C:\\Users\\tomkj\\AppData\\Local\\Temp\\ipykernel_5792\\2913601241.py:20: FutureWarning: The frame.append method is deprecated and will be removed from pandas in a future version. Use pandas.concat instead.\n",
      "  log_df = log_df.append(log, ignore_index=True)\n",
      "C:\\Users\\tomkj\\AppData\\Local\\Temp\\ipykernel_5792\\2913601241.py:19: RuntimeWarning: invalid value encountered in longlong_scalars\n",
      "  log = {'시작' : start_date, '끝' : end_date, 'window' : window, 'away' : away, '매수조건' : long_std, '매도조건' : short_std, '거래 횟수' : len(df), '거래기간' : day.days, '승률' : win_cnt / len(df), '승수' : win_cnt, '패수' : lose_cnt, '평균보유량' : df['count_sum'].mean(), '평균수익률' : df['profit'].mean(), '총수익률' : df['profit'].sum()}\n",
      "C:\\Users\\tomkj\\AppData\\Local\\Temp\\ipykernel_5792\\2913601241.py:20: FutureWarning: The frame.append method is deprecated and will be removed from pandas in a future version. Use pandas.concat instead.\n",
      "  log_df = log_df.append(log, ignore_index=True)\n"
     ]
    }
   ],
   "source": [
    "start_date = '2023-01-01'\n",
    "start_date = datetime.strptime(start_date, '%Y-%m-%d')\n",
    "end_date = start_date + timedelta(days=30)\n",
    "\n",
    "for i in range(36):\n",
    "    long_std = 0.75\n",
    "    short_std = 0.25\n",
    "\n",
    "    df = select_rate(long_std, short_std, start_date, end_date, 0.0004)\n",
    "\n",
    "    win_cnt = (df['profit'] > 0).sum()\n",
    "    lose_cnt = (df['profit'] < 0).sum()\n",
    "\n",
    "    day = end_date - start_date\n",
    "    day.days\n",
    "\n",
    "\n",
    "    # log.append([len(df), day.days, win_cnt / len(df), win_cnt, lose_cnt, df['count_sum'].mean(), df['profit'].mean(), df['profit'].sum()])\n",
    "    log = {'시작' : start_date, '끝' : end_date, 'window' : window, 'away' : away, '매수조건' : long_std, '매도조건' : short_std, '거래 횟수' : len(df), '거래기간' : day.days, '승률' : win_cnt / len(df), '승수' : win_cnt, '패수' : lose_cnt, '평균보유량' : df['count_sum'].mean(), '평균수익률' : df['profit'].mean(), '총수익률' : df['profit'].sum()}\n",
    "    log_df = log_df.append(log, ignore_index=True)\n",
    "\n",
    "    start_date = end_date + timedelta(days=1)\n",
    "    end_date = end_date + timedelta(days=31)\n"
   ],
   "metadata": {
    "collapsed": false
   }
  },
  {
   "cell_type": "code",
   "execution_count": 59,
   "outputs": [
    {
     "data": {
      "text/plain": "           시작          끝 거래기간  매수조건  매도조건 거래 횟수        승률  승수  패수      평균보유량  \\\n0  2023-01-01 2023-01-31   30  0.75  0.25     9  0.555556   5   4   5.333333   \n1  2023-02-01 2023-03-03   30  0.75  0.25   114  0.850877  97  17  35.578947   \n2  2023-03-04 2023-04-03   30  0.75  0.25     5  0.000000   0   5   5.000000   \n3  2023-04-04 2023-05-04   30  0.75  0.25     0       NaN   0   0        NaN   \n4  2023-05-05 2023-06-04   30  0.75  0.25     0       NaN   0   0        NaN   \n5  2023-06-05 2023-07-05   30  0.75  0.25     0       NaN   0   0        NaN   \n6  2023-07-06 2023-08-05   30  0.75  0.25     0       NaN   0   0        NaN   \n7  2023-08-06 2023-09-05   30  0.75  0.25     0       NaN   0   0        NaN   \n8  2023-09-06 2023-10-06   30  0.75  0.25     0       NaN   0   0        NaN   \n9  2023-10-07 2023-11-06   30  0.75  0.25     0       NaN   0   0        NaN   \n10 2023-11-07 2023-12-07   30  0.75  0.25     0       NaN   0   0        NaN   \n11 2023-12-08 2024-01-07   30  0.75  0.25     0       NaN   0   0        NaN   \n12 2024-01-08 2024-02-07   30  0.75  0.25     0       NaN   0   0        NaN   \n13 2024-02-08 2024-03-09   30  0.75  0.25     0       NaN   0   0        NaN   \n14 2024-03-10 2024-04-09   30  0.75  0.25     0       NaN   0   0        NaN   \n15 2024-04-10 2024-05-10   30  0.75  0.25     0       NaN   0   0        NaN   \n16 2024-05-11 2024-06-10   30  0.75  0.25     0       NaN   0   0        NaN   \n17 2024-06-11 2024-07-11   30  0.75  0.25     0       NaN   0   0        NaN   \n18 2024-07-12 2024-08-11   30  0.75  0.25     0       NaN   0   0        NaN   \n19 2024-08-12 2024-09-11   30  0.75  0.25     0       NaN   0   0        NaN   \n20 2024-09-12 2024-10-12   30  0.75  0.25     0       NaN   0   0        NaN   \n21 2024-10-13 2024-11-12   30  0.75  0.25     0       NaN   0   0        NaN   \n22 2024-11-13 2024-12-13   30  0.75  0.25     0       NaN   0   0        NaN   \n23 2024-12-14 2025-01-13   30  0.75  0.25     0       NaN   0   0        NaN   \n24 2025-01-14 2025-02-13   30  0.75  0.25     0       NaN   0   0        NaN   \n25 2025-02-14 2025-03-16   30  0.75  0.25     0       NaN   0   0        NaN   \n26 2025-03-17 2025-04-16   30  0.75  0.25     0       NaN   0   0        NaN   \n27 2025-04-17 2025-05-17   30  0.75  0.25     0       NaN   0   0        NaN   \n28 2025-05-18 2025-06-17   30  0.75  0.25     0       NaN   0   0        NaN   \n29 2025-06-18 2025-07-18   30  0.75  0.25     0       NaN   0   0        NaN   \n30 2025-07-19 2025-08-18   30  0.75  0.25     0       NaN   0   0        NaN   \n31 2025-08-19 2025-09-18   30  0.75  0.25     0       NaN   0   0        NaN   \n32 2025-09-19 2025-10-19   30  0.75  0.25     0       NaN   0   0        NaN   \n33 2025-10-20 2025-11-19   30  0.75  0.25     0       NaN   0   0        NaN   \n34 2025-11-20 2025-12-20   30  0.75  0.25     0       NaN   0   0        NaN   \n35 2025-12-21 2026-01-20   30  0.75  0.25     0       NaN   0   0        NaN   \n\n       평균수익률      총수익률  away  window  \n0   0.004355  0.039197   7.0    14.0  \n1   0.050474  5.754045   7.0    14.0  \n2  -0.093681 -0.468407   7.0    14.0  \n3        NaN  0.000000   7.0    14.0  \n4        NaN  0.000000   7.0    14.0  \n5        NaN  0.000000   7.0    14.0  \n6        NaN  0.000000   7.0    14.0  \n7        NaN  0.000000   7.0    14.0  \n8        NaN  0.000000   7.0    14.0  \n9        NaN  0.000000   7.0    14.0  \n10       NaN  0.000000   7.0    14.0  \n11       NaN  0.000000   7.0    14.0  \n12       NaN  0.000000   7.0    14.0  \n13       NaN  0.000000   7.0    14.0  \n14       NaN  0.000000   7.0    14.0  \n15       NaN  0.000000   7.0    14.0  \n16       NaN  0.000000   7.0    14.0  \n17       NaN  0.000000   7.0    14.0  \n18       NaN  0.000000   7.0    14.0  \n19       NaN  0.000000   7.0    14.0  \n20       NaN  0.000000   7.0    14.0  \n21       NaN  0.000000   7.0    14.0  \n22       NaN  0.000000   7.0    14.0  \n23       NaN  0.000000   7.0    14.0  \n24       NaN  0.000000   7.0    14.0  \n25       NaN  0.000000   7.0    14.0  \n26       NaN  0.000000   7.0    14.0  \n27       NaN  0.000000   7.0    14.0  \n28       NaN  0.000000   7.0    14.0  \n29       NaN  0.000000   7.0    14.0  \n30       NaN  0.000000   7.0    14.0  \n31       NaN  0.000000   7.0    14.0  \n32       NaN  0.000000   7.0    14.0  \n33       NaN  0.000000   7.0    14.0  \n34       NaN  0.000000   7.0    14.0  \n35       NaN  0.000000   7.0    14.0  ",
      "text/html": "<div>\n<style scoped>\n    .dataframe tbody tr th:only-of-type {\n        vertical-align: middle;\n    }\n\n    .dataframe tbody tr th {\n        vertical-align: top;\n    }\n\n    .dataframe thead th {\n        text-align: right;\n    }\n</style>\n<table border=\"1\" class=\"dataframe\">\n  <thead>\n    <tr style=\"text-align: right;\">\n      <th></th>\n      <th>시작</th>\n      <th>끝</th>\n      <th>거래기간</th>\n      <th>매수조건</th>\n      <th>매도조건</th>\n      <th>거래 횟수</th>\n      <th>승률</th>\n      <th>승수</th>\n      <th>패수</th>\n      <th>평균보유량</th>\n      <th>평균수익률</th>\n      <th>총수익률</th>\n      <th>away</th>\n      <th>window</th>\n    </tr>\n  </thead>\n  <tbody>\n    <tr>\n      <th>0</th>\n      <td>2023-01-01</td>\n      <td>2023-01-31</td>\n      <td>30</td>\n      <td>0.75</td>\n      <td>0.25</td>\n      <td>9</td>\n      <td>0.555556</td>\n      <td>5</td>\n      <td>4</td>\n      <td>5.333333</td>\n      <td>0.004355</td>\n      <td>0.039197</td>\n      <td>7.0</td>\n      <td>14.0</td>\n    </tr>\n    <tr>\n      <th>1</th>\n      <td>2023-02-01</td>\n      <td>2023-03-03</td>\n      <td>30</td>\n      <td>0.75</td>\n      <td>0.25</td>\n      <td>114</td>\n      <td>0.850877</td>\n      <td>97</td>\n      <td>17</td>\n      <td>35.578947</td>\n      <td>0.050474</td>\n      <td>5.754045</td>\n      <td>7.0</td>\n      <td>14.0</td>\n    </tr>\n    <tr>\n      <th>2</th>\n      <td>2023-03-04</td>\n      <td>2023-04-03</td>\n      <td>30</td>\n      <td>0.75</td>\n      <td>0.25</td>\n      <td>5</td>\n      <td>0.000000</td>\n      <td>0</td>\n      <td>5</td>\n      <td>5.000000</td>\n      <td>-0.093681</td>\n      <td>-0.468407</td>\n      <td>7.0</td>\n      <td>14.0</td>\n    </tr>\n    <tr>\n      <th>3</th>\n      <td>2023-04-04</td>\n      <td>2023-05-04</td>\n      <td>30</td>\n      <td>0.75</td>\n      <td>0.25</td>\n      <td>0</td>\n      <td>NaN</td>\n      <td>0</td>\n      <td>0</td>\n      <td>NaN</td>\n      <td>NaN</td>\n      <td>0.000000</td>\n      <td>7.0</td>\n      <td>14.0</td>\n    </tr>\n    <tr>\n      <th>4</th>\n      <td>2023-05-05</td>\n      <td>2023-06-04</td>\n      <td>30</td>\n      <td>0.75</td>\n      <td>0.25</td>\n      <td>0</td>\n      <td>NaN</td>\n      <td>0</td>\n      <td>0</td>\n      <td>NaN</td>\n      <td>NaN</td>\n      <td>0.000000</td>\n      <td>7.0</td>\n      <td>14.0</td>\n    </tr>\n    <tr>\n      <th>5</th>\n      <td>2023-06-05</td>\n      <td>2023-07-05</td>\n      <td>30</td>\n      <td>0.75</td>\n      <td>0.25</td>\n      <td>0</td>\n      <td>NaN</td>\n      <td>0</td>\n      <td>0</td>\n      <td>NaN</td>\n      <td>NaN</td>\n      <td>0.000000</td>\n      <td>7.0</td>\n      <td>14.0</td>\n    </tr>\n    <tr>\n      <th>6</th>\n      <td>2023-07-06</td>\n      <td>2023-08-05</td>\n      <td>30</td>\n      <td>0.75</td>\n      <td>0.25</td>\n      <td>0</td>\n      <td>NaN</td>\n      <td>0</td>\n      <td>0</td>\n      <td>NaN</td>\n      <td>NaN</td>\n      <td>0.000000</td>\n      <td>7.0</td>\n      <td>14.0</td>\n    </tr>\n    <tr>\n      <th>7</th>\n      <td>2023-08-06</td>\n      <td>2023-09-05</td>\n      <td>30</td>\n      <td>0.75</td>\n      <td>0.25</td>\n      <td>0</td>\n      <td>NaN</td>\n      <td>0</td>\n      <td>0</td>\n      <td>NaN</td>\n      <td>NaN</td>\n      <td>0.000000</td>\n      <td>7.0</td>\n      <td>14.0</td>\n    </tr>\n    <tr>\n      <th>8</th>\n      <td>2023-09-06</td>\n      <td>2023-10-06</td>\n      <td>30</td>\n      <td>0.75</td>\n      <td>0.25</td>\n      <td>0</td>\n      <td>NaN</td>\n      <td>0</td>\n      <td>0</td>\n      <td>NaN</td>\n      <td>NaN</td>\n      <td>0.000000</td>\n      <td>7.0</td>\n      <td>14.0</td>\n    </tr>\n    <tr>\n      <th>9</th>\n      <td>2023-10-07</td>\n      <td>2023-11-06</td>\n      <td>30</td>\n      <td>0.75</td>\n      <td>0.25</td>\n      <td>0</td>\n      <td>NaN</td>\n      <td>0</td>\n      <td>0</td>\n      <td>NaN</td>\n      <td>NaN</td>\n      <td>0.000000</td>\n      <td>7.0</td>\n      <td>14.0</td>\n    </tr>\n    <tr>\n      <th>10</th>\n      <td>2023-11-07</td>\n      <td>2023-12-07</td>\n      <td>30</td>\n      <td>0.75</td>\n      <td>0.25</td>\n      <td>0</td>\n      <td>NaN</td>\n      <td>0</td>\n      <td>0</td>\n      <td>NaN</td>\n      <td>NaN</td>\n      <td>0.000000</td>\n      <td>7.0</td>\n      <td>14.0</td>\n    </tr>\n    <tr>\n      <th>11</th>\n      <td>2023-12-08</td>\n      <td>2024-01-07</td>\n      <td>30</td>\n      <td>0.75</td>\n      <td>0.25</td>\n      <td>0</td>\n      <td>NaN</td>\n      <td>0</td>\n      <td>0</td>\n      <td>NaN</td>\n      <td>NaN</td>\n      <td>0.000000</td>\n      <td>7.0</td>\n      <td>14.0</td>\n    </tr>\n    <tr>\n      <th>12</th>\n      <td>2024-01-08</td>\n      <td>2024-02-07</td>\n      <td>30</td>\n      <td>0.75</td>\n      <td>0.25</td>\n      <td>0</td>\n      <td>NaN</td>\n      <td>0</td>\n      <td>0</td>\n      <td>NaN</td>\n      <td>NaN</td>\n      <td>0.000000</td>\n      <td>7.0</td>\n      <td>14.0</td>\n    </tr>\n    <tr>\n      <th>13</th>\n      <td>2024-02-08</td>\n      <td>2024-03-09</td>\n      <td>30</td>\n      <td>0.75</td>\n      <td>0.25</td>\n      <td>0</td>\n      <td>NaN</td>\n      <td>0</td>\n      <td>0</td>\n      <td>NaN</td>\n      <td>NaN</td>\n      <td>0.000000</td>\n      <td>7.0</td>\n      <td>14.0</td>\n    </tr>\n    <tr>\n      <th>14</th>\n      <td>2024-03-10</td>\n      <td>2024-04-09</td>\n      <td>30</td>\n      <td>0.75</td>\n      <td>0.25</td>\n      <td>0</td>\n      <td>NaN</td>\n      <td>0</td>\n      <td>0</td>\n      <td>NaN</td>\n      <td>NaN</td>\n      <td>0.000000</td>\n      <td>7.0</td>\n      <td>14.0</td>\n    </tr>\n    <tr>\n      <th>15</th>\n      <td>2024-04-10</td>\n      <td>2024-05-10</td>\n      <td>30</td>\n      <td>0.75</td>\n      <td>0.25</td>\n      <td>0</td>\n      <td>NaN</td>\n      <td>0</td>\n      <td>0</td>\n      <td>NaN</td>\n      <td>NaN</td>\n      <td>0.000000</td>\n      <td>7.0</td>\n      <td>14.0</td>\n    </tr>\n    <tr>\n      <th>16</th>\n      <td>2024-05-11</td>\n      <td>2024-06-10</td>\n      <td>30</td>\n      <td>0.75</td>\n      <td>0.25</td>\n      <td>0</td>\n      <td>NaN</td>\n      <td>0</td>\n      <td>0</td>\n      <td>NaN</td>\n      <td>NaN</td>\n      <td>0.000000</td>\n      <td>7.0</td>\n      <td>14.0</td>\n    </tr>\n    <tr>\n      <th>17</th>\n      <td>2024-06-11</td>\n      <td>2024-07-11</td>\n      <td>30</td>\n      <td>0.75</td>\n      <td>0.25</td>\n      <td>0</td>\n      <td>NaN</td>\n      <td>0</td>\n      <td>0</td>\n      <td>NaN</td>\n      <td>NaN</td>\n      <td>0.000000</td>\n      <td>7.0</td>\n      <td>14.0</td>\n    </tr>\n    <tr>\n      <th>18</th>\n      <td>2024-07-12</td>\n      <td>2024-08-11</td>\n      <td>30</td>\n      <td>0.75</td>\n      <td>0.25</td>\n      <td>0</td>\n      <td>NaN</td>\n      <td>0</td>\n      <td>0</td>\n      <td>NaN</td>\n      <td>NaN</td>\n      <td>0.000000</td>\n      <td>7.0</td>\n      <td>14.0</td>\n    </tr>\n    <tr>\n      <th>19</th>\n      <td>2024-08-12</td>\n      <td>2024-09-11</td>\n      <td>30</td>\n      <td>0.75</td>\n      <td>0.25</td>\n      <td>0</td>\n      <td>NaN</td>\n      <td>0</td>\n      <td>0</td>\n      <td>NaN</td>\n      <td>NaN</td>\n      <td>0.000000</td>\n      <td>7.0</td>\n      <td>14.0</td>\n    </tr>\n    <tr>\n      <th>20</th>\n      <td>2024-09-12</td>\n      <td>2024-10-12</td>\n      <td>30</td>\n      <td>0.75</td>\n      <td>0.25</td>\n      <td>0</td>\n      <td>NaN</td>\n      <td>0</td>\n      <td>0</td>\n      <td>NaN</td>\n      <td>NaN</td>\n      <td>0.000000</td>\n      <td>7.0</td>\n      <td>14.0</td>\n    </tr>\n    <tr>\n      <th>21</th>\n      <td>2024-10-13</td>\n      <td>2024-11-12</td>\n      <td>30</td>\n      <td>0.75</td>\n      <td>0.25</td>\n      <td>0</td>\n      <td>NaN</td>\n      <td>0</td>\n      <td>0</td>\n      <td>NaN</td>\n      <td>NaN</td>\n      <td>0.000000</td>\n      <td>7.0</td>\n      <td>14.0</td>\n    </tr>\n    <tr>\n      <th>22</th>\n      <td>2024-11-13</td>\n      <td>2024-12-13</td>\n      <td>30</td>\n      <td>0.75</td>\n      <td>0.25</td>\n      <td>0</td>\n      <td>NaN</td>\n      <td>0</td>\n      <td>0</td>\n      <td>NaN</td>\n      <td>NaN</td>\n      <td>0.000000</td>\n      <td>7.0</td>\n      <td>14.0</td>\n    </tr>\n    <tr>\n      <th>23</th>\n      <td>2024-12-14</td>\n      <td>2025-01-13</td>\n      <td>30</td>\n      <td>0.75</td>\n      <td>0.25</td>\n      <td>0</td>\n      <td>NaN</td>\n      <td>0</td>\n      <td>0</td>\n      <td>NaN</td>\n      <td>NaN</td>\n      <td>0.000000</td>\n      <td>7.0</td>\n      <td>14.0</td>\n    </tr>\n    <tr>\n      <th>24</th>\n      <td>2025-01-14</td>\n      <td>2025-02-13</td>\n      <td>30</td>\n      <td>0.75</td>\n      <td>0.25</td>\n      <td>0</td>\n      <td>NaN</td>\n      <td>0</td>\n      <td>0</td>\n      <td>NaN</td>\n      <td>NaN</td>\n      <td>0.000000</td>\n      <td>7.0</td>\n      <td>14.0</td>\n    </tr>\n    <tr>\n      <th>25</th>\n      <td>2025-02-14</td>\n      <td>2025-03-16</td>\n      <td>30</td>\n      <td>0.75</td>\n      <td>0.25</td>\n      <td>0</td>\n      <td>NaN</td>\n      <td>0</td>\n      <td>0</td>\n      <td>NaN</td>\n      <td>NaN</td>\n      <td>0.000000</td>\n      <td>7.0</td>\n      <td>14.0</td>\n    </tr>\n    <tr>\n      <th>26</th>\n      <td>2025-03-17</td>\n      <td>2025-04-16</td>\n      <td>30</td>\n      <td>0.75</td>\n      <td>0.25</td>\n      <td>0</td>\n      <td>NaN</td>\n      <td>0</td>\n      <td>0</td>\n      <td>NaN</td>\n      <td>NaN</td>\n      <td>0.000000</td>\n      <td>7.0</td>\n      <td>14.0</td>\n    </tr>\n    <tr>\n      <th>27</th>\n      <td>2025-04-17</td>\n      <td>2025-05-17</td>\n      <td>30</td>\n      <td>0.75</td>\n      <td>0.25</td>\n      <td>0</td>\n      <td>NaN</td>\n      <td>0</td>\n      <td>0</td>\n      <td>NaN</td>\n      <td>NaN</td>\n      <td>0.000000</td>\n      <td>7.0</td>\n      <td>14.0</td>\n    </tr>\n    <tr>\n      <th>28</th>\n      <td>2025-05-18</td>\n      <td>2025-06-17</td>\n      <td>30</td>\n      <td>0.75</td>\n      <td>0.25</td>\n      <td>0</td>\n      <td>NaN</td>\n      <td>0</td>\n      <td>0</td>\n      <td>NaN</td>\n      <td>NaN</td>\n      <td>0.000000</td>\n      <td>7.0</td>\n      <td>14.0</td>\n    </tr>\n    <tr>\n      <th>29</th>\n      <td>2025-06-18</td>\n      <td>2025-07-18</td>\n      <td>30</td>\n      <td>0.75</td>\n      <td>0.25</td>\n      <td>0</td>\n      <td>NaN</td>\n      <td>0</td>\n      <td>0</td>\n      <td>NaN</td>\n      <td>NaN</td>\n      <td>0.000000</td>\n      <td>7.0</td>\n      <td>14.0</td>\n    </tr>\n    <tr>\n      <th>30</th>\n      <td>2025-07-19</td>\n      <td>2025-08-18</td>\n      <td>30</td>\n      <td>0.75</td>\n      <td>0.25</td>\n      <td>0</td>\n      <td>NaN</td>\n      <td>0</td>\n      <td>0</td>\n      <td>NaN</td>\n      <td>NaN</td>\n      <td>0.000000</td>\n      <td>7.0</td>\n      <td>14.0</td>\n    </tr>\n    <tr>\n      <th>31</th>\n      <td>2025-08-19</td>\n      <td>2025-09-18</td>\n      <td>30</td>\n      <td>0.75</td>\n      <td>0.25</td>\n      <td>0</td>\n      <td>NaN</td>\n      <td>0</td>\n      <td>0</td>\n      <td>NaN</td>\n      <td>NaN</td>\n      <td>0.000000</td>\n      <td>7.0</td>\n      <td>14.0</td>\n    </tr>\n    <tr>\n      <th>32</th>\n      <td>2025-09-19</td>\n      <td>2025-10-19</td>\n      <td>30</td>\n      <td>0.75</td>\n      <td>0.25</td>\n      <td>0</td>\n      <td>NaN</td>\n      <td>0</td>\n      <td>0</td>\n      <td>NaN</td>\n      <td>NaN</td>\n      <td>0.000000</td>\n      <td>7.0</td>\n      <td>14.0</td>\n    </tr>\n    <tr>\n      <th>33</th>\n      <td>2025-10-20</td>\n      <td>2025-11-19</td>\n      <td>30</td>\n      <td>0.75</td>\n      <td>0.25</td>\n      <td>0</td>\n      <td>NaN</td>\n      <td>0</td>\n      <td>0</td>\n      <td>NaN</td>\n      <td>NaN</td>\n      <td>0.000000</td>\n      <td>7.0</td>\n      <td>14.0</td>\n    </tr>\n    <tr>\n      <th>34</th>\n      <td>2025-11-20</td>\n      <td>2025-12-20</td>\n      <td>30</td>\n      <td>0.75</td>\n      <td>0.25</td>\n      <td>0</td>\n      <td>NaN</td>\n      <td>0</td>\n      <td>0</td>\n      <td>NaN</td>\n      <td>NaN</td>\n      <td>0.000000</td>\n      <td>7.0</td>\n      <td>14.0</td>\n    </tr>\n    <tr>\n      <th>35</th>\n      <td>2025-12-21</td>\n      <td>2026-01-20</td>\n      <td>30</td>\n      <td>0.75</td>\n      <td>0.25</td>\n      <td>0</td>\n      <td>NaN</td>\n      <td>0</td>\n      <td>0</td>\n      <td>NaN</td>\n      <td>NaN</td>\n      <td>0.000000</td>\n      <td>7.0</td>\n      <td>14.0</td>\n    </tr>\n  </tbody>\n</table>\n</div>"
     },
     "execution_count": 59,
     "metadata": {},
     "output_type": "execute_result"
    }
   ],
   "source": [
    "log_df"
   ],
   "metadata": {
    "collapsed": false
   }
  },
  {
   "cell_type": "code",
   "execution_count": null,
   "outputs": [],
   "source": [
    "ind_data"
   ],
   "metadata": {
    "collapsed": false
   }
  },
  {
   "cell_type": "code",
   "execution_count": null,
   "outputs": [],
   "source": [
    "test_df = ind_data[ind_data['sym'] == 'eth']"
   ],
   "metadata": {
    "collapsed": false
   }
  },
  {
   "cell_type": "code",
   "execution_count": null,
   "outputs": [],
   "source": [
    "test_df"
   ],
   "metadata": {
    "collapsed": false
   }
  },
  {
   "cell_type": "code",
   "execution_count": null,
   "outputs": [],
   "source": [
    "condition = test_df['ind'] > 0.8"
   ],
   "metadata": {
    "collapsed": false
   }
  },
  {
   "cell_type": "code",
   "execution_count": null,
   "outputs": [],
   "source": [
    "matching_rows = test_df[condition].index.tolist()"
   ],
   "metadata": {
    "collapsed": false
   }
  },
  {
   "cell_type": "code",
   "execution_count": null,
   "outputs": [],
   "source": [
    "rows_to_keep = []\n",
    "chart_df = {}\n",
    "for date in matching_rows:\n",
    "    start_date = date - pd.Timedelta(days=28)\n",
    "    end_date = date + pd.Timedelta(days=6)\n",
    "    chart_df[date] = test_df.loc[start_date:end_date]"
   ],
   "metadata": {
    "collapsed": false
   }
  },
  {
   "cell_type": "code",
   "execution_count": null,
   "outputs": [],
   "source": [
    "list = []\n",
    "for key in chart_df:\n",
    "    list.append(key)"
   ],
   "metadata": {
    "collapsed": false
   }
  },
  {
   "cell_type": "code",
   "execution_count": null,
   "outputs": [],
   "source": [
    "i=0"
   ],
   "metadata": {
    "collapsed": false
   }
  },
  {
   "cell_type": "code",
   "execution_count": null,
   "outputs": [],
   "source": [
    "import mplfinance as mpf\n",
    "print(list[i])\n",
    "print(chart_df[list[i]]['rate'].loc[list[i]])\n",
    "mpf.plot(chart_df[list[i]], type='candle')\n",
    "i += 1"
   ],
   "metadata": {
    "collapsed": false
   }
  },
  {
   "cell_type": "code",
   "execution_count": null,
   "outputs": [],
   "source": [
    "import matplotlib.pyplot as plt\n",
    "import mplfinance as mpf\n",
    "#\n",
    "# print(list[i])\n",
    "# print(chart_df[list[i]]['rate'].loc[list[i]])\n",
    "fig = plt.figure(figsize=(14,10))\n",
    "ax1 = fig.add_subplot(2, 1, 1)\n",
    "ax2 = fig.add_subplot(2, 1, 2)\n",
    "ax1.plot(test_df['close'][:100], label='close')\n",
    "ax2.plot(test_df['new'][:100], label='tot_profit')\n",
    "plt.show()\n",
    "i += 1"
   ],
   "metadata": {
    "collapsed": false
   }
  },
  {
   "cell_type": "code",
   "execution_count": null,
   "outputs": [],
   "source": [
    "chart_df[list[0]]"
   ],
   "metadata": {
    "collapsed": false
   }
  },
  {
   "cell_type": "code",
   "execution_count": null,
   "outputs": [],
   "source": [],
   "metadata": {
    "collapsed": false
   }
  }
 ],
 "metadata": {
  "kernelspec": {
   "display_name": "Python 3",
   "language": "python",
   "name": "python3"
  },
  "language_info": {
   "codemirror_mode": {
    "name": "ipython",
    "version": 2
   },
   "file_extension": ".py",
   "mimetype": "text/x-python",
   "name": "python",
   "nbconvert_exporter": "python",
   "pygments_lexer": "ipython2",
   "version": "2.7.6"
  }
 },
 "nbformat": 4,
 "nbformat_minor": 0
}
