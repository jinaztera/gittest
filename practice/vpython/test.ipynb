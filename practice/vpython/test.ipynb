{
 "cells": [
  {
   "cell_type": "code",
   "execution_count": null,
   "metadata": {},
   "outputs": [
    {
     "data": {
      "application/javascript": "if (typeof Jupyter !== \"undefined\") {require.undef(\"nbextensions/vpython_libraries/glow.min\");}else{element.textContent = ' ';}",
      "text/plain": [
       "<IPython.core.display.Javascript object>"
      ]
     },
     "metadata": {},
     "output_type": "display_data"
    },
    {
     "data": {
      "application/javascript": "if (typeof Jupyter !== \"undefined\") {require.undef(\"nbextensions/vpython_libraries/glowcomm\");}else{element.textContent = ' ';}",
      "text/plain": [
       "<IPython.core.display.Javascript object>"
      ]
     },
     "metadata": {},
     "output_type": "display_data"
    },
    {
     "data": {
      "application/javascript": "if (typeof Jupyter !== \"undefined\") {require.undef(\"nbextensions/vpython_libraries/jquery-ui.custom.min\");}else{element.textContent = ' ';}",
      "text/plain": [
       "<IPython.core.display.Javascript object>"
      ]
     },
     "metadata": {},
     "output_type": "display_data"
    },
    {
     "data": {
      "application/javascript": "if (typeof Jupyter !== \"undefined\") {require([\"nbextensions/vpython_libraries/glow.min\"], function(){console.log(\"GLOW LOADED\");});}else{element.textContent = ' ';}",
      "text/plain": [
       "<IPython.core.display.Javascript object>"
      ]
     },
     "metadata": {},
     "output_type": "display_data"
    },
    {
     "data": {
      "application/javascript": "if (typeof Jupyter !== \"undefined\") {require([\"nbextensions/vpython_libraries/glowcomm\"], function(){console.log(\"GLOWCOMM LOADED\");});}else{element.textContent = ' ';}",
      "text/plain": [
       "<IPython.core.display.Javascript object>"
      ]
     },
     "metadata": {},
     "output_type": "display_data"
    },
    {
     "data": {
      "application/javascript": "if (typeof Jupyter !== \"undefined\") {require([\"nbextensions/vpython_libraries/jquery-ui.custom.min\"], function(){console.log(\"JQUERY LOADED\");});}else{element.textContent = ' ';}",
      "text/plain": [
       "<IPython.core.display.Javascript object>"
      ]
     },
     "metadata": {},
     "output_type": "display_data"
    },
    {
     "ename": "KeyboardInterrupt",
     "evalue": "",
     "output_type": "error",
     "traceback": [
      "\u001b[1;31m---------------------------------------------------------------------------\u001b[0m",
      "\u001b[1;31mKeyboardInterrupt\u001b[0m                         Traceback (most recent call last)",
      "Cell \u001b[1;32mIn[11], line 16\u001b[0m\n\u001b[0;32m     14\u001b[0m     a \u001b[39m=\u001b[39m random\u001b[39m.\u001b[39mrandint(\u001b[39m0\u001b[39m, \u001b[39m50\u001b[39m)\n\u001b[0;32m     15\u001b[0m     b \u001b[39m=\u001b[39m random\u001b[39m.\u001b[39mrandint(\u001b[39m0\u001b[39m, \u001b[39m50\u001b[39m)\n\u001b[1;32m---> 16\u001b[0m     boxes\u001b[39m.\u001b[39mappend(box(pos \u001b[39m=\u001b[39;49m vec(a, b, \u001b[39m0\u001b[39;49m)))\n\u001b[0;32m     18\u001b[0m \u001b[39mfor\u001b[39;00m box \u001b[39min\u001b[39;00m boxes :\n\u001b[0;32m     19\u001b[0m     box\u001b[39m.\u001b[39mpos\u001b[39m.\u001b[39mx \u001b[39m=\u001b[39m box\u001b[39m.\u001b[39mpos\u001b[39m.\u001b[39mx \u001b[39m+\u001b[39m random\u001b[39m.\u001b[39mrandint(\u001b[39m-\u001b[39m\u001b[39m2\u001b[39m, \u001b[39m1\u001b[39m)\n",
      "File \u001b[1;32m~\\AppData\\Local\\Programs\\Python\\Python310\\Lib\\site-packages\\vpython\\vpython.py:1166\u001b[0m, in \u001b[0;36mbox.__init__\u001b[1;34m(self, **args)\u001b[0m\n\u001b[0;32m   1164\u001b[0m args[\u001b[39m'\u001b[39m\u001b[39m_default_size\u001b[39m\u001b[39m'\u001b[39m] \u001b[39m=\u001b[39m vector(\u001b[39m1\u001b[39m,\u001b[39m1\u001b[39m,\u001b[39m1\u001b[39m)\n\u001b[0;32m   1165\u001b[0m args[\u001b[39m'\u001b[39m\u001b[39m_objName\u001b[39m\u001b[39m'\u001b[39m] \u001b[39m=\u001b[39m \u001b[39m\"\u001b[39m\u001b[39mbox\u001b[39m\u001b[39m\"\u001b[39m\n\u001b[1;32m-> 1166\u001b[0m \u001b[39msuper\u001b[39;49m(box, \u001b[39mself\u001b[39;49m)\u001b[39m.\u001b[39;49msetup(args)\n",
      "File \u001b[1;32m~\\AppData\\Local\\Programs\\Python\\Python310\\Lib\\site-packages\\vpython\\vpython.py:599\u001b[0m, in \u001b[0;36mstandardAttributes.setup\u001b[1;34m(self, args)\u001b[0m\n\u001b[0;32m    598\u001b[0m \u001b[39mdef\u001b[39;00m \u001b[39msetup\u001b[39m(\u001b[39mself\u001b[39m, args):\n\u001b[1;32m--> 599\u001b[0m     \u001b[39msuper\u001b[39;49m(standardAttributes, \u001b[39mself\u001b[39;49m)\u001b[39m.\u001b[39;49m\u001b[39m__init__\u001b[39;49m()\n\u001b[0;32m    600\u001b[0m     \u001b[39mself\u001b[39m\u001b[39m.\u001b[39m_constructing \u001b[39m=\u001b[39m \u001b[39mTrue\u001b[39;00m  \u001b[39m## calls to setters are from constructor\u001b[39;00m\n\u001b[0;32m    602\u001b[0m     objName \u001b[39m=\u001b[39m \u001b[39mself\u001b[39m\u001b[39m.\u001b[39m_objName \u001b[39m=\u001b[39m args[\u001b[39m'\u001b[39m\u001b[39m_objName\u001b[39m\u001b[39m'\u001b[39m]  \u001b[39m## identifies object type\u001b[39;00m\n",
      "File \u001b[1;32m~\\AppData\\Local\\Programs\\Python\\Python310\\Lib\\site-packages\\vpython\\vpython.py:257\u001b[0m, in \u001b[0;36mbaseObj.__init__\u001b[1;34m(self, **kwargs)\u001b[0m\n\u001b[0;32m    254\u001b[0m \u001b[39mif\u001b[39;00m \u001b[39mnot\u001b[39;00m (baseObj\u001b[39m.\u001b[39m_view_constructed \u001b[39mor\u001b[39;00m\n\u001b[0;32m    255\u001b[0m         baseObj\u001b[39m.\u001b[39m_canvas_constructing):\n\u001b[0;32m    256\u001b[0m     \u001b[39mif\u001b[39;00m _isnotebook:\n\u001b[1;32m--> 257\u001b[0m         \u001b[39mfrom\u001b[39;00m \u001b[39m.\u001b[39;00m\u001b[39mwith_notebook\u001b[39;00m \u001b[39mimport\u001b[39;00m _\n\u001b[0;32m    258\u001b[0m     \u001b[39melse\u001b[39;00m:\n\u001b[0;32m    259\u001b[0m         \u001b[39mfrom\u001b[39;00m \u001b[39m.\u001b[39;00m\u001b[39mno_notebook\u001b[39;00m \u001b[39mimport\u001b[39;00m _\n",
      "File \u001b[1;32m~\\AppData\\Local\\Programs\\Python\\Python310\\Lib\\site-packages\\vpython\\with_notebook.py:153\u001b[0m\n\u001b[0;32m    151\u001b[0m baseObj\u001b[39m.\u001b[39mglow \u001b[39m=\u001b[39m GlowWidget(wsport\u001b[39m=\u001b[39m__SOCKET_PORT, wsuri\u001b[39m=\u001b[39m\u001b[39m'\u001b[39m\u001b[39m/ws\u001b[39m\u001b[39m'\u001b[39m)\n\u001b[0;32m    152\u001b[0m \u001b[39mwhile\u001b[39;00m (\u001b[39mnot\u001b[39;00m wsConnected):\n\u001b[1;32m--> 153\u001b[0m     time\u001b[39m.\u001b[39;49msleep(\u001b[39m0.1\u001b[39;49m)          \u001b[39m# wait for websocket to connect\u001b[39;00m\n\u001b[0;32m    155\u001b[0m baseObj\u001b[39m.\u001b[39mtrigger()  \u001b[39m# start the trigger ping-pong process\u001b[39;00m\n\u001b[0;32m    158\u001b[0m \u001b[39m# Same justification as above for removing the ipykernel check.\u001b[39;00m\n\u001b[0;32m    159\u001b[0m \u001b[39m# There was also an IPython version check for >=4, which was\u001b[39;00m\n\u001b[0;32m    160\u001b[0m \u001b[39m# released in Nov 2015. Ok to stop supporting in 2.019 I think.\u001b[39;00m\n",
      "\u001b[1;31mKeyboardInterrupt\u001b[0m: "
     ]
    }
   ],
   "source": [
    "from vpython import *\n",
    "\n",
    "import random\n",
    "#boxes = [box(), sphere()]\n",
    "\n",
    "#boxes = [0, 1, 2, 3, 4, 5]\n",
    "#boxes.append(100)\n",
    "#\n",
    "#print(boxes[-1])\n",
    "#for box in boxes :\n",
    "#    print(box)\n",
    "boxes = []\n",
    "for i in range(20):\n",
    "    a = random.randint(0, 50)\n",
    "    b = random.randint(0, 50)\n",
    "    boxes.append(box(pos = vec(a, b, 0)))\n",
    "\n",
    "for bx in boxes :\n",
    "    bx.pos.x = bx.pos.x + random.randint(-2, 1)\n",
    "    bx.pos.y = bx.pos.y + random.randint(-2, 1)"
   ]
  }
 ],
 "metadata": {
  "kernelspec": {
   "display_name": "autobot310",
   "language": "python",
   "name": "python3"
  },
  "language_info": {
   "codemirror_mode": {
    "name": "ipython",
    "version": 3
   },
   "file_extension": ".py",
   "mimetype": "text/x-python",
   "name": "python",
   "nbconvert_exporter": "python",
   "pygments_lexer": "ipython3",
   "version": "3.9.13"
  },
  "orig_nbformat": 4
 },
 "nbformat": 4,
 "nbformat_minor": 2
}
